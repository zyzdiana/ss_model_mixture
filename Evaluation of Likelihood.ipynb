{
 "cells": [
  {
   "cell_type": "code",
   "execution_count": 1,
   "metadata": {
    "collapsed": false
   },
   "outputs": [
    {
     "name": "stdout",
     "output_type": "stream",
     "text": [
      "Falling back to pure python implementaton, expect horrible performance\n"
     ]
    }
   ],
   "source": [
    "%matplotlib inline\n",
    "import numpy\n",
    "import math\n",
    "import pyparticleest.models.nlg as nlg\n",
    "import pyparticleest.simulator as simulator\n",
    "import matplotlib.pyplot as plt\n",
    "import scipy\n",
    "import pyparticleest.utils.kalman as kalman\n",
    "from scipy.stats import bernoulli"
   ]
  },
  {
   "cell_type": "code",
   "execution_count": null,
   "metadata": {
    "collapsed": true
   },
   "outputs": [],
   "source": [
    "class StdNonLin(nlg.NonlinearGaussianInitialGaussian):\n",
    "    # x_{k+1} = x_k  + v_k = f(x_k) + v_k,\n",
    "    # y_k = 0 + e_k = g(x_k) + e_k,\n",
    "    # x(0) ~ N(0,P0), v_k ~ N(0,Q), e_k ~ Bernoulli(\\exp(x_{k})/(1+\\exp(x_{k})))\n",
    "\n",
    "    def __init__(self, P0, Q):\n",
    "    # Set covariances in the constructor since they\n",
    "    # are constant\n",
    "        super(StdNonLin, self).__init__(Px0=P0, Q=Q)\n",
    "\n",
    "    def calc_g(self, particles, t):\n",
    "    # Calculate value of g(\\xi_t,t)\n",
    "        return numpy.zeros([len(particles),1])\n",
    "    \n",
    "    def calc_f(self, particles, u, t):\n",
    "    # Calculate value of f(xi_t,t)\n",
    "        return particles\n",
    "    \n",
    "    def measure(self, particles, y, t):\n",
    "        \"\"\"\n",
    "        Return the log-pdf value of the measurement\n",
    "        Args:\n",
    "         - particles  (array-like): Model specific representation\n",
    "           of all particles, with first dimension = N (number of particles)\n",
    "         - y (array-like):  measurement\n",
    "         - t (float): time-stamp\n",
    "        Returns:\n",
    "         (array-like) with first dimension = N, logp(y|x^i)\n",
    "        \"\"\"\n",
    "        N = len(particles)\n",
    "        lpy = numpy.empty(N)\n",
    "        g = self.calc_g(particles=particles, t=t)\n",
    " \n",
    "\n",
    "        if (g is None):\n",
    "            g = numpy.repeat(self.g.reshape((1, -1, 1)), N, 0)\n",
    "        else:\n",
    "            g = g.reshape((N, -1, 1))\n",
    "        yrep = numpy.repeat(numpy.asarray(y).reshape((1, -1, 1)), N, 0)\n",
    "        diff = yrep - g\n",
    "        \n",
    "        lpy = numpy.empty(N)\n",
    "        for i in xrange(N):\n",
    "            lpy[i] = bernoulli.logpmf(diff[i],numpy.exp(particles[i])/(1.0 + numpy.exp(particles[i])))\n",
    "            #lpy[i] =scipy.stats.binom.pmf(diff[i],1,numpy.exp(particles[i])/(1.0 + numpy.exp(particles[i])),loc=0)\n",
    "        return lpy"
   ]
  },
  {
   "cell_type": "code",
   "execution_count": null,
   "metadata": {
    "collapsed": true
   },
   "outputs": [],
   "source": []
  },
  {
   "cell_type": "code",
   "execution_count": null,
   "metadata": {
    "collapsed": true
   },
   "outputs": [],
   "source": [
    "T = 500\n",
    "P0 = 1.0 * numpy.eye(1)\n",
    "Q = 1.0 * numpy.eye(1)\n",
    "\n",
    "# Forward particles\n",
    "N = 1000\n",
    "# Backward trajectories\n",
    "M = 500"
   ]
  },
  {
   "cell_type": "code",
   "execution_count": null,
   "metadata": {
    "collapsed": true
   },
   "outputs": [],
   "source": [
    "model = StdNonLin(P0, Q)"
   ]
  },
  {
   "cell_type": "code",
   "execution_count": null,
   "metadata": {
    "collapsed": true
   },
   "outputs": [],
   "source": [
    "%%time\n",
    "sim = simulator.Simulator(model, u=None, y=y)\n",
    "sim.simulate(N, M, filter='PF', smoother='full', meas_first=True)"
   ]
  },
  {
   "cell_type": "code",
   "execution_count": null,
   "metadata": {
    "collapsed": true
   },
   "outputs": [],
   "source": []
  }
 ],
 "metadata": {
  "kernelspec": {
   "display_name": "Python 2",
   "language": "python",
   "name": "python2"
  },
  "language_info": {
   "codemirror_mode": {
    "name": "ipython",
    "version": 2
   },
   "file_extension": ".py",
   "mimetype": "text/x-python",
   "name": "python",
   "nbconvert_exporter": "python",
   "pygments_lexer": "ipython2",
   "version": "2.7.11"
  }
 },
 "nbformat": 4,
 "nbformat_minor": 0
}
