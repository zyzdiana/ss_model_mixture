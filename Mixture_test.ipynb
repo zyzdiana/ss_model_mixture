{
 "cells": [
  {
   "cell_type": "markdown",
   "metadata": {},
   "source": [
    "# Notations\n",
    "\n",
    "$(0,T]$:  The observation interval during which neuron spiking activity were recorded\n",
    "\n",
    "$N_{0,t}^i$: Sample path of spike times from the recorded i-th neuron in $(0,t]$, for $t \\in (0,T]$, $i \\in \\{1,...,n\\}$\n",
    "\n",
    "$K$: divide $(0,T]$ into $K$ intervals with width $\\Delta = \\frac{T}{K}$ such that there is at most one spike per interval\n",
    "\n",
    "$k\\Delta$: The point at which the latent process model is evaluated, for $k = 1,...,K$\n",
    "\n",
    "$y^i_k = \\Delta N_k^i$: The number of spikes at time k for i-th neuron.\n",
    "\n",
    "$H_K^i = \\{\\Delta y_{1}^i,...,\\Delta y_{K}^i\\}$: history of spiking activity in $(0,K]$ for i-th neuron\n",
    "\n",
    "$\\pi_{c_i=c}$: probability of the i-th neuron belongs to cluster c"
   ]
  },
  {
   "cell_type": "markdown",
   "metadata": {},
   "source": [
    "## Define the 1-dimensional state space model\n",
    "\n",
    "$$\\left\\{\n",
    "\\begin{array}{ll}\n",
    "      x_k^i = x_{k-1}^i + \\epsilon_k^i, \\epsilon_k \\sim N(0,\\sigma^2_{\\epsilon i}) & (a) \\\\\n",
    "      \\lambda_k^i(k\\Delta)\\Delta = \\frac{e^{x_k^i}}{1+e^{x_k^i}} & (b)\\\\\n",
    "      y_{k}^i | x_k^i \\sim Bernoulli(\\lambda_k^i(k\\Delta)\\Delta) & (c)\n",
    "\\end{array} \n",
    "\\right. $$"
   ]
  },
  {
   "cell_type": "markdown",
   "metadata": {},
   "source": [
    "\\begin{align*}\n",
    "E[\\log p(y, x, c)|y, \\theta^{(l-1)}] &= E[\\sum_{i=1}^n \\log p(y^i, x^i|c_i;\\theta_i) \\pi_{c_i} |y,\\theta^{(l-1)}]\\\\\n",
    "&= \\sum_{i=1}^n \\{E[\\log p(x^i|c_i;\\sigma^2_{\\epsilon c_i})|y^i;\\theta^{(l-1)}]] + E[\\log \\pi_{c_i}|y^i;\\theta^{(l-1)}] + E[\\log p(y^i|x^i)|y^i;\\theta^{(l-1)}]\\}\n",
    "\\end{align*}"
   ]
  },
  {
   "cell_type": "markdown",
   "metadata": {},
   "source": [
    "### 1.\n",
    "\\begin{align*}\n",
    "\\sum_{i=1}^n E[\\log p(x^i|c_i;\\sigma^2_{\\epsilon i})|y^i;\\theta^{(l-1)}]] &= \\sum_{i=1}^n \\sum_{c} (-\\frac{K}{2} \\log \\sigma_{\\epsilon c_i}^2 -\\frac{1}{2\\sigma_{\\epsilon c_i}^2} \\sum_{k=1}^K E[(x_k-x_{k-1})^2|c_i,y^i,\\theta^{(l-1)}]) * p(c_i=c|y^i,\\theta^{(l-1)})\\\\\n",
    "\\end{align*}"
   ]
  },
  {
   "cell_type": "markdown",
   "metadata": {},
   "source": [
    "###  $p(c_i=c|y^i)=\\frac{p(y^i|c_i=c)p(c_i=c)}{\\sum_{c} p(y^i|c_i=c)p(c_i=c)}$\n",
    "\n",
    "trick: normalize $exp(\\log p(y^i|c_i=c) - \\max (\\log p(y^i|c_i \\in \\{clusters\\})))$"
   ]
  },
  {
   "cell_type": "markdown",
   "metadata": {},
   "source": [
    "### $\\sigma_{c}^2 = \\frac{\\sum_{i=1}^n \\sum_k (W_{i,k}+W_{i,k-1}-2W_{i,k,k-1})p(c_i=c|y^i,\\sigma^{(l-1)})}{K \\sum_{i=1}^n p(c_i=c|y^i,\\sigma^{(l-1)})}$\n"
   ]
  },
  {
   "cell_type": "markdown",
   "metadata": {},
   "source": [
    "### 2. $E[\\log \\pi_{c_i}|y^i;\\theta^{(l-1)}] = \\sum_{c} \\log \\pi_{c_i=c} * p(c_i=c|y^i,\\theta^{(l-1)})$"
   ]
  },
  {
   "cell_type": "markdown",
   "metadata": {},
   "source": [
    "### $\\pi_{c} = \\frac{\\sum_{i=1}^n p(c_i=c|y^i,\\sigma^{(l-1)})}{ \\sum_{c} \\sum_{i=1}^n p(c_i=c|y^i,\\sigma^{(l-1)})}$\n",
    "\n",
    "$\\sum_{c} \\pi_{c_i = c} = 1$\n",
    "\n",
    "Langrange multiplier: $\\sum_{c} \\log \\pi_{c_i=c} * p(c_i=c|y^i,\\theta^{(l-1)}) + \\lambda (\\sum_{c} \\pi_{c_i = c} -1)$\n",
    "\n",
    "take derivative: $\\sum_{i=1}^n p(c_i=c|y^i,\\theta^{(l-1)}) = -\\lambda \\pi_{c_i = c} $\n",
    "\n",
    "sum over c: $\\sum_c \\sum_{i=1}^n p(c_i=c|y^i,\\theta^{(l-1)}) = -\\lambda$"
   ]
  },
  {
   "cell_type": "code",
   "execution_count": 1,
   "metadata": {
    "collapsed": false
   },
   "outputs": [],
   "source": [
    "%load_ext autoreload\n",
    "%autoreload 2\n",
    "%reload_ext autoreload"
   ]
  },
  {
   "cell_type": "code",
   "execution_count": 2,
   "metadata": {
    "collapsed": false
   },
   "outputs": [
    {
     "name": "stderr",
     "output_type": "stream",
     "text": [
      "//anaconda/lib/python2.7/site-packages/matplotlib/__init__.py:872: UserWarning: axes.color_cycle is deprecated and replaced with axes.prop_cycle; please use the latter.\n",
      "  warnings.warn(self.msg_depr % (key, alt_key))\n"
     ]
    }
   ],
   "source": [
    "%matplotlib inline\n",
    "import os\n",
    "import time\n",
    "import numpy as np\n",
    "import pandas as pd\n",
    "import sys\n",
    "import cPickle as pickle\n",
    "from   random import *\n",
    "import scipy.stats\n",
    "import matplotlib.pyplot as plt\n",
    "sys.path.insert(1,'./code')\n",
    "from visualize import plot_raw_data, get_population_data, plot_results\n",
    "from EM import TransformToProb, RunEM\n",
    "import pyparticleest.models.nlg as nlg\n",
    "import pyparticleest.simulator as simulator\n",
    "import pyparticleest.utils.kalman as kalman\n",
    "from scipy.stats import bernoulli"
   ]
  },
  {
   "cell_type": "code",
   "execution_count": 3,
   "metadata": {
    "collapsed": true
   },
   "outputs": [],
   "source": [
    "class StdNonLin(nlg.NonlinearGaussianInitialGaussian):\n",
    "    # x_{k+1} = x_k  + v_k = f(x_k) + v_k,\n",
    "    # y_k = 0 + e_k = g(x_k) + e_k,\n",
    "    # x(0) ~ N(0,P0), v_k ~ N(0,Q), e_k ~ Binom(50,\\exp(x_{k})/(1+\\exp(x_{k})))\n",
    "\n",
    "    def __init__(self, P0, Q):\n",
    "    # Set covariances in the constructor since they\n",
    "    # are constant\n",
    "        super(StdNonLin, self).__init__(Px0=P0, Q=Q)\n",
    "\n",
    "    def calc_g(self, particles, t):\n",
    "    # Calculate value of g(\\xi_t,t)\n",
    "         return np.zeros([len(particles),1])\n",
    "    \n",
    "    def calc_f(self, particles, u, t):\n",
    "    # Calculate value of f(xi_t,t)\n",
    "        return particles\n",
    "    \n",
    "    def measure(self, particles, y, t):\n",
    "        \"\"\"\n",
    "        Return the log-pdf value of the measurement\n",
    "        Args:\n",
    "         - particles  (array-like): Model specific representation\n",
    "           of all particles, with first dimension = N (number of particles)\n",
    "         - y (array-like):  measurement\n",
    "         - t (float): time-stamp\n",
    "        Returns:\n",
    "         (array-like) with first dimension = N, logp(y|x^i)\n",
    "        \"\"\"\n",
    "        N = len(particles)\n",
    "#         lpy = np.empty(N)\n",
    "#         g = self.calc_g(particles=particles, t=t)\n",
    " \n",
    "\n",
    "#         if (g is None):\n",
    "#             g = np.repeat(self.g.reshape((1, -1, 1)), N, 0)\n",
    "#         else:\n",
    "#             g = g.reshape((N, -1, 1))\n",
    "        yrep = np.repeat(np.asarray(y), N, 0)\n",
    "    \n",
    "        lpy = scipy.stats.binom.logpmf(yrep,50,np.exp(particles[:,0])/(1.0 + np.exp(particles[:,0])),loc=0)\n",
    "    \n",
    "        return lpy"
   ]
  },
  {
   "cell_type": "code",
   "execution_count": 4,
   "metadata": {
    "collapsed": false
   },
   "outputs": [],
   "source": [
    "# Forward particles\n",
    "N = 100\n",
    "# Backward trajectories\n",
    "M = 30\n",
    "# trials\n",
    "trial = 50\n",
    "# cluster\n",
    "cluster = 2\n",
    "#iterations\n",
    "iteration = 20\n",
    "#\n",
    "sigma_ls = np.empty([iteration,cluster])\n",
    "pi_ls = np.empty([iteration,cluster])"
   ]
  },
  {
   "cell_type": "code",
   "execution_count": 5,
   "metadata": {
    "collapsed": false
   },
   "outputs": [],
   "source": [
    "mat = np.loadtxt('train_data.txt')\n",
    "Y = mat[:,1:]\n",
    "T = Y.shape[1]\n",
    "n = Y.shape[0]"
   ]
  },
  {
   "cell_type": "code",
   "execution_count": 6,
   "metadata": {
    "collapsed": true
   },
   "outputs": [],
   "source": [
    "pi=[0.5,0.5]"
   ]
  },
  {
   "cell_type": "code",
   "execution_count": 7,
   "metadata": {
    "collapsed": true
   },
   "outputs": [],
   "source": [
    "sigma=[0.2,0.3]"
   ]
  },
  {
   "cell_type": "code",
   "execution_count": 35,
   "metadata": {
    "collapsed": true
   },
   "outputs": [],
   "source": [
    "#for j in range(n):\n",
    "#    posterior_of_indicator(cluster, pi, Y[j,:], sigma, N, T, trial)"
   ]
  },
  {
   "cell_type": "code",
   "execution_count": 53,
   "metadata": {
    "collapsed": false
   },
   "outputs": [
    {
     "data": {
      "text/plain": [
       "(20, 3000)"
      ]
     },
     "execution_count": 53,
     "metadata": {},
     "output_type": "execute_result"
    }
   ],
   "source": []
  },
  {
   "cell_type": "code",
   "execution_count": 8,
   "metadata": {
    "collapsed": false
   },
   "outputs": [
    {
     "name": "stdout",
     "output_type": "stream",
     "text": [
      "CPU times: user 21min 16s, sys: 29.7 s, total: 21min 46s\n",
      "Wall time: 22min 4s\n"
     ]
    }
   ],
   "source": [
    "%%time\n",
    "sigmatmp = np.zeros([cluster,n])\n",
    "loglikelihood = np.empty([cluster,n])\n",
    "posterior_indicator = np.empty([cluster,n])\n",
    "for i in range(iteration):\n",
    "    for j in range(n):\n",
    "        for c in range(cluster):\n",
    "            P0 = sigma[c] * np.eye(1)\n",
    "            Q = sigma[c] * np.eye(1)\n",
    "            model = StdNonLin(P0, Q)\n",
    "            sim = simulator.Simulator(model,u=None,y=Y[j,:])\n",
    "            sim.simulate(N, M, filter='PF', smoother='ancestor', meas_first=False)\n",
    "            (est_filt, w_filt) = sim.get_filtered_estimates()\n",
    "            est_smooth = sim.get_smoothed_estimates()\n",
    "            w_unnormalized = scipy.stats.binom.pmf(np.reshape(np.repeat(Y[j,:],N),[T,N]), trial, np.exp(est_filt[1:,:,0])/(1.0 + np.exp(est_filt[1:,:,0])), loc=0)\n",
    "            loglikelihood[c,j] = np.sum(np.log(np.sum(w_unnormalized, axis = 1)/N))\n",
    "            posteriorcovariance = np.array(np.diff(est_smooth[:,:,0],axis=0))**2\n",
    "            sigmatmp[c,j] = np.sum(posteriorcovariance/(M*T))\n",
    "\n",
    "\n",
    "    posterior_indicator = np.exp(loglikelihood - np.max(loglikelihood, axis=0)) * np.reshape(np.repeat(pi,20),(2,20))\n",
    "    posterior_indicator = posterior_indicator/np.sum(posterior_indicator, axis=0)\n",
    "    pi = np.sum(posterior_indicator,axis=1)/np.sum(posterior_indicator)\n",
    "    sigma = np.sum(sigmatmp * posterior_indicator, axis=1)/np.sum(posterior_indicator,axis=1)\n",
    "    sigma_ls[i,:]=sigma\n",
    "    pi_ls[i,:]=pi"
   ]
  },
  {
   "cell_type": "code",
   "execution_count": 9,
   "metadata": {
    "collapsed": false
   },
   "outputs": [
    {
     "data": {
      "text/plain": [
       "array([[ 0.0937336 ,  0.37687463],\n",
       "       [ 0.09357631,  0.37470132],\n",
       "       [ 0.09430396,  0.3777469 ],\n",
       "       [ 0.09294501,  0.37739839],\n",
       "       [ 0.09299692,  0.3801355 ],\n",
       "       [ 0.09379804,  0.3764108 ],\n",
       "       [ 0.0939975 ,  0.3800912 ],\n",
       "       [ 0.09309461,  0.38384103],\n",
       "       [ 0.09292302,  0.38306642],\n",
       "       [ 0.09255114,  0.38512584],\n",
       "       [ 0.09302943,  0.38093819],\n",
       "       [ 0.09264735,  0.38367972],\n",
       "       [ 0.09324426,  0.38455728],\n",
       "       [ 0.09277289,  0.37680221],\n",
       "       [ 0.09297933,  0.3754895 ],\n",
       "       [ 0.09265997,  0.37743135],\n",
       "       [ 0.09316134,  0.37703424],\n",
       "       [ 0.09264291,  0.37553021],\n",
       "       [ 0.09220669,  0.37197148],\n",
       "       [ 0.09330443,  0.37681461]])"
      ]
     },
     "execution_count": 9,
     "metadata": {},
     "output_type": "execute_result"
    }
   ],
   "source": [
    "sigma_ls"
   ]
  },
  {
   "cell_type": "code",
   "execution_count": null,
   "metadata": {
    "collapsed": true
   },
   "outputs": [],
   "source": []
  },
  {
   "cell_type": "code",
   "execution_count": 50,
   "metadata": {
    "collapsed": false
   },
   "outputs": [
    {
     "data": {
      "text/plain": [
       "array([[ 0.10866545,  0.36820712],\n",
       "       [ 0.10673624,  0.36469124],\n",
       "       [ 0.10590502,  0.36252508],\n",
       "       [ 0.10573342,  0.36424332],\n",
       "       [ 0.10337501,  0.36099942],\n",
       "       [ 0.10075947,  0.35995509],\n",
       "       [ 0.09960666,  0.36284563],\n",
       "       [ 0.09788648,  0.36993662],\n",
       "       [ 0.09866497,  0.3723586 ],\n",
       "       [ 0.09815821,  0.3727786 ],\n",
       "       [ 0.09736513,  0.37281936],\n",
       "       [ 0.09642698,  0.37169646],\n",
       "       [ 0.09662868,  0.3737225 ],\n",
       "       [ 0.09627697,  0.37403999],\n",
       "       [ 0.09503312,  0.3735775 ],\n",
       "       [ 0.09536355,  0.37316103],\n",
       "       [ 0.09444085,  0.37609015],\n",
       "       [ 0.09484951,  0.38242183],\n",
       "       [ 0.09444396,  0.38031133],\n",
       "       [ 0.09333363,  0.37834002]])"
      ]
     },
     "execution_count": 50,
     "metadata": {},
     "output_type": "execute_result"
    }
   ],
   "source": [
    "sigma_ls"
   ]
  },
  {
   "cell_type": "code",
   "execution_count": 51,
   "metadata": {
    "collapsed": false
   },
   "outputs": [
    {
     "data": {
      "text/plain": [
       "array([[ 0.5       ,  0.5       ],\n",
       "       [ 0.5       ,  0.5       ],\n",
       "       [ 0.5       ,  0.5       ],\n",
       "       [ 0.5       ,  0.5       ],\n",
       "       [ 0.5       ,  0.5       ],\n",
       "       [ 0.5       ,  0.5       ],\n",
       "       [ 0.5       ,  0.5       ],\n",
       "       [ 0.5       ,  0.5       ],\n",
       "       [ 0.5       ,  0.5       ],\n",
       "       [ 0.49999988,  0.50000012],\n",
       "       [ 0.5       ,  0.5       ],\n",
       "       [ 0.5       ,  0.5       ],\n",
       "       [ 0.49999996,  0.50000004],\n",
       "       [ 0.5       ,  0.5       ],\n",
       "       [ 0.5       ,  0.5       ],\n",
       "       [ 0.5       ,  0.5       ],\n",
       "       [ 0.5       ,  0.5       ],\n",
       "       [ 0.5       ,  0.5       ],\n",
       "       [ 0.5       ,  0.5       ],\n",
       "       [ 0.5       ,  0.5       ]])"
      ]
     },
     "execution_count": 51,
     "metadata": {},
     "output_type": "execute_result"
    }
   ],
   "source": [
    "pi_ls"
   ]
  },
  {
   "cell_type": "code",
   "execution_count": 52,
   "metadata": {
    "collapsed": false
   },
   "outputs": [
    {
     "data": {
      "text/plain": [
       "array([[  1.00000000e+000,   1.00000000e+000,   1.00000000e+000,\n",
       "          1.00000000e+000,   1.00000000e+000,   1.00000000e+000,\n",
       "          1.00000000e+000,   1.00000000e+000,   1.00000000e+000,\n",
       "          9.99999998e-001,   0.00000000e+000,   6.29045080e-152,\n",
       "          1.37814806e-223,   0.00000000e+000,   4.54972873e-137,\n",
       "          3.61247964e-075,   0.00000000e+000,   7.11596980e-116,\n",
       "          2.34081705e-234,   7.57887695e-292],\n",
       "       [  2.39053522e-042,   2.89547666e-052,   1.51884946e-047,\n",
       "          7.21524266e-021,   3.00738794e-040,   5.03988054e-053,\n",
       "          3.00659082e-033,   8.66894740e-060,   1.32910975e-040,\n",
       "          2.18499511e-009,   1.00000000e+000,   1.00000000e+000,\n",
       "          1.00000000e+000,   1.00000000e+000,   1.00000000e+000,\n",
       "          1.00000000e+000,   1.00000000e+000,   1.00000000e+000,\n",
       "          1.00000000e+000,   1.00000000e+000]])"
      ]
     },
     "execution_count": 52,
     "metadata": {},
     "output_type": "execute_result"
    }
   ],
   "source": [
    "posterior_indicator"
   ]
  },
  {
   "cell_type": "code",
   "execution_count": 34,
   "metadata": {
    "collapsed": true
   },
   "outputs": [],
   "source": [
    "pickle.dump(bbb, open('/Users/zyzrdfz/Desktop/gwungwun/name_of_pickle.p','wb'))"
   ]
  },
  {
   "cell_type": "code",
   "execution_count": 35,
   "metadata": {
    "collapsed": false
   },
   "outputs": [
    {
     "name": "stdout",
     "output_type": "stream",
     "text": [
      "[[ 0.19241142  0.3082176 ]\n",
      " [ 0.18033374  0.31836865]\n",
      " [ 0.16951543  0.3240611 ]\n",
      " [ 0.16038196  0.32667003]\n",
      " [ 0.15368952  0.32652326]\n",
      " [ 0.14681963  0.32902141]\n",
      " [ 0.14076491  0.33384833]\n",
      " [ 0.13706838  0.33645886]\n",
      " [ 0.133125    0.33625327]\n",
      " [ 0.12866655  0.34067227]\n",
      " [ 0.12549308  0.34723364]\n",
      " [ 0.12307557  0.35086501]\n",
      " [ 0.12097353  0.34852844]\n",
      " [ 0.11783651  0.35030516]\n",
      " [ 0.11587304  0.34975178]\n",
      " [ 0.11314813  0.35403603]\n",
      " [ 0.11230455  0.3556334 ]\n",
      " [ 0.11036553  0.35331803]\n",
      " [ 0.10949214  0.36193656]\n",
      " [ 0.10708519  0.36782644]\n",
      " [ 0.10594581  0.37175323]\n",
      " [ 0.10550132  0.37049567]\n",
      " [ 0.10358725  0.37653105]\n",
      " [ 0.10385247  0.37578787]\n",
      " [ 0.10333657  0.37386123]\n",
      " [ 0.10331847  0.37478756]\n",
      " [ 0.10117987  0.3746211 ]\n",
      " [ 0.1004037   0.37736613]\n",
      " [ 0.10014241  0.38200804]\n",
      " [ 0.10020366  0.38734745]\n",
      " [ 0.09945036  0.38314944]\n",
      " [ 0.09791049  0.3837006 ]\n",
      " [ 0.09815989  0.38612316]\n",
      " [ 0.09716374  0.38865186]\n",
      " [ 0.09572678  0.38148608]\n",
      " [ 0.09537315  0.38035834]\n",
      " [ 0.09453379  0.3805919 ]\n",
      " [ 0.09323852  0.3803598 ]\n",
      " [ 0.09307747  0.37884744]\n",
      " [ 0.09208007  0.38242903]]\n"
     ]
    }
   ],
   "source": [
    "kkk = pickle.load(open('/Users/zyzrdfz/Desktop/gwungwun/name_of_pickle.p','rb'))\n",
    "print kkk"
   ]
  },
  {
   "cell_type": "markdown",
   "metadata": {},
   "source": [
    "## plot sigma_ls when pi is fixed as [0.5,0.5]"
   ]
  },
  {
   "cell_type": "code",
   "execution_count": 30,
   "metadata": {
    "collapsed": false
   },
   "outputs": [
    {
     "data": {
      "image/png": "[encoded data removed]",
      "text/plain": [
       "<matplotlib.figure.Figure at 0x10b7090d0>"
      ]
     },
     "metadata": {},
     "output_type": "display_data"
    }
   ],
   "source": [
    "plt.plot(bbb, '-',linewidth=2.0)\n",
    "plt.xlabel('iterations')\n",
    "plt.legend(loc='best')"
   ]
  },
  {
   "cell_type": "markdown",
   "metadata": {},
   "source": [
    "## sigma_ls & pi_ls change simultaneously"
   ]
  },
  {
   "cell_type": "code",
   "execution_count": 44,
   "metadata": {
    "collapsed": false
   },
   "outputs": [
    {
     "data": {
      "image/png": "[encoded data removed]",
      "text/plain": [
       "<matplotlib.figure.Figure at 0x109cb0890>"
      ]
     },
     "metadata": {},
     "output_type": "display_data"
    }
   ],
   "source": [
    "plt.plot(pi_ls, '-',linewidth=2.0)\n",
    "plt.ylim([0,1])\n",
    "plt.xlabel('iterations')\n",
    "plt.legend(loc='best')"
   ]
  },
  {
   "cell_type": "code",
   "execution_count": 47,
   "metadata": {
    "collapsed": false
   },
   "outputs": [
    {
     "data": {
      "image/png": "[encoded data removed]",
      "text/plain": [
       "<matplotlib.figure.Figure at 0x10b0df2d0>"
      ]
     },
     "metadata": {},
     "output_type": "display_data"
    }
   ],
   "source": [
    "plt.plot(sigma_ls, '-',linewidth=2.0)\n",
    "plt.ylim([0,0.8])\n",
    "plt.xlabel('iterations')\n",
    "plt.legend(loc='best')"
   ]
  },
  {
   "cell_type": "markdown",
   "metadata": {},
   "source": [
    "## THE FOLLOWINGS ARE TEST CODE "
   ]
  },
  {
   "cell_type": "code",
   "execution_count": 17,
   "metadata": {
    "collapsed": false
   },
   "outputs": [
    {
     "data": {
      "text/plain": [
       "array([[  7.07960140e-001,   8.59188572e-001],\n",
       "       [  7.10719096e-001,   8.59475913e-001],\n",
       "       [  7.13481848e-001,   8.69145125e-001],\n",
       "       [  7.13319245e-001,   8.79130649e-001],\n",
       "       [  6.99208119e-001,   8.78696070e-001],\n",
       "       [  7.19842642e-001,   8.52654375e-001],\n",
       "       [  7.23370229e-001,   8.45025472e-001],\n",
       "       [  7.18877413e-001,   8.61204214e-001],\n",
       "       [  7.18081401e-001,   8.73125521e-001],\n",
       "       [  7.07229504e-001,   8.70520288e-001],\n",
       "       [  7.17359164e-001,   8.53707834e-001],\n",
       "       [  7.12710853e-001,   8.53541669e-001],\n",
       "       [  2.37151510e-322,   1.08221785e-312],\n",
       "       [  0.00000000e+000,   2.66795449e-322],\n",
       "       [  1.20958716e-312,   0.00000000e+000],\n",
       "       [  2.96439388e-322,   1.33685735e-312],\n",
       "       [  0.00000000e+000,   3.26083326e-322],\n",
       "       [  1.46417710e-312,   2.20411637e-314],\n",
       "       [  3.55727265e-322,   1.59181405e-312],\n",
       "       [  0.00000000e+000,   2.00000012e+000]])"
      ]
     },
     "execution_count": 17,
     "metadata": {},
     "output_type": "execute_result"
    }
   ],
   "source": [
    "sigma_ls"
   ]
  },
  {
   "cell_type": "code",
   "execution_count": 18,
   "metadata": {
    "collapsed": false
   },
   "outputs": [
    {
     "data": {
      "text/plain": [
       "array([[ 0.74737257,  0.25262743],\n",
       "       [ 0.75971493,  0.24028507],\n",
       "       [ 0.80001586,  0.19998414],\n",
       "       [ 0.79999999,  0.20000001],\n",
       "       [ 0.67139587,  0.32860413],\n",
       "       [ 0.94382841,  0.05617159],\n",
       "       [ 0.81603826,  0.18396174],\n",
       "       [ 0.79999071,  0.20000929],\n",
       "       [ 0.83770903,  0.16229097],\n",
       "       [ 0.69926991,  0.30073009],\n",
       "       [ 0.8010205 ,  0.1989795 ],\n",
       "       [ 0.73124484,  0.26875516],\n",
       "       [ 0.        ,  0.        ],\n",
       "       [ 0.        ,  0.        ],\n",
       "       [ 0.        ,  0.        ],\n",
       "       [ 0.        ,  0.        ],\n",
       "       [ 0.        ,  0.        ],\n",
       "       [ 0.        ,  0.        ],\n",
       "       [ 0.        ,  0.        ],\n",
       "       [ 0.        ,  0.        ]])"
      ]
     },
     "execution_count": 18,
     "metadata": {},
     "output_type": "execute_result"
    }
   ],
   "source": [
    "pi_ls"
   ]
  },
  {
   "cell_type": "code",
   "execution_count": 19,
   "metadata": {
    "collapsed": false
   },
   "outputs": [
    {
     "data": {
      "text/plain": [
       "12"
      ]
     },
     "execution_count": 19,
     "metadata": {},
     "output_type": "execute_result"
    }
   ],
   "source": [
    "i"
   ]
  },
  {
   "cell_type": "code",
   "execution_count": 20,
   "metadata": {
    "collapsed": false
   },
   "outputs": [
    {
     "data": {
      "text/plain": [
       "array([[  1.00000000e+00,   1.00000000e+00,   1.00000000e+00,\n",
       "          1.00000000e+00,   1.00000000e+00,   1.00000000e+00,\n",
       "          1.00000000e+00,   1.00000000e+00,   1.00000000e+00,\n",
       "          1.00000000e+00,   1.12139011e-24,   9.77332989e-01,\n",
       "          7.99945585e-16,   1.00000000e+00,   7.28097685e-01,\n",
       "          1.04592584e-10,   8.42315025e-26,   9.99818187e-01,\n",
       "          9.19647944e-01,   3.03655485e-11],\n",
       "       [  2.99698197e-23,   3.67838197e-17,   1.30641907e-17,\n",
       "          1.65368158e-18,   1.29324669e-22,   7.79878317e-15,\n",
       "          3.29770694e-12,   7.62214605e-20,   9.86696068e-13,\n",
       "          5.03914463e-17,   1.00000000e+00,   2.26670110e-02,\n",
       "          1.00000000e+00,   1.60434773e-11,   2.71902315e-01,\n",
       "          1.00000000e+00,   1.00000000e+00,   1.81813485e-04,\n",
       "          8.03520556e-02,   1.00000000e+00]])"
      ]
     },
     "execution_count": 20,
     "metadata": {},
     "output_type": "execute_result"
    }
   ],
   "source": [
    "posterior_indicator"
   ]
  },
  {
   "cell_type": "code",
   "execution_count": null,
   "metadata": {
    "collapsed": true
   },
   "outputs": [],
   "source": [
    "def posterior_of_indicator(cluster, pi, Y, sigma, N, T, trial):\n",
    "    posterior_indicator = np.empty(cluster)\n",
    "    loglikelihood = np.empty(cluster)\n",
    "    w_unnormalized = []\n",
    "    for c in range(cluster):\n",
    "        P0 = sigma[c] * np.eye(1)\n",
    "        Q = sigma[c] * np.eye(1)\n",
    "        model = StdNonLin(P0, Q)\n",
    "        sim = simulator.Simulator(model,u=None,y=Y)\n",
    "        sim.simulate(N, M, filter='PF', smoother='full', meas_first=False)\n",
    "        (est_filt, w_filt) = sim.get_filtered_estimates()\n",
    "        w_unnormalized = scipy.stats.binom.pmf(np.reshape(np.repeat(Y,N),[T,N]), trial, np.exp(est_filt[1:,:,0])/(1.0 + np.exp(est_filt[1:,:,0])), loc=0)\n",
    "        loglikelihood[c] = np.sum(np.log(np.sum(w_unnormalized, axis = 1)/N))\n",
    "        #posterior_of_indicator[i] = np.exp(loglikelihood[i])*pi[i]/np.sum(np.exp(loglikelihood[i])*pi[i])\n",
    "        posterior_indicator[c] = np.exp(loglikelihood[i] + np.log(pi[i]) - np.log(np.sum(np.exp(loglikelihood[i])*pi[i])))\n",
    "    return posterior_indicator"
   ]
  },
  {
   "cell_type": "code",
   "execution_count": null,
   "metadata": {
    "collapsed": true
   },
   "outputs": [],
   "source": [
    "%%time\n",
    "sigmatmp = np.zeros([cluster,n])\n",
    "loglikelihood = np.empty([cluster,n])\n",
    "posterior_indicator = np.empty([cluster,n])\n",
    "#posterior_joint = np.empty([cluster, n])\n",
    "for j in range(n):\n",
    "    for c in range(cluster):\n",
    "        P0 = sigma[c] * np.eye(1)\n",
    "        Q = sigma[c] * np.eye(1)\n",
    "        model = StdNonLin(P0, Q)\n",
    "        sim = simulator.Simulator(model,u=None,y=Y[j,:])\n",
    "        sim.simulate(N, M, filter='PF', smoother='full', meas_first=False)\n",
    "        (est_filt, w_filt) = sim.get_filtered_estimates()\n",
    "        est_smooth = sim.get_smoothed_estimates()\n",
    "        w_unnormalized = scipy.stats.binom.pmf(np.reshape(np.repeat(Y[j,:],N),[T,N]), trial, np.exp(est_filt[1:,:,0])/(1.0 + np.exp(est_filt[1:,:,0])), loc=0)\n",
    "        loglikelihood[c,j] = np.sum(np.log(np.sum(w_unnormalized, axis = 1)/N))\n",
    "        #posterior_of_indicator[i] = np.exp(loglikelihood[i])*pi[i]/np.sum(np.exp(loglikelihood[i])*pi[i])\n",
    "        #posterior_indicator[c] = np.exp(loglikelihood[c] + np.log(pi[c]) - np.log(np.sum(np.exp(loglikelihood[c])*pi[c])))\n",
    "        #posterior_joint[c,j] = np.exp(loglikelihood[c]) * pi[c]\n",
    "        posteriorcovariance = np.array(np.diff(est_smooth[:,:,0],axis=0))**2\n",
    "        sigmatmp[c,j] = np.sum(posteriorcovariance/(M*T))\n",
    "\n",
    "for j in range(n):\n",
    "    for c in range(cluster):\n",
    "        posterior_indicator[c,j]=np.exp(loglikelihood[c,j] - np.max(loglikelihood[:,j])) * pi[c] / np.dot(np.exp(loglikelihood[:,j] - np.max(loglikelihood[:,j])), pi)\n",
    "\n",
    "for c in range(cluster):\n",
    "    sigma[c] = np.dot(sigmatmp[c,:],posterior_indicator[c,:])/np.sum(posterior_indicator[c,:])\n",
    "    pi[c] = np.sum(posterior_indicator[c,:])/np.sum(posterior_indicator)"
   ]
  },
  {
   "cell_type": "code",
   "execution_count": 75,
   "metadata": {
    "collapsed": true
   },
   "outputs": [],
   "source": [
    "P0 = sigma[0] * np.eye(1)\n",
    "Q = sigma[0] * np.eye(1)\n",
    "model = StdNonLin(P0, Q)\n",
    "sim = simulator.Simulator(model,u=None,y=Y[0,:])\n",
    "sim.simulate(N, M, filter='PF', smoother='ancestor', meas_first=False)\n",
    "(est_filt, w_filt) = sim.get_filtered_estimates()\n",
    "est_smooth = sim.get_smoothed_estimates()\n",
    "w_unnormalized = scipy.stats.binom.pmf(np.reshape(np.repeat(Y[0,:],N),[T,N]), trial, np.exp(est_filt[1:,:,0])/(1.0 + np.exp(est_filt[1:,:,0])), loc=0)\n",
    "loglikelihood[c,j] = np.sum(np.log(np.sum(w_unnormalized, axis = 1)/N))\n",
    "posteriorcovariance = np.array(np.diff(est_smooth[:,:,0],axis=0))**2\n",
    "sigmatmp = np.sum(posteriorcovariance/(M*T))"
   ]
  },
  {
   "cell_type": "code",
   "execution_count": 76,
   "metadata": {
    "collapsed": false
   },
   "outputs": [
    {
     "data": {
      "text/plain": [
       "0.19128461492363608"
      ]
     },
     "execution_count": 76,
     "metadata": {},
     "output_type": "execute_result"
    }
   ],
   "source": [
    "sigmatmp"
   ]
  },
  {
   "cell_type": "code",
   "execution_count": 57,
   "metadata": {
    "collapsed": false
   },
   "outputs": [
    {
     "data": {
      "text/plain": [
       "array([[ 0.48821698]])"
      ]
     },
     "execution_count": 57,
     "metadata": {},
     "output_type": "execute_result"
    }
   ],
   "source": []
  },
  {
   "cell_type": "code",
   "execution_count": null,
   "metadata": {
    "collapsed": true
   },
   "outputs": [],
   "source": []
  }
 ],
 "metadata": {
  "kernelspec": {
   "display_name": "Python 2",
   "language": "python",
   "name": "python2"
  },
  "language_info": {
   "codemirror_mode": {
    "name": "ipython",
    "version": 2
   },
   "file_extension": ".py",
   "mimetype": "text/x-python",
   "name": "python",
   "nbconvert_exporter": "python",
   "pygments_lexer": "ipython2",
   "version": "2.7.11"
  }
 },
 "nbformat": 4,
 "nbformat_minor": 0
}
