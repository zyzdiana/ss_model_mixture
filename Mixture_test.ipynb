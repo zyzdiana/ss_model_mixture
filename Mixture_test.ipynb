{
 "cells": [
  {
   "cell_type": "markdown",
   "metadata": {},
   "source": [
    "# Notations\n",
    "\n",
    "$(0,T]$:  The observation interval during which neuron spiking activity were recorded\n",
    "\n",
    "$N_{0,t}^i$: Sample path of spike times from the recorded i-th neuron in $(0,t]$, for $t \\in (0,T]$, $i \\in \\{1,...,n\\}$\n",
    "\n",
    "$K$: divide $(0,T]$ into $K$ intervals with width $\\Delta = \\frac{T}{K}$ such that there is at most one spike per interval\n",
    "\n",
    "$k\\Delta$: The point at which the latent process model is evaluated, for $k = 1,...,K$\n",
    "\n",
    "$y^i_k = \\Delta N_k^i$: The number of spikes at time k for i-th neuron.\n",
    "\n",
    "$H_K^i = \\{\\Delta y_{1}^i,...,\\Delta y_{K}^i\\}$: history of spiking activity in $(0,K]$ for i-th neuron\n",
    "\n",
    "$\\pi_{c_i=c}$: probability of the i-th neuron belongs to cluster c"
   ]
  },
  {
   "cell_type": "markdown",
   "metadata": {},
   "source": [
    "## Define the 1-dimensional state space model\n",
    "\n",
    "$$\\left\\{\n",
    "\\begin{array}{ll}\n",
    "      x_k^i = x_{k-1}^i + \\epsilon_k^i, \\epsilon_k \\sim N(0,\\sigma^2_{\\epsilon i}) & (a) \\\\\n",
    "      \\lambda_k^i(k\\Delta)\\Delta = \\frac{e^{x_k^i}}{1+e^{x_k^i}} & (b)\\\\\n",
    "      y_{k}^i | x_k^i \\sim Bernoulli(\\lambda_k^i(k\\Delta)\\Delta) & (c)\n",
    "\\end{array} \n",
    "\\right. $$"
   ]
  },
  {
   "cell_type": "markdown",
   "metadata": {},
   "source": [
    "\\begin{align*}\n",
    "E[\\log p(y, x, c)|y, \\theta^{(l-1)}] &= E[\\sum_{i=1}^n \\log p(y^i, x^i|c_i;\\theta_i) \\pi_{c_i} |y,\\theta^{(l-1)}]\\\\\n",
    "&= \\sum_{i=1}^n \\{E[\\log p(x^i|c_i;\\sigma^2_{\\epsilon c_i})|y^i;\\theta^{(l-1)}]] + E[\\log \\pi_{c_i}|y^i;\\theta^{(l-1)}] + E[\\log p(y^i|x^i)|y^i;\\theta^{(l-1)}]\\}\n",
    "\\end{align*}"
   ]
  },
  {
   "cell_type": "markdown",
   "metadata": {},
   "source": [
    "### 1.\n",
    "\\begin{align*}\n",
    "\\sum_{i=1}^n E[\\log p(x^i|c_i;\\sigma^2_{\\epsilon i})|y^i;\\theta^{(l-1)}]] &= \\sum_{i=1}^n \\sum_{c} (-\\frac{K}{2} \\log \\sigma_{\\epsilon c_i}^2 -\\frac{1}{2\\sigma_{\\epsilon c_i}^2} \\sum_{k=1}^K E[(x_k-x_{k-1})^2|c_i,y^i,\\theta^{(l-1)}]) * p(c_i=c|y^i,\\theta^{(l-1)})\\\\\n",
    "\\end{align*}"
   ]
  },
  {
   "cell_type": "markdown",
   "metadata": {},
   "source": [
    "###  $p(c_i=c|y^i)=\\frac{p(y^i|c_i=c)p(c_i=c)}{\\sum_{c} p(y^i|c_i=c)p(c_i=c)}$\n",
    "\n",
    "trick: normalize $exp(\\log p(y^i|c_i=c) - \\max (\\log p(y^i|c_i \\in \\{clusters\\})))$"
   ]
  },
  {
   "cell_type": "markdown",
   "metadata": {},
   "source": [
    "### $\\sigma_{c}^2 = \\frac{\\sum_{i=1}^n \\sum_k (W_{i,k}+W_{i,k-1}-2W_{i,k,k-1})p(c_i=c|y^i,\\sigma^{(l-1)})}{K \\sum_{i=1}^n p(c_i=c|y^i,\\sigma^{(l-1)})}$\n",
    "\n",
    "where $E\\{x_k || H_k, \\theta^{(l)}\\}$, $W_k = E\\{x_k^2 || H_k, \\theta^{(l)}\\}$ and $W_{k,k+1}=E\\{x_k x_{k-1} || H_k, \\theta^{(l)}\\}$\n"
   ]
  },
  {
   "cell_type": "markdown",
   "metadata": {},
   "source": [
    "### 2. $E[\\log \\pi_{c_i}|y^i;\\theta^{(l-1)}] = \\sum_{c} \\log \\pi_{c_i=c} * p(c_i=c|y^i,\\theta^{(l-1)})$"
   ]
  },
  {
   "cell_type": "markdown",
   "metadata": {},
   "source": [
    "### $\\pi_{c} = \\frac{\\sum_{i=1}^n p(c_i=c|y^i,\\sigma^{(l-1)})}{ \\sum_{c} \\sum_{i=1}^n p(c_i=c|y^i,\\sigma^{(l-1)})}$\n",
    "\n",
    "$\\sum_{c} \\pi_{c_i = c} = 1$\n",
    "\n",
    "Langrange multiplier: $\\sum_{c} \\log \\pi_{c_i=c} * p(c_i=c|y^i,\\theta^{(l-1)}) + \\lambda (\\sum_{c} \\pi_{c_i = c} -1)$\n",
    "\n",
    "take derivative: $\\sum_{i=1}^n p(c_i=c|y^i,\\theta^{(l-1)}) = -\\lambda \\pi_{c_i = c} $\n",
    "\n",
    "sum over c: $\\sum_c \\sum_{i=1}^n p(c_i=c|y^i,\\theta^{(l-1)}) = -\\lambda$"
   ]
  },
  {
   "cell_type": "code",
   "execution_count": 1,
   "metadata": {
    "collapsed": false
   },
   "outputs": [],
   "source": [
    "%load_ext autoreload\n",
    "%autoreload 2\n",
    "%reload_ext autoreload"
   ]
  },
  {
   "cell_type": "code",
   "execution_count": 2,
   "metadata": {
    "collapsed": false
   },
   "outputs": [
    {
     "name": "stderr",
     "output_type": "stream",
     "text": [
      "//anaconda/lib/python2.7/site-packages/matplotlib/__init__.py:872: UserWarning: axes.color_cycle is deprecated and replaced with axes.prop_cycle; please use the latter.\n",
      "  warnings.warn(self.msg_depr % (key, alt_key))\n"
     ]
    }
   ],
   "source": [
    "%matplotlib inline\n",
    "import os\n",
    "import time\n",
    "import numpy as np\n",
    "import pandas as pd\n",
    "import sys\n",
    "import cPickle as pickle\n",
    "from   random import *\n",
    "import scipy.stats\n",
    "import matplotlib.pyplot as plt\n",
    "sys.path.insert(1,'./code')\n",
    "from visualize import plot_raw_data, get_population_data, plot_results\n",
    "from EM import TransformToProb, RunEM\n",
    "import pyparticleest.models.nlg as nlg\n",
    "import pyparticleest.simulator as simulator\n",
    "import pyparticleest.utils.kalman as kalman\n",
    "from scipy.stats import bernoulli"
   ]
  },
  {
   "cell_type": "code",
   "execution_count": 3,
   "metadata": {
    "collapsed": true
   },
   "outputs": [],
   "source": [
    "class StdNonLin(nlg.NonlinearGaussianInitialGaussian):\n",
    "    # x_{k+1} = x_k  + v_k = f(x_k) + v_k,\n",
    "    # y_k = 0 + e_k = g(x_k) + e_k,\n",
    "    # x(0) ~ N(0,P0), v_k ~ N(0,Q), e_k ~ Binom(50,\\exp(x_{k})/(1+\\exp(x_{k})))\n",
    "\n",
    "    def __init__(self, P0, Q):\n",
    "    # Set covariances in the constructor since they\n",
    "    # are constant\n",
    "        super(StdNonLin, self).__init__(Px0=P0, Q=Q)\n",
    "\n",
    "    def calc_g(self, particles, t):\n",
    "    # Calculate value of g(\\xi_t,t)\n",
    "         return np.zeros([len(particles),1])\n",
    "    \n",
    "    def calc_f(self, particles, u, t):\n",
    "    # Calculate value of f(xi_t,t)\n",
    "        return particles\n",
    "    \n",
    "    def measure(self, particles, y, t):\n",
    "        \"\"\"\n",
    "        Return the log-pdf value of the measurement\n",
    "        Args:\n",
    "         - particles  (array-like): Model specific representation\n",
    "           of all particles, with first dimension = N (number of particles)\n",
    "         - y (array-like):  measurement\n",
    "         - t (float): time-stamp\n",
    "        Returns:\n",
    "         (array-like) with first dimension = N, logp(y|x^i)\n",
    "        \"\"\"\n",
    "        N = len(particles)\n",
    "        trial = 50\n",
    "        yrep = np.repeat(np.asarray(y), N, 0)\n",
    "        coefficient = scipy.special.binom(trial, yrep)\n",
    "        #lpy = scipy.stats.binom.logpmf(yrep,50,np.exp(particles[:,0])/(1.0 + np.exp(particles[:,0])),loc=0)\n",
    "        lpy = np.log(coefficient) + yrep * particles[:,0] - trial * np.log(1 + np.exp(particles[:,0]))\n",
    "        return lpy"
   ]
  },
  {
   "cell_type": "code",
   "execution_count": 38,
   "metadata": {
    "collapsed": true
   },
   "outputs": [],
   "source": [
    "def resample(weights):\n",
    "  n = len(weights)\n",
    "  indices = []\n",
    "  C = [0.] + [sum(weights[:i+1]) for i in range(n)]\n",
    "  u0, j = random(), 0\n",
    "  for u in [(u0+i)/n for i in range(n)]:\n",
    "    while u > C[j]:\n",
    "      j+=1\n",
    "    indices.append(j-1)\n",
    "  return indices"
   ]
  },
  {
   "cell_type": "code",
   "execution_count": 27,
   "metadata": {
    "collapsed": true
   },
   "outputs": [],
   "source": [
    "def measure(X, Y, trial, t):\n",
    "    coefficient = scipy.special.binom(trial,Y)\n",
    "    # log-pdf of p(y_t|x_t)\n",
    "    return np.log(coefficient[t]) + X[t,:] * Y[t] - trial * np.log(1+np.exp(X[t,:]))"
   ]
  },
  {
   "cell_type": "code",
   "execution_count": 28,
   "metadata": {
    "collapsed": true
   },
   "outputs": [],
   "source": [
    "def filtering(T, N, Q, trial, Y):\n",
    "    ##Initialization\n",
    "    t = 0\n",
    "    X = np.empty([T,N])\n",
    "    ancestor = np.empty([T,N])\n",
    "    w = np.empty([T,N])\n",
    "    W = np.empty([T,N])\n",
    "    X[t,:] = np.random.normal(0, np.sqrt(Q), N)\n",
    "    w[t,:] = measure(X, Y, trial, t)\n",
    "    W[t,:] = np.exp(w[t,:] - np.max(w[t,:]))\n",
    "    W[t,:] /= np.sum(W[t,:])\n",
    "    ancestor[t,:]= X[t,resample(W[t,:])]\n",
    "    for tt in range(T-1):\n",
    "        t=tt+1\n",
    "        a = ancestor[tt,:]\n",
    "        X[t,:] = a + np.random.normal(0, np.sqrt(Q), N) ##f(x_t|x_{t-1}) standard deviation\n",
    "        w[t,:] = measure(X, Y, trial, t) ##g(y_t|x_t)\n",
    "        W[t,:] = np.exp(w[t,:] - np.max(w[t,:]))\n",
    "        W[t,:] /= np.sum(W[t,:])\n",
    "        ancestor[t,:]= X[t,resample(W[t,:])]\n",
    "    \n",
    "    return X, w, W, ancestor"
   ]
  },
  {
   "cell_type": "code",
   "execution_count": 50,
   "metadata": {
    "collapsed": true
   },
   "outputs": [],
   "source": [
    "def smoothing(T, N, Q, trial, M, X, W):\n",
    "    w_back = np.empty([T,N])\n",
    "    W_BACK = np.empty([T,N])\n",
    "    smoother = np.empty([T,M])\n",
    "    multinomialsamples = np.random.multinomial(M, W[T-1,:])\n",
    "    ancestor_nonzero = ancestor[T-1, multinomialsamples>0]\n",
    "    smoother[T-1,:] = np.repeat(ancestor_nonzero, multinomialsamples[multinomialsamples>0])\n",
    "    for tt in range(T-1):\n",
    "        t = T-2 - tt\n",
    "        for j in range(M):\n",
    "            w_back = W[t,:] * np.exp(kalman.lognormpdf_scalar(smoother[t+1,j]-X[t,:], Q))\n",
    "            W_BACK[t,:] = w_back/np.sum(w_back)\n",
    "            myList = np.random.multinomial(1, W_BACK[t,:])\n",
    "            smoother[t,j] = X[t, next((i for i, x in enumerate(myList) if x), None)]\n",
    "            \n",
    "    return smoother"
   ]
  },
  {
   "cell_type": "code",
   "execution_count": 30,
   "metadata": {
    "collapsed": true
   },
   "outputs": [],
   "source": [
    "def lognormpdf_scalar(err, S):\n",
    "    \"\"\"\n",
    "    Calculate gaussian probability density of all elements in err, when\n",
    "    err[i] ~ N(0,S) and each element in err is a scalar\n",
    "    \"\"\"\n",
    "    return -0.5 * (l2pi + np.log(S) + (err.ravel() ** 2) / S)"
   ]
  },
  {
   "cell_type": "code",
   "execution_count": null,
   "metadata": {
    "collapsed": false
   },
   "outputs": [],
   "source": []
  },
  {
   "cell_type": "code",
   "execution_count": 17,
   "metadata": {
    "collapsed": false
   },
   "outputs": [],
   "source": [
    "# Forward particles\n",
    "N = 1000\n",
    "# Backward trajectories\n",
    "M = 100\n",
    "# trials\n",
    "trial = 50\n",
    "# cluster\n",
    "cluster = 2\n",
    "#iterations\n",
    "iteration = 20\n",
    "#\n",
    "sigma_ls = np.empty([iteration,cluster])\n",
    "pi_ls = np.empty([iteration,cluster])\n",
    "#\n",
    "#\n",
    "square2pi = np.sqrt(2 * np.pi)\n",
    "#\n",
    "l2pi = np.log(2 * np.pi)"
   ]
  },
  {
   "cell_type": "code",
   "execution_count": 18,
   "metadata": {
    "collapsed": false
   },
   "outputs": [],
   "source": [
    "mat = np.loadtxt('train_data.txt')\n",
    "Y = mat[:,1:]\n",
    "T = Y.shape[1]\n",
    "n = Y.shape[0]"
   ]
  },
  {
   "cell_type": "code",
   "execution_count": 19,
   "metadata": {
    "collapsed": false
   },
   "outputs": [
    {
     "name": "stdout",
     "output_type": "stream",
     "text": [
      "(20, 3000)\n"
     ]
    }
   ],
   "source": [
    "print Y.shape"
   ]
  },
  {
   "cell_type": "code",
   "execution_count": 20,
   "metadata": {
    "collapsed": true
   },
   "outputs": [],
   "source": [
    "pi=[0.5, 0.5]"
   ]
  },
  {
   "cell_type": "code",
   "execution_count": 21,
   "metadata": {
    "collapsed": false
   },
   "outputs": [],
   "source": [
    "sigma = [0.09354658, 0.53066518]"
   ]
  },
  {
   "cell_type": "code",
   "execution_count": 36,
   "metadata": {
    "collapsed": true
   },
   "outputs": [],
   "source": [
    "#for j in range(n):\n",
    "#    posterior_of_indicator(cluster, pi, Y[j,:], sigma, N, T, trial)"
   ]
  },
  {
   "cell_type": "markdown",
   "metadata": {
    "collapsed": false
   },
   "source": [
    "# HERE IS THE ALGORITHM!"
   ]
  },
  {
   "cell_type": "code",
   "execution_count": 22,
   "metadata": {
    "collapsed": false
   },
   "outputs": [],
   "source": [
    "#%%time\n",
    "sigmatmp = np.zeros([cluster,n])\n",
    "loglikelihood = np.empty([cluster,n])\n",
    "posterior_indicator = np.empty([cluster,n])\n",
    "for i in range(iteration):\n",
    "    for j in range(n):\n",
    "        for c in range(cluster):\n",
    "            P0 = sigma[c] * np.eye(1)\n",
    "            Q = sigma[c] * np.eye(1)\n",
    "            model = StdNonLin(P0, Q)\n",
    "            sim = simulator.Simulator(model,u=None,y=Y[j,:])\n",
    "            sim.simulate(N, M, filter='PF', smoother='ancestor', meas_first=False)\n",
    "            (est_filt, w_filt) = sim.get_filtered_estimates()\n",
    "            est_smooth = sim.get_smoothed_estimates()\n",
    "            #[X, w, W, ancestor] = filtering(T, N, Q, trial, Y[j,:])\n",
    "            #est_smooth = smoothing(T, N, Q, trial, M, est_filt[:,:,0], w_filt)\n",
    "            w_unnormalized = scipy.stats.binom.logpmf(np.reshape(np.repeat(Y[j,:],N),[T,N]), trial, np.exp(est_filt[1:,:,0])/(1.0 + np.exp(est_filt[1:,:,0])), loc=0)\n",
    "            #w_unnormalized = w\n",
    "            maxlogweight = np.max(w_unnormalized,axis=1)\n",
    "            weight = np.exp(w_unnormalized - np.reshape(np.repeat(maxlogweight, N),(T, N)))\n",
    "            loglikelihood[c,j] = np.sum(np.log(np.sum(weight, axis = 1)/N)) + np.sum(maxlogweight)\n",
    "            posteriorcovariance = np.array(np.diff(est_smooth[:,:,0],axis=0))**2\n",
    "            #posteriorcovariance = np.array(np.diff(est_smooth,axis=0))**2\n",
    "            sigmatmp[c,j] = np.sum(posteriorcovariance/(M*T))\n",
    "\n",
    "    #maxloglikelihood = np.max(loglikelihood, axis=0)\n",
    "    #w = np.exp(loglikelihood - maxloglikelihood)\n",
    "    #likelihood= np.sum(np.log(np.sum(w*np.reshape(np.repeat(pi,20),(2,20)), axis=0))) + np.sum(maxloglikelihood)\n",
    "    #print likelihood\n",
    "    posterior_indicator = np.exp(loglikelihood - np.max(loglikelihood, axis=0)) * np.reshape(np.repeat(pi,20),(cluster,20))\n",
    "    posterior_indicator = posterior_indicator/np.sum(posterior_indicator, axis=0)\n",
    "    pi = np.sum(posterior_indicator,axis=1)/np.sum(posterior_indicator)\n",
    "    sigma = np.sum(sigmatmp * posterior_indicator, axis=1)/np.sum(posterior_indicator,axis=1)\n",
    "    sigma_ls[i,:]=sigma\n",
    "    pi_ls[i,:]=pi"
   ]
  },
  {
   "cell_type": "code",
   "execution_count": 16,
   "metadata": {
    "collapsed": false
   },
   "outputs": [
    {
     "data": {
      "text/plain": [
       "array([[  1.00000000e+000,   1.00000000e+000,   1.00000000e+000,\n",
       "          1.00000000e+000,   1.00000000e+000,   1.00000000e+000,\n",
       "          1.00000000e+000,   1.00000000e+000,   1.00000000e+000,\n",
       "          1.00000000e+000,   0.00000000e+000,   1.53825155e-112,\n",
       "          1.83280696e-152,   3.08559644e-314,   7.30649849e-131,\n",
       "          5.10397162e-137,   9.04333059e-264,   4.93571717e-072,\n",
       "          5.07308470e-174,   1.18623598e-170],\n",
       "       [  1.01962049e-100,   1.28339225e-102,   9.87409399e-106,\n",
       "          2.43564703e-072,   2.26901766e-096,   6.67195818e-102,\n",
       "          2.84744280e-074,   7.68469221e-101,   2.39466884e-084,\n",
       "          1.11672270e-079,   2.60232764e-076,   4.98144545e-073,\n",
       "          2.21919683e-052,   1.18095571e-116,   8.66067774e-064,\n",
       "          1.78978116e-090,   7.56817222e-099,   6.95440214e-063,\n",
       "          1.09231116e-075,   7.71536093e-084],\n",
       "       [  4.72577861e-080,   6.52237282e-073,   4.62919663e-084,\n",
       "          3.41973569e-040,   1.19295822e-077,   1.82758880e-074,\n",
       "          3.43171995e-047,   1.67170695e-070,   6.08249357e-059,\n",
       "          1.34502457e-048,   1.00000000e+000,   1.05868087e-013,\n",
       "          1.26727441e-003,   9.99984631e-001,   6.19550777e-006,\n",
       "          2.19817276e-033,   9.35023610e-001,   9.81582796e-001,\n",
       "          7.08368424e-013,   1.22905199e-006],\n",
       "       [  3.54452604e-094,   1.62137141e-083,   6.16387566e-094,\n",
       "          1.14742041e-048,   6.87083138e-092,   1.13522346e-090,\n",
       "          7.09430798e-061,   5.57424272e-079,   5.45195358e-067,\n",
       "          8.00471383e-060,   1.33865197e-029,   1.00000000e+000,\n",
       "          9.98732726e-001,   1.53692239e-005,   9.99993804e-001,\n",
       "          1.00000000e+000,   6.49763899e-002,   1.84172039e-002,\n",
       "          1.00000000e+000,   9.99998771e-001]])"
      ]
     },
     "execution_count": 16,
     "metadata": {},
     "output_type": "execute_result"
    }
   ],
   "source": [
    "posterior_indicator"
   ]
  },
  {
   "cell_type": "code",
   "execution_count": 15,
   "metadata": {
    "collapsed": false
   },
   "outputs": [
    {
     "data": {
      "text/plain": [
       "array([[ 0.10030428,  0.3077158 ,  0.68197631,  0.83726327],\n",
       "       [ 0.1005359 ,  0.30738706,  0.664068  ,  0.79092859],\n",
       "       [ 0.10052795,  0.31045131,  0.64269539,  0.74605188],\n",
       "       [ 0.09959736,  0.31603768,  0.62612042,  0.72062106],\n",
       "       [ 0.09890864,  0.32085609,  0.62024778,  0.69382481],\n",
       "       [ 0.09862288,  0.33591099,  0.6001435 ,  0.67019768],\n",
       "       [ 0.09845061,  0.33012076,  0.59364549,  0.65484016],\n",
       "       [ 0.09866227,  0.33656065,  0.56121587,  0.6470678 ],\n",
       "       [ 0.0983715 ,  0.33907537,  0.55528597,  0.62779445],\n",
       "       [ 0.09884338,  0.34207616,  0.54033928,  0.62280193],\n",
       "       [ 0.09859378,  0.34468311,  0.54207306,  0.60703792],\n",
       "       [ 0.09787379,  0.3513251 ,  0.52264475,  0.59582774],\n",
       "       [ 0.09660866,  0.36187135,  0.49155387,  0.58701472],\n",
       "       [ 0.09754491,  0.3475692 ,  0.49211524,  0.57852422],\n",
       "       [ 0.09757411,  0.34108702,  0.48212531,  0.57607821],\n",
       "       [ 0.09688031,  0.34382894,  0.47370344,  0.56551516],\n",
       "       [ 0.09618946,  0.35484377,  0.48132511,  0.56293392],\n",
       "       [ 0.09632137,  0.34745293,  0.48001735,  0.55171945],\n",
       "       [ 0.09755053,  0.34228725,  0.47600953,  0.54351866],\n",
       "       [ 0.09660592,  0.36487422,  0.47929086,  0.53359362]])"
      ]
     },
     "execution_count": 15,
     "metadata": {},
     "output_type": "execute_result"
    }
   ],
   "source": [
    "sigma_ls"
   ]
  },
  {
   "cell_type": "code",
   "execution_count": null,
   "metadata": {
    "collapsed": true
   },
   "outputs": [],
   "source": [
    "array([[ 0.09966018,  0.83753384],\n",
    "       [ 0.09947227,  0.79065639],\n",
    "       [ 0.09853979,  0.75890545],\n",
    "       [ 0.09753917,  0.7255194 ],\n",
    "       [ 0.09698717,  0.70083715],\n",
    "       [ 0.09715258,  0.67592663],\n",
    "       [ 0.09599162,  0.65549329],\n",
    "       [ 0.09515703,  0.63925444],\n",
    "       [ 0.09490611,  0.62185047],\n",
    "       [ 0.09417887,  0.60438006],\n",
    "       [ 0.09343204,  0.60163655],\n",
    "       [ 0.09221624,  0.5925726 ],\n",
    "       [ 0.09316658,  0.5796338 ],\n",
    "       [ 0.09301189,  0.56344373],\n",
    "       [ 0.0933514 ,  0.55695132],\n",
    "       [ 0.09337476,  0.54891762],\n",
    "       [ 0.09422464,  0.54206639],\n",
    "       [ 0.09365101,  0.54217296],\n",
    "       [ 0.09330665,  0.53464087],\n",
    "       [ 0.09354658,  0.53066518]])"
   ]
  },
  {
   "cell_type": "code",
   "execution_count": 23,
   "metadata": {
    "collapsed": false
   },
   "outputs": [
    {
     "data": {
      "text/plain": [
       "array([[ 0.09377002,  0.53625399],\n",
       "       [ 0.09366348,  0.53046431],\n",
       "       [ 0.0929089 ,  0.52544266],\n",
       "       [ 0.09324733,  0.52010903],\n",
       "       [ 0.09448403,  0.51730811],\n",
       "       [ 0.09368139,  0.51919176],\n",
       "       [ 0.09366586,  0.51643193],\n",
       "       [ 0.09385587,  0.51144436],\n",
       "       [ 0.09377575,  0.50801328],\n",
       "       [ 0.09452919,  0.50444353],\n",
       "       [ 0.09450155,  0.50391614],\n",
       "       [ 0.09484096,  0.50279359],\n",
       "       [ 0.09407876,  0.49692263],\n",
       "       [ 0.09353765,  0.49740399],\n",
       "       [ 0.09442286,  0.4978201 ],\n",
       "       [ 0.09410442,  0.49805448],\n",
       "       [ 0.09373724,  0.49961169],\n",
       "       [ 0.09369805,  0.5031979 ],\n",
       "       [ 0.09356195,  0.4985406 ],\n",
       "       [ 0.09432879,  0.50214261]])"
      ]
     },
     "execution_count": 23,
     "metadata": {},
     "output_type": "execute_result"
    }
   ],
   "source": [
    "sigma_ls"
   ]
  },
  {
   "cell_type": "code",
   "execution_count": 62,
   "metadata": {
    "collapsed": false
   },
   "outputs": [
    {
     "data": {
      "image/png": "[encoded data removed]",
      "text/plain": [
       "<matplotlib.figure.Figure at 0x10bd26b10>"
      ]
     },
     "metadata": {},
     "output_type": "display_data"
    }
   ],
   "source": [
    "plt.plot(sigma_ls, '-',linewidth=2.0)\n",
    "plt.ylim([0,1])\n",
    "plt.xlabel('iterations')\n",
    "plt.legend(loc='best')"
   ]
  },
  {
   "cell_type": "code",
   "execution_count": null,
   "metadata": {
    "collapsed": true
   },
   "outputs": [],
   "source": [
    "sigma= [0.57, 0.1]\n",
    "pi = [0.5,0.5]\n",
    "for j in range(n):\n",
    "    for c in range(cluster):\n",
    "        P0 = sigma[c] * np.eye(1)\n",
    "        Q = sigma[c] * np.eye(1)\n",
    "        model = StdNonLin(P0, Q)\n",
    "        sim = simulator.Simulator(model,u=None,y=Y[j,:])\n",
    "        sim.simulate(N, M, filter='PF', smoother='ancestor', meas_first=False)\n",
    "        (est_filt, w_filt) = sim.get_filtered_estimates()\n",
    "        est_smooth = sim.get_smoothed_estimates()\n",
    "        w_unnormalized = scipy.stats.binom.pmf(np.reshape(np.repeat(Y[j,:],N),[T,N]), trial, np.exp(est_filt[1:,:,0])/(1.0 + np.exp(est_filt[1:,:,0])), loc=0)\n",
    "        loglikelihood[c,j] = np.sum(np.log(np.sum(w_unnormalized, axis = 1)/N))\n",
    "        posteriorcovariance = np.array(np.diff(est_smooth[:,:,0],axis=0))**2\n",
    "        sigmatmp[c,j] = np.sum(posteriorcovariance/(M*T))\n",
    "\n",
    "\n",
    "maxloglikelihood = np.max(loglikelihood, axis=0)\n",
    "w = np.exp(loglikelihood - maxloglikelihood)\n",
    "likelihood= np.sum(np.log(w*0.5)) + np.sum(maxloglikelihood)\n",
    "print likelihood\n",
    "\n",
    "posterior_indicator = np.exp(loglikelihood - np.max(loglikelihood, axis=0)) * np.reshape(np.repeat(pi,20),(2,20))\n",
    "posterior_indicator = posterior_indicator/np.sum(posterior_indicator, axis=0)\n",
    "pi = np.sum(posterior_indicator,axis=1)/np.sum(posterior_indicator)\n",
    "sigma = np.sum(sigmatmp * posterior_indicator, axis=1)/np.sum(posterior_indicator,axis=1)\n",
    "sigma_ls[i,:]=sigma\n",
    "pi_ls[i,:]=pi"
   ]
  },
  {
   "cell_type": "code",
   "execution_count": 16,
   "metadata": {
    "collapsed": false
   },
   "outputs": [
    {
     "data": {
      "text/plain": [
       "-inf"
      ]
     },
     "execution_count": 16,
     "metadata": {},
     "output_type": "execute_result"
    }
   ],
   "source": [
    "maxloglikelihood = np.max(loglikelihood, axis = 0)\n",
    "np.sum(np.log(np.sum(np.exp(loglikelihood) * 0.5, axis = 0)))"
   ]
  },
  {
   "cell_type": "code",
   "execution_count": 26,
   "metadata": {
    "collapsed": false
   },
   "outputs": [
    {
     "data": {
      "text/plain": [
       "array([[-4071.37982375, -3258.84925241, -4169.09029622, -3057.66906805,\n",
       "        -4809.16957752, -4324.89416938, -3874.56122365, -3299.3547864 ,\n",
       "        -3176.79557216, -3949.77279062, -3900.22851337, -3475.83319616,\n",
       "        -3005.01476101, -4572.53056269, -4557.56809391, -4214.83814507,\n",
       "        -5359.46552555, -2838.54005387, -3306.13367036, -3891.74790745],\n",
       "       [-4150.28610541, -3373.79200789, -4319.10625423, -3107.08876501,\n",
       "        -4923.92638979, -4425.67586817, -3956.54471669, -3406.513156  ,\n",
       "        -3250.89488508, -3994.89919102, -2392.94116515, -3092.69843601,\n",
       "        -2496.76508403, -3684.79416583, -4253.09666417, -3933.34594867,\n",
       "        -4522.83126965, -2612.83446662, -2844.83206355, -3157.8071494 ]])"
      ]
     },
     "execution_count": 26,
     "metadata": {},
     "output_type": "execute_result"
    }
   ],
   "source": [
    "loglikelihood"
   ]
  },
  {
   "cell_type": "code",
   "execution_count": 25,
   "metadata": {
    "collapsed": false
   },
   "outputs": [
    {
     "data": {
      "text/plain": [
       "-70372.316551950003"
      ]
     },
     "execution_count": 25,
     "metadata": {},
     "output_type": "execute_result"
    }
   ],
   "source": [
    "np.sum([-2265.28306566, -3091.8651383 ,\n",
    "        -2517.13003784, -3616.37601527, -4208.12582513, -3923.73889052,\n",
    "        -4332.27453163, -2596.17670433, -2789.24345077, -3058.35288798,\n",
    "       -4084.59767986, -3258.23985371, -4190.50931695, -3048.54776998,\n",
    "        -4802.3827942 , -4310.8708402 , -3882.66323928, -3291.74518962,\n",
    "        -3157.01094239, -3947.18237833])"
   ]
  },
  {
   "cell_type": "code",
   "execution_count": null,
   "metadata": {
    "collapsed": true
   },
   "outputs": [],
   "source": [
    "pi_ls"
   ]
  },
  {
   "cell_type": "code",
   "execution_count": 23,
   "metadata": {
    "collapsed": false
   },
   "outputs": [
    {
     "data": {
      "text/plain": [
       "array([[ 0.28014961,  0.54222914],\n",
       "       [ 0.35473518,  0.53960916],\n",
       "       [ 0.37350976,  0.5377967 ],\n",
       "       [ 0.37838432,  0.54656895],\n",
       "       [ 0.36759229,  0.55947283],\n",
       "       [ 0.36560106,  0.56625224],\n",
       "       [ 0.36897392,  0.58025648],\n",
       "       [ 0.35994039,  0.5793937 ],\n",
       "       [ 0.36327151,  0.60607937],\n",
       "       [ 0.34105136,  0.61790691],\n",
       "       [ 0.32470374,  0.63889326],\n",
       "       [ 0.32090505,  0.63220001],\n",
       "       [ 0.32442454,  0.64150314],\n",
       "       [ 0.32280294,  0.64681534],\n",
       "       [ 0.30972575,  0.65286749],\n",
       "       [ 0.29618135,  0.66731526],\n",
       "       [ 0.28641572,  0.67004223],\n",
       "       [ 0.27524019,  0.68762924],\n",
       "       [ 0.27136235,  0.68722799],\n",
       "       [ 0.28477836,  0.68276386],\n",
       "       [ 0.25859325,  0.68147943],\n",
       "       [ 0.2492117 ,  0.67496184],\n",
       "       [ 0.22989937,  0.64680454],\n",
       "       [ 0.24504767,  0.62194591],\n",
       "       [ 0.24377468,  0.60261114],\n",
       "       [ 0.23522021,  0.60387688],\n",
       "       [ 0.22713348,  0.60638442],\n",
       "       [ 0.25584743,  0.6083086 ],\n",
       "       [ 0.26224676,  0.60356646],\n",
       "       [ 0.25600775,  0.59906054],\n",
       "       [ 0.26167741,  0.59736056],\n",
       "       [ 0.25344155,  0.58683222],\n",
       "       [ 0.26776611,  0.57345278],\n",
       "       [ 0.2838607 ,  0.58670955],\n",
       "       [ 0.28449315,  0.58826469],\n",
       "       [ 0.28313449,  0.58777611],\n",
       "       [ 0.26925593,  0.58021035],\n",
       "       [ 0.26422894,  0.57404661],\n",
       "       [ 0.28388772,  0.58174814],\n",
       "       [ 0.28045886,  0.59339507],\n",
       "       [ 0.26859202,  0.58697565],\n",
       "       [ 0.29138418,  0.59631962],\n",
       "       [ 0.27515498,  0.61125535],\n",
       "       [ 0.26316344,  0.62292813],\n",
       "       [ 0.24479859,  0.62521761],\n",
       "       [ 0.24657846,  0.62112022],\n",
       "       [ 0.24803114,  0.61781004],\n",
       "       [ 0.24105556,  0.60822575],\n",
       "       [ 0.23740922,  0.60555403],\n",
       "       [ 0.23290027,  0.60882563]])"
      ]
     },
     "execution_count": 23,
     "metadata": {},
     "output_type": "execute_result"
    }
   ],
   "source": [
    "sigma_ls"
   ]
  },
  {
   "cell_type": "code",
   "execution_count": 12,
   "metadata": {
    "collapsed": false
   },
   "outputs": [
    {
     "data": {
      "text/plain": [
       "array([[  1.09348265e-050,   3.49900673e-047,   1.05352549e-064,\n",
       "          2.94772274e-024,   5.72566370e-054,   1.15612277e-056,\n",
       "          8.16211034e-035,   8.35179395e-055,   2.34868370e-044,\n",
       "          1.94181049e-036,   1.00000000e+000,   1.00000000e+000,\n",
       "          1.00000000e+000,   1.00000000e+000,   1.00000000e+000,\n",
       "          1.00000000e+000,   1.00000000e+000,   1.00000000e+000,\n",
       "          1.00000000e+000,   1.00000000e+000],\n",
       "       [  1.00000000e+000,   1.00000000e+000,   1.00000000e+000,\n",
       "          1.00000000e+000,   1.00000000e+000,   1.00000000e+000,\n",
       "          1.00000000e+000,   1.00000000e+000,   1.00000000e+000,\n",
       "          1.00000000e+000,   0.00000000e+000,   4.17083591e-156,\n",
       "          2.58158170e-174,   1.79928827e-319,   4.31527260e-145,\n",
       "          7.20142757e-127,   0.00000000e+000,   1.14700986e-083,\n",
       "          1.86871555e-204,   1.49654702e-312]])"
      ]
     },
     "execution_count": 12,
     "metadata": {},
     "output_type": "execute_result"
    }
   ],
   "source": [
    "posterior_indicator"
   ]
  },
  {
   "cell_type": "code",
   "execution_count": 34,
   "metadata": {
    "collapsed": true
   },
   "outputs": [],
   "source": [
    "pickle.dump(bbb, open('/Users/zyzrdfz/Desktop/gwungwun/name_of_pickle.p','wb'))"
   ]
  },
  {
   "cell_type": "code",
   "execution_count": null,
   "metadata": {
    "collapsed": false
   },
   "outputs": [],
   "source": [
    "kkk = pickle.load(open('/Users/zyzrdfz/Desktop/gwungwun/name_of_pickle.p','rb'))\n",
    "print kkk"
   ]
  },
  {
   "cell_type": "markdown",
   "metadata": {},
   "source": [
    "## plot sigma_ls when pi is fixed as [0.5,0.5]"
   ]
  },
  {
   "cell_type": "code",
   "execution_count": 30,
   "metadata": {
    "collapsed": false
   },
   "outputs": [
    {
     "data": {
      "image/png": "[encoded data removed]",
      "text/plain": [
       "<matplotlib.figure.Figure at 0x10b7090d0>"
      ]
     },
     "metadata": {},
     "output_type": "display_data"
    }
   ],
   "source": [
    "plt.plot(bbb, '-',linewidth=2.0)\n",
    "plt.xlabel('iterations')\n",
    "plt.legend(loc='best')"
   ]
  },
  {
   "cell_type": "markdown",
   "metadata": {},
   "source": [
    "## sigma_ls & pi_ls change simultaneously"
   ]
  },
  {
   "cell_type": "code",
   "execution_count": 44,
   "metadata": {
    "collapsed": false
   },
   "outputs": [
    {
     "data": {
      "image/png": "[encoded data removed]",
      "text/plain": [
       "<matplotlib.figure.Figure at 0x109cb0890>"
      ]
     },
     "metadata": {},
     "output_type": "display_data"
    }
   ],
   "source": [
    "plt.plot(pi_ls, '-',linewidth=2.0)\n",
    "plt.ylim([0,1])\n",
    "plt.xlabel('iterations')\n",
    "plt.legend(loc='best')"
   ]
  },
  {
   "cell_type": "code",
   "execution_count": 47,
   "metadata": {
    "collapsed": false
   },
   "outputs": [
    {
     "data": {
      "image/png": "[encoded data removed]",
      "text/plain": [
       "<matplotlib.figure.Figure at 0x10b0df2d0>"
      ]
     },
     "metadata": {},
     "output_type": "display_data"
    }
   ],
   "source": [
    "plt.plot(sigma_ls, '-',linewidth=2.0)\n",
    "plt.ylim([0,0.8])\n",
    "plt.xlabel('iterations')\n",
    "plt.legend(loc='best')"
   ]
  },
  {
   "cell_type": "markdown",
   "metadata": {},
   "source": [
    "## THE FOLLOWINGS ARE TEST CODES "
   ]
  },
  {
   "cell_type": "code",
   "execution_count": 90,
   "metadata": {
    "collapsed": false
   },
   "outputs": [],
   "source": [
    "sigma = np.empty([2,1])\n",
    "sigma_1_ls = np.arange(0.01, 0.61, 0.05)\n",
    "sigma_2_ls = np.arange(0.01, 0.61, 0.05)\n",
    "likelihood = np.zeros([len(sigma_1_ls),len(sigma_2_ls)])\n",
    "loglikelihood = np.empty([cluster, n])\n",
    "for i in range(len(sigma_1_ls)):\n",
    "    sigma[0] = sigma_1_ls[i]\n",
    "    for k in range(len(sigma_2_ls) -(len(sigma_2_ls) - i)):\n",
    "        sigma[1] = sigma_2_ls[k]\n",
    "        for j in range(n):\n",
    "            for c in range(cluster):\n",
    "                P0 = sigma[c] * np.eye(1)\n",
    "                Q = sigma[c] * np.eye(1)\n",
    "                model = StdNonLin(P0, Q)\n",
    "                sim = simulator.Simulator(model,u=None,y=Y[j,:])\n",
    "                sim.simulate(N, M, filter='PF', smoother='ancestor', meas_first=False)\n",
    "                (est_filt, w_filt) = sim.get_filtered_estimates()\n",
    "                w_unnormalized = scipy.stats.binom.pmf(np.reshape(np.repeat(Y[j,:],N),[T,N]), trial, np.exp(est_filt[1:,:,0])/(1.0 + np.exp(est_filt[1:,:,0])), loc=0)\n",
    "                loglikelihood[c,j] = np.sum(np.log(np.sum(w_unnormalized, axis = 1)/N))\n",
    "        maxloglikelihood = np.max(loglikelihood, axis=0)\n",
    "        w = np.exp(loglikelihood - maxloglikelihood)\n",
    "        #posterior_indicator = np.exp(loglikelihood - np.max(loglikelihood, axis=0)) * np.reshape(np.repeat(pi,20),(2,20))\n",
    "        #posterior_indicator = posterior_indicator/np.sum(posterior_indicator, axis=0)\n",
    "        #likelihood[i,k] = np.sum(loglikelihood * posterior_indicator)\n",
    "        likelihood[i,k] = np.sum(np.log(np.sum(w)*0.5), axis = 0) + np.sum(maxloglikelihood) "
   ]
  },
  {
   "cell_type": "code",
   "execution_count": 88,
   "metadata": {
    "collapsed": false
   },
   "outputs": [
    {
     "data": {
      "text/plain": [
       "array([[-104644.36601284,  -80110.01424684,  -75717.18328375,\n",
       "         -73297.49703844,  -72589.38444833,  -72137.77710106,\n",
       "         -72044.34861124,  -72007.92436246,  -72180.19639833,\n",
       "         -72000.31207288,  -71938.07581137,  -71904.20586065],\n",
       "       [ -80110.01424684,  -80251.38081653,  -75826.9294985 ,\n",
       "         -73448.17491347,  -72591.39006253,  -72147.8837074 ,\n",
       "         -71723.46888697,  -71550.86096094,  -71168.16704973,\n",
       "         -71062.48716192,  -70828.55418925,       0.        ],\n",
       "       [ -75717.18328375,  -75826.9294985 ,  -75189.9527785 ,\n",
       "         -73270.28701204,  -72298.64612927,  -71763.26993795,\n",
       "         -71152.94252961,  -71039.65001637,  -71114.89053715,\n",
       "         -70562.83740386,       0.        ,       0.        ],\n",
       "       [ -73297.49703844,  -73448.17491347,  -73270.28701204,\n",
       "         -73152.63208376,  -72513.34509013,  -71428.3633505 ,\n",
       "         -71417.46802246,  -70953.73538738,  -70620.51219993,\n",
       "              0.        ,       0.        ,       0.        ],\n",
       "       [ -72589.38444833,  -72591.39006253,  -72298.64612927,\n",
       "         -72513.34509013,  -72316.70076973,  -71936.21809424,\n",
       "         -71775.90753664,  -71381.34828867,       0.        ,\n",
       "              0.        ,       0.        ,       0.        ],\n",
       "       [ -72137.77710106,  -72147.8837074 ,  -71763.26993795,\n",
       "         -71428.3633505 ,  -71936.21809424,  -71903.32769241,\n",
       "         -71687.47854444,       0.        ,       0.        ,\n",
       "              0.        ,       0.        ,       0.        ],\n",
       "       [ -72044.34861124,  -71723.46888697,  -71152.94252961,\n",
       "         -71417.46802246,  -71775.90753664,  -71687.47854444,\n",
       "              0.        ,       0.        ,       0.        ,\n",
       "              0.        ,       0.        ,       0.        ],\n",
       "       [ -72007.92436246,  -71550.86096094,  -71039.65001637,\n",
       "         -70953.73538738,  -71381.34828867,       0.        ,\n",
       "              0.        ,       0.        ,       0.        ,\n",
       "              0.        ,       0.        ,       0.        ],\n",
       "       [ -72180.19639833,  -71168.16704973,  -71114.89053715,\n",
       "         -70620.51219993,       0.        ,       0.        ,\n",
       "              0.        ,       0.        ,       0.        ,\n",
       "              0.        ,       0.        ,       0.        ],\n",
       "       [ -72000.31207288,  -71062.48716192,  -70562.83740386,\n",
       "              0.        ,       0.        ,       0.        ,\n",
       "              0.        ,       0.        ,       0.        ,\n",
       "              0.        ,       0.        ,       0.        ],\n",
       "       [ -71938.07581137,  -70828.55418925,       0.        ,\n",
       "              0.        ,       0.        ,       0.        ,\n",
       "              0.        ,       0.        ,       0.        ,\n",
       "              0.        ,       0.        ,       0.        ],\n",
       "       [ -71904.20586065,       0.        ,       0.        ,\n",
       "              0.        ,       0.        ,       0.        ,\n",
       "              0.        ,       0.        ,       0.        ,\n",
       "              0.        ,       0.        ,       0.        ]])"
      ]
     },
     "execution_count": 88,
     "metadata": {},
     "output_type": "execute_result"
    }
   ],
   "source": [
    "lll[]"
   ]
  },
  {
   "cell_type": "code",
   "execution_count": 86,
   "metadata": {
    "collapsed": false
   },
   "outputs": [
    {
     "name": "stdout",
     "output_type": "stream",
     "text": [
      "[[-104644.36601284  -80110.01424684  -75717.18328375  -73297.49703844\n",
      "   -72589.38444833  -72137.77710106  -72044.34861124  -72007.92436246\n",
      "   -72180.19639833  -72000.31207288  -71938.07581137  -71904.20586065]\n",
      " [ -80110.01424684  -80251.38081653  -75826.9294985   -73448.17491347\n",
      "   -72591.39006253  -72147.8837074   -71723.46888697  -71550.86096094\n",
      "   -71168.16704973  -71062.48716192  -70828.55418925       0.        ]\n",
      " [ -75717.18328375  -75826.9294985   -75189.9527785   -73270.28701204\n",
      "   -72298.64612927  -71763.26993795  -71152.94252961  -71039.65001637\n",
      "   -71114.89053715  -70562.83740386       0.               0.        ]\n",
      " [ -73297.49703844  -73448.17491347  -73270.28701204  -73152.63208376\n",
      "   -72513.34509013  -71428.3633505   -71417.46802246  -70953.73538738\n",
      "   -70620.51219993       0.               0.               0.        ]\n",
      " [ -72589.38444833  -72591.39006253  -72298.64612927  -72513.34509013\n",
      "   -72316.70076973  -71936.21809424  -71775.90753664  -71381.34828867\n",
      "        0.               0.               0.               0.        ]\n",
      " [ -72137.77710106  -72147.8837074   -71763.26993795  -71428.3633505\n",
      "   -71936.21809424  -71903.32769241  -71687.47854444       0.               0.\n",
      "        0.               0.               0.        ]\n",
      " [ -72044.34861124  -71723.46888697  -71152.94252961  -71417.46802246\n",
      "   -71775.90753664  -71687.47854444       0.               0.               0.\n",
      "        0.               0.               0.        ]\n",
      " [ -72007.92436246  -71550.86096094  -71039.65001637  -70953.73538738\n",
      "   -71381.34828867       0.               0.               0.               0.\n",
      "        0.               0.               0.        ]\n",
      " [ -72180.19639833  -71168.16704973  -71114.89053715  -70620.51219993\n",
      "        0.               0.               0.               0.               0.\n",
      "        0.               0.               0.        ]\n",
      " [ -72000.31207288  -71062.48716192  -70562.83740386       0.               0.\n",
      "        0.               0.               0.               0.               0.\n",
      "        0.               0.        ]\n",
      " [ -71938.07581137  -70828.55418925       0.               0.               0.\n",
      "        0.               0.               0.               0.               0.\n",
      "        0.               0.        ]\n",
      " [ -71904.20586065       0.               0.               0.               0.\n",
      "        0.               0.               0.               0.               0.\n",
      "        0.               0.        ]]\n"
     ]
    }
   ],
   "source": [
    "aa=lll\n",
    "for i in range(len(sigma_1_ls)):\n",
    "    for j in range(len(sigma_1_ls)-i):\n",
    "        aa[i,j]=lll[i,j]\n",
    "\n",
    "print aa"
   ]
  },
  {
   "cell_type": "code",
   "execution_count": 83,
   "metadata": {
    "collapsed": false
   },
   "outputs": [
    {
     "data": {
      "text/plain": [
       "<matplotlib.contour.QuadContourSet at 0x10b43ced0>"
      ]
     },
     "execution_count": 83,
     "metadata": {},
     "output_type": "execute_result"
    },
    {
     "data": {
      "image/png": "[encoded data removed]",
      "text/plain": [
       "<matplotlib.figure.Figure at 0x10b107c10>"
      ]
     },
     "metadata": {},
     "output_type": "display_data"
    }
   ],
   "source": [
    "plt.contour(sigma_1_ls, sigma_2_ls, aa)"
   ]
  },
  {
   "cell_type": "code",
   "execution_count": 47,
   "metadata": {
    "collapsed": false
   },
   "outputs": [
    {
     "data": {
      "text/plain": [
       "[<matplotlib.lines.Line2D at 0x10a0d6890>]"
      ]
     },
     "execution_count": 47,
     "metadata": {},
     "output_type": "execute_result"
    },
    {
     "data": {
      "image/png": "[encoded data removed]",
      "text/plain": [
       "<matplotlib.figure.Figure at 0x10a4dfed0>"
      ]
     },
     "metadata": {},
     "output_type": "display_data"
    }
   ],
   "source": [
    "plt.plot(likelihood[2])"
   ]
  },
  {
   "cell_type": "code",
   "execution_count": 61,
   "metadata": {
    "collapsed": false
   },
   "outputs": [
    {
     "data": {
      "text/plain": [
       "array([ 0.79235562,  0.74967464,  0.6966313 ,  0.67726613,  0.65162837,\n",
       "        0.6316576 ,  0.59717783,  0.57161846,  0.5617394 ,  0.54448033,\n",
       "        0.52601644,  0.50723859,  0.49854422,  0.48750892,  0.48389912,\n",
       "        0.47526642,  0.4669459 ,  0.4562075 ,  0.44642304,  0.44069967,\n",
       "        0.434485  ,  0.42626962,  0.41776114,  0.4137815 ,  0.4133691 ,\n",
       "        0.4109939 ,  0.41378331,  0.41475718,  0.4099588 ,  0.54525956])"
      ]
     },
     "execution_count": 61,
     "metadata": {},
     "output_type": "execute_result"
    }
   ],
   "source": [
    "np.max(sigma_ls, axis=1)"
   ]
  },
  {
   "cell_type": "code",
   "execution_count": 17,
   "metadata": {
    "collapsed": false
   },
   "outputs": [
    {
     "data": {
      "text/plain": [
       "array([[  7.07960140e-001,   8.59188572e-001],\n",
       "       [  7.10719096e-001,   8.59475913e-001],\n",
       "       [  7.13481848e-001,   8.69145125e-001],\n",
       "       [  7.13319245e-001,   8.79130649e-001],\n",
       "       [  6.99208119e-001,   8.78696070e-001],\n",
       "       [  7.19842642e-001,   8.52654375e-001],\n",
       "       [  7.23370229e-001,   8.45025472e-001],\n",
       "       [  7.18877413e-001,   8.61204214e-001],\n",
       "       [  7.18081401e-001,   8.73125521e-001],\n",
       "       [  7.07229504e-001,   8.70520288e-001],\n",
       "       [  7.17359164e-001,   8.53707834e-001],\n",
       "       [  7.12710853e-001,   8.53541669e-001],\n",
       "       [  2.37151510e-322,   1.08221785e-312],\n",
       "       [  0.00000000e+000,   2.66795449e-322],\n",
       "       [  1.20958716e-312,   0.00000000e+000],\n",
       "       [  2.96439388e-322,   1.33685735e-312],\n",
       "       [  0.00000000e+000,   3.26083326e-322],\n",
       "       [  1.46417710e-312,   2.20411637e-314],\n",
       "       [  3.55727265e-322,   1.59181405e-312],\n",
       "       [  0.00000000e+000,   2.00000012e+000]])"
      ]
     },
     "execution_count": 17,
     "metadata": {},
     "output_type": "execute_result"
    }
   ],
   "source": [
    "sigma_ls"
   ]
  },
  {
   "cell_type": "code",
   "execution_count": 18,
   "metadata": {
    "collapsed": false
   },
   "outputs": [
    {
     "data": {
      "text/plain": [
       "array([[ 0.74737257,  0.25262743],\n",
       "       [ 0.75971493,  0.24028507],\n",
       "       [ 0.80001586,  0.19998414],\n",
       "       [ 0.79999999,  0.20000001],\n",
       "       [ 0.67139587,  0.32860413],\n",
       "       [ 0.94382841,  0.05617159],\n",
       "       [ 0.81603826,  0.18396174],\n",
       "       [ 0.79999071,  0.20000929],\n",
       "       [ 0.83770903,  0.16229097],\n",
       "       [ 0.69926991,  0.30073009],\n",
       "       [ 0.8010205 ,  0.1989795 ],\n",
       "       [ 0.73124484,  0.26875516],\n",
       "       [ 0.        ,  0.        ],\n",
       "       [ 0.        ,  0.        ],\n",
       "       [ 0.        ,  0.        ],\n",
       "       [ 0.        ,  0.        ],\n",
       "       [ 0.        ,  0.        ],\n",
       "       [ 0.        ,  0.        ],\n",
       "       [ 0.        ,  0.        ],\n",
       "       [ 0.        ,  0.        ]])"
      ]
     },
     "execution_count": 18,
     "metadata": {},
     "output_type": "execute_result"
    }
   ],
   "source": [
    "pi_ls"
   ]
  },
  {
   "cell_type": "code",
   "execution_count": 19,
   "metadata": {
    "collapsed": false
   },
   "outputs": [
    {
     "data": {
      "text/plain": [
       "12"
      ]
     },
     "execution_count": 19,
     "metadata": {},
     "output_type": "execute_result"
    }
   ],
   "source": [
    "i"
   ]
  },
  {
   "cell_type": "code",
   "execution_count": 20,
   "metadata": {
    "collapsed": false
   },
   "outputs": [
    {
     "data": {
      "text/plain": [
       "array([[  1.00000000e+00,   1.00000000e+00,   1.00000000e+00,\n",
       "          1.00000000e+00,   1.00000000e+00,   1.00000000e+00,\n",
       "          1.00000000e+00,   1.00000000e+00,   1.00000000e+00,\n",
       "          1.00000000e+00,   1.12139011e-24,   9.77332989e-01,\n",
       "          7.99945585e-16,   1.00000000e+00,   7.28097685e-01,\n",
       "          1.04592584e-10,   8.42315025e-26,   9.99818187e-01,\n",
       "          9.19647944e-01,   3.03655485e-11],\n",
       "       [  2.99698197e-23,   3.67838197e-17,   1.30641907e-17,\n",
       "          1.65368158e-18,   1.29324669e-22,   7.79878317e-15,\n",
       "          3.29770694e-12,   7.62214605e-20,   9.86696068e-13,\n",
       "          5.03914463e-17,   1.00000000e+00,   2.26670110e-02,\n",
       "          1.00000000e+00,   1.60434773e-11,   2.71902315e-01,\n",
       "          1.00000000e+00,   1.00000000e+00,   1.81813485e-04,\n",
       "          8.03520556e-02,   1.00000000e+00]])"
      ]
     },
     "execution_count": 20,
     "metadata": {},
     "output_type": "execute_result"
    }
   ],
   "source": [
    "posterior_indicator"
   ]
  },
  {
   "cell_type": "code",
   "execution_count": null,
   "metadata": {
    "collapsed": true
   },
   "outputs": [],
   "source": [
    "def posterior_of_indicator(cluster, pi, Y, sigma, N, T, trial):\n",
    "    posterior_indicator = np.empty(cluster)\n",
    "    loglikelihood = np.empty(cluster)\n",
    "    w_unnormalized = []\n",
    "    for c in range(cluster):\n",
    "        P0 = sigma[c] * np.eye(1)\n",
    "        Q = sigma[c] * np.eye(1)\n",
    "        model = StdNonLin(P0, Q)\n",
    "        sim = simulator.Simulator(model,u=None,y=Y)\n",
    "        sim.simulate(N, M, filter='PF', smoother='full', meas_first=False)\n",
    "        (est_filt, w_filt) = sim.get_filtered_estimates()\n",
    "        w_unnormalized = scipy.stats.binom.pmf(np.reshape(np.repeat(Y,N),[T,N]), trial, np.exp(est_filt[1:,:,0])/(1.0 + np.exp(est_filt[1:,:,0])), loc=0)\n",
    "        loglikelihood[c] = np.sum(np.log(np.sum(w_unnormalized, axis = 1)/N))\n",
    "        #posterior_of_indicator[i] = np.exp(loglikelihood[i])*pi[i]/np.sum(np.exp(loglikelihood[i])*pi[i])\n",
    "        posterior_indicator[c] = np.exp(loglikelihood[i] + np.log(pi[i]) - np.log(np.sum(np.exp(loglikelihood[i])*pi[i])))\n",
    "    return posterior_indicator"
   ]
  },
  {
   "cell_type": "code",
   "execution_count": null,
   "metadata": {
    "collapsed": true
   },
   "outputs": [],
   "source": [
    "%%time\n",
    "sigmatmp = np.zeros([cluster,n])\n",
    "loglikelihood = np.empty([cluster,n])\n",
    "posterior_indicator = np.empty([cluster,n])\n",
    "#posterior_joint = np.empty([cluster, n])\n",
    "for j in range(n):\n",
    "    for c in range(cluster):\n",
    "        P0 = sigma[c] * np.eye(1)\n",
    "        Q = sigma[c] * np.eye(1)\n",
    "        model = StdNonLin(P0, Q)\n",
    "        sim = simulator.Simulator(model,u=None,y=Y[j,:])\n",
    "        sim.simulate(N, M, filter='PF', smoother='full', meas_first=False)\n",
    "        (est_filt, w_filt) = sim.get_filtered_estimates()\n",
    "        est_smooth = sim.get_smoothed_estimates()\n",
    "        w_unnormalized = scipy.stats.binom.pmf(np.reshape(np.repeat(Y[j,:],N),[T,N]), trial, np.exp(est_filt[1:,:,0])/(1.0 + np.exp(est_filt[1:,:,0])), loc=0)\n",
    "        loglikelihood[c,j] = np.sum(np.log(np.sum(w_unnormalized, axis = 1)/N))\n",
    "        #posterior_of_indicator[i] = np.exp(loglikelihood[i])*pi[i]/np.sum(np.exp(loglikelihood[i])*pi[i])\n",
    "        #posterior_indicator[c] = np.exp(loglikelihood[c] + np.log(pi[c]) - np.log(np.sum(np.exp(loglikelihood[c])*pi[c])))\n",
    "        #posterior_joint[c,j] = np.exp(loglikelihood[c]) * pi[c]\n",
    "        posteriorcovariance = np.array(np.diff(est_smooth[:,:,0],axis=0))**2\n",
    "        sigmatmp[c,j] = np.sum(posteriorcovariance/(M*T))\n",
    "\n",
    "for j in range(n):\n",
    "    for c in range(cluster):\n",
    "        posterior_indicator[c,j]=np.exp(loglikelihood[c,j] - np.max(loglikelihood[:,j])) * pi[c] / np.dot(np.exp(loglikelihood[:,j] - np.max(loglikelihood[:,j])), pi)\n",
    "\n",
    "for c in range(cluster):\n",
    "    sigma[c] = np.dot(sigmatmp[c,:],posterior_indicator[c,:])/np.sum(posterior_indicator[c,:])\n",
    "    pi[c] = np.sum(posterior_indicator[c,:])/np.sum(posterior_indicator)"
   ]
  },
  {
   "cell_type": "code",
   "execution_count": 75,
   "metadata": {
    "collapsed": true
   },
   "outputs": [],
   "source": [
    "P0 = sigma[0] * np.eye(1)\n",
    "Q = sigma[0] * np.eye(1)\n",
    "model = StdNonLin(P0, Q)\n",
    "sim = simulator.Simulator(model,u=None,y=Y[0,:])\n",
    "sim.simulate(N, M, filter='PF', smoother='ancestor', meas_first=False)\n",
    "(est_filt, w_filt) = sim.get_filtered_estimates()\n",
    "est_smooth = sim.get_smoothed_estimates()\n",
    "w_unnormalized = scipy.stats.binom.pmf(np.reshape(np.repeat(Y[0,:],N),[T,N]), trial, np.exp(est_filt[1:,:,0])/(1.0 + np.exp(est_filt[1:,:,0])), loc=0)\n",
    "loglikelihood[c,j] = np.sum(np.log(np.sum(w_unnormalized, axis = 1)/N))\n",
    "posteriorcovariance = np.array(np.diff(est_smooth[:,:,0],axis=0))**2\n",
    "sigmatmp = np.sum(posteriorcovariance/(M*T))"
   ]
  },
  {
   "cell_type": "code",
   "execution_count": 76,
   "metadata": {
    "collapsed": false
   },
   "outputs": [
    {
     "data": {
      "text/plain": [
       "0.19128461492363608"
      ]
     },
     "execution_count": 76,
     "metadata": {},
     "output_type": "execute_result"
    }
   ],
   "source": [
    "sigmatmp"
   ]
  },
  {
   "cell_type": "code",
   "execution_count": 57,
   "metadata": {
    "collapsed": false
   },
   "outputs": [
    {
     "data": {
      "text/plain": [
       "array([[ 0.48821698]])"
      ]
     },
     "execution_count": 57,
     "metadata": {},
     "output_type": "execute_result"
    }
   ],
   "source": []
  },
  {
   "cell_type": "code",
   "execution_count": null,
   "metadata": {
    "collapsed": true
   },
   "outputs": [],
   "source": []
  }
 ],
 "metadata": {
  "kernelspec": {
   "display_name": "Python 2",
   "language": "python",
   "name": "python2"
  },
  "language_info": {
   "codemirror_mode": {
    "name": "ipython",
    "version": 2
   },
   "file_extension": ".py",
   "mimetype": "text/x-python",
   "name": "python",
   "nbconvert_exporter": "python",
   "pygments_lexer": "ipython2",
   "version": "2.7.11"
  }
 },
 "nbformat": 4,
 "nbformat_minor": 0
}
