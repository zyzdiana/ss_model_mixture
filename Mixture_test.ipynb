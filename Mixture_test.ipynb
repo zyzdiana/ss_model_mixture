{
 "cells": [
  {
   "cell_type": "markdown",
   "metadata": {},
   "source": [
    "# Notations\n",
    "\n",
    "$(0,T]$:  The observation interval during which neuron spiking activity were recorded\n",
    "\n",
    "$N_{0,t}^i$: Sample path of spike times from the recorded i-th neuron in $(0,t]$, for $t \\in (0,T]$, $i \\in \\{1,...,n\\}$\n",
    "\n",
    "$K$: divide $(0,T]$ into $K$ intervals with width $\\Delta = \\frac{T}{K}$ such that there is at most one spike per interval\n",
    "\n",
    "$k\\Delta$: The point at which the latent process model is evaluated, for $k = 1,...,K$\n",
    "\n",
    "$y^i_k = \\Delta N_k^i$: The number of spikes at time k for i-th neuron.\n",
    "\n",
    "$H_K^i = \\{\\Delta y_{1}^i,...,\\Delta y_{K}^i\\}$: history of spiking activity in $(0,K]$ for i-th neuron\n",
    "\n",
    "$\\pi_{c_i=c}$: probability of the i-th neuron belongs to cluster c"
   ]
  },
  {
   "cell_type": "markdown",
   "metadata": {},
   "source": [
    "## Define the 1-dimensional state space model\n",
    "\n",
    "$$\\left\\{\n",
    "\\begin{array}{ll}\n",
    "      x_k^i = x_{k-1}^i + \\epsilon_k^i, \\epsilon_k \\sim N(0,\\sigma^2_{\\epsilon i}) & (a) \\\\\n",
    "      \\lambda_k^i(k\\Delta)\\Delta = \\frac{e^{x_k^i}}{1+e^{x_k^i}} & (b)\\\\\n",
    "      y_{k}^i | x_k^i \\sim Bernoulli(\\lambda_k^i(k\\Delta)\\Delta) & (c)\n",
    "\\end{array} \n",
    "\\right. $$"
   ]
  },
  {
   "cell_type": "markdown",
   "metadata": {},
   "source": [
    "\\begin{align*}\n",
    "E[\\log p(y, x, c)|y, \\theta^{(l-1)}] &= E[\\sum_{i=1}^n \\log p(y^i, x^i|c_i;\\theta_i) \\pi_{c_i} |y,\\theta^{(l-1)}]\\\\\n",
    "&= \\sum_{i=1}^n \\{E[\\log p(x^i|c_i;\\sigma^2_{\\epsilon c_i})|y^i;\\theta^{(l-1)}]] + E[\\log \\pi_{c_i}|y^i;\\theta^{(l-1)}] + E[\\log p(y^i|x^i)|y^i;\\theta^{(l-1)}]\\}\n",
    "\\end{align*}"
   ]
  },
  {
   "cell_type": "markdown",
   "metadata": {},
   "source": [
    "\\begin{align*}\n",
    "\\sum_{i=1}^n E[\\log p(x^i|c_i;\\sigma^2_{\\epsilon i})|y^i;\\theta^{(l-1)}]] &= \\sum_{i=1}^n \\sum_{c} (-\\frac{K}{2} \\log \\sigma_{\\epsilon c_i}^2 -\\frac{1}{2\\sigma_{\\epsilon c_i}^2} \\sum_{k=1}^K E[(x_k-x_{k-1})^2|c_i,y^i,\\theta^{(l-1)}]) * p(c_i=c|y^i,\\theta^{(l-1)})\\\\\n",
    "\\end{align*}"
   ]
  },
  {
   "cell_type": "markdown",
   "metadata": {},
   "source": [
    "### $p(c_i=c|y^i)=\\frac{p(y^i|c_i=c)p(c_i=c)}{\\sum_{c} p(y^i|c_i=c)p(c_i=c)}$\n",
    "\n",
    "trick: normalize $exp(\\log p(y^i|c_i=c) - \\max (\\log p(y^i|c_i \\in \\{clusters\\})))$"
   ]
  },
  {
   "cell_type": "markdown",
   "metadata": {},
   "source": [
    "### $\\sigma_{c}^2 = \\frac{\\sum_{i=1}^n \\sum_k (W_{i,k}+W_{i,k-1}-2W_{i,k,k-1})p(c_i=c|y^i,\\sigma^{(l-1)})}{K \\sum_{i=1}^n p(c_i=c|y^i,\\sigma^{(l-1)})}$\n"
   ]
  },
  {
   "cell_type": "markdown",
   "metadata": {},
   "source": [
    "### $\\pi_{c} = \\frac{\\sum_{i=1}^n p(c_i=c|y^i,\\sigma^{(l-1)})}{ \\sum_{c} \\sum_{i=1}^n p(c_i=c|y^i,\\sigma^{(l-1)})}$"
   ]
  },
  {
   "cell_type": "code",
   "execution_count": 1,
   "metadata": {
    "collapsed": false
   },
   "outputs": [],
   "source": [
    "%load_ext autoreload\n",
    "%autoreload 2\n",
    "%reload_ext autoreload"
   ]
  },
  {
   "cell_type": "code",
   "execution_count": 2,
   "metadata": {
    "collapsed": false
   },
   "outputs": [
    {
     "name": "stderr",
     "output_type": "stream",
     "text": [
      "//anaconda/lib/python2.7/site-packages/matplotlib/__init__.py:872: UserWarning: axes.color_cycle is deprecated and replaced with axes.prop_cycle; please use the latter.\n",
      "  warnings.warn(self.msg_depr % (key, alt_key))\n"
     ]
    }
   ],
   "source": [
    "%matplotlib inline\n",
    "import os\n",
    "import time\n",
    "import numpy as np\n",
    "import pandas as pd\n",
    "import sys\n",
    "import cPickle as pickle\n",
    "from   random import *\n",
    "import scipy.stats\n",
    "import matplotlib.pyplot as plt\n",
    "sys.path.insert(1,'./code')\n",
    "from visualize import plot_raw_data, get_population_data, plot_results\n",
    "from EM import TransformToProb, RunEM\n",
    "import pyparticleest.models.nlg as nlg\n",
    "import pyparticleest.simulator as simulator\n",
    "import pyparticleest.utils.kalman as kalman\n",
    "from scipy.stats import bernoulli"
   ]
  },
  {
   "cell_type": "code",
   "execution_count": 3,
   "metadata": {
    "collapsed": true
   },
   "outputs": [],
   "source": [
    "class StdNonLin(nlg.NonlinearGaussianInitialGaussian):\n",
    "    # x_{k+1} = x_k  + v_k = f(x_k) + v_k,\n",
    "    # y_k = 0 + e_k = g(x_k) + e_k,\n",
    "    # x(0) ~ N(0,P0), v_k ~ N(0,Q), e_k ~ Binom(50,\\exp(x_{k})/(1+\\exp(x_{k})))\n",
    "\n",
    "    def __init__(self, P0, Q):\n",
    "    # Set covariances in the constructor since they\n",
    "    # are constant\n",
    "        super(StdNonLin, self).__init__(Px0=P0, Q=Q)\n",
    "\n",
    "    def calc_g(self, particles, t):\n",
    "    # Calculate value of g(\\xi_t,t)\n",
    "         return np.zeros([len(particles),1])\n",
    "    \n",
    "    def calc_f(self, particles, u, t):\n",
    "    # Calculate value of f(xi_t,t)\n",
    "        return particles\n",
    "    \n",
    "    def measure(self, particles, y, t):\n",
    "        \"\"\"\n",
    "        Return the log-pdf value of the measurement\n",
    "        Args:\n",
    "         - particles  (array-like): Model specific representation\n",
    "           of all particles, with first dimension = N (number of particles)\n",
    "         - y (array-like):  measurement\n",
    "         - t (float): time-stamp\n",
    "        Returns:\n",
    "         (array-like) with first dimension = N, logp(y|x^i)\n",
    "        \"\"\"\n",
    "        N = len(particles)\n",
    "#         lpy = np.empty(N)\n",
    "#         g = self.calc_g(particles=particles, t=t)\n",
    " \n",
    "\n",
    "#         if (g is None):\n",
    "#             g = np.repeat(self.g.reshape((1, -1, 1)), N, 0)\n",
    "#         else:\n",
    "#             g = g.reshape((N, -1, 1))\n",
    "        yrep = np.repeat(np.asarray(y), N, 0)\n",
    "    \n",
    "        lpy = scipy.stats.binom.logpmf(yrep,50,np.exp(particles[:,0])/(1.0 + np.exp(particles[:,0])),loc=0)\n",
    "    \n",
    "        return lpy"
   ]
  },
  {
   "cell_type": "code",
   "execution_count": 4,
   "metadata": {
    "collapsed": false
   },
   "outputs": [],
   "source": [
    "# Forward particles\n",
    "N = 100\n",
    "# Backward trajectories\n",
    "M = 30\n",
    "# trials\n",
    "trial = 50\n",
    "# cluster\n",
    "cluster = 2\n",
    "#iterations\n",
    "iteration = 10\n",
    "#\n",
    "sigma_ls = np.empty([iteration,cluster])\n",
    "pi_ls = np.empty([iteration,cluster])"
   ]
  },
  {
   "cell_type": "code",
   "execution_count": 5,
   "metadata": {
    "collapsed": false
   },
   "outputs": [],
   "source": [
    "mat = np.loadtxt('train_data.txt')\n",
    "Y = mat[:,1:]\n",
    "T = Y.shape[1]\n",
    "n = Y.shape[0]"
   ]
  },
  {
   "cell_type": "code",
   "execution_count": 6,
   "metadata": {
    "collapsed": true
   },
   "outputs": [],
   "source": [
    "pi=[0.5,0.5]"
   ]
  },
  {
   "cell_type": "code",
   "execution_count": 7,
   "metadata": {
    "collapsed": true
   },
   "outputs": [],
   "source": [
    "sigma=[0.2,0.3]"
   ]
  },
  {
   "cell_type": "code",
   "execution_count": 35,
   "metadata": {
    "collapsed": true
   },
   "outputs": [],
   "source": [
    "#for j in range(n):\n",
    "#    posterior_of_indicator(cluster, pi, Y[j,:], sigma, N, T, trial)"
   ]
  },
  {
   "cell_type": "code",
   "execution_count": 53,
   "metadata": {
    "collapsed": false
   },
   "outputs": [
    {
     "data": {
      "text/plain": [
       "(20, 3000)"
      ]
     },
     "execution_count": 53,
     "metadata": {},
     "output_type": "execute_result"
    }
   ],
   "source": []
  },
  {
   "cell_type": "code",
   "execution_count": null,
   "metadata": {
    "collapsed": false
   },
   "outputs": [],
   "source": [
    "%%time\n",
    "sigmatmp = np.zeros([cluster,n])\n",
    "loglikelihood = np.empty([cluster,n])\n",
    "posterior_indicator = np.empty([cluster,n])\n",
    "for i in range(iteration):\n",
    "    for j in range(n):\n",
    "        for c in range(cluster):\n",
    "            P0 = sigma[c] * np.eye(1)\n",
    "            Q = sigma[c] * np.eye(1)\n",
    "            model = StdNonLin(P0, Q)\n",
    "            sim = simulator.Simulator(model,u=None,y=Y[j,:])\n",
    "            sim.simulate(N, M, filter='PF', smoother='ancestor', meas_first=False)\n",
    "            (est_filt, w_filt) = sim.get_filtered_estimates()\n",
    "            est_smooth = sim.get_smoothed_estimates()\n",
    "            w_unnormalized = scipy.stats.binom.pmf(np.reshape(np.repeat(Y[j,:],N),[T,N]), trial, np.exp(est_filt[1:,:,0])/(1.0 + np.exp(est_filt[1:,:,0])), loc=0)\n",
    "            loglikelihood[c,j] = np.sum(np.log(np.sum(w_unnormalized, axis = 1)/N))\n",
    "            posteriorcovariance = np.array(np.diff(est_smooth[:,:,0],axis=0))**2\n",
    "            sigmatmp[c,j] = np.sum(posteriorcovariance/(M*T))\n",
    "\n",
    "\n",
    "    posterior_indicator = np.exp(loglikelihood - np.max(loglikelihood, axis=0)) * np.reshape(np.repeat(pi,20),(2,20))\n",
    "    posterior_indicator = posterior_indicator/np.sum(posterior_indicator, axis=0)\n",
    "    pii = np.sum(posterior_indicator,axis=1)/np.sum(posterior_indicator)\n",
    "    sigma = np.sum(sigmatmp * posterior_indicator, axis=1)/np.sum(posterior_indicator,axis=1)\n",
    "    sigma_ls[i,:]=sigma\n",
    "    pi_ls[i,:]=pii"
   ]
  },
  {
   "cell_type": "code",
   "execution_count": 47,
   "metadata": {
    "collapsed": false
   },
   "outputs": [
    {
     "data": {
      "text/plain": [
       "array([[ 0.53891569,  0.48040307,  0.452297  ,  0.49260845,  0.44286219,\n",
       "         0.45651843,  0.47465474,  0.47526403,  0.484885  ,  0.47472063,\n",
       "         0.56981627,  0.53362058,  0.53505096,  0.53370316,  0.51525393,\n",
       "         0.49620973,  0.50787046,  0.52801137,  0.54531409,  0.5436029 ],\n",
       "       [ 0.54000846,  0.56199093,  0.53189763,  0.58434475,  0.51659312,\n",
       "         0.540427  ,  0.55883366,  0.56162608,  0.57882836,  0.54664204,\n",
       "         0.67441574,  0.62151396,  0.63619943,  0.62825799,  0.61221338,\n",
       "         0.58713782,  0.59155165,  0.62273077,  0.64418348,  0.63130678]])"
      ]
     },
     "execution_count": 47,
     "metadata": {},
     "output_type": "execute_result"
    }
   ],
   "source": [
    "sigmatmp"
   ]
  },
  {
   "cell_type": "code",
   "execution_count": 49,
   "metadata": {
    "collapsed": false
   },
   "outputs": [
    {
     "data": {
      "text/plain": [
       "array([ 0.48821698,  0.62007522])"
      ]
     },
     "execution_count": 49,
     "metadata": {},
     "output_type": "execute_result"
    }
   ],
   "source": [
    "sigma"
   ]
  },
  {
   "cell_type": "code",
   "execution_count": 39,
   "metadata": {
    "collapsed": false
   },
   "outputs": [
    {
     "data": {
      "text/plain": [
       "array([ 0.7117355 ,  0.85354167])"
      ]
     },
     "execution_count": 39,
     "metadata": {},
     "output_type": "execute_result"
    }
   ],
   "source": [
    "np.sum(sigmatmp * posterior_indicator, axis=1)/np.sum(posterior_indicator,axis=1)"
   ]
  },
  {
   "cell_type": "code",
   "execution_count": 218,
   "metadata": {
    "collapsed": false
   },
   "outputs": [
    {
     "name": "stderr",
     "output_type": "stream",
     "text": [
      "//anaconda/lib/python2.7/site-packages/matplotlib/axes/_axes.py:519: UserWarning: No labelled objects found. Use label='...' kwarg on individual plots.\n",
      "  warnings.warn(\"No labelled objects found. \"\n"
     ]
    },
    {
     "data": {
      "image/png": "[encoded data removed]",
      "text/plain": [
       "<matplotlib.figure.Figure at 0x10b19cdd0>"
      ]
     },
     "metadata": {},
     "output_type": "display_data"
    }
   ],
   "source": [
    "plt.plot(sigma_ls, '-',linewidth=2.0)\n",
    "plt.xlabel('iterations')\n",
    "plt.legend(loc='best')"
   ]
  },
  {
   "cell_type": "code",
   "execution_count": 219,
   "metadata": {
    "collapsed": false
   },
   "outputs": [
    {
     "data": {
      "image/png": "[encoded data removed]",
      "text/plain": [
       "<matplotlib.figure.Figure at 0x10af62d90>"
      ]
     },
     "metadata": {},
     "output_type": "display_data"
    }
   ],
   "source": [
    "plt.plot(pi_ls, '-',linewidth=2.0)\n",
    "plt.xlabel('iterations')\n",
    "plt.legend(loc='best')"
   ]
  },
  {
   "cell_type": "code",
   "execution_count": 17,
   "metadata": {
    "collapsed": false
   },
   "outputs": [
    {
     "data": {
      "text/plain": [
       "array([[  7.07960140e-001,   8.59188572e-001],\n",
       "       [  7.10719096e-001,   8.59475913e-001],\n",
       "       [  7.13481848e-001,   8.69145125e-001],\n",
       "       [  7.13319245e-001,   8.79130649e-001],\n",
       "       [  6.99208119e-001,   8.78696070e-001],\n",
       "       [  7.19842642e-001,   8.52654375e-001],\n",
       "       [  7.23370229e-001,   8.45025472e-001],\n",
       "       [  7.18877413e-001,   8.61204214e-001],\n",
       "       [  7.18081401e-001,   8.73125521e-001],\n",
       "       [  7.07229504e-001,   8.70520288e-001],\n",
       "       [  7.17359164e-001,   8.53707834e-001],\n",
       "       [  7.12710853e-001,   8.53541669e-001],\n",
       "       [  2.37151510e-322,   1.08221785e-312],\n",
       "       [  0.00000000e+000,   2.66795449e-322],\n",
       "       [  1.20958716e-312,   0.00000000e+000],\n",
       "       [  2.96439388e-322,   1.33685735e-312],\n",
       "       [  0.00000000e+000,   3.26083326e-322],\n",
       "       [  1.46417710e-312,   2.20411637e-314],\n",
       "       [  3.55727265e-322,   1.59181405e-312],\n",
       "       [  0.00000000e+000,   2.00000012e+000]])"
      ]
     },
     "execution_count": 17,
     "metadata": {},
     "output_type": "execute_result"
    }
   ],
   "source": [
    "sigma_ls"
   ]
  },
  {
   "cell_type": "code",
   "execution_count": 18,
   "metadata": {
    "collapsed": false
   },
   "outputs": [
    {
     "data": {
      "text/plain": [
       "array([[ 0.74737257,  0.25262743],\n",
       "       [ 0.75971493,  0.24028507],\n",
       "       [ 0.80001586,  0.19998414],\n",
       "       [ 0.79999999,  0.20000001],\n",
       "       [ 0.67139587,  0.32860413],\n",
       "       [ 0.94382841,  0.05617159],\n",
       "       [ 0.81603826,  0.18396174],\n",
       "       [ 0.79999071,  0.20000929],\n",
       "       [ 0.83770903,  0.16229097],\n",
       "       [ 0.69926991,  0.30073009],\n",
       "       [ 0.8010205 ,  0.1989795 ],\n",
       "       [ 0.73124484,  0.26875516],\n",
       "       [ 0.        ,  0.        ],\n",
       "       [ 0.        ,  0.        ],\n",
       "       [ 0.        ,  0.        ],\n",
       "       [ 0.        ,  0.        ],\n",
       "       [ 0.        ,  0.        ],\n",
       "       [ 0.        ,  0.        ],\n",
       "       [ 0.        ,  0.        ],\n",
       "       [ 0.        ,  0.        ]])"
      ]
     },
     "execution_count": 18,
     "metadata": {},
     "output_type": "execute_result"
    }
   ],
   "source": [
    "pi_ls"
   ]
  },
  {
   "cell_type": "code",
   "execution_count": 19,
   "metadata": {
    "collapsed": false
   },
   "outputs": [
    {
     "data": {
      "text/plain": [
       "12"
      ]
     },
     "execution_count": 19,
     "metadata": {},
     "output_type": "execute_result"
    }
   ],
   "source": [
    "i"
   ]
  },
  {
   "cell_type": "code",
   "execution_count": 20,
   "metadata": {
    "collapsed": false
   },
   "outputs": [
    {
     "data": {
      "text/plain": [
       "array([[  1.00000000e+00,   1.00000000e+00,   1.00000000e+00,\n",
       "          1.00000000e+00,   1.00000000e+00,   1.00000000e+00,\n",
       "          1.00000000e+00,   1.00000000e+00,   1.00000000e+00,\n",
       "          1.00000000e+00,   1.12139011e-24,   9.77332989e-01,\n",
       "          7.99945585e-16,   1.00000000e+00,   7.28097685e-01,\n",
       "          1.04592584e-10,   8.42315025e-26,   9.99818187e-01,\n",
       "          9.19647944e-01,   3.03655485e-11],\n",
       "       [  2.99698197e-23,   3.67838197e-17,   1.30641907e-17,\n",
       "          1.65368158e-18,   1.29324669e-22,   7.79878317e-15,\n",
       "          3.29770694e-12,   7.62214605e-20,   9.86696068e-13,\n",
       "          5.03914463e-17,   1.00000000e+00,   2.26670110e-02,\n",
       "          1.00000000e+00,   1.60434773e-11,   2.71902315e-01,\n",
       "          1.00000000e+00,   1.00000000e+00,   1.81813485e-04,\n",
       "          8.03520556e-02,   1.00000000e+00]])"
      ]
     },
     "execution_count": 20,
     "metadata": {},
     "output_type": "execute_result"
    }
   ],
   "source": [
    "posterior_indicator"
   ]
  },
  {
   "cell_type": "code",
   "execution_count": null,
   "metadata": {
    "collapsed": true
   },
   "outputs": [],
   "source": [
    "def posterior_of_indicator(cluster, pi, Y, sigma, N, T, trial):\n",
    "    posterior_indicator = np.empty(cluster)\n",
    "    loglikelihood = np.empty(cluster)\n",
    "    w_unnormalized = []\n",
    "    for c in range(cluster):\n",
    "        P0 = sigma[c] * np.eye(1)\n",
    "        Q = sigma[c] * np.eye(1)\n",
    "        model = StdNonLin(P0, Q)\n",
    "        sim = simulator.Simulator(model,u=None,y=Y)\n",
    "        sim.simulate(N, M, filter='PF', smoother='full', meas_first=False)\n",
    "        (est_filt, w_filt) = sim.get_filtered_estimates()\n",
    "        w_unnormalized = scipy.stats.binom.pmf(np.reshape(np.repeat(Y,N),[T,N]), trial, np.exp(est_filt[1:,:,0])/(1.0 + np.exp(est_filt[1:,:,0])), loc=0)\n",
    "        loglikelihood[c] = np.sum(np.log(np.sum(w_unnormalized, axis = 1)/N))\n",
    "        #posterior_of_indicator[i] = np.exp(loglikelihood[i])*pi[i]/np.sum(np.exp(loglikelihood[i])*pi[i])\n",
    "        posterior_indicator[c] = np.exp(loglikelihood[i] + np.log(pi[i]) - np.log(np.sum(np.exp(loglikelihood[i])*pi[i])))\n",
    "    return posterior_indicator"
   ]
  },
  {
   "cell_type": "code",
   "execution_count": null,
   "metadata": {
    "collapsed": true
   },
   "outputs": [],
   "source": [
    "%%time\n",
    "sigmatmp = np.zeros([cluster,n])\n",
    "loglikelihood = np.empty([cluster,n])\n",
    "posterior_indicator = np.empty([cluster,n])\n",
    "#posterior_joint = np.empty([cluster, n])\n",
    "for j in range(n):\n",
    "    for c in range(cluster):\n",
    "        P0 = sigma[c] * np.eye(1)\n",
    "        Q = sigma[c] * np.eye(1)\n",
    "        model = StdNonLin(P0, Q)\n",
    "        sim = simulator.Simulator(model,u=None,y=Y[j,:])\n",
    "        sim.simulate(N, M, filter='PF', smoother='full', meas_first=False)\n",
    "        (est_filt, w_filt) = sim.get_filtered_estimates()\n",
    "        est_smooth = sim.get_smoothed_estimates()\n",
    "        w_unnormalized = scipy.stats.binom.pmf(np.reshape(np.repeat(Y[j,:],N),[T,N]), trial, np.exp(est_filt[1:,:,0])/(1.0 + np.exp(est_filt[1:,:,0])), loc=0)\n",
    "        loglikelihood[c,j] = np.sum(np.log(np.sum(w_unnormalized, axis = 1)/N))\n",
    "        #posterior_of_indicator[i] = np.exp(loglikelihood[i])*pi[i]/np.sum(np.exp(loglikelihood[i])*pi[i])\n",
    "        #posterior_indicator[c] = np.exp(loglikelihood[c] + np.log(pi[c]) - np.log(np.sum(np.exp(loglikelihood[c])*pi[c])))\n",
    "        #posterior_joint[c,j] = np.exp(loglikelihood[c]) * pi[c]\n",
    "        posteriorcovariance = np.array(np.diff(est_smooth[:,:,0],axis=0))**2\n",
    "        sigmatmp[c,j] = np.sum(posteriorcovariance/(M*T))\n",
    "\n",
    "for j in range(n):\n",
    "    for c in range(cluster):\n",
    "        posterior_indicator[c,j]=np.exp(loglikelihood[c,j] - np.max(loglikelihood[:,j])) * pi[c] / np.dot(np.exp(loglikelihood[:,j] - np.max(loglikelihood[:,j])), pi)\n",
    "\n",
    "for c in range(cluster):\n",
    "    sigma[c] = np.dot(sigmatmp[c,:],posterior_indicator[c,:])/np.sum(posterior_indicator[c,:])\n",
    "    pi[c] = np.sum(posterior_indicator[c,:])/np.sum(posterior_indicator)"
   ]
  },
  {
   "cell_type": "code",
   "execution_count": 75,
   "metadata": {
    "collapsed": true
   },
   "outputs": [],
   "source": [
    "P0 = sigma[0] * np.eye(1)\n",
    "Q = sigma[0] * np.eye(1)\n",
    "model = StdNonLin(P0, Q)\n",
    "sim = simulator.Simulator(model,u=None,y=Y[0,:])\n",
    "sim.simulate(N, M, filter='PF', smoother='ancestor', meas_first=False)\n",
    "(est_filt, w_filt) = sim.get_filtered_estimates()\n",
    "est_smooth = sim.get_smoothed_estimates()\n",
    "w_unnormalized = scipy.stats.binom.pmf(np.reshape(np.repeat(Y[0,:],N),[T,N]), trial, np.exp(est_filt[1:,:,0])/(1.0 + np.exp(est_filt[1:,:,0])), loc=0)\n",
    "loglikelihood[c,j] = np.sum(np.log(np.sum(w_unnormalized, axis = 1)/N))\n",
    "posteriorcovariance = np.array(np.diff(est_smooth[:,:,0],axis=0))**2\n",
    "sigmatmp = np.sum(posteriorcovariance/(M*T))"
   ]
  },
  {
   "cell_type": "code",
   "execution_count": 76,
   "metadata": {
    "collapsed": false
   },
   "outputs": [
    {
     "data": {
      "text/plain": [
       "0.19128461492363608"
      ]
     },
     "execution_count": 76,
     "metadata": {},
     "output_type": "execute_result"
    }
   ],
   "source": [
    "sigmatmp"
   ]
  },
  {
   "cell_type": "code",
   "execution_count": 57,
   "metadata": {
    "collapsed": false
   },
   "outputs": [
    {
     "data": {
      "text/plain": [
       "array([[ 0.48821698]])"
      ]
     },
     "execution_count": 57,
     "metadata": {},
     "output_type": "execute_result"
    }
   ],
   "source": []
  },
  {
   "cell_type": "code",
   "execution_count": null,
   "metadata": {
    "collapsed": true
   },
   "outputs": [],
   "source": []
  }
 ],
 "metadata": {
  "kernelspec": {
   "display_name": "Python 2",
   "language": "python",
   "name": "python2"
  },
  "language_info": {
   "codemirror_mode": {
    "name": "ipython",
    "version": 2
   },
   "file_extension": ".py",
   "mimetype": "text/x-python",
   "name": "python",
   "nbconvert_exporter": "python",
   "pygments_lexer": "ipython2",
   "version": "2.7.11"
  }
 },
 "nbformat": 4,
 "nbformat_minor": 0
}
