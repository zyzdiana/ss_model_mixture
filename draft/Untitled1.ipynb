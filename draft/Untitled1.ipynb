{
 "cells": [
  {
   "cell_type": "code",
   "execution_count": 1,
   "metadata": {
    "collapsed": false
   },
   "outputs": [],
   "source": [
    "%load_ext autoreload\n",
    "%autoreload \n",
    "%reload_ext autoreload"
   ]
  },
  {
   "cell_type": "code",
   "execution_count": 2,
   "metadata": {
    "collapsed": false
   },
   "outputs": [],
   "source": [
    "import os\n",
    "os.getcwd()\n",
    "import sys\n",
    "import numpy as np\n",
    "# sys.path.insert(1,'/Users/zyzrdfz/Documents/ss_model_mixture/Cython_Code')\n",
    "sys.path.insert(1,'/Users/zyzrdfz/Desktop/gwungwun/gsl-2.1/CythonGSL')\n",
    "from random1 import resample\n",
    "from random1 import randomnumber\n",
    "from random1 import smoothing\n",
    "import cPickle as pickle"
   ]
  },
  {
   "cell_type": "code",
   "execution_count": 4,
   "metadata": {
    "collapsed": false
   },
   "outputs": [
    {
     "data": {
      "text/plain": [
       "0.6241874098777771"
      ]
     },
     "execution_count": 4,
     "metadata": {},
     "output_type": "execute_result"
    }
   ],
   "source": [
    "randomnumber()"
   ]
  },
  {
   "cell_type": "code",
   "execution_count": 3,
   "metadata": {
    "collapsed": true
   },
   "outputs": [],
   "source": [
    "from numpy import *\n",
    "from numpy.random import *\n",
    "%matplotlib inline\n",
    "import os\n",
    "import time\n",
    "import numpy as np\n",
    "import pandas as pd\n",
    "import sys\n",
    "import cPickle as pickle\n",
    "from   random import *\n",
    "import scipy.stats\n",
    "import matplotlib.pyplot as plt\n",
    "import pyparticleest.utils.kalman as kalman\n",
    "\n",
    "import numpy as np\n",
    "import scipy as sp\n",
    "import scipy.special\n",
    "import scipy.linalg"
   ]
  },
  {
   "cell_type": "code",
   "execution_count": 46,
   "metadata": {
    "collapsed": false
   },
   "outputs": [],
   "source": [
    "#from fastloop import rbf_network\n",
    "from fastloop import smoothing\n",
    "from fastloop import resample\n",
    "from fastloop import smoothing2"
   ]
  },
  {
   "cell_type": "code",
   "execution_count": 4,
   "metadata": {
    "collapsed": false
   },
   "outputs": [],
   "source": [
    "T = int(3000)\n",
    "N = 1000\n",
    "M = 30\n",
    "Q = 0.5"
   ]
  },
  {
   "cell_type": "code",
   "execution_count": 5,
   "metadata": {
    "collapsed": false
   },
   "outputs": [],
   "source": [
    "X = pickle.load(open('/Users/zyzrdfz/Desktop/gwungwun/cythontest_X.p','rb'))\n",
    "W = pickle.load(open('/Users/zyzrdfz/Desktop/gwungwun/cythontest_W.p','rb'))"
   ]
  },
  {
   "cell_type": "code",
   "execution_count": 6,
   "metadata": {
    "collapsed": false
   },
   "outputs": [
    {
     "data": {
      "text/plain": [
       "(3000, 1000)"
      ]
     },
     "execution_count": 6,
     "metadata": {},
     "output_type": "execute_result"
    }
   ],
   "source": [
    "W.shape"
   ]
  },
  {
   "cell_type": "code",
   "execution_count": 7,
   "metadata": {
    "collapsed": false
   },
   "outputs": [
    {
     "ename": "TypeError",
     "evalue": "unsupported operand type(s) for /: 'random1._memoryviewslice' and 'float'",
     "output_type": "error",
     "traceback": [
      "\u001b[0;31m---------------------------------------------------------------------------\u001b[0m",
      "\u001b[0;31mTypeError\u001b[0m                                 Traceback (most recent call last)",
      "\u001b[0;32m<ipython-input-7-69a7a1fb2a3c>\u001b[0m in \u001b[0;36m<module>\u001b[0;34m()\u001b[0m\n\u001b[1;32m      1\u001b[0m \u001b[0;31m#%%time\u001b[0m\u001b[0;34m\u001b[0m\u001b[0;34m\u001b[0m\u001b[0m\n\u001b[0;32m----> 2\u001b[0;31m \u001b[0mest_smooth\u001b[0m \u001b[0;34m=\u001b[0m \u001b[0msmoothing\u001b[0m\u001b[0;34m(\u001b[0m\u001b[0mT\u001b[0m\u001b[0;34m,\u001b[0m \u001b[0mN\u001b[0m\u001b[0;34m,\u001b[0m \u001b[0mQ\u001b[0m\u001b[0;34m,\u001b[0m \u001b[0mM\u001b[0m\u001b[0;34m,\u001b[0m \u001b[0mX\u001b[0m\u001b[0;34m)\u001b[0m\u001b[0;34m\u001b[0m\u001b[0m\n\u001b[0m",
      "\u001b[0;32m/Users/zyzrdfz/Desktop/gwungwun/gsl-2.1/CythonGSL/random1.pyx\u001b[0m in \u001b[0;36mrandom1.smoothing (random1.c:3954)\u001b[0;34m()\u001b[0m\n\u001b[1;32m    111\u001b[0m                                 \u001b[0mw_back\u001b[0m\u001b[0;34m[\u001b[0m\u001b[0mk\u001b[0m\u001b[0;34m]\u001b[0m \u001b[0;34m=\u001b[0m \u001b[0mexp\u001b[0m\u001b[0;34m(\u001b[0m \u001b[0;34m-\u001b[0m\u001b[0;34m(\u001b[0m\u001b[0msmoother\u001b[0m\u001b[0;34m[\u001b[0m\u001b[0mt\u001b[0m\u001b[0;34m+\u001b[0m\u001b[0;36m1\u001b[0m\u001b[0;34m,\u001b[0m\u001b[0mj\u001b[0m\u001b[0;34m]\u001b[0m\u001b[0;34m-\u001b[0m\u001b[0mX\u001b[0m\u001b[0;34m[\u001b[0m\u001b[0mt\u001b[0m\u001b[0;34m+\u001b[0m\u001b[0;36m1\u001b[0m\u001b[0;34m,\u001b[0m\u001b[0mk\u001b[0m\u001b[0;34m]\u001b[0m\u001b[0;34m)\u001b[0m \u001b[0;34m**\u001b[0m \u001b[0;36m2\u001b[0m \u001b[0;34m/\u001b[0m \u001b[0;34m(\u001b[0m\u001b[0;36m2\u001b[0m \u001b[0;34m*\u001b[0m \u001b[0mQ\u001b[0m\u001b[0;34m)\u001b[0m\u001b[0;34m)\u001b[0m\u001b[0;34m\u001b[0m\u001b[0m\n\u001b[1;32m    112\u001b[0m                                 \u001b[0mw_back_sum\u001b[0m \u001b[0;34m+=\u001b[0m \u001b[0mw_back\u001b[0m\u001b[0;34m[\u001b[0m\u001b[0mk\u001b[0m\u001b[0;34m]\u001b[0m\u001b[0;34m\u001b[0m\u001b[0m\n\u001b[0;32m--> 113\u001b[0;31m                         \u001b[0mW_BACK\u001b[0m \u001b[0;34m=\u001b[0m \u001b[0mw_back\u001b[0m\u001b[0;34m/\u001b[0m\u001b[0mw_back_sum\u001b[0m\u001b[0;34m\u001b[0m\u001b[0m\n\u001b[0m\u001b[1;32m    114\u001b[0m                         \u001b[0;32mprint\u001b[0m \u001b[0mW_BACK\u001b[0m\u001b[0;34m.\u001b[0m\u001b[0mshape\u001b[0m\u001b[0;34m\u001b[0m\u001b[0m\n\u001b[1;32m    115\u001b[0m                         \u001b[0;32mfor\u001b[0m \u001b[0mkk\u001b[0m \u001b[0;32min\u001b[0m \u001b[0mrange\u001b[0m\u001b[0;34m(\u001b[0m\u001b[0mN\u001b[0m\u001b[0;34m-\u001b[0m\u001b[0;36m1\u001b[0m\u001b[0;34m)\u001b[0m\u001b[0;34m:\u001b[0m\u001b[0;34m\u001b[0m\u001b[0m\n",
      "\u001b[0;31mTypeError\u001b[0m: unsupported operand type(s) for /: 'random1._memoryviewslice' and 'float'"
     ]
    }
   ],
   "source": [
    "#%%time\n",
    "est_smooth = smoothing(T, N, Q, M, X)"
   ]
  },
  {
   "cell_type": "code",
   "execution_count": 9,
   "metadata": {
    "collapsed": false
   },
   "outputs": [
    {
     "data": {
      "text/plain": [
       "array([[-2.7674504 , -3.285055  , -2.91657443, ..., -2.53434035,\n",
       "        -3.04496882, -2.77653866],\n",
       "       [-3.51488754, -5.16863189, -4.51701407, ..., -3.35713287,\n",
       "        -3.2556692 , -2.81855726],\n",
       "       [-3.42026676, -3.731982  , -4.26574268, ..., -3.41069978,\n",
       "        -3.1876251 , -3.33200804],\n",
       "       ..., \n",
       "       [-4.42995075, -3.97003271, -5.09376443, ..., -5.05850679,\n",
       "        -4.58685431, -4.10197147],\n",
       "       [-3.72232674, -3.4942797 , -5.18782123, ..., -4.2135175 ,\n",
       "        -4.30836981, -3.52692435],\n",
       "       [-4.21791424, -4.28286872, -4.22269466, ..., -4.0396963 ,\n",
       "        -4.24663816, -3.88786443]])"
      ]
     },
     "execution_count": 9,
     "metadata": {},
     "output_type": "execute_result"
    }
   ],
   "source": [
    "np.array(est_smooth)"
   ]
  },
  {
   "cell_type": "code",
   "execution_count": 9,
   "metadata": {
    "collapsed": false
   },
   "outputs": [
    {
     "data": {
      "text/plain": [
       "array([[-3.58599052, -1.57833878, -5.06845376, ..., -3.79846917,\n",
       "        -3.50143273, -3.78907536],\n",
       "       [-5.22802115, -3.00531033, -3.49855933, ..., -3.8559048 ,\n",
       "        -3.71812945, -3.67619527],\n",
       "       [-5.42531827, -3.61329493, -3.66808465, ..., -3.731982  ,\n",
       "        -4.58805402, -3.08163317],\n",
       "       ..., \n",
       "       [-5.41232416, -4.71947594, -4.87737391, ..., -4.47219407,\n",
       "        -2.85330082, -5.33659004],\n",
       "       [-4.65474076, -3.76227659, -4.55972138, ..., -3.86144444,\n",
       "        -2.97665095, -5.6323049 ],\n",
       "       [-4.7885235 , -3.61409715, -4.40073762, ..., -4.03029284,\n",
       "        -3.25198859, -5.38470595]])"
      ]
     },
     "execution_count": 9,
     "metadata": {},
     "output_type": "execute_result"
    }
   ],
   "source": [
    "np.array(est_smooth)"
   ]
  },
  {
   "cell_type": "code",
   "execution_count": 25,
   "metadata": {
    "collapsed": true
   },
   "outputs": [],
   "source": [
    "l=0\n",
    "j=0"
   ]
  },
  {
   "cell_type": "code",
   "execution_count": 26,
   "metadata": {
    "collapsed": false
   },
   "outputs": [],
   "source": [
    "multinomialsamples = np.random.multinomial(M, W[T-1,:])"
   ]
  },
  {
   "cell_type": "code",
   "execution_count": 29,
   "metadata": {
    "collapsed": false
   },
   "outputs": [
    {
     "data": {
      "text/plain": [
       "(array([ 16,  27,  29,  64,  66, 167, 206, 258, 290, 291, 309, 394, 415,\n",
       "        440, 472, 501, 518, 525, 564, 569, 617, 628, 638, 669, 680, 723,\n",
       "        744, 983, 985]),)"
      ]
     },
     "execution_count": 29,
     "metadata": {},
     "output_type": "execute_result"
    }
   ],
   "source": [
    "np.nonzero(multinomialsamples)"
   ]
  },
  {
   "cell_type": "code",
   "execution_count": 9,
   "metadata": {
    "collapsed": false
   },
   "outputs": [
    {
     "data": {
      "text/plain": [
       "(array([ 83, 105, 120, 130, 167, 196, 209, 263, 274, 291, 359, 372, 395,\n",
       "        414, 502, 508, 518, 723, 779, 801, 840, 868, 886, 896, 926, 939,\n",
       "        986, 987, 998]),)"
      ]
     },
     "execution_count": 9,
     "metadata": {},
     "output_type": "execute_result"
    }
   ],
   "source": [
    "while j<= M:\n",
    "    while multinomialsamples[l] == 0:\n",
    "        l +=1\n",
    "    smoother[T-1,j] = multinomialsamples[l]\n",
    "    j +=1"
   ]
  },
  {
   "cell_type": "code",
   "execution_count": 27,
   "metadata": {
    "collapsed": false
   },
   "outputs": [
    {
     "name": "stdout",
     "output_type": "stream",
     "text": [
      "17\n",
      "28\n",
      "30\n",
      "65\n",
      "67\n",
      "168\n",
      "207\n",
      "259\n",
      "291\n",
      "292\n",
      "310\n",
      "395\n",
      "416\n",
      "441\n",
      "473\n",
      "502\n",
      "519\n",
      "526\n",
      "565\n",
      "570\n",
      "618\n",
      "629\n",
      "639\n",
      "670\n",
      "681\n",
      "724\n",
      "745\n",
      "984\n",
      "986\n"
     ]
    },
    {
     "ename": "IndexError",
     "evalue": "index 1000 is out of bounds for axis 0 with size 1000",
     "output_type": "error",
     "traceback": [
      "\u001b[0;31m---------------------------------------------------------------------------\u001b[0m",
      "\u001b[0;31mIndexError\u001b[0m                                Traceback (most recent call last)",
      "\u001b[0;32m<ipython-input-27-b2ac5b693abb>\u001b[0m in \u001b[0;36m<module>\u001b[0;34m()\u001b[0m\n\u001b[1;32m      1\u001b[0m \u001b[0;32mwhile\u001b[0m \u001b[0mj\u001b[0m\u001b[0;34m<\u001b[0m \u001b[0mM\u001b[0m\u001b[0;34m:\u001b[0m\u001b[0;34m\u001b[0m\u001b[0m\n\u001b[0;32m----> 2\u001b[0;31m     \u001b[0;32mwhile\u001b[0m \u001b[0mmultinomialsamples\u001b[0m\u001b[0;34m[\u001b[0m\u001b[0ml\u001b[0m\u001b[0;34m]\u001b[0m \u001b[0;34m==\u001b[0m \u001b[0;36m0\u001b[0m\u001b[0;34m:\u001b[0m\u001b[0;34m\u001b[0m\u001b[0m\n\u001b[0m\u001b[1;32m      3\u001b[0m         \u001b[0ml\u001b[0m \u001b[0;34m+=\u001b[0m\u001b[0;36m1\u001b[0m\u001b[0;34m\u001b[0m\u001b[0m\n\u001b[1;32m      4\u001b[0m     \u001b[0ml\u001b[0m \u001b[0;34m+=\u001b[0m\u001b[0;36m1\u001b[0m\u001b[0;34m\u001b[0m\u001b[0m\n\u001b[1;32m      5\u001b[0m     \u001b[0;32mprint\u001b[0m \u001b[0ml\u001b[0m\u001b[0;34m\u001b[0m\u001b[0m\n",
      "\u001b[0;31mIndexError\u001b[0m: index 1000 is out of bounds for axis 0 with size 1000"
     ]
    }
   ],
   "source": [
    "while j< M:\n",
    "    while multinomialsamples[l] == 0:\n",
    "        l +=1\n",
    "    l +=1\n",
    "    print l\n",
    "    smoother[T-1,j] = X[T,l]\n",
    "    j +=1"
   ]
  },
  {
   "cell_type": "code",
   "execution_count": 23,
   "metadata": {
    "collapsed": false
   },
   "outputs": [
    {
     "data": {
      "text/plain": [
       "array([-5.18788613, -5.18788613, -5.18788613, -5.18788613, -5.18788613,\n",
       "       -5.18788613, -5.18788613, -5.18788613, -5.18788613, -5.18788613,\n",
       "       -5.18788613, -5.18788613, -5.18788613, -5.18788613, -5.18788613,\n",
       "       -5.18788613, -5.18788613, -5.18788613, -5.18788613, -5.18788613,\n",
       "       -5.18788613, -5.18788613, -5.18788613, -5.18788613, -5.18788613,\n",
       "       -5.18788613, -5.18788613, -5.18788613, -5.18788613, -5.18788613])"
      ]
     },
     "execution_count": 23,
     "metadata": {},
     "output_type": "execute_result"
    }
   ],
   "source": [
    "smoother[T-1]"
   ]
  },
  {
   "cell_type": "code",
   "execution_count": 98,
   "metadata": {
    "collapsed": false
   },
   "outputs": [
    {
     "data": {
      "text/plain": [
       "(1000,)"
      ]
     },
     "execution_count": 98,
     "metadata": {},
     "output_type": "execute_result"
    }
   ],
   "source": [
    "np.random.multinomial(1, W[T-1]).shape"
   ]
  },
  {
   "cell_type": "code",
   "execution_count": 72,
   "metadata": {
    "collapsed": false
   },
   "outputs": [],
   "source": [
    "l = np.zeros(1)"
   ]
  },
  {
   "cell_type": "code",
   "execution_count": 76,
   "metadata": {
    "collapsed": false
   },
   "outputs": [
    {
     "data": {
      "text/plain": [
       "0"
      ]
     },
     "execution_count": 76,
     "metadata": {},
     "output_type": "execute_result"
    }
   ],
   "source": [
    "l"
   ]
  },
  {
   "cell_type": "code",
   "execution_count": 5,
   "metadata": {
    "collapsed": false
   },
   "outputs": [],
   "source": [
    "df = pd.read_csv('thaldata.csv',header=None)\n",
    "Y = df.values.reshape(3000)\n",
    "Y = Y[500:800]\n",
    "T = len(Y)"
   ]
  },
  {
   "cell_type": "code",
   "execution_count": 6,
   "metadata": {
    "collapsed": false
   },
   "outputs": [
    {
     "name": "stdout",
     "output_type": "stream",
     "text": [
      "[ 0.05]\n"
     ]
    }
   ],
   "source": [
    "sigma2v = 5.0\n",
    "sigma2e = np.arange(0.05, 0.51, 1)\n",
    "print sigma2e"
   ]
  },
  {
   "cell_type": "code",
   "execution_count": 7,
   "metadata": {
    "collapsed": true
   },
   "outputs": [],
   "source": [
    "def gaussian(X, Q):\n",
    "    #log-pdf of p(x_t|x_{t-1})\n",
    "    return -0.5 * (l2pi + np.log(Q) + (X ** 2) / Q)"
   ]
  },
  {
   "cell_type": "code",
   "execution_count": 8,
   "metadata": {
    "collapsed": true
   },
   "outputs": [],
   "source": [
    "def Do_Kalman_Likelihood(y, sigma2obs, sigma2e):\n",
    "    \"\"\"MAP solution, inverse covariance matrix, and marginal loglikelihood of state-space model\n",
    "\n",
    "    :param y: Observations (K,)\n",
    "    :param sigma2obs: Variance of observation noise (can be scalar or vector)\n",
    "    :param sigma2e: Variance of process noise\n",
    "    :return: x_map, L, marginal_loglikelihood, joint_loglikelihood\n",
    "    \"\"\"\n",
    "    # Build diagonals of information matrix\n",
    "    sigma2obs *= np.ones(len(y))\n",
    "    D = 1. / sigma2obs + 2. / sigma2e\n",
    "    D[-1] = 1. / sigma2obs[-1] + 1. / sigma2e\n",
    "    B = -np.ones(len(D)) / sigma2e\n",
    "    B[0] = 0.\n",
    "    \n",
    "    # Solve, assuming x_init=0 for simplicity\n",
    "    #L = sp.linalg.cholesky_banded((D, B), lower=True)\n",
    "    U = sp.linalg.cholesky_banded((B, D), lower=False)\n",
    "\n",
    "    x_map = sp.linalg.cho_solve_banded([U, False], y / sigma2obs)\n",
    "\n",
    "    # Compute joint and marginal probabilities\n",
    "    joint_loglikelihood = -.5 * ((np.sum(np.diff(x_map)**2) + x_map[0]**2) / sigma2e +\n",
    "                                 np.sum((y - x_map)**2 / sigma2obs) +\n",
    "                                 (len(y) * np.log(2*np.pi*sigma2e * 2*np.pi) + np.sum(np.log(sigma2obs))))\n",
    "    marginal_loglikelihood = len(y)/2. * np.log(2*np.pi) + joint_loglikelihood - np.sum(np.log(U[-1]))\n",
    "    return x_map, U, marginal_loglikelihood, joint_loglikelihood"
   ]
  },
  {
   "cell_type": "code",
   "execution_count": 9,
   "metadata": {
    "collapsed": true
   },
   "outputs": [],
   "source": [
    "# Forward particles\n",
    "N = 5000\n",
    "#\n",
    "l2pi = math.log(2 * math.pi)\n",
    "\n"
   ]
  },
  {
   "cell_type": "code",
   "execution_count": 10,
   "metadata": {
    "collapsed": true
   },
   "outputs": [],
   "source": [
    "def filtering(Y, Q, mode, variance):\n",
    "    samples = np.random.normal(0,1,[T+1,N])\n",
    "    w = np.empty([T,N])\n",
    "    W = np.empty([T,N])\n",
    "    X = np.reshape (np.repeat(mode,N),[T+1,N]) + samples * np.reshape (np.repeat(np.sqrt(variance),N),[T+1,N])\n",
    "    ancestor = np.empty([T+1,N])\n",
    "    ancestor[0,:] = X[0,:]\n",
    "    for t in range(T):\n",
    "        w[t,:] = gaussian(Y[t]-X[t+1,:], sigma2v) + gaussian(X[t+1,:]-ancestor[t,:], Q) - gaussian(X[t+1,:]-mode[t+1], variance[t+1])\n",
    "        W[t,:] = np.exp(w[t,:] - np.max(w[t,:])) \n",
    "        W[t,:] = W[t,:]/ np.sum(W[t,:])\n",
    "        ancestor[t+1,:]= X[t+1,resample(W[t,:])]\n",
    "        \n",
    "    return X, w, W, ancestor"
   ]
  },
  {
   "cell_type": "code",
   "execution_count": 12,
   "metadata": {
    "collapsed": false
   },
   "outputs": [
    {
     "name": "stdout",
     "output_type": "stream",
     "text": [
      "CPU times: user 1.61 s, sys: 58.6 ms, total: 1.66 s\n",
      "Wall time: 1.71 s\n"
     ]
    }
   ],
   "source": [
    "%%time\n",
    "loglikelihood_withresampling= np.empty(len(sigma2e))\n",
    "for i in range(len(sigma2e)):\n",
    "    Q = sigma2e[i]\n",
    "    [x_map, U, marginal_loglikelihood, joint_loglikelihood] = Do_Kalman_Likelihood(Y, sigma2v, Q) \n",
    "    #[xpost, s2post, llhdKal] = KalFilt(Y, sigma2v, Q, 0.0, 0.0)\n",
    "    mode = np.empty(T+1)\n",
    "    variance = np.empty(T+1)\n",
    "    mode[0] = 0\n",
    "    variance[0] = Q\n",
    "    for t in range(T):\n",
    "        mode[t+1] = x_map[t]\n",
    "        variance[t+1] = U[1][t]\n",
    "        \n",
    "    [X, w, W, ancestor] = filtering(Y, Q, mode, variance)\n",
    "    maxlogweight = np.max(w, axis=1)\n",
    "    weight = np.exp(w - np.reshape(np.repeat(maxlogweight, N),(T, N)))\n",
    "    loglikelihood_withresampling[i] = np.sum(np.log(np.sum(weight, axis = 1)/N))+np.sum(maxlogweight)"
   ]
  },
  {
   "cell_type": "code",
   "execution_count": 42,
   "metadata": {
    "collapsed": false
   },
   "outputs": [],
   "source": [
    "def resample2(weights):\n",
    "    n = len(weights)\n",
    "    indices = []\n",
    "    C = np.empty(n+1)\n",
    "    C[0] = 0.0\n",
    "    for ii in range(n):\n",
    "        i = ii + 1\n",
    "        C[i] = C[i-1] + weights[i-1]\n",
    "    u0, j = np.random.rand(), 0\n",
    "    for u in [(u0+i)/n for i in range(n)]:\n",
    "        while u > C[j]:\n",
    "            j+=1\n",
    "        indices.append(j-1)\n",
    "\n",
    "    return indices"
   ]
  },
  {
   "cell_type": "code",
   "execution_count": 41,
   "metadata": {
    "collapsed": false
   },
   "outputs": [
    {
     "data": {
      "text/plain": [
       "array([ 0. ,  0.1,  0.2,  0.4,  0.6,  1. ])"
      ]
     },
     "execution_count": 41,
     "metadata": {},
     "output_type": "execute_result"
    }
   ],
   "source": [
    "b = np.empty(n+1)\n",
    "b[0] = 0.0\n",
    "for ii in range(n):\n",
    "    i = ii + 1\n",
    "    b[i] = b[i-1] + weights[i-1]\n"
   ]
  },
  {
   "cell_type": "code",
   "execution_count": 59,
   "metadata": {
    "collapsed": false
   },
   "outputs": [
    {
     "data": {
      "text/plain": [
       "[0,\n",
       " 0,\n",
       " 0,\n",
       " 2,\n",
       " 4,\n",
       " 6,\n",
       " 6,\n",
       " 7,\n",
       " 7,\n",
       " 8,\n",
       " 9,\n",
       " 11,\n",
       " 18,\n",
       " 19,\n",
       " 19,\n",
       " 22,\n",
       " 22,\n",
       " 22,\n",
       " 23,\n",
       " 23,\n",
       " 25,\n",
       " 25,\n",
       " 26,\n",
       " 26,\n",
       " 29,\n",
       " 29,\n",
       " 29,\n",
       " 30,\n",
       " 30,\n",
       " 32,\n",
       " 32,\n",
       " 32,\n",
       " 33,\n",
       " 33,\n",
       " 34,\n",
       " 36,\n",
       " 37,\n",
       " 37,\n",
       " 39,\n",
       " 40,\n",
       " 40,\n",
       " 40,\n",
       " 40,\n",
       " 41,\n",
       " 45,\n",
       " 45,\n",
       " 46,\n",
       " 46,\n",
       " 47,\n",
       " 47,\n",
       " 49,\n",
       " 51,\n",
       " 51,\n",
       " 51,\n",
       " 51,\n",
       " 51,\n",
       " 51,\n",
       " 51,\n",
       " 51,\n",
       " 51,\n",
       " 51,\n",
       " 51,\n",
       " 51,\n",
       " 51,\n",
       " 51,\n",
       " 51,\n",
       " 51,\n",
       " 51,\n",
       " 51,\n",
       " 51,\n",
       " 52,\n",
       " 53,\n",
       " 55,\n",
       " 55,\n",
       " 57,\n",
       " 57,\n",
       " 58,\n",
       " 58,\n",
       " 58,\n",
       " 62,\n",
       " 63,\n",
       " 64,\n",
       " 64,\n",
       " 64,\n",
       " 65,\n",
       " 65,\n",
       " 65,\n",
       " 66,\n",
       " 68,\n",
       " 68,\n",
       " 69,\n",
       " 70,\n",
       " 71,\n",
       " 71,\n",
       " 72,\n",
       " 74,\n",
       " 74,\n",
       " 75,\n",
       " 75,\n",
       " 77,\n",
       " 80,\n",
       " 80,\n",
       " 80,\n",
       " 80,\n",
       " 80,\n",
       " 80,\n",
       " 80,\n",
       " 80,\n",
       " 80,\n",
       " 80,\n",
       " 80,\n",
       " 80,\n",
       " 80,\n",
       " 80,\n",
       " 80,\n",
       " 80,\n",
       " 81,\n",
       " 81,\n",
       " 82,\n",
       " 83,\n",
       " 84,\n",
       " 85,\n",
       " 87,\n",
       " 89,\n",
       " 89,\n",
       " 92,\n",
       " 95,\n",
       " 95,\n",
       " 98,\n",
       " 100,\n",
       " 103,\n",
       " 103,\n",
       " 103,\n",
       " 106,\n",
       " 107,\n",
       " 109,\n",
       " 110,\n",
       " 115,\n",
       " 117,\n",
       " 118,\n",
       " 120,\n",
       " 121,\n",
       " 123,\n",
       " 123,\n",
       " 123,\n",
       " 124,\n",
       " 125,\n",
       " 127,\n",
       " 127,\n",
       " 127,\n",
       " 128,\n",
       " 130,\n",
       " 131,\n",
       " 131,\n",
       " 134,\n",
       " 134,\n",
       " 134,\n",
       " 134,\n",
       " 135,\n",
       " 136,\n",
       " 137,\n",
       " 137,\n",
       " 137,\n",
       " 141,\n",
       " 142,\n",
       " 142,\n",
       " 142,\n",
       " 142,\n",
       " 142,\n",
       " 142,\n",
       " 142,\n",
       " 142,\n",
       " 143,\n",
       " 143,\n",
       " 143,\n",
       " 143,\n",
       " 143,\n",
       " 143,\n",
       " 143,\n",
       " 143,\n",
       " 146,\n",
       " 147,\n",
       " 147,\n",
       " 147,\n",
       " 147,\n",
       " 150,\n",
       " 153,\n",
       " 154,\n",
       " 155,\n",
       " 157,\n",
       " 158,\n",
       " 159,\n",
       " 159,\n",
       " 163,\n",
       " 163,\n",
       " 164,\n",
       " 164,\n",
       " 164,\n",
       " 164,\n",
       " 166,\n",
       " 167,\n",
       " 167,\n",
       " 168,\n",
       " 168,\n",
       " 168,\n",
       " 168,\n",
       " 170,\n",
       " 170,\n",
       " 172,\n",
       " 174,\n",
       " 174,\n",
       " 174,\n",
       " 175,\n",
       " 178,\n",
       " 178,\n",
       " 181,\n",
       " 184,\n",
       " 184,\n",
       " 184,\n",
       " 186,\n",
       " 186,\n",
       " 186,\n",
       " 188,\n",
       " 190,\n",
       " 191,\n",
       " 193,\n",
       " 193,\n",
       " 196,\n",
       " 196,\n",
       " 198,\n",
       " 199,\n",
       " 199,\n",
       " 200,\n",
       " 200,\n",
       " 200,\n",
       " 202,\n",
       " 202,\n",
       " 204,\n",
       " 205,\n",
       " 208,\n",
       " 209,\n",
       " 209,\n",
       " 210,\n",
       " 210,\n",
       " 211,\n",
       " 211,\n",
       " 213,\n",
       " 216,\n",
       " 216,\n",
       " 219,\n",
       " 219,\n",
       " 220,\n",
       " 220,\n",
       " 224,\n",
       " 224,\n",
       " 227,\n",
       " 231,\n",
       " 231,\n",
       " 232,\n",
       " 232,\n",
       " 234,\n",
       " 234,\n",
       " 234,\n",
       " 234,\n",
       " 234,\n",
       " 236,\n",
       " 241,\n",
       " 241,\n",
       " 242,\n",
       " 243,\n",
       " 243,\n",
       " 244,\n",
       " 244,\n",
       " 245,\n",
       " 247,\n",
       " 247,\n",
       " 247,\n",
       " 247,\n",
       " 249,\n",
       " 249,\n",
       " 250,\n",
       " 251,\n",
       " 251,\n",
       " 251,\n",
       " 253,\n",
       " 253,\n",
       " 256,\n",
       " 257,\n",
       " 257,\n",
       " 259,\n",
       " 260,\n",
       " 260,\n",
       " 263,\n",
       " 263,\n",
       " 266,\n",
       " 266,\n",
       " 266,\n",
       " 266,\n",
       " 266,\n",
       " 268,\n",
       " 268,\n",
       " 270,\n",
       " 270,\n",
       " 273,\n",
       " 273,\n",
       " 273,\n",
       " 275,\n",
       " 275,\n",
       " 277,\n",
       " 279,\n",
       " 282,\n",
       " 286,\n",
       " 286,\n",
       " 291,\n",
       " 292,\n",
       " 293,\n",
       " 293,\n",
       " 294,\n",
       " 295,\n",
       " 296,\n",
       " 296,\n",
       " 296,\n",
       " 297,\n",
       " 299,\n",
       " 302,\n",
       " 302,\n",
       " 302,\n",
       " 302,\n",
       " 304,\n",
       " 304,\n",
       " 310,\n",
       " 311,\n",
       " 312,\n",
       " 312,\n",
       " 313,\n",
       " 313,\n",
       " 314,\n",
       " 314,\n",
       " 315,\n",
       " 315,\n",
       " 316,\n",
       " 318,\n",
       " 318,\n",
       " 322,\n",
       " 322,\n",
       " 323,\n",
       " 323,\n",
       " 325,\n",
       " 327,\n",
       " 327,\n",
       " 327,\n",
       " 327,\n",
       " 327,\n",
       " 327,\n",
       " 327,\n",
       " 327,\n",
       " 327,\n",
       " 327,\n",
       " 330,\n",
       " 330,\n",
       " 336,\n",
       " 336,\n",
       " 337,\n",
       " 337,\n",
       " 338,\n",
       " 341,\n",
       " 341,\n",
       " 342,\n",
       " 342,\n",
       " 342,\n",
       " 342,\n",
       " 342,\n",
       " 343,\n",
       " 344,\n",
       " 345,\n",
       " 345,\n",
       " 347,\n",
       " 350,\n",
       " 352,\n",
       " 354,\n",
       " 356,\n",
       " 356,\n",
       " 356,\n",
       " 356,\n",
       " 356,\n",
       " 356,\n",
       " 356,\n",
       " 356,\n",
       " 356,\n",
       " 356,\n",
       " 356,\n",
       " 356,\n",
       " 359,\n",
       " 360,\n",
       " 361,\n",
       " 361,\n",
       " 361,\n",
       " 361,\n",
       " 369,\n",
       " 369,\n",
       " 370,\n",
       " 370,\n",
       " 372,\n",
       " 372,\n",
       " 372,\n",
       " 372,\n",
       " 373,\n",
       " 374,\n",
       " 374,\n",
       " 379,\n",
       " 380,\n",
       " 383,\n",
       " 385,\n",
       " 386,\n",
       " 388,\n",
       " 389,\n",
       " 391,\n",
       " 391,\n",
       " 391,\n",
       " 391,\n",
       " 391,\n",
       " 391,\n",
       " 392,\n",
       " 393,\n",
       " 396,\n",
       " 397,\n",
       " 398,\n",
       " 402,\n",
       " 403,\n",
       " 403,\n",
       " 404,\n",
       " 407,\n",
       " 407,\n",
       " 407,\n",
       " 413,\n",
       " 413,\n",
       " 415,\n",
       " 415,\n",
       " 417,\n",
       " 417,\n",
       " 418,\n",
       " 419,\n",
       " 420,\n",
       " 420,\n",
       " 420,\n",
       " 424,\n",
       " 424,\n",
       " 425,\n",
       " 425,\n",
       " 427,\n",
       " 427,\n",
       " 427,\n",
       " 427,\n",
       " 428,\n",
       " 429,\n",
       " 430,\n",
       " 430,\n",
       " 430,\n",
       " 436,\n",
       " 437,\n",
       " 437,\n",
       " 438,\n",
       " 439,\n",
       " 441,\n",
       " 442,\n",
       " 442,\n",
       " 446,\n",
       " 446,\n",
       " 446,\n",
       " 447,\n",
       " 447,\n",
       " 450,\n",
       " 450,\n",
       " 452,\n",
       " 457,\n",
       " 458,\n",
       " 459,\n",
       " 461,\n",
       " 462,\n",
       " 463,\n",
       " 463,\n",
       " 464,\n",
       " 464,\n",
       " 465,\n",
       " 465,\n",
       " 469,\n",
       " 470,\n",
       " 470,\n",
       " 472,\n",
       " 476,\n",
       " 477,\n",
       " 477,\n",
       " 480,\n",
       " 480,\n",
       " 480,\n",
       " 482,\n",
       " 482,\n",
       " 483,\n",
       " 484,\n",
       " 484,\n",
       " 484,\n",
       " 487,\n",
       " 490,\n",
       " 490,\n",
       " 491,\n",
       " 491,\n",
       " 494,\n",
       " 497,\n",
       " 498,\n",
       " 498,\n",
       " 500,\n",
       " 503,\n",
       " 503,\n",
       " 504,\n",
       " 504,\n",
       " 505,\n",
       " 508,\n",
       " 509,\n",
       " 509,\n",
       " 509,\n",
       " 511,\n",
       " 511,\n",
       " 511,\n",
       " 511,\n",
       " 512,\n",
       " 515,\n",
       " 516,\n",
       " 516,\n",
       " 516,\n",
       " 518,\n",
       " 521,\n",
       " 522,\n",
       " 522,\n",
       " 523,\n",
       " 523,\n",
       " 524,\n",
       " 529,\n",
       " 530,\n",
       " 530,\n",
       " 530,\n",
       " 530,\n",
       " 530,\n",
       " 530,\n",
       " 530,\n",
       " 531,\n",
       " 533,\n",
       " 534,\n",
       " 535,\n",
       " 535,\n",
       " 535,\n",
       " 535,\n",
       " 536,\n",
       " 538,\n",
       " 541,\n",
       " 541,\n",
       " 541,\n",
       " 542,\n",
       " 542,\n",
       " 544,\n",
       " 544,\n",
       " 545,\n",
       " 545,\n",
       " 547,\n",
       " 547,\n",
       " 547,\n",
       " 547,\n",
       " 547,\n",
       " 548,\n",
       " 550,\n",
       " 550,\n",
       " 550,\n",
       " 554,\n",
       " 554,\n",
       " 560,\n",
       " 560,\n",
       " 561,\n",
       " 561,\n",
       " 561,\n",
       " 565,\n",
       " 565,\n",
       " 565,\n",
       " 569,\n",
       " 570,\n",
       " 570,\n",
       " 570,\n",
       " 570,\n",
       " 570,\n",
       " 570,\n",
       " 571,\n",
       " 572,\n",
       " 573,\n",
       " 576,\n",
       " 576,\n",
       " 579,\n",
       " 579,\n",
       " 580,\n",
       " 582,\n",
       " 586,\n",
       " 586,\n",
       " 587,\n",
       " 588,\n",
       " 590,\n",
       " 594,\n",
       " 595,\n",
       " 598,\n",
       " 598,\n",
       " 600,\n",
       " 603,\n",
       " 604,\n",
       " 606,\n",
       " 606,\n",
       " 606,\n",
       " 607,\n",
       " 611,\n",
       " 611,\n",
       " 616,\n",
       " 620,\n",
       " 621,\n",
       " 621,\n",
       " 623,\n",
       " 626,\n",
       " 626,\n",
       " 627,\n",
       " 627,\n",
       " 629,\n",
       " 633,\n",
       " 634,\n",
       " 634,\n",
       " 634,\n",
       " 634,\n",
       " 634,\n",
       " 636,\n",
       " 636,\n",
       " 637,\n",
       " 637,\n",
       " 637,\n",
       " 637,\n",
       " 637,\n",
       " 637,\n",
       " 637,\n",
       " 638,\n",
       " 638,\n",
       " 639,\n",
       " 640,\n",
       " 640,\n",
       " 641,\n",
       " 642,\n",
       " 644,\n",
       " 644,\n",
       " 646,\n",
       " 646,\n",
       " 646,\n",
       " 648,\n",
       " 648,\n",
       " 651,\n",
       " 651,\n",
       " 659,\n",
       " 659,\n",
       " 659,\n",
       " 659,\n",
       " 659,\n",
       " 662,\n",
       " 664,\n",
       " 664,\n",
       " 665,\n",
       " 665,\n",
       " 665,\n",
       " 665,\n",
       " 665,\n",
       " 665,\n",
       " 665,\n",
       " 665,\n",
       " 665,\n",
       " 668,\n",
       " 668,\n",
       " 668,\n",
       " 670,\n",
       " 670,\n",
       " 673,\n",
       " 673,\n",
       " 674,\n",
       " 677,\n",
       " 677,\n",
       " 677,\n",
       " 681,\n",
       " 682,\n",
       " 685,\n",
       " 685,\n",
       " 687,\n",
       " 688,\n",
       " 690,\n",
       " 690,\n",
       " 693,\n",
       " 696,\n",
       " 696,\n",
       " 700,\n",
       " 700,\n",
       " 700,\n",
       " 700,\n",
       " 701,\n",
       " 706,\n",
       " 708,\n",
       " 709,\n",
       " 709,\n",
       " 709,\n",
       " 710,\n",
       " 710,\n",
       " 712,\n",
       " 715,\n",
       " 720,\n",
       " 720,\n",
       " 720,\n",
       " 720,\n",
       " 720,\n",
       " 720,\n",
       " 720,\n",
       " 720,\n",
       " 720,\n",
       " 720,\n",
       " 722,\n",
       " 722,\n",
       " 722,\n",
       " 725,\n",
       " 727,\n",
       " 728,\n",
       " 728,\n",
       " 729,\n",
       " 729,\n",
       " 731,\n",
       " 731,\n",
       " 732,\n",
       " 733,\n",
       " 734,\n",
       " 734,\n",
       " 735,\n",
       " 736,\n",
       " 737,\n",
       " 737,\n",
       " 737,\n",
       " 737,\n",
       " 737,\n",
       " 738,\n",
       " 739,\n",
       " 739,\n",
       " 741,\n",
       " 741,\n",
       " 741,\n",
       " 741,\n",
       " 741,\n",
       " 741,\n",
       " 741,\n",
       " 742,\n",
       " 744,\n",
       " 744,\n",
       " 748,\n",
       " 750,\n",
       " 750,\n",
       " 752,\n",
       " 752,\n",
       " 752,\n",
       " 754,\n",
       " 754,\n",
       " 754,\n",
       " 757,\n",
       " 758,\n",
       " 758,\n",
       " 758,\n",
       " 761,\n",
       " 762,\n",
       " 762,\n",
       " 764,\n",
       " 764,\n",
       " 764,\n",
       " 764,\n",
       " 764,\n",
       " 765,\n",
       " 766,\n",
       " 766,\n",
       " 768,\n",
       " 769,\n",
       " 769,\n",
       " 770,\n",
       " 770,\n",
       " 775,\n",
       " 776,\n",
       " 777,\n",
       " 777,\n",
       " 777,\n",
       " 780,\n",
       " 782,\n",
       " 784,\n",
       " 784,\n",
       " 785,\n",
       " 786,\n",
       " 787,\n",
       " 787,\n",
       " 788,\n",
       " 788,\n",
       " 790,\n",
       " 792,\n",
       " 792,\n",
       " 793,\n",
       " 794,\n",
       " 795,\n",
       " 795,\n",
       " 797,\n",
       " 797,\n",
       " 800,\n",
       " 801,\n",
       " 801,\n",
       " 804,\n",
       " 804,\n",
       " 807,\n",
       " 809,\n",
       " 811,\n",
       " 811,\n",
       " 812,\n",
       " 812,\n",
       " 815,\n",
       " 817,\n",
       " 819,\n",
       " 819,\n",
       " 820,\n",
       " 821,\n",
       " 821,\n",
       " 824,\n",
       " 827,\n",
       " 827,\n",
       " 829,\n",
       " 830,\n",
       " 830,\n",
       " 833,\n",
       " 833,\n",
       " 834,\n",
       " 835,\n",
       " 835,\n",
       " 837,\n",
       " 839,\n",
       " 840,\n",
       " 841,\n",
       " 841,\n",
       " 841,\n",
       " 841,\n",
       " 841,\n",
       " 841,\n",
       " 841,\n",
       " 842,\n",
       " 843,\n",
       " 843,\n",
       " 847,\n",
       " 847,\n",
       " 847,\n",
       " 849,\n",
       " 851,\n",
       " 853,\n",
       " 853,\n",
       " 854,\n",
       " 854,\n",
       " 856,\n",
       " 859,\n",
       " 862,\n",
       " 862,\n",
       " 862,\n",
       " 862,\n",
       " 862,\n",
       " 864,\n",
       " 868,\n",
       " 870,\n",
       " 870,\n",
       " 870,\n",
       " 876,\n",
       " 876,\n",
       " 877,\n",
       " 877,\n",
       " 877,\n",
       " 878,\n",
       " 880,\n",
       " 880,\n",
       " 884,\n",
       " 887,\n",
       " 888,\n",
       " 890,\n",
       " 892,\n",
       " 892,\n",
       " 895,\n",
       " 895,\n",
       " 895,\n",
       " 896,\n",
       " 896,\n",
       " 896,\n",
       " 896,\n",
       " 896,\n",
       " 899,\n",
       " 899,\n",
       " 900,\n",
       " 900,\n",
       " 901,\n",
       " 901,\n",
       " 901,\n",
       " 901,\n",
       " 901,\n",
       " 904,\n",
       " 905,\n",
       " 906,\n",
       " 906,\n",
       " 906,\n",
       " 906,\n",
       " 909,\n",
       " 909,\n",
       " 910,\n",
       " 910,\n",
       " 912,\n",
       " 913,\n",
       " 913,\n",
       " 916,\n",
       " 916,\n",
       " 919,\n",
       " 919,\n",
       " 920,\n",
       " 922,\n",
       " 922,\n",
       " 923,\n",
       " 924,\n",
       " 924,\n",
       " 924,\n",
       " 926,\n",
       " 926,\n",
       " 926,\n",
       " 928,\n",
       " 928,\n",
       " 931,\n",
       " 931,\n",
       " 932,\n",
       " 933,\n",
       " 933,\n",
       " 933,\n",
       " 934,\n",
       " 934,\n",
       " 935,\n",
       " 935,\n",
       " 936,\n",
       " 939,\n",
       " 939,\n",
       " 940,\n",
       " 940,\n",
       " 941,\n",
       " 941,\n",
       " 944,\n",
       " 944,\n",
       " 946,\n",
       " 946,\n",
       " 946,\n",
       " 949,\n",
       " 949,\n",
       " 950,\n",
       " 951,\n",
       " 952,\n",
       " 953,\n",
       " 953,\n",
       " 953,\n",
       " 953,\n",
       " 953,\n",
       " 953,\n",
       " 957,\n",
       " 957,\n",
       " 957,\n",
       " 958,\n",
       " 961,\n",
       " 963,\n",
       " 963,\n",
       " 964,\n",
       " 965,\n",
       " 966,\n",
       " 967,\n",
       " 969,\n",
       " 971,\n",
       " 971,\n",
       " 971,\n",
       " 971,\n",
       " 971,\n",
       " 973,\n",
       " 975,\n",
       " 980,\n",
       " 980,\n",
       " 982,\n",
       " 984,\n",
       " 987,\n",
       " 987,\n",
       " 988,\n",
       " 988,\n",
       " 989,\n",
       " 989,\n",
       " 990,\n",
       " 992,\n",
       " 992,\n",
       " 994,\n",
       " 995,\n",
       " 996,\n",
       " 997,\n",
       " 999]"
      ]
     },
     "execution_count": 59,
     "metadata": {},
     "output_type": "execute_result"
    }
   ],
   "source": [
    "resample(W[201,:])"
   ]
  },
  {
   "cell_type": "code",
   "execution_count": 58,
   "metadata": {
    "collapsed": true
   },
   "outputs": [],
   "source": [
    "def resample(weights):\n",
    "    n = len(weights)\n",
    "    indices = []\n",
    "    C = [0.] + [sum(weights[:i+1]) for i in range(n)]\n",
    "    u0, j = random(), 0\n",
    "    for u in [(u0+i)/n for i in range(n)]:\n",
    "        while u > C[j]:\n",
    "            j+=1\n",
    "        indices.append(j-1)\n",
    "    return indices"
   ]
  },
  {
   "cell_type": "code",
   "execution_count": 37,
   "metadata": {
    "collapsed": false
   },
   "outputs": [],
   "source": [
    "n = len(weights)\n",
    "C = [0.] + [sum(weights[:i+1]) for i in range(n)]"
   ]
  },
  {
   "cell_type": "code",
   "execution_count": 38,
   "metadata": {
    "collapsed": false
   },
   "outputs": [
    {
     "data": {
      "text/plain": [
       "[0.0,\n",
       " 0.10000000000000001,\n",
       " 0.20000000000000001,\n",
       " 0.40000000000000002,\n",
       " 0.60000000000000009,\n",
       " 1.0]"
      ]
     },
     "execution_count": 38,
     "metadata": {},
     "output_type": "execute_result"
    }
   ],
   "source": [
    "C"
   ]
  },
  {
   "cell_type": "code",
   "execution_count": null,
   "metadata": {
    "collapsed": false
   },
   "outputs": [],
   "source": [
    "const = 1/sqrt(2 * np.pi * Q)\n",
    "smoother = np.empty([T,M])\n",
    "w_back = np.empty(N)\n",
    "W_BACK = np.empty(N)\n",
    "\n",
    "samples = np.floor(np.random.rand(M) * M)\n",
    "for j in range(M):\n",
    "    smoother[T-1, j] = X[T, samples[j]]\n",
    "    \n",
    "for tt in range(T-1):\n",
    "    t = T-2 -tt\n",
    "    for j in range(M):\n",
    "        w_back_sum = 0\n",
    "        for k in range(N):\n",
    "            w_back[k] = const * exp( -(smoother[t+1,j]-X[t+1,k]) ** 2 / (2 * Q))\n",
    "            w_back_sum += w_back[k]\n",
    "        for k in range(N):\n",
    "            W_BACK[k] = w_back[k]/w_back_sum\n",
    "        l=0\n",
    "        u = np.random.rand()\n",
    "        while u > W_BACK[j]:\n",
    "            l+=1\n",
    "        smoother[t,j] = X[t+1, l]"
   ]
  },
  {
   "cell_type": "code",
   "execution_count": 19,
   "metadata": {
    "collapsed": true
   },
   "outputs": [],
   "source": [
    "samples = np.floor(np.random.rand(M) * N)"
   ]
  },
  {
   "cell_type": "code",
   "execution_count": 24,
   "metadata": {
    "collapsed": false
   },
   "outputs": [
    {
     "data": {
      "text/plain": [
       "850"
      ]
     },
     "execution_count": 24,
     "metadata": {},
     "output_type": "execute_result"
    }
   ],
   "source": [
    "np.int(samples[0])"
   ]
  },
  {
   "cell_type": "code",
   "execution_count": 9,
   "metadata": {
    "collapsed": false
   },
   "outputs": [
    {
     "data": {
      "text/plain": [
       "array([ 359.,   84.,  622.,  639.,  607.,  876.,  832.,  603.,  271.,\n",
       "        686.,  616.,  412.,  231.,  342.,  939.,  172.,  324.,  416.,\n",
       "        544.,  496.,  985.,  703.,  220.,  782.,  770.,  500.,  104.,\n",
       "        496.,  785.,  392.,  876.,  970.,  878.,  434.,   60.,  416.,\n",
       "        712.,  626.,  348.,  414.,  283.,  180.,  175.,  849.,   95.,\n",
       "        736.,  277.,  994.,  660.,  260.,  840.,  785.,   12.,  509.,\n",
       "        516.,  916.,  704.,  348.,  673.,  148.,  796.,  874.,  134.,\n",
       "        534.,  941.,  530.,  653.,  936.,  862.,  407.,  114.,  578.,\n",
       "        646.,  328.,  198.,  988.,  952.,  274.,  352.,  586.,  231.,\n",
       "        832.,  983.,  590.,  590.,   40.,    0.,  746.,  935.,  908.,\n",
       "        258.,  975.,  641.,  379.,  157.,  317.,  518.,  159.,  717.,  727.])"
      ]
     },
     "execution_count": 9,
     "metadata": {},
     "output_type": "execute_result"
    }
   ],
   "source": [
    "np.floor(np.random.rand(100) * 1000)"
   ]
  },
  {
   "cell_type": "code",
   "execution_count": 42,
   "metadata": {
    "collapsed": false
   },
   "outputs": [
    {
     "name": "stdout",
     "output_type": "stream",
     "text": [
      "[-10.      -9.9999  -9.9998 ...,   9.9997   9.9998   9.9999]\n"
     ]
    }
   ],
   "source": [
    "x = np.arange(-10, 10, 0.0001)\n",
    "print x"
   ]
  },
  {
   "cell_type": "code",
   "execution_count": 48,
   "metadata": {
    "collapsed": false
   },
   "outputs": [],
   "source": [
    "y = np.exp(x)/(1+np.exp(x))\n",
    "z = 0.5 + 0.1 *x"
   ]
  },
  {
   "cell_type": "code",
   "execution_count": 49,
   "metadata": {
    "collapsed": false
   },
   "outputs": [
    {
     "data": {
      "text/plain": [
       "[<matplotlib.lines.Line2D at 0x10b698cd0>]"
      ]
     },
     "execution_count": 49,
     "metadata": {},
     "output_type": "execute_result"
    },
    {
     "data": {
      "image/png": "[encoded data removed]",
      "text/plain": [
       "<matplotlib.figure.Figure at 0x10b698c50>"
      ]
     },
     "metadata": {},
     "output_type": "display_data"
    }
   ],
   "source": [
    "plt.plot(x,y)\n",
    "plt.plot(x,z)"
   ]
  },
  {
   "cell_type": "code",
   "execution_count": 52,
   "metadata": {
    "collapsed": false
   },
   "outputs": [
    {
     "data": {
      "text/plain": [
       "[<matplotlib.lines.Line2D at 0x10a0e4a50>]"
      ]
     },
     "execution_count": 52,
     "metadata": {},
     "output_type": "execute_result"
    },
    {
     "data": {
      "image/png": "[encoded data removed]",
      "text/plain": [
       "<matplotlib.figure.Figure at 0x10a0e4150>"
      ]
     },
     "metadata": {},
     "output_type": "display_data"
    }
   ],
   "source": [
    "plt.plot(x,y-z)\n",
    "plt.plot(x,np.zeros(len(x)))"
   ]
  },
  {
   "cell_type": "code",
   "execution_count": 53,
   "metadata": {
    "collapsed": false
   },
   "outputs": [
    {
     "data": {
      "text/plain": [
       "[<matplotlib.lines.Line2D at 0x110941b10>]"
      ]
     },
     "execution_count": 53,
     "metadata": {},
     "output_type": "execute_result"
    },
    {
     "data": {
      "image/png": "[encoded data removed]",
      "text/plain": [
       "<matplotlib.figure.Figure at 0x110688550>"
      ]
     },
     "metadata": {},
     "output_type": "display_data"
    }
   ],
   "source": [
    "yy = (np.exp(x)-1)/(np.exp(x)+1)/x\n",
    "plt.plot(x,yy)"
   ]
  },
  {
   "cell_type": "code",
   "execution_count": null,
   "metadata": {
    "collapsed": true
   },
   "outputs": [],
   "source": []
  }
 ],
 "metadata": {
  "kernelspec": {
   "display_name": "Python 2",
   "language": "python",
   "name": "python2"
  },
  "language_info": {
   "codemirror_mode": {
    "name": "ipython",
    "version": 2
   },
   "file_extension": ".py",
   "mimetype": "text/x-python",
   "name": "python",
   "nbconvert_exporter": "python",
   "pygments_lexer": "ipython2",
   "version": "2.7.11"
  }
 },
 "nbformat": 4,
 "nbformat_minor": 0
}
