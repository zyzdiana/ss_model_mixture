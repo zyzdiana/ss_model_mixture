{
 "cells": [
  {
   "cell_type": "code",
   "execution_count": 1,
   "metadata": {
    "collapsed": true
   },
   "outputs": [],
   "source": [
    "from numpy import *\n",
    "from numpy.random import *\n",
    "%matplotlib inline\n",
    "import os\n",
    "import time\n",
    "import numpy as np\n",
    "import pandas as pd\n",
    "import sys\n",
    "import cPickle as pickle\n",
    "from   random import *\n",
    "import scipy.stats\n",
    "import matplotlib.pyplot as plt\n",
    "import pyparticleest.models.nlg as nlg\n",
    "import pyparticleest.simulator as simulator\n",
    "import pyparticleest.utils.kalman as kalman\n",
    "from scipy.stats import bernoulli\n",
    "import pyparticleest.interfaces as interfaces\n",
    "from scipy.optimize import newton\n",
    "\n",
    "import numpy as np\n",
    "import scipy as sp\n",
    "import scipy.special\n",
    "import scipy.linalg"
   ]
  },
  {
   "cell_type": "code",
   "execution_count": 2,
   "metadata": {
    "collapsed": true
   },
   "outputs": [],
   "source": [
    "def resample(weights):\n",
    "  n = len(weights)\n",
    "  indices = []\n",
    "  C = [0.] + [sum(weights[:i+1]) for i in range(n)]\n",
    "  u0, j = random(), 0\n",
    "  for u in [(u0+i)/n for i in range(n)]:\n",
    "    while u > C[j]:\n",
    "      j+=1\n",
    "    indices.append(j-1)\n",
    "  return indices"
   ]
  },
  {
   "cell_type": "code",
   "execution_count": 46,
   "metadata": {
    "collapsed": true
   },
   "outputs": [],
   "source": [
    "# def measure(X, Y, trial):\n",
    "#     # log-pdf of p(y_t|x_t)\n",
    "#     T = X.shape[0]\n",
    "#     N = X.shape[1]\n",
    "#     coefficient = scipy.special.binom(trial,Y)\n",
    "#     return np.reshape(np.repeat(np.log(coefficient), N), [T,N]) + X * np.reshape(np.repeat(Y, N), [T,N]) - trial * np.log(1+np.exp(X))\n",
    "\n",
    "def measure(X, Y, trial):\n",
    "    # log-pdf of p(y_t|x_t)\n",
    "    coefficient = scipy.special.binom(trial,Y)\n",
    "    return np.log(coefficient) + X * Y - trial * np.log(1+np.exp(X))"
   ]
  },
  {
   "cell_type": "code",
   "execution_count": 3,
   "metadata": {
    "collapsed": true
   },
   "outputs": [],
   "source": [
    "def gaussian(X, Q):\n",
    "    #log-pdf of p(x_t|x_{t-1})\n",
    "    return -0.5 * (l2pi + np.log(Q) + (X ** 2) / Q)"
   ]
  },
  {
   "cell_type": "code",
   "execution_count": 4,
   "metadata": {
    "collapsed": true
   },
   "outputs": [],
   "source": [
    "def Do_Kalman_Likelihood_Bernoulli_LaplaceMAP(dN, sigma2e, tol=1e-8, trials=1.):\n",
    "    \"\"\"MAP solution, inverse covariance matrix, and marginal loglikelihood of state-space model\n",
    "    computed using Laplace approximation around MAP state.\n",
    "\n",
    "    :param dN: Observations (K,)\n",
    "    :param sigma2e: Variance of process noise\n",
    "    :param tol: Convergence criterion on the gradient of the log-likelihood\n",
    "    :param trials: Number of trials for binomial observations (1 for Bernoulli)\n",
    "    :return: x_map, U, marginal_loglikelihood, joint_loglikelihood\n",
    "    \"\"\"\n",
    "    x = np.zeros(dN.shape)\n",
    "    dN = dN.astype(float)\n",
    "    while True:\n",
    "        # Build gradient of joint\n",
    "        d2x = np.convolve(x, [-1, 2, -1])[1:-1]\n",
    "        d2x[-1] -= x[-1]\n",
    "        G = -dN + trials * (1. / (1. + np.exp(-x))) + d2x / sigma2e\n",
    "        # Build Hessian of joint\n",
    "        D = trials / (np.exp(x) + 2. + np.exp(-x)) + 2. / sigma2e\n",
    "        D[-1] -= 1. / sigma2e\n",
    "        B = -np.ones(len(D)) / sigma2e\n",
    "        B[0] = 0.\n",
    "        U = sp.linalg.cholesky_banded((B, D), lower=False)\n",
    "        # Check convergence\n",
    "        if np.dot(G, G) < tol:\n",
    "            x_map = x\n",
    "            break\n",
    "        # Update estimate of map\n",
    "        x -= sp.linalg.cho_solve_banded([U, False], G)\n",
    "\n",
    "    # Compute joint and marginal probabilities\n",
    "    joint_loglikelihood = (np.sum(np.log(sp.special.binom(trials, dN)) + dN * x_map - trials * np.log(1 + np.exp(x_map))) -\n",
    "                           .5 * ((np.sum(np.diff(x_map)**2) + x_map[0]**2) / sigma2e + len(dN) * np.log(2*np.pi*sigma2e)))\n",
    "    marginal_loglikelihood = len(dN)/2. * np.log(2*np.pi) + joint_loglikelihood - np.sum(np.log(U[-1]))\n",
    "    return x_map, U, marginal_loglikelihood, joint_loglikelihood"
   ]
  },
  {
   "cell_type": "code",
   "execution_count": 94,
   "metadata": {
    "collapsed": true
   },
   "outputs": [],
   "source": [
    "# Forward particles\n",
    "N = 1000\n",
    "# Backward trajectories\n",
    "M = 30\n",
    "# \n",
    "P0 = 0.01\n",
    "#trial\n",
    "trial = 50\n",
    "#\n",
    "l2pi = math.log(2 * math.pi)\n",
    "#\n",
    "square2pi = np.sqrt(2 * math.pi)\n",
    "#\n",
    "j = 15"
   ]
  },
  {
   "cell_type": "code",
   "execution_count": 6,
   "metadata": {
    "collapsed": true
   },
   "outputs": [],
   "source": [
    "#df = pd.read_csv('thaldata.csv',header=None)\n",
    "#Y = df.values.reshape(3000)\n",
    "#Y = Y[500:800]\n",
    "#T = len(Y)\n",
    "mat = np.loadtxt('train_data.txt')\n",
    "Y = mat[:,1:]\n",
    "T = Y.shape[1]\n",
    "n = Y.shape[0]"
   ]
  },
  {
   "cell_type": "code",
   "execution_count": 95,
   "metadata": {
    "collapsed": false
   },
   "outputs": [
    {
     "name": "stdout",
     "output_type": "stream",
     "text": [
      "[ 0.5]\n"
     ]
    }
   ],
   "source": [
    "sigma = np.arange(0.5, 1.51, 2)\n",
    "print sigma"
   ]
  },
  {
   "cell_type": "code",
   "execution_count": 96,
   "metadata": {
    "collapsed": true
   },
   "outputs": [],
   "source": [
    "loglikelihood = np.empty(len(sigma))"
   ]
  },
  {
   "cell_type": "code",
   "execution_count": 77,
   "metadata": {
    "collapsed": false
   },
   "outputs": [],
   "source": [
    "def filtering(Y, Q, mode, variance):\n",
    "    samples = np.random.normal(0,1,[T+1,N])\n",
    "    X = np.reshape (np.repeat(mode,N),[T+1,N]) + samples * np.reshape (np.repeat(np.sqrt(variance),N),[T+1,N])\n",
    "    #X = np.reshape (np.repeat(mode,N),[T+1,N]) + samples * np.reshape (np.repeat(np.sqrt(variance + Q),N),[T+1,N])\n",
    "    ancestor = np.empty([T+1,N])\n",
    "    ancestor[0,:] = X[0,:]\n",
    "    for t in range(T):\n",
    "        w[t,:] = measure(X[t+1,:], Y[t], trial) + gaussian(X[t+1,:]-ancestor[t,:], Q) - gaussian(X[t+1,:]-mode[t+1], variance[t+1])\n",
    "        W[t,:] = np.exp(w[t,:] - np.max(w[t,:])) \n",
    "        W[t,:] = W[t,:]/ np.sum(W[t,:])\n",
    "        ancestor[t+1,:]= X[t+1,resample(W[t,:])]\n",
    "        \n",
    "    return X, w, W, ancestor\n",
    "#     return X, w, W"
   ]
  },
  {
   "cell_type": "code",
   "execution_count": 78,
   "metadata": {
    "collapsed": false
   },
   "outputs": [
    {
     "data": {
      "text/plain": [
       "(3000, 1000)"
      ]
     },
     "execution_count": 78,
     "metadata": {},
     "output_type": "execute_result"
    }
   ],
   "source": [
    "X[1:].shape"
   ]
  },
  {
   "cell_type": "code",
   "execution_count": 97,
   "metadata": {
    "collapsed": false
   },
   "outputs": [],
   "source": [
    "for i in range(len(sigma)):\n",
    "    Q = sigma[i]\n",
    "    [x_map, U, marginal_loglikelihood, joint_loglikelihood] = Do_Kalman_Likelihood_Bernoulli_LaplaceMAP(Y[j,:], Q, 1e-8, trial) \n",
    "    mode = np.empty(T+1)\n",
    "    variance = np.empty(T+1)\n",
    "    mode[0] = 0\n",
    "    variance[0] = P0\n",
    "    for t in range(T):\n",
    "        mode[t+1] = x_map[t]\n",
    "        variance[t+1] = U[1][t]\n",
    "        \n",
    "    [X, w, W, ancestor] = filtering(Y[j,:], Q, mode, variance)\n",
    "    maxlogweight = np.max(w, axis=1)\n",
    "    weight = np.exp(w - np.reshape(np.repeat(maxlogweight, N),(T, N)))\n",
    "    loglikelihood[i] = np.sum(np.log(np.sum(weight, axis = 1)/N))+np.sum(maxlogweight)"
   ]
  },
  {
   "cell_type": "code",
   "execution_count": 93,
   "metadata": {
    "collapsed": false
   },
   "outputs": [],
   "source": []
  },
  {
   "cell_type": "code",
   "execution_count": 104,
   "metadata": {
    "collapsed": false
   },
   "outputs": [
    {
     "data": {
      "text/plain": [
       "<matplotlib.legend.Legend at 0x1212e6410>"
      ]
     },
     "execution_count": 104,
     "metadata": {},
     "output_type": "execute_result"
    },
    {
     "data": {
      "image/png": "[encoded data removed]",
      "text/plain": [
       "<matplotlib.figure.Figure at 0x1211c71d0>"
      ]
     },
     "metadata": {},
     "output_type": "display_data"
    }
   ],
   "source": [
    "plt.hist(w[1000,:],250,label='New PF')\n",
    "plt.xlim([-20,0])\n",
    "plt.legend(loc='best')"
   ]
  },
  {
   "cell_type": "code",
   "execution_count": 87,
   "metadata": {
    "collapsed": false
   },
   "outputs": [
    {
     "data": {
      "text/plain": [
       "<matplotlib.legend.Legend at 0x1210db950>"
      ]
     },
     "execution_count": 87,
     "metadata": {},
     "output_type": "execute_result"
    },
    {
     "data": {
      "image/png": "[encoded data removed]",
      "text/plain": [
       "<matplotlib.figure.Figure at 0x120d2c550>"
      ]
     },
     "metadata": {},
     "output_type": "display_data"
    }
   ],
   "source": [
    "Y_19= pd.read_csv('row_19_ll.csv',header=0)\n",
    "y19 = Y_19.values.reshape(1500,2)\n",
    "y_19 = np.empty(150)\n",
    "for i in range(150):\n",
    "    y_19[i]= np.sum(y19[10*i:10*(i+1),1])/10.0\n",
    "\n",
    "plt.plot(loglikelihood[:140], '.',linewidth=2.0, label='MY PARTICLE FILTER')\n",
    "plt.plot(y_8[:140], 'r.',linewidth=2.0, label='R log-likelihood')\n",
    "plt.ylabel('loglikelihood')\n",
    "plt.legend(loc='best')"
   ]
  },
  {
   "cell_type": "code",
   "execution_count": null,
   "metadata": {
    "collapsed": true
   },
   "outputs": [],
   "source": []
  },
  {
   "cell_type": "code",
   "execution_count": null,
   "metadata": {
    "collapsed": true
   },
   "outputs": [],
   "source": []
  },
  {
   "cell_type": "code",
   "execution_count": null,
   "metadata": {
    "collapsed": true
   },
   "outputs": [],
   "source": []
  },
  {
   "cell_type": "code",
   "execution_count": 40,
   "metadata": {
    "collapsed": false
   },
   "outputs": [
    {
     "data": {
      "text/plain": [
       "<matplotlib.legend.Legend at 0x119e14810>"
      ]
     },
     "execution_count": 40,
     "metadata": {},
     "output_type": "execute_result"
    },
    {
     "data": {
      "image/png": "[encoded data removed]",
      "text/plain": [
       "<matplotlib.figure.Figure at 0x1021ff1d0>"
      ]
     },
     "metadata": {},
     "output_type": "display_data"
    }
   ],
   "source": [
    "variance\n",
    "plt.hist(w[1000,:],100, label='New PF')\n",
    "plt.legend(loc='best')"
   ]
  },
  {
   "cell_type": "code",
   "execution_count": 33,
   "metadata": {
    "collapsed": false
   },
   "outputs": [
    {
     "data": {
      "text/plain": [
       "(150,)"
      ]
     },
     "execution_count": 33,
     "metadata": {},
     "output_type": "execute_result"
    }
   ],
   "source": [
    "loglikelihood.shape"
   ]
  },
  {
   "cell_type": "code",
   "execution_count": 91,
   "metadata": {
    "collapsed": false
   },
   "outputs": [
    {
     "data": {
      "text/plain": [
       "<matplotlib.legend.Legend at 0x10f9ee4d0>"
      ]
     },
     "execution_count": 91,
     "metadata": {},
     "output_type": "execute_result"
    },
    {
     "data": {
      "image/png": "[encoded data removed]",
      "text/plain": [
       "<matplotlib.figure.Figure at 0x11a2b3b50>"
      ]
     },
     "metadata": {},
     "output_type": "display_data"
    }
   ],
   "source": [
    "Y_5= pd.read_csv('row_5_ll.csv',header=0)\n",
    "y5 = Y_5.values.reshape(1500,2)\n",
    "y_5 = np.empty(150)\n",
    "for i in range(150):\n",
    "    y_5[i]= np.sum(y5[10*i:10*(i+1),1])/10.0\n",
    "\n",
    "plt.plot(loglikelihood, '.',linewidth=2.0, label='MY PARTICLE FILTER')\n",
    "plt.plot(y_5, 'r.',linewidth=2.0, label='R log-likelihood')\n",
    "plt.ylabel('loglikelihood')\n",
    "plt.legend(loc='best')"
   ]
  },
  {
   "cell_type": "code",
   "execution_count": 25,
   "metadata": {
    "collapsed": false
   },
   "outputs": [
    {
     "data": {
      "text/plain": [
       "<matplotlib.contour.QuadContourSet at 0x11a1d1b10>"
      ]
     },
     "execution_count": 25,
     "metadata": {},
     "output_type": "execute_result"
    },
    {
     "data": {
      "image/png": "[encoded data removed]",
      "text/plain": [
       "<matplotlib.figure.Figure at 0x119ee5bd0>"
      ]
     },
     "metadata": {},
     "output_type": "display_data"
    }
   ],
   "source": [
    "plt.contour(sigma_ls,sigma_ls,likelihood)\n"
   ]
  },
  {
   "cell_type": "code",
   "execution_count": 92,
   "metadata": {
    "collapsed": false
   },
   "outputs": [
    {
     "data": {
      "text/plain": [
       "<matplotlib.legend.Legend at 0x10fb34e90>"
      ]
     },
     "execution_count": 92,
     "metadata": {},
     "output_type": "execute_result"
    },
    {
     "data": {
      "image/png": "[encoded data removed]",
      "text/plain": [
       "<matplotlib.figure.Figure at 0x10fab2210>"
      ]
     },
     "metadata": {},
     "output_type": "display_data"
    }
   ],
   "source": [
    "Y_15= pd.read_csv('row_15_ll.csv',header=0)\n",
    "y15 = Y_15.values.reshape(1500,2)\n",
    "y_15 = np.empty(150)\n",
    "for i in range(150):\n",
    "    y_15[i]= np.sum(y15[10*i:10*(i+1),1])/10.0\n",
    "\n",
    "plt.plot(loglikelihood, '.',linewidth=2.0, label='MY PARTICLE FILTER')\n",
    "plt.plot(y_15, 'r.',linewidth=2.0, label='R log-likelihood')\n",
    "plt.ylabel('loglikelihood')\n",
    "plt.legend(loc='best')"
   ]
  },
  {
   "cell_type": "code",
   "execution_count": 18,
   "metadata": {
    "collapsed": false
   },
   "outputs": [
    {
     "ename": "IndexError",
     "evalue": "index 1000 is out of bounds for axis 0 with size 150",
     "output_type": "error",
     "traceback": [
      "\u001b[0;31m---------------------------------------------------------------------------\u001b[0m",
      "\u001b[0;31mIndexError\u001b[0m                                Traceback (most recent call last)",
      "\u001b[0;32m<ipython-input-18-1c0642a1670f>\u001b[0m in \u001b[0;36m<module>\u001b[0;34m()\u001b[0m\n\u001b[0;32m----> 1\u001b[0;31m \u001b[0mplt\u001b[0m\u001b[0;34m.\u001b[0m\u001b[0mhist\u001b[0m\u001b[0;34m(\u001b[0m\u001b[0mw\u001b[0m\u001b[0;34m[\u001b[0m\u001b[0;36m1000\u001b[0m\u001b[0;34m,\u001b[0m\u001b[0;34m:\u001b[0m\u001b[0;34m]\u001b[0m\u001b[0;34m,\u001b[0m \u001b[0;36m100\u001b[0m\u001b[0;34m,\u001b[0m \u001b[0mlabel\u001b[0m\u001b[0;34m=\u001b[0m\u001b[0;34m'MY PARTICLE FILTER'\u001b[0m\u001b[0;34m)\u001b[0m\u001b[0;34m\u001b[0m\u001b[0m\n\u001b[0m\u001b[1;32m      2\u001b[0m \u001b[0mplt\u001b[0m\u001b[0;34m.\u001b[0m\u001b[0mlegend\u001b[0m\u001b[0;34m(\u001b[0m\u001b[0mloc\u001b[0m\u001b[0;34m=\u001b[0m\u001b[0;34m'best'\u001b[0m\u001b[0;34m)\u001b[0m\u001b[0;34m\u001b[0m\u001b[0m\n",
      "\u001b[0;31mIndexError\u001b[0m: index 1000 is out of bounds for axis 0 with size 150"
     ]
    }
   ],
   "source": [
    "plt.hist(w[1000,:], 100, label='MY PARTICLE FILTER')\n",
    "plt.legend(loc='best')"
   ]
  },
  {
   "cell_type": "code",
   "execution_count": 74,
   "metadata": {
    "collapsed": false
   },
   "outputs": [
    {
     "data": {
      "text/plain": [
       "<matplotlib.legend.Legend at 0x121d55690>"
      ]
     },
     "execution_count": 74,
     "metadata": {},
     "output_type": "execute_result"
    },
    {
     "data": {
      "image/png": "[encoded data removed]",
      "text/plain": [
       "<matplotlib.figure.Figure at 0x121a97510>"
      ]
     },
     "metadata": {},
     "output_type": "display_data"
    }
   ],
   "source": [
    "ll_from_R = np.loadtxt('ll_from_R.txt')\n",
    "plt.plot(loglikelihood, '.',linewidth=2.0, label='MY PARTICLE FILTER')\n",
    "plt.plot(ll_from_R, 'r.',linewidth=2.0, label='R log-likelihood')\n",
    "plt.ylabel('loglikelihood')\n",
    "plt.legend(loc='best')"
   ]
  },
  {
   "cell_type": "code",
   "execution_count": null,
   "metadata": {
    "collapsed": true
   },
   "outputs": [],
   "source": []
  }
 ],
 "metadata": {
  "kernelspec": {
   "display_name": "Python 2",
   "language": "python",
   "name": "python2"
  },
  "language_info": {
   "codemirror_mode": {
    "name": "ipython",
    "version": 2
   },
   "file_extension": ".py",
   "mimetype": "text/x-python",
   "name": "python",
   "nbconvert_exporter": "python",
   "pygments_lexer": "ipython2",
   "version": "2.7.11"
  }
 },
 "nbformat": 4,
 "nbformat_minor": 0
}
