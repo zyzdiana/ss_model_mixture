{
 "metadata": {
  "name": "",
  "signature": "sha256:588fed4d7b1f50205d3d0bacdf2330bb541be0492860f488e4bbf62c5baa4311"
 },
 "nbformat": 3,
 "nbformat_minor": 0,
 "worksheets": [
  {
   "cells": [
    {
     "cell_type": "markdown",
     "metadata": {},
     "source": [
      "#Speeding up the Kalman filter and sampler"
     ]
    },
    {
     "cell_type": "markdown",
     "metadata": {},
     "source": [
      "## Convert to standard Gaussian Kalman filter\n",
      "First step, rewrite the ad-hoc Kalman filter for the Bernoulli observation with PG latent variable as a standard Gaussian Kalman filter (see `FwdFilterEM1_Kalman`)."
     ]
    },
    {
     "cell_type": "code",
     "collapsed": false,
     "input": [
      "import numpy as np\n",
      "from scipy import linalg"
     ],
     "language": "python",
     "metadata": {},
     "outputs": [],
     "prompt_number": 1
    },
    {
     "cell_type": "code",
     "collapsed": false,
     "input": [
      "def FwdFilterEM1_xr(y, w, x_k, x_init, sigma2_init, sigma2e_R):\n",
      "    '''\n",
      "    EM step 1: The forward nonlinear recursive filter\n",
      "    Inputs:\n",
      "    y - Recorded Neuron Responses\n",
      "    w - Samples from Polya-gamma Distribution\n",
      "    x_init, w_init: initial values for x and w\n",
      "    R - Total number of trials\n",
      "    ''' # from zyzdiana\n",
      "    K = y.shape[1]\n",
      "    R = y.shape[0]\n",
      "\n",
      "    x_prior = np.zeros(R+1) # xr|r-1\n",
      "    x_post  = np.zeros(R+1) # xr-1|r-1\n",
      "\n",
      "    sigma2_prior = np.zeros(R+1) # sigma2r|r-1\n",
      "    sigma2_post  = np.zeros(R+1) # sigma2r-1|r-1\n",
      "\n",
      "    # FORWARD FILTER\n",
      "    x_post[0]      = x_init\n",
      "    sigma2_post[0] = sigma2_init \n",
      "\n",
      "    for t in range(1,R+1):\n",
      "        x_prior[t]      = x_post[t-1]\n",
      "        sigma2_prior[t] = sigma2_post[t-1] + sigma2e_R\n",
      "        \n",
      "        N = np.sum(y[t-1,:])\n",
      "        w_k = np.sum(w[t,:])\n",
      "        x_post[t]  = (x_prior[t] + sigma2_prior[t]*(N-K/2.-np.sum(w[t,:]*x_k)))/ (1. + w_k*sigma2_prior[t])\n",
      "        sigma2_post[t] = sigma2_prior[t] / ( 1.0 + w_k*sigma2_prior[t])\n",
      "\n",
      "    return x_prior[1:],x_post[1:],sigma2_prior[1:],sigma2_post[1:]"
     ],
     "language": "python",
     "metadata": {},
     "outputs": [],
     "prompt_number": 2
    },
    {
     "cell_type": "code",
     "collapsed": false,
     "input": [
      "def KalmanFilter1d(y, sigma2obs, sigma2x, x0, sigma2x0):\n",
      "    \"\"\"Standard Kalman filter for 1-dimensional random walk\n",
      "\n",
      "    :param y: Observations\n",
      "    :param sigma2obs: Variance of observation noise (can be scalar or vector)\n",
      "    :param sigma2x: Variance of process noise \n",
      "    :param x0: Initial value for x\n",
      "    :param sigma2x0: Variance of initial value for x\n",
      "    :param sigma2obs: Variance of observation noise\n",
      "    :return: x_prior, x_post, sigma2_prior, sigma2_post\n",
      "    \"\"\"\n",
      "    K = len(y)\n",
      "\n",
      "    sigma2obs *= np.ones(K)\n",
      "\n",
      "    x_prior = np.zeros(K) # xk|k-1\n",
      "    x_post  = np.zeros(K) # xk-1|k-1\n",
      "\n",
      "    sigma2_prior = np.zeros(K) # sigma2k|k-1\n",
      "    sigma2_post  = np.zeros(K) # sigma2k-1|k-1\n",
      "\n",
      "    x_post[-1]      = x_init\n",
      "    sigma2_post[-1] = sigma2_init \n",
      "\n",
      "    for t in range(K):\n",
      "        x_prior[t]      = x_post[t-1]\n",
      "        sigma2_prior[t] = sigma2_post[t-1] + sigma2x\n",
      "        K = sigma2_prior[t] / (sigma2_prior[t] + sigma2obs[t])\n",
      "        x_post[t]  = x_prior[t] + K * (y[t] - x_prior[t])\n",
      "        sigma2_post[t] = (1 - K) * sigma2_prior[t]\n",
      "\n",
      "    return x_prior,x_post,sigma2_prior,sigma2_post"
     ],
     "language": "python",
     "metadata": {},
     "outputs": [],
     "prompt_number": 3
    },
    {
     "cell_type": "code",
     "collapsed": false,
     "input": [
      "def FwdFilterEM1_Kalman(y, w, x_other, x_init, sigma2_init, sigma2e, direction='xr'):\n",
      "    \"\"\"Forward random walk state-space model in one direction of a 2-d xr+xk model\n",
      "\n",
      "    :param y: Observations (R, K)\n",
      "    :param w: Polya-Gamma latent variable (R, K)\n",
      "    :param x_other: Timeseries of the \"other\" state-space evolution (i.e. xk if direction=='xr' and vice versa)\n",
      "    :param x_init: Initial value for x\n",
      "    :param sigma2_init: Variance of initial value for x\n",
      "    :param sigma2e: Variance of process noise\n",
      "    :param direction: 'xr' or 'xk'\n",
      "    :return: x_prior, x_post, sigma2_prior, sigma2_post\n",
      "    \"\"\"\n",
      "    axis = 1 if direction == 'xr' else 0\n",
      "    sigma2_obs = 1. / np.sum(w, axis=axis) # observation noise\n",
      "    mu = sigma2_obs * (np.sum(y, axis=axis) - y.shape[axis]/2. - np.tensordot(x_other, w, axes=(0,axis)))\n",
      "    return KalmanFilter1d(mu, sigma2_obs, sigma2e, x_init, sigma2_init)"
     ],
     "language": "python",
     "metadata": {},
     "outputs": [],
     "prompt_number": 4
    },
    {
     "cell_type": "code",
     "collapsed": false,
     "input": [
      "# Generate test data\n",
      "R = 1000\n",
      "K = 800\n",
      "y = np.random.rand(R, K) > .8\n",
      "w = np.exp(np.random.randn(R, K)) # fake PG dist\n",
      "x_k = np.random.randn(K)\n",
      "x_init = 0\n",
      "sigma2_init = 0\n",
      "sigma2e_R = .1"
     ],
     "language": "python",
     "metadata": {},
     "outputs": [],
     "prompt_number": 5
    },
    {
     "cell_type": "code",
     "collapsed": false,
     "input": [
      "# Test the two ways to run the forward Kalman filter\n",
      "%timeit FwdFilterEM1_xr(y, np.vstack((np.zeros(K), w)), x_k, x_init, sigma2_init, sigma2e_R)\n",
      "%timeit FwdFilterEM1_Kalman(y, w, x_k, x_init, sigma2_init, sigma2e_R)\n",
      "x_prior,x_post,sigma2_prior,sigma2_post = FwdFilterEM1_xr(y, np.vstack((np.zeros(K), w)), x_k, x_init, sigma2_init, sigma2e_R)\n",
      "x_prior_,x_post_,sigma2_prior_,sigma2_post_ = FwdFilterEM1_Kalman(y, w, x_k, x_init, sigma2_init, sigma2e_R)\n",
      "assert(all(abs(x_post - x_post_) < 1e-9))"
     ],
     "language": "python",
     "metadata": {},
     "outputs": [
      {
       "output_type": "stream",
       "stream": "stdout",
       "text": [
        "100 loops, best of 3: 15.2 ms per loop\n",
        "100 loops, best of 3: 6.84 ms per loop"
       ]
      },
      {
       "output_type": "stream",
       "stream": "stdout",
       "text": [
        "\n"
       ]
      }
     ],
     "prompt_number": 6
    },
    {
     "cell_type": "markdown",
     "metadata": {},
     "source": [
      "## Speeding up the sampler \n",
      "\n",
      "The Kalman Filter-Smoother pair is equivalent to solving the following linear system\n",
      "$$\n",
      "x_{:|K} =  - J^{-1} \\, v\n",
      "$$\n",
      "where\n",
      "$$\n",
      "J = \\nabla^2 S(x), \\quad v = \\nabla S(x)\n",
      "$$\n",
      "given\n",
      "$$\n",
      "S\\left(x\\right) = -\\sum_{k=1}^{K} \\log p\\left(y_k|x_k\\right) - \\sum _{k=1}^{K} \\log p\\left(x_{k}|x_{k-1}\\right) \n",
      "$$\n",
      "(see also http://dx.doi.org/10.1007/s10827-009-0150-x).\n",
      "\n",
      "In our case J is a tri-diagonal matrix with main diagonal $D$ and sub/supra-diagonal $B$:\n",
      "$$\n",
      "D = [R_1^{-1}+2Q^{-1}, \\dots, R_{K-1}^{-1}+2Q^{-1}, R_K^{-1}+Q^{-1}]\\\\\n",
      "B = [\\dots,-Q^{-1},\\dots]\n",
      "$$\n",
      "where $R_k$ is the variance of the observation noise, and $-v$ is\n",
      "$$\n",
      "v_k = y_k / R_k.\n",
      "$$\n",
      "The posterior covariance matrix of $x$ is $J^{-1}$.\n",
      "Therefore, we can draw samples using:\n",
      "$$\n",
      "x \\sim \\mathcal{N}(- J^{-1} \\, v, J^{-1})\n",
      "$$\n",
      "\n",
      "If we define $L$ as the Cholesky factorization of $J$, i.e. $L L^t = J$, we can obtain samples as\n",
      "$$\n",
      "x = -J^{-1} \\, v + L^{-t} \\, \\eta = (L L^t)^{-1} (-v + L \\, \\eta)\n",
      "$$\n",
      "where $\\eta$ is a vector of IID standard Gaussian samples. The Cholesky factorization of a banded matrix and the following solution of $(L L^t)^{-1}(\\dots)$ are computationally very efficient."
     ]
    },
    {
     "cell_type": "code",
     "collapsed": false,
     "input": [
      "def Sample_Kalman_xr(y, w, x_k, sigma2e_R):\n",
      "    # Extracted relevant parts from Gibbs_Sampler2 from notebook 2D_Bayesian_EM (from zyzdiana)\n",
      "    R = y.shape[0]\n",
      "    x_r = np.zeros(R+1)\n",
      "    xr_prior,xr_post,sigma2r_prior,sigma2r_post = FwdFilterEM1_xr(y, w, x_k, x_init=0,sigma2_init=0,sigma2e_R=sigma2e_R)\n",
      "    mean_r = xr_post[-1]\n",
      "    var_r = sigma2r_post[-1]\n",
      "    x_r[R] = np.random.normal(loc=mean_r, scale = np.sqrt(var_r))\n",
      "    for r in xrange(R-1):\n",
      "        # update equations\n",
      "        xr_star_post = xr_post[R-r-2] + (sigma2r_post[R-r-2]/(sigma2e_R+sigma2r_post[R-r-2]))*(x_r[R-r] - xr_post[R-r-2])\n",
      "        sigma2r_star_post = 1./(1./sigma2e_R+1./sigma2r_post[R-r-2])\n",
      "\n",
      "        # Draw sample for x\n",
      "        x_r[R-r-1] = np.random.normal(loc=xr_star_post, scale = np.sqrt(sigma2r_star_post))\n",
      "    return x_r[1:]"
     ],
     "language": "python",
     "metadata": {},
     "outputs": [],
     "prompt_number": 7
    },
    {
     "cell_type": "code",
     "collapsed": false,
     "input": [
      "def Sample_Kalman_Matrix(y, w, x_other, sigma2e, direction='xr'):\n",
      "    \"\"\"Sample from posterior of state-space model in one direction of a 2-d xr+xk model\n",
      "\n",
      "    :param y: Observations (R, K)\n",
      "    :param w: Polya-Gamma latent variable (R, K)\n",
      "    :param x_other: Timeseries of the \"other\" state-space evolution (i.e. xk if direction=='xr' and vice versa)\n",
      "    :param sigma2e: Variance of process noise\n",
      "    :param direction: 'xr' or 'xk'\n",
      "    :return: ...\n",
      "    \"\"\"\n",
      "    axis = 1 if direction == 'xr' else 0\n",
      "    sigma2_obs = 1. / np.sum(w, axis=axis) # observation noise\n",
      "    gaus_obs_over_sigma2_obs = (np.sum(y, axis=axis) - y.shape[axis]/2. - np.tensordot(x_other, w, axes=(0,axis)))\n",
      "\n",
      "    # Build diagonals of information matrix\n",
      "    D = 1. / sigma2_obs + 2. / sigma2e\n",
      "    D[-1] = 1. / sigma2_obs[-1] + 1. / sigma2e\n",
      "    B = -np.ones(len(D)) / sigma2e\n",
      "    \n",
      "    # Solve, assuming x_init=0 for simplicity\n",
      "    L = linalg.cholesky_banded((D, B), lower=True)\n",
      "    iid = np.random.randn(len(x_post))[::-1]\n",
      "    L_iid = L[0] * iid\n",
      "    L_iid[1:] += L[1,:-1] * iid[:-1]\n",
      "    x_samples = linalg.cho_solve_banded([L, True], gaus_obs_over_sigma2_obs + L_iid)\n",
      "    return x_samples"
     ],
     "language": "python",
     "metadata": {},
     "outputs": [],
     "prompt_number": 8
    },
    {
     "cell_type": "code",
     "collapsed": false,
     "input": [
      "%timeit x_r = Sample_Kalman_xr(y, np.vstack((np.zeros(K), w)), x_k, sigma2e_R)\n",
      "%timeit x_r_ = Sample_Kalman_Matrix(y, w, x_k, sigma2e_R)\n",
      "state = np.random.get_state()\n",
      "x_r = Sample_Kalman_xr(y, np.vstack((np.zeros(K), w)), x_k, sigma2e_R)\n",
      "np.random.set_state(state)\n",
      "x_r_ = Sample_Kalman_Matrix(y, w, x_k, sigma2e_R)\n",
      "assert(all(abs(x_r - x_r_) < 1e-9))"
     ],
     "language": "python",
     "metadata": {},
     "outputs": [
      {
       "output_type": "stream",
       "stream": "stdout",
       "text": [
        "10 loops, best of 3: 20.2 ms per loop\n",
        "100 loops, best of 3: 2.3 ms per loop"
       ]
      },
      {
       "output_type": "stream",
       "stream": "stdout",
       "text": [
        "\n"
       ]
      }
     ],
     "prompt_number": 9
    },
    {
     "cell_type": "code",
     "collapsed": false,
     "input": [],
     "language": "python",
     "metadata": {},
     "outputs": [],
     "prompt_number": 9
    }
   ],
   "metadata": {}
  }
 ]
}