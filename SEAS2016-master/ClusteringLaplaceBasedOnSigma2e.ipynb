{
 "metadata": {
  "name": "",
  "signature": "sha256:0ddaa5bc2bfd22d77bdf31680117697d1a98bb405aac63f8c6bad43b8eea1347"
 },
 "nbformat": 3,
 "nbformat_minor": 0,
 "worksheets": [
  {
   "cells": [
    {
     "cell_type": "markdown",
     "metadata": {},
     "source": [
      "##Clustering based on $\\sigma_{\\epsilon}^2$"
     ]
    },
    {
     "cell_type": "code",
     "collapsed": false,
     "input": [
      "import numpy as np\n",
      "import scipy as sp\n",
      "import scipy.special\n",
      "import scipy.linalg\n",
      "%matplotlib inline\n",
      "import matplotlib.pyplot as plt"
     ],
     "language": "python",
     "metadata": {},
     "outputs": [],
     "prompt_number": 1
    },
    {
     "cell_type": "code",
     "collapsed": false,
     "input": [
      "# Load test data\n",
      "import pandas as pd\n",
      "dN = pd.read_csv('cluster_train_data.csv', header=None).values#[500:540]#800]\n",
      "labels = dN[:,0]\n",
      "dN = dN[:,1:]\n",
      "trials = 50"
     ],
     "language": "python",
     "metadata": {},
     "outputs": [],
     "prompt_number": 2
    },
    {
     "cell_type": "code",
     "collapsed": false,
     "input": [
      "def Do_Kalman_Likelihood_Bernoulli_LaplaceMAP(dN, sigma2e, tol=1e-8, trials=1.):\n",
      "    \"\"\"MAP solution, inverse covariance matrix, and marginal loglikelihood of state-space model\n",
      "    computed using Laplace approximation around MAP state.\n",
      "\n",
      "    :param dN: Observations (K,)\n",
      "    :param sigma2e: Variance of process noise\n",
      "    :param tol: Convergence criterion on the gradient of the log-likelihood\n",
      "    :param trials: Number of trials for binomial observations (1 for Bernoulli)\n",
      "    :return: x_map, U, marginal_loglikelihood, joint_loglikelihood\n",
      "    \"\"\"\n",
      "    x = np.zeros(dN.shape)\n",
      "    dN = dN.astype(float)\n",
      "    while True:\n",
      "        # Build gradient of joint\n",
      "        d2x = np.convolve(x, [-1, 2, -1])[1:-1]\n",
      "        d2x[-1] -= x[-1]\n",
      "        G = -dN + trials * (1. / (1. + np.exp(-x))) + d2x / sigma2e\n",
      "        # Build Hessian of joint\n",
      "        D = trials / (np.exp(x) + 2. + np.exp(-x)) + 2. / sigma2e\n",
      "        D[-1] -= 1. / sigma2e\n",
      "        B = -np.ones(len(D)) / sigma2e\n",
      "        B[0] = 0.\n",
      "        U = sp.linalg.cholesky_banded((B, D), lower=False)\n",
      "        # Check convergence\n",
      "        if np.dot(G, G) < tol:\n",
      "            x_map = x\n",
      "            break\n",
      "        # Update estimate of map\n",
      "        x -= sp.linalg.cho_solve_banded([U, False], G)\n",
      "\n",
      "    # Compute joint and marginal probabilities\n",
      "    joint_loglikelihood = (np.sum(np.log(sp.special.binom(trials, dN)) + dN * x_map - trials * np.log(1 + np.exp(x_map))) -\n",
      "                           .5 * ((np.sum(np.diff(x_map)**2) + x_map[0]**2) / sigma2e + len(dN) * np.log(2*np.pi*sigma2e)))\n",
      "    marginal_loglikelihood = len(dN)/2. * np.log(2*np.pi) + joint_loglikelihood - np.sum(np.log(U[-1]))\n",
      "    return x_map, U, marginal_loglikelihood, joint_loglikelihood"
     ],
     "language": "python",
     "metadata": {},
     "outputs": [],
     "prompt_number": 3
    },
    {
     "cell_type": "code",
     "collapsed": false,
     "input": [
      "def cov_from_chol_precision(U):\n",
      "    \"\"\"Given the Cholesky factorization (U) of the posterior precision matrix (J), with U^t * U = J,\n",
      "    return the tridiagonal part of the covariance matrix.\n",
      "\n",
      "    :param U: Cholesky factorization (U) of J, given as [0, A; D] where A is the upper diagonal and D the main diagonal\n",
      "    :return: Cov_tri: Tridiagonal part of the covariance matrix returned as [0, C_i,i+1; C_ii; C_i+1,i, 0]\n",
      "    \"\"\"\n",
      "    assert(U.shape[0] == 2 and U[0,0] == 0)\n",
      "    A, D = U # Unpack matrix into first (above) diagonal and diagonal\n",
      "    Cov_tri = np.zeros_like(U)\n",
      "    C, V = Cov_tri # Obtain _views_ into the first diagonal and diagonal\n",
      "    # Compute last element of diagonal\n",
      "    V[-1] = 1. / (D[-1] ** 2)\n",
      "    # Recursively compute other elements of main diagonal and first diagonal\n",
      "    for i in range(len(D)-1, 0, -1):\n",
      "        iD = 1. / D[i-1]\n",
      "        iDA = iD * A[i]\n",
      "        N = -iDA * V[i]\n",
      "        C[i] = N\n",
      "        V[i-1] = iD ** 2 - N * iDA\n",
      "    return Cov_tri"
     ],
     "language": "python",
     "metadata": {},
     "outputs": [],
     "prompt_number": 4
    },
    {
     "cell_type": "code",
     "collapsed": false,
     "input": [
      "def Cluster_Laplace(dN, sigma2e_init, prior_clusters, trials=1., verbose=True):\n",
      "    assert(len(sigma2e_init) == len(prior_clusters))\n",
      "    C = len(prior_clusters)\n",
      "    M, K = dN.shape\n",
      "    posterior_clusters = np.tile(prior_clusters, [M,1]).T\n",
      "    sigma2e = sigma2e_init\n",
      "    expect_log_likel_old = np.NaN\n",
      "    while True:\n",
      "        sigma2e_new = np.zeros((C, M))\n",
      "        log_prob_dNi_given_c = np.zeros((C, M))\n",
      "        for i, dN_i in enumerate(dN):\n",
      "            for c, sigma2e_c in enumerate(sigma2e):\n",
      "                x_map, U, marginal_loglik, _ = Do_Kalman_Likelihood_Bernoulli_LaplaceMAP(dN_i, sigma2e_c, trials=trials)\n",
      "                Cov_tri = cov_from_chol_precision(U)\n",
      "                sigma2e_new[c,i] = (np.sum(Cov_tri[1]) + np.dot(x_map, x_map) # E[x_k^2]\n",
      "                                   + np.sum(Cov_tri[1,:-1]) + np.dot(x_map[:-1], x_map[:-1]) # E[x_{k-1}^2]\n",
      "                                   - 2 * np.sum(Cov_tri[0]) - 2 * np.dot(x_map[1:], x_map[:-1])) / K # E[x_{k-1} * x_k]\n",
      "                log_prob_dNi_given_c[c,i] = marginal_loglik\n",
      "        expect_log_likel = np.sum(posterior_clusters * log_prob_dNi_given_c)\n",
      "        if verbose:\n",
      "            print(expect_log_likel, sigma2e)\n",
      "        if (abs(expect_log_likel - expect_log_likel_old) < 1e-6 * abs(expect_log_likel_old)):\n",
      "            break\n",
      "        expect_log_likel_old = expect_log_likel\n",
      "        sigma2e = np.sum(posterior_clusters * sigma2e_new, axis=1) / np.sum(posterior_clusters, axis=1)\n",
      "        posterior_clusters = np.exp(log_prob_dNi_given_c - np.max(log_prob_dNi_given_c, axis=0)) * prior_clusters[:,None]\n",
      "        posterior_clusters /= np.sum(posterior_clusters, axis=0)\n",
      "        prior_clusters = np.sum(posterior_clusters, axis=1) / np.sum(posterior_clusters, axis=None)\n",
      "    return sigma2e, prior_clusters, posterior_clusters, expect_log_likel"
     ],
     "language": "python",
     "metadata": {},
     "outputs": [],
     "prompt_number": 5
    },
    {
     "cell_type": "code",
     "collapsed": false,
     "input": [
      "%%time\n",
      "sigma2e_init = np.array([0.2, 0.3])\n",
      "prior_clusters = np.array([0.5, 0.5])\n",
      "sigma2e, prior_clusters, posterior_clusters, expect_log_likel = Cluster_Laplace(dN, sigma2e_init, prior_clusters, trials=trials)\n",
      "print('---- Expectation of log_likelihood -----')\n",
      "print(expect_log_likel)\n",
      "print('---- Sigma2e -----')\n",
      "print(sigma2e)\n",
      "print('---- Prior clusters (estimated) -----')\n",
      "print(prior_clusters)\n",
      "print('---- Posterior clusters -----')\n",
      "print(posterior_clusters)"
     ],
     "language": "python",
     "metadata": {},
     "outputs": [
      {
       "output_type": "stream",
       "stream": "stdout",
       "text": [
        "(-68870.519478018352, array([ 0.2,  0.3]))\n",
        "(-68404.732231694012, array([ 0.20466769,  0.29474669]))"
       ]
      },
      {
       "output_type": "stream",
       "stream": "stdout",
       "text": [
        "\n",
        "(-68290.664812596267, array([ 0.19210324,  0.31280113]))"
       ]
      },
      {
       "output_type": "stream",
       "stream": "stdout",
       "text": [
        "\n",
        "(-68197.302043965727, array([ 0.18131603,  0.32978399]))"
       ]
      },
      {
       "output_type": "stream",
       "stream": "stdout",
       "text": [
        "\n",
        "(-68120.791930149571, array([ 0.17199336,  0.34563882]))"
       ]
      },
      {
       "output_type": "stream",
       "stream": "stdout",
       "text": [
        "\n",
        "(-68058.014390064171, array([ 0.16388885,  0.3603401 ]))"
       ]
      },
      {
       "output_type": "stream",
       "stream": "stdout",
       "text": [
        "\n",
        "(-68006.44153899602, array([ 0.15680617,  0.37388846]))"
       ]
      },
      {
       "output_type": "stream",
       "stream": "stdout",
       "text": [
        "\n",
        "(-67964.01870545547, array([ 0.15058713,  0.38630582]))"
       ]
      },
      {
       "output_type": "stream",
       "stream": "stdout",
       "text": [
        "\n",
        "(-67929.077756241139, array([ 0.14510314,  0.39763071]))"
       ]
      },
      {
       "output_type": "stream",
       "stream": "stdout",
       "text": [
        "\n",
        "(-67900.262651573576, array([ 0.14024869,  0.40791396]))"
       ]
      },
      {
       "output_type": "stream",
       "stream": "stdout",
       "text": [
        "\n",
        "(-67876.47009112568, array([ 0.13593654,  0.4172149 ]))"
       ]
      },
      {
       "output_type": "stream",
       "stream": "stdout",
       "text": [
        "\n",
        "(-67856.80150293262, array([ 0.13209401,  0.42559815]))"
       ]
      },
      {
       "output_type": "stream",
       "stream": "stdout",
       "text": [
        "\n",
        "(-67840.524208063667, array([ 0.12866013,  0.43313093]))"
       ]
      },
      {
       "output_type": "stream",
       "stream": "stdout",
       "text": [
        "\n",
        "(-67827.040015908075, array([ 0.12558343,  0.439881  ]))"
       ]
      },
      {
       "output_type": "stream",
       "stream": "stdout",
       "text": [
        "\n",
        "(-67815.859836257485, array([ 0.12282022,  0.44591502]))"
       ]
      },
      {
       "output_type": "stream",
       "stream": "stdout",
       "text": [
        "\n",
        "(-67806.579544080712, array([ 0.12033316,  0.4512974 ]))"
       ]
      },
      {
       "output_type": "stream",
       "stream": "stdout",
       "text": [
        "\n",
        "(-67798.87753790486, array([ 0.11809024,  0.45608953]))"
       ]
      },
      {
       "output_type": "stream",
       "stream": "stdout",
       "text": [
        "\n",
        "(-67792.480633061001, array([ 0.11606383,  0.46034889]))"
       ]
      },
      {
       "output_type": "stream",
       "stream": "stdout",
       "text": [
        "\n",
        "(-67787.166655182475, array([ 0.11423001,  0.46412913]))"
       ]
      },
      {
       "output_type": "stream",
       "stream": "stdout",
       "text": [
        "\n",
        "(-67782.752405568957, array([ 0.11256796,  0.46747976]))"
       ]
      },
      {
       "output_type": "stream",
       "stream": "stdout",
       "text": [
        "\n",
        "(-67779.087056053482, array([ 0.1110595,  0.4704462]))"
       ]
      },
      {
       "output_type": "stream",
       "stream": "stdout",
       "text": [
        "\n",
        "(-67776.044333179947, array([ 0.10968869,  0.47306985]))"
       ]
      },
      {
       "output_type": "stream",
       "stream": "stdout",
       "text": [
        "\n",
        "(-67773.520988497417, array([ 0.10844153,  0.47538825]))"
       ]
      },
      {
       "output_type": "stream",
       "stream": "stdout",
       "text": [
        "\n",
        "(-67771.431018168427, array([ 0.10730566,  0.4774353 ]))"
       ]
      },
      {
       "output_type": "stream",
       "stream": "stdout",
       "text": [
        "\n",
        "(-67769.70237712418, array([ 0.10627013,  0.47924152]))"
       ]
      },
      {
       "output_type": "stream",
       "stream": "stdout",
       "text": [
        "\n",
        "(-67768.275561737348, array([ 0.10532522,  0.48083427]))"
       ]
      },
      {
       "output_type": "stream",
       "stream": "stdout",
       "text": [
        "\n",
        "(-67767.100791045872, array([ 0.10446229,  0.48223804]))"
       ]
      },
      {
       "output_type": "stream",
       "stream": "stdout",
       "text": [
        "\n",
        "(-67766.136497422413, array([ 0.10367364,  0.48347466]))"
       ]
      },
      {
       "output_type": "stream",
       "stream": "stdout",
       "text": [
        "\n",
        "(-67765.347932504868, array([ 0.10295236,  0.48456358]))"
       ]
      },
      {
       "output_type": "stream",
       "stream": "stdout",
       "text": [
        "\n",
        "(-67764.706019866804, array([ 0.10229228,  0.4855221 ]))"
       ]
      },
      {
       "output_type": "stream",
       "stream": "stdout",
       "text": [
        "\n",
        "(-67764.186408753114, array([ 0.10168784,  0.48636557]))"
       ]
      },
      {
       "output_type": "stream",
       "stream": "stdout",
       "text": [
        "\n",
        "(-67763.768692000769, array([ 0.10113406,  0.48710759]))"
       ]
      },
      {
       "output_type": "stream",
       "stream": "stdout",
       "text": [
        "\n",
        "(-67763.435758318883, array([ 0.10062644,  0.48776019]))"
       ]
      },
      {
       "output_type": "stream",
       "stream": "stdout",
       "text": [
        "\n",
        "(-67763.173254762834, array([ 0.10016091,  0.48833403]))"
       ]
      },
      {
       "output_type": "stream",
       "stream": "stdout",
       "text": [
        "\n",
        "(-67762.969139784807, array([ 0.0997338 ,  0.48883852]))"
       ]
      },
      {
       "output_type": "stream",
       "stream": "stdout",
       "text": [
        "\n",
        "(-67762.813310902886, array([ 0.0993418 ,  0.48928197]))"
       ]
      },
      {
       "output_type": "stream",
       "stream": "stdout",
       "text": [
        "\n",
        "(-67762.697293978767, array([ 0.09898188,  0.4896717 ]))"
       ]
      },
      {
       "output_type": "stream",
       "stream": "stdout",
       "text": [
        "\n",
        "(-67762.613983473886, array([ 0.09865132,  0.49001418]))"
       ]
      },
      {
       "output_type": "stream",
       "stream": "stdout",
       "text": [
        "\n",
        "(-67762.557424978499, array([ 0.09834762,  0.4903151 ]))"
       ]
      },
      {
       "output_type": "stream",
       "stream": "stdout",
       "text": [
        "\n",
        "---- Expectation of log_likelihood -----\n",
        "-67762.557425\n",
        "---- Sigma2e -----\n",
        "[ 0.09834762  0.4903151 ]\n",
        "---- Prior clusters (estimated) -----\n",
        "[ 0.5  0.5]\n",
        "---- Posterior clusters -----\n",
        "[[  1.00000000e+000   1.00000000e+000   1.00000000e+000   1.00000000e+000\n",
        "    1.00000000e+000   1.00000000e+000   1.00000000e+000   1.00000000e+000\n",
        "    1.00000000e+000   1.00000000e+000   1.63479265e-159   5.11836784e-093\n",
        "    4.73368628e-094   2.46892845e-157   8.24505700e-141   3.28256169e-064\n",
        "    2.38872264e-125   1.63200865e-054   2.52995319e-122   2.47834375e-132]\n",
        " [  4.04771254e-072   5.76310708e-068   1.56666738e-084   7.95612044e-043\n",
        "    2.84217488e-082   1.51082231e-072   1.58495012e-050   2.00566707e-072\n",
        "    3.23386408e-052   9.85003652e-052   1.00000000e+000   1.00000000e+000\n",
        "    1.00000000e+000   1.00000000e+000   1.00000000e+000   1.00000000e+000\n",
        "    1.00000000e+000   1.00000000e+000   1.00000000e+000   1.00000000e+000]]\n",
        "CPU times: user 15.8 s, sys: 284 ms, total: 16.1 s\n",
        "Wall time: 15.8 s\n"
       ]
      }
     ],
     "prompt_number": 6
    },
    {
     "cell_type": "code",
     "collapsed": false,
     "input": [
      "s2e = np.arange(.03, 1.3, .01)\n",
      "marginal_loglik = np.zeros_like(s2e)\n",
      "loglik_s1_s2 = np.zeros([len(s2e) , len(s2e)])\n",
      "col = ['', 'r', 'g', 'b']\n",
      "for i, dN_i in enumerate(dN):\n",
      "    for j in range(len(s2e)):\n",
      "        marginal_loglik[j] = Do_Kalman_Likelihood_Bernoulli_LaplaceMAP(dN_i, s2e[j], trials=trials)[2]\n",
      "    offset = np.max(marginal_loglik)\n",
      "    marginal_lik = np.exp(marginal_loglik - offset)\n",
      "    loglik_s1_s2 += offset + np.log(.5 * (marginal_lik[None,:] + marginal_lik[:,None]))\n",
      "plt.contour(s2e, s2e, loglik_s1_s2)"
     ],
     "language": "python",
     "metadata": {},
     "outputs": [
      {
       "metadata": {},
       "output_type": "pyout",
       "prompt_number": 7,
       "text": [
        "<matplotlib.contour.QuadContourSet at 0x7facb06dbbd0>"
       ]
      },
      {
       "metadata": {},
       "output_type": "display_data",
       "png": "[encoded data removed]",
       "text": [
        "<matplotlib.figure.Figure at 0x7facb0760950>"
       ]
      }
     ],
     "prompt_number": 7
    },
    {
     "cell_type": "code",
     "collapsed": false,
     "input": [],
     "language": "python",
     "metadata": {},
     "outputs": [],
     "prompt_number": 7
    }
   ],
   "metadata": {}
  }
 ]
}