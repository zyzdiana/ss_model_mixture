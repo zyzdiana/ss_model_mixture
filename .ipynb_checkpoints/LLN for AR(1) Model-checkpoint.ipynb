{
 "cells": [
  {
   "cell_type": "markdown",
   "metadata": {},
   "source": [
    "## Proof of Law of Large Number for AR(1) model"
   ]
  },
  {
   "cell_type": "markdown",
   "metadata": {},
   "source": [
    "$$\\left\\{\n",
    "\\begin{array}{ll}\n",
    "x_t = \\rho x_{t-1} + \\epsilon_t, \\epsilon_t \\sim N(0,\\sigma^2_{\\epsilon}) \\\\\n",
    "y_t = \\mu + x_t\\\\\n",
    "\\end{array} \n",
    "\\right. $$"
   ]
  },
  {
   "cell_type": "markdown",
   "metadata": {},
   "source": [
    "### Theorem: If  $|\\rho|<1$, the initialization satisfies $x_0 \\sim N(0,\\frac{\\sigma_{\\epsilon}^2}{1-\\rho^2})$\n",
    "\n",
    "### then $\\lim _{T \\rightarrow \\infty} \\frac{1}{T} \\sum_{t=0}^{T-1} y_t = \\mu$"
   ]
  },
  {
   "cell_type": "markdown",
   "metadata": {},
   "source": [
    "Proof. It is equivalent to show $\\lim _{T \\rightarrow \\infty} \\frac{1}{T} \\sum_{t=0}^{T-1} x_t = 0$\n",
    "\n",
    "Denote covariance $\\gamma_{st}= E[x_s x_t]$"
   ]
  },
  {
   "cell_type": "markdown",
   "metadata": {},
   "source": [
    "#### NTS: $\\sum_{t=0}^{\\infty}|\\gamma_{st}| < \\infty$, and then use Chebychev's inequality\n"
   ]
  },
  {
   "cell_type": "markdown",
   "metadata": {},
   "source": [
    "Since $|\\rho| < 1$, it is stationary\n",
    "\n",
    "$\\gamma_{st} = (\\frac{1}{1-\\rho^2})\\rho^{|t-s|}\\sigma_{\\epsilon}^2$\n",
    "\n",
    "$\\sum_{t=0}^{\\infty}|\\gamma_{st}| \\leq c \\le \\infty$"
   ]
  },
  {
   "cell_type": "markdown",
   "metadata": {},
   "source": [
    "Let $S_T$ be the sum of the first T $x_t$'s and set $\\bar{X_T}=\\frac{S_T}{T}$. The variance of $S_T$ is\n",
    "\n",
    "\\begin{align*}\n",
    "E[S_T^2] &= \\sum_{s=0}^{T-1} \\sum_{t=0}^{T-1} E[X_s X_t]\\\\\n",
    "&\\leq \\sum_{s=0}^{T-1} \\sum_{t=0}^{\\infty} |\\gamma_{st}|\\\\\n",
    "& \\leq Tc\n",
    "\\end{align*}"
   ]
  },
  {
   "cell_type": "markdown",
   "metadata": {},
   "source": [
    "so $\\bar{X_t}$ has variance  $V[\\bar{X_t}]\\leq c/T$, by Chebychev's inequality"
   ]
  },
  {
   "cell_type": "markdown",
   "metadata": {},
   "source": [
    "\\begin{align*}\n",
    "P[|\\bar{X_T}| > \\epsilon] &\\leq \\frac{E[\\bar{X_T}^2]}{\\epsilon^2}\\\\\n",
    "&= \\frac{S_T^2}{T^2\\epsilon^2}\\\\\n",
    "&\\leq \\frac{Tc}{T^2\\epsilon^2}\\\\\n",
    "&= \\frac{c}{T\\epsilon^2} \\rightarrow 0,\\ \\  as \\ T \\rightarrow \\ 0\n",
    "\\end{align*}"
   ]
  },
  {
   "cell_type": "markdown",
   "metadata": {},
   "source": [
    "Strong LLN follows just as for iid random variables."
   ]
  },
  {
   "cell_type": "code",
   "execution_count": null,
   "metadata": {
    "collapsed": true
   },
   "outputs": [],
   "source": []
  }
 ],
 "metadata": {
  "kernelspec": {
   "display_name": "Python 2",
   "language": "python",
   "name": "python2"
  },
  "language_info": {
   "codemirror_mode": {
    "name": "ipython",
    "version": 2
   },
   "file_extension": ".py",
   "mimetype": "text/x-python",
   "name": "python",
   "nbconvert_exporter": "python",
   "pygments_lexer": "ipython2",
   "version": "2.7.11"
  }
 },
 "nbformat": 4,
 "nbformat_minor": 0
}
