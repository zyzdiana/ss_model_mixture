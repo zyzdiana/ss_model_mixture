{
 "cells": [
  {
   "cell_type": "code",
   "execution_count": 1,
   "metadata": {
    "collapsed": true
   },
   "outputs": [],
   "source": [
    "%load_ext autoreload\n",
    "%autoreload 2\n",
    "%reload_ext autoreload"
   ]
  },
  {
   "cell_type": "code",
   "execution_count": 26,
   "metadata": {
    "collapsed": true
   },
   "outputs": [],
   "source": [
    "#!python\n",
    "from numpy import *\n",
    "from numpy.random import *\n",
    "%matplotlib inline\n",
    "import os\n",
    "import time\n",
    "import numpy as np\n",
    "import pandas as pd\n",
    "import sys\n",
    "import cPickle as pickle\n",
    "from   random import *\n",
    "import scipy.stats\n",
    "import matplotlib.pyplot as plt\n",
    "import pyparticleest.utils.kalman as kalman\n",
    "\n",
    "import numpy as np\n",
    "import scipy as sp\n",
    "import scipy.special\n",
    "import scipy.linalg"
   ]
  },
  {
   "cell_type": "markdown",
   "metadata": {},
   "source": [
    "# Exact Result by Kalman Filter"
   ]
  },
  {
   "cell_type": "code",
   "execution_count": 3,
   "metadata": {
    "collapsed": true
   },
   "outputs": [],
   "source": [
    "def KalFilt(y,sigma2v,sigma2e,xbar0,sigma20):\n",
    "    \n",
    "    # signal length\n",
    "    K = y.shape[0]\n",
    "    \n",
    "    #filter data structures\n",
    "    xprior = zeros(K,dtype=float) # one-step prediction: xprior[k] = x_{k|k-1}\n",
    "    s2prior = zeros(K,dtype=float) # \\sigma^2_{k|k-1}\n",
    "    \n",
    "    xpost = zeros(K,dtype=float) # posterior at time k: xpost[k] = x_{k|k}\n",
    "    s2post = zeros(K,dtype=float) # \\sigma^2_{k|k}\n",
    "\n",
    "    for k in range(K):\n",
    "        \n",
    "        if k == 1:\n",
    "            xprior[k] = xbar0\n",
    "            s2prior[k] = sigma20 + sigma2e\n",
    "        else:\n",
    "            xprior[k] = xpost[k-1]\n",
    "            s2prior[k] = s2post[k-1] + sigma2e\n",
    "        \n",
    "        ck = s2prior[k]/(sigma2v + s2prior[k])\n",
    "        \n",
    "        xpost[k] = xprior[k] + ck*(y[k]-xprior[k])\n",
    "        \n",
    "        s2post[k] = 1.0/(1.0/sigma2v + 1.0/s2prior[k])\n",
    "        \n",
    "    v = (sigma2v + s2prior)\n",
    "    #llhd = sum(log(normpdf(y,xprior, v**0.5 )))\n",
    "    llhd = -K/2. * np.log(2*np.pi) - .5*np.sum(np.log(v)) - .5 * np.sum((y - xprior)**2 / v)\n",
    "\n",
    "    return (xpost,s2post,llhd,)\n",
    "    return (xpost,s2post)\n",
    "    return llhd"
   ]
  },
  {
   "cell_type": "code",
   "execution_count": 79,
   "metadata": {
    "collapsed": true
   },
   "outputs": [],
   "source": [
    "mat = np.loadtxt('train_data.txt')\n",
    "Y = mat[19,1:]\n",
    "T = len(Y)"
   ]
  },
  {
   "cell_type": "code",
   "execution_count": 5,
   "metadata": {
    "collapsed": true
   },
   "outputs": [],
   "source": [
    "sigma2v = 5.0"
   ]
  },
  {
   "cell_type": "code",
   "execution_count": 63,
   "metadata": {
    "collapsed": false,
    "scrolled": true
   },
   "outputs": [
    {
     "name": "stdout",
     "output_type": "stream",
     "text": [
      "[ 0.01  0.02  0.03  0.04  0.05  0.06  0.07  0.08  0.09  0.1   0.11  0.12\n",
      "  0.13  0.14  0.15  0.16  0.17  0.18  0.19  0.2   0.21  0.22  0.23  0.24\n",
      "  0.25  0.26  0.27  0.28  0.29  0.3   0.31  0.32  0.33  0.34  0.35  0.36\n",
      "  0.37  0.38  0.39  0.4   0.41  0.42  0.43  0.44  0.45  0.46  0.47  0.48\n",
      "  0.49  0.5 ]\n"
     ]
    }
   ],
   "source": [
    "sigma2e = np.arange(0.01, 0.51, 0.01)\n",
    "print sigma2e"
   ]
  },
  {
   "cell_type": "code",
   "execution_count": 80,
   "metadata": {
    "collapsed": false
   },
   "outputs": [],
   "source": [
    "loglikelihood = np.empty(len(sigma2e))\n",
    "for i in range(len(sigma2e)): \n",
    "    sigma = sigma2e[i]\n",
    "    [xpost, s2post, llhdKal] = KalFilt(Y, sigma2v, sigma, 0.0, sigma)\n",
    "    loglikelihood[i] = llhdKal"
   ]
  },
  {
   "cell_type": "code",
   "execution_count": 92,
   "metadata": {
    "collapsed": false
   },
   "outputs": [
    {
     "data": {
      "text/plain": [
       "<matplotlib.legend.Legend at 0x108e3da50>"
      ]
     },
     "execution_count": 92,
     "metadata": {},
     "output_type": "execute_result"
    },
    {
     "data": {
      "image/png": "[encoded data removed]",
      "text/plain": [
       "<matplotlib.figure.Figure at 0x10be86790>"
      ]
     },
     "metadata": {},
     "output_type": "display_data"
    }
   ],
   "source": [
    "plt.plot(loglikelihood,'g-',linewidth=2.0, label='Kalman')\n",
    "plt.plot(loglikelihood_withresampling,'b-',linewidth=2.0, label='Resampling')\n",
    "plt.plot(loglikelihood_withoutresampling,'r-',linewidth=2.0, label='Without-Resampling')\n",
    "plt.plot(loglikelihood_oldpf,'y-',linewidth=2.0, label='Old-PF')\n",
    "plt.legend(loc='best')"
   ]
  },
  {
   "cell_type": "code",
   "execution_count": null,
   "metadata": {
    "collapsed": true
   },
   "outputs": [],
   "source": []
  },
  {
   "cell_type": "markdown",
   "metadata": {},
   "source": [
    "# PF with Resampling"
   ]
  },
  {
   "cell_type": "code",
   "execution_count": 13,
   "metadata": {
    "collapsed": true
   },
   "outputs": [],
   "source": [
    "def resample(weights):\n",
    "  n = len(weights)\n",
    "  indices = []\n",
    "  C = [0.] + [sum(weights[:i+1]) for i in range(n)]\n",
    "  u0, j = random(), 0\n",
    "  for u in [(u0+i)/n for i in range(n)]:\n",
    "    while u > C[j]:\n",
    "      j+=1\n",
    "    indices.append(j-1)\n",
    "  return indices"
   ]
  },
  {
   "cell_type": "code",
   "execution_count": null,
   "metadata": {
    "collapsed": true
   },
   "outputs": [],
   "source": []
  },
  {
   "cell_type": "code",
   "execution_count": 15,
   "metadata": {
    "collapsed": true
   },
   "outputs": [],
   "source": [
    "def gaussian(X, Q):\n",
    "    #log-pdf of p(x_t|x_{t-1})\n",
    "    return -0.5 * (l2pi + np.log(Q) + (X ** 2) / Q)"
   ]
  },
  {
   "cell_type": "code",
   "execution_count": 59,
   "metadata": {
    "collapsed": true
   },
   "outputs": [],
   "source": [
    "def Do_Kalman_Likelihood(y, sigma2obs, sigma2e):\n",
    "    \"\"\"MAP solution, inverse covariance matrix, and marginal loglikelihood of state-space model\n",
    "\n",
    "    :param y: Observations (K,)\n",
    "    :param sigma2obs: Variance of observation noise (can be scalar or vector)\n",
    "    :param sigma2e: Variance of process noise\n",
    "    :return: x_map, L, marginal_loglikelihood, joint_loglikelihood\n",
    "    \"\"\"\n",
    "    # Build diagonals of information matrix\n",
    "    sigma2obs *= np.ones(len(y))\n",
    "    D = 1. / sigma2obs + 2. / sigma2e\n",
    "    D[-1] = 1. / sigma2obs[-1] + 1. / sigma2e\n",
    "    B = -np.ones(len(D)) / sigma2e\n",
    "    B[0] = 0.\n",
    "    \n",
    "    # Solve, assuming x_init=0 for simplicity\n",
    "    #L = sp.linalg.cholesky_banded((D, B), lower=True)\n",
    "    U = sp.linalg.cholesky_banded((B, D), lower=False)\n",
    "\n",
    "    x_map = sp.linalg.cho_solve_banded([U, False], y / sigma2obs)\n",
    "\n",
    "    # Compute joint and marginal probabilities\n",
    "    joint_loglikelihood = -.5 * ((np.sum(np.diff(x_map)**2) + x_map[0]**2) / sigma2e +\n",
    "                                 np.sum((y - x_map)**2 / sigma2obs) +\n",
    "                                 (len(y) * np.log(2*np.pi*sigma2e * 2*np.pi) + np.sum(np.log(sigma2obs))))\n",
    "    marginal_loglikelihood = len(y)/2. * np.log(2*np.pi) + joint_loglikelihood - np.sum(np.log(U[-1]))\n",
    "    return x_map, U, marginal_loglikelihood, joint_loglikelihood"
   ]
  },
  {
   "cell_type": "code",
   "execution_count": 66,
   "metadata": {
    "collapsed": true
   },
   "outputs": [],
   "source": [
    "# Forward particles\n",
    "N = 1000\n",
    "#\n",
    "l2pi = math.log(2 * math.pi)\n"
   ]
  },
  {
   "cell_type": "code",
   "execution_count": 82,
   "metadata": {
    "collapsed": false
   },
   "outputs": [],
   "source": [
    "loglikelihood_withresampling = np.empty(len(sigma2e))"
   ]
  },
  {
   "cell_type": "code",
   "execution_count": 83,
   "metadata": {
    "collapsed": true
   },
   "outputs": [],
   "source": [
    "def filtering(Y, Q, mode, variance):\n",
    "    samples = np.random.normal(0,1,[T+1,N])\n",
    "    w = np.empty([T,N])\n",
    "    W = np.empty([T,N])\n",
    "    X = np.reshape (np.repeat(mode,N),[T+1,N]) + samples * np.reshape (np.repeat(np.sqrt(variance),N),[T+1,N])\n",
    "    ancestor = np.empty([T+1,N])\n",
    "    ancestor[0,:] = X[0,:]\n",
    "    for t in range(T):\n",
    "        w[t,:] = gaussian(Y[t]-X[t+1,:], sigma2v) + gaussian(X[t+1,:]-ancestor[t,:], Q) - gaussian(X[t+1,:]-mode[t+1], variance[t+1])\n",
    "        W[t,:] = np.exp(w[t,:] - np.max(w[t,:])) \n",
    "        W[t,:] = W[t,:]/ np.sum(W[t,:])\n",
    "        ancestor[t+1,:]= X[t+1,resample(W[t,:])]\n",
    "        \n",
    "    return X, w, W, ancestor"
   ]
  },
  {
   "cell_type": "code",
   "execution_count": 88,
   "metadata": {
    "collapsed": false
   },
   "outputs": [],
   "source": [
    "for i in range(len(sigma2e)):\n",
    "    Q = sigma2e[i]\n",
    "    [x_map, U, marginal_loglikelihood, joint_loglikelihood] = Do_Kalman_Likelihood(Y, sigma2v, Q) \n",
    "    mode = np.empty(T+1)\n",
    "    variance = np.empty(T+1)\n",
    "    mode[0] = 0\n",
    "    variance[0] = P0\n",
    "    for t in range(T):\n",
    "        mode[t+1] = x_map[t]\n",
    "        variance[t+1] = U[1][t]\n",
    "        \n",
    "    [X, w, W, ancestor] = filtering(Y, Q, mode, variance)\n",
    "    maxlogweight = np.max(w, axis=1)\n",
    "    weight = np.exp(w - np.reshape(np.repeat(maxlogweight, N),(T, N)))\n",
    "    loglikelihood_withresampling[i] = np.sum(np.log(np.sum(weight, axis = 1)/N))+np.sum(maxlogweight)"
   ]
  },
  {
   "cell_type": "code",
   "execution_count": null,
   "metadata": {
    "collapsed": true
   },
   "outputs": [],
   "source": []
  },
  {
   "cell_type": "code",
   "execution_count": null,
   "metadata": {
    "collapsed": true
   },
   "outputs": [],
   "source": []
  },
  {
   "cell_type": "markdown",
   "metadata": {},
   "source": [
    "# PF without Resampling"
   ]
  },
  {
   "cell_type": "code",
   "execution_count": 56,
   "metadata": {
    "collapsed": false
   },
   "outputs": [],
   "source": [
    "def filtering_withoutresampling(Y, Q, mode, variance):\n",
    "    samples = np.random.normal(0,1,[T+1,N])\n",
    "    X = np.reshape (np.repeat(mode,N),[T+1,N]) + samples * np.reshape (np.repeat(np.sqrt(variance),N),[T+1,N])\n",
    "    #X = np.reshape (np.repeat(mode,N),[T+1,N]) + samples * np.reshape (np.repeat(np.sqrt(variance + Q),N),[T+1,N])\n",
    "    w = gaussian(np.reshape(np.repeat(Y,N),[T,N])-X[1:], sigma2v) + gaussian(np.diff(X, axis = 0), Q) - gaussian(X[1:]-np.reshape (np.repeat(mode[1:], N) ,[T,N]), np.reshape (np.repeat(variance[1:], N) ,[T,N]))\n",
    "    W = np.exp(w - np.reshape(np.repeat(np.max(w, axis =1), N), [T,N])) \n",
    "    W = W/ np.reshape(np.repeat(np.sum(W, axis =1), N), [T,N])\n",
    "    return X, w, W"
   ]
  },
  {
   "cell_type": "code",
   "execution_count": 86,
   "metadata": {
    "collapsed": false
   },
   "outputs": [],
   "source": [
    "loglikelihood_withoutresampling = np.empty(len(sigma2e))\n",
    "for i in range(len(sigma2e)):\n",
    "    Q = sigma2e[i]\n",
    "    [x_map, U, marginal_loglikelihood, joint_loglikelihood] = Do_Kalman_Likelihood(Y, sigma2v, Q) \n",
    "    mode = np.empty(T+1)\n",
    "    variance = np.empty(T+1)\n",
    "    mode[0] = 0\n",
    "    variance[0] = P0\n",
    "    for t in range(T):\n",
    "        mode[t+1] = x_map[t]\n",
    "        variance[t+1] = U[1][t]\n",
    "        \n",
    "    [X, w, W] = filtering_withoutresampling(Y, Q, mode, variance)\n",
    "    maxlogweight = np.max(w, axis=1)\n",
    "    weight = np.exp(w - np.reshape(np.repeat(maxlogweight, N),(T, N)))\n",
    "    loglikelihood_withoutresampling[i] = np.sum(np.log(np.sum(weight, axis = 1)/N))+np.sum(maxlogweight)"
   ]
  },
  {
   "cell_type": "code",
   "execution_count": null,
   "metadata": {
    "collapsed": true
   },
   "outputs": [],
   "source": []
  },
  {
   "cell_type": "markdown",
   "metadata": {},
   "source": [
    "# Old - PF"
   ]
  },
  {
   "cell_type": "code",
   "execution_count": 75,
   "metadata": {
    "collapsed": true
   },
   "outputs": [],
   "source": [
    "def filtering_old(Y, Q):\n",
    "    samples = np.random.normal(0,1,[T+1,N])\n",
    "    X[0,:] = samples[0,:] * np.sqrt(Q)\n",
    "    w = np.empty([T,N])\n",
    "    W = np.empty([T,N])\n",
    "    ancestor = np.empty([T+1,N])\n",
    "    ancestor[0,:] = X[0,:]\n",
    "    for t in range(T):\n",
    "        X[t+1,:] = ancestor[t,:] + np.sqrt(Q) * samples[t+1,:]\n",
    "        w[t,:] = gaussian(Y[t]-X[t+1,:], sigma2v)\n",
    "        W[t,:] = np.exp(w[t,:] - np.max(w[t,:])) \n",
    "        W[t,:] = W[t,:]/ np.sum(W[t,:])\n",
    "        ancestor[t+1,:]= X[t+1,resample(W[t,:])]\n",
    "        \n",
    "    return X, w, W, ancestor"
   ]
  },
  {
   "cell_type": "code",
   "execution_count": 91,
   "metadata": {
    "collapsed": false
   },
   "outputs": [],
   "source": [
    "loglikelihood_oldpf = np.empty(len(sigma2e))\n",
    "for i in range(len(sigma2e)):\n",
    "    Q = sigma2e[i]\n",
    "        \n",
    "    [X, w, W, ancestor] = filtering_old(Y, Q)\n",
    "    maxlogweight = np.max(w, axis=1)\n",
    "    weight = np.exp(w - np.reshape(np.repeat(maxlogweight, N),(T, N)))\n",
    "    loglikelihood_oldpf[i] = np.sum(np.log(np.sum(weight, axis = 1)/N))+np.sum(maxlogweight)"
   ]
  },
  {
   "cell_type": "code",
   "execution_count": null,
   "metadata": {
    "collapsed": true
   },
   "outputs": [],
   "source": []
  }
 ],
 "metadata": {
  "kernelspec": {
   "display_name": "Python 2",
   "language": "python",
   "name": "python2"
  },
  "language_info": {
   "codemirror_mode": {
    "name": "ipython",
    "version": 2
   },
   "file_extension": ".py",
   "mimetype": "text/x-python",
   "name": "python",
   "nbconvert_exporter": "python",
   "pygments_lexer": "ipython2",
   "version": "2.7.11"
  }
 },
 "nbformat": 4,
 "nbformat_minor": 0
}
