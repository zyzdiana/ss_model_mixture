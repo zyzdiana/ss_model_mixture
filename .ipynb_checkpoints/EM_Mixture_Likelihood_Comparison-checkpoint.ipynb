{
 "cells": [
  {
   "cell_type": "code",
   "execution_count": 1,
   "metadata": {
    "collapsed": true
   },
   "outputs": [],
   "source": [
    "%load_ext autoreload\n",
    "%autoreload 2\n",
    "%reload_ext autoreload"
   ]
  },
  {
   "cell_type": "code",
   "execution_count": 2,
   "metadata": {
    "collapsed": false
   },
   "outputs": [
    {
     "name": "stderr",
     "output_type": "stream",
     "text": [
      "//anaconda/lib/python2.7/site-packages/matplotlib/__init__.py:872: UserWarning: axes.color_cycle is deprecated and replaced with axes.prop_cycle; please use the latter.\n",
      "  warnings.warn(self.msg_depr % (key, alt_key))\n"
     ]
    }
   ],
   "source": [
    "%matplotlib inline\n",
    "import os\n",
    "import time\n",
    "import numpy as np\n",
    "import pandas as pd\n",
    "import sys\n",
    "import cPickle as pickle\n",
    "from   random import *\n",
    "import scipy.stats\n",
    "import matplotlib.pyplot as plt\n",
    "sys.path.insert(1,'./code')\n",
    "from visualize import plot_raw_data, get_population_data, plot_results\n",
    "from EM import TransformToProb, RunEM\n",
    "import pyparticleest.models.nlg as nlg\n",
    "import pyparticleest.simulator as simulator\n",
    "import pyparticleest.utils.kalman as kalman\n",
    "from scipy.stats import bernoulli"
   ]
  },
  {
   "cell_type": "code",
   "execution_count": 3,
   "metadata": {
    "collapsed": true
   },
   "outputs": [],
   "source": [
    "class StdNonLin(nlg.NonlinearGaussianInitialGaussian):\n",
    "    # x_{k+1} = x_k  + v_k = f(x_k) + v_k,\n",
    "    # y_k = 0 + e_k = g(x_k) + e_k,\n",
    "    # x(0) ~ N(0,P0), v_k ~ N(0,Q), e_k ~ Binom(50,\\exp(x_{k})/(1+\\exp(x_{k})))\n",
    "\n",
    "    def __init__(self, P0, Q):\n",
    "    # Set covariances in the constructor since they\n",
    "    # are constant\n",
    "        super(StdNonLin, self).__init__(Px0=P0, Q=Q)\n",
    "\n",
    "    def calc_g(self, particles, t):\n",
    "    # Calculate value of g(\\xi_t,t)\n",
    "         return np.zeros([len(particles),1])\n",
    "    \n",
    "    def calc_f(self, particles, u, t):\n",
    "    # Calculate value of f(xi_t,t)\n",
    "        return particles\n",
    "    \n",
    "    def measure(self, particles, y, t):\n",
    "        \"\"\"\n",
    "        Return the log-pdf value of the measurement\n",
    "        Args:\n",
    "         - particles  (array-like): Model specific representation\n",
    "           of all particles, with first dimension = N (number of particles)\n",
    "         - y (array-like):  measurement\n",
    "         - t (float): time-stamp\n",
    "        Returns:\n",
    "         (array-like) with first dimension = N, logp(y|x^i)\n",
    "        \"\"\"\n",
    "        N = len(particles)\n",
    "        trial = 50\n",
    "        yrep = np.repeat(np.asarray(y), N, 0)\n",
    "        coefficient = scipy.special.binom(trial, yrep)\n",
    "        #lpy = scipy.stats.binom.logpmf(yrep,50,np.exp(particles[:,0])/(1.0 + np.exp(particles[:,0])),loc=0)\n",
    "        lpy = np.log(coefficient) + yrep * particles[:,0] - trial * np.log(1 + np.exp(particles[:,0]))\n",
    "        return lpy"
   ]
  },
  {
   "cell_type": "code",
   "execution_count": 64,
   "metadata": {
    "collapsed": false
   },
   "outputs": [
    {
     "name": "stdout",
     "output_type": "stream",
     "text": [
      "[ 0.01  0.06  0.11  0.16  0.21  0.26  0.31  0.36  0.41  0.46  0.51  0.56]\n"
     ]
    }
   ],
   "source": [
    "# Forward particles\n",
    "N = 100\n",
    "# Backward trajectories\n",
    "M = 30\n",
    "# trials\n",
    "trial = 50\n",
    "# cluster\n",
    "cluster = 2\n",
    "\n",
    "sigma_ls = np.arange(0.61, 0.91, 0.05)\n",
    "pi_ls = 0.5\n",
    "\n",
    "print sigma_ls"
   ]
  },
  {
   "cell_type": "code",
   "execution_count": 13,
   "metadata": {
    "collapsed": false
   },
   "outputs": [
    {
     "name": "stdout",
     "output_type": "stream",
     "text": [
      "(20, 3000)\n"
     ]
    }
   ],
   "source": [
    "mat = np.loadtxt('train_data.txt')\n",
    "Y = mat[:,1:]\n",
    "T = Y.shape[1]\n",
    "n = Y.shape[0]\n",
    "print Y.shape"
   ]
  },
  {
   "cell_type": "code",
   "execution_count": 8,
   "metadata": {
    "collapsed": true
   },
   "outputs": [],
   "source": [
    "loglikelihood = np.empty([len(sigma_ls),n])"
   ]
  },
  {
   "cell_type": "code",
   "execution_count": 35,
   "metadata": {
    "collapsed": false
   },
   "outputs": [],
   "source": [
    "for i in range(len(sigma_ls)):\n",
    "    for j in range(n):\n",
    "        P0 = sigma_ls[i] * np.eye(1)\n",
    "        Q = sigma_ls[i] * np.eye(1)\n",
    "        model = StdNonLin(P0, Q)\n",
    "        sim = simulator.Simulator(model,u=None,y=Y[j,:])\n",
    "        #sim = unnormalizedSimulator(model, u=None, y=Y)\n",
    "        sim.simulate(N, M, filter='PF', smoother='ancestor', meas_first=False)\n",
    "        (est_filt, w_filt) = sim.get_filtered_estimates()\n",
    "        #weight=np.exp(logweight)\n",
    "        #maxlogweight = np.max(w_unnormalized,axis=1)\n",
    "        #weight = np.exp(w_unnormalized - np.reshape(np.repeat(maxlogweight, N),(T, N)))\n",
    "        www = scipy.stats.binom.logpmf(np.reshape(np.repeat(Y[j,:],N),[T,N]),trial, np.exp(est_filt[1:,:,0])/(1.0 + np.exp(est_filt[1:,:,0])), loc=0)\n",
    "        maxlogweight = np.max(www,axis=1)\n",
    "        weight = np.exp(www - np.reshape(np.repeat(maxlogweight, N),(T, N)))\n",
    "        loglikelihood[i,j]=np.sum(np.log(np.sum(weight, axis = 1)/N)) + np.sum(maxlogweight)\n",
    "        #loglikelihood[i]=np.sum(np.log(np.sum(weight, axis = 1)/N))"
   ]
  },
  {
   "cell_type": "code",
   "execution_count": null,
   "metadata": {
    "collapsed": true
   },
   "outputs": [],
   "source": []
  },
  {
   "cell_type": "code",
   "execution_count": null,
   "metadata": {
    "collapsed": true
   },
   "outputs": [],
   "source": []
  },
  {
   "cell_type": "code",
   "execution_count": null,
   "metadata": {
    "collapsed": true
   },
   "outputs": [],
   "source": []
  },
  {
   "cell_type": "code",
   "execution_count": 37,
   "metadata": {
    "collapsed": false
   },
   "outputs": [
    {
     "data": {
      "text/plain": [
       "array([[-5795.38364651, -3591.0841109 , -4640.49556489, -3393.5277233 ,\n",
       "        -5066.98792017, -4750.78377194, -4132.05746608, -3740.51149302,\n",
       "        -4173.27315449, -5430.17980236, -8941.99008152, -5574.40407206,\n",
       "        -5284.52917405, -7031.70009893, -5323.39334174, -5457.66696969,\n",
       "        -7501.13235464, -3562.39366942, -5214.68204713, -6967.14492743],\n",
       "       [-4128.12301053, -3250.66898133, -4181.13814467, -3072.03302048,\n",
       "        -4825.91749038, -4333.94788465, -3891.99566725, -3295.21630576,\n",
       "        -3198.60626775, -4071.20518959, -4778.88126351, -3758.78426523,\n",
       "        -3322.44404988, -4834.32273421, -4734.05041105, -4314.41062125,\n",
       "        -5557.40373559, -2941.1032557 , -3487.53599868, -4260.2112603 ],\n",
       "       [-4053.62164736, -3260.6759095 , -4193.76892326, -3044.91190478,\n",
       "        -4796.31131454, -4315.36875211, -3865.4479337 , -3295.95930748,\n",
       "        -3166.63373318, -3940.04358589, -3468.65251365, -3302.0619072 ,\n",
       "        -2953.37953088, -4391.04886692, -4565.13995253, -4101.87861805,\n",
       "        -5127.4119088 , -2754.78851858, -3274.66830568, -3682.53958081],\n",
       "       [-4053.93464988, -3265.24082694, -4212.94241262, -3032.72048137,\n",
       "        -4794.58702206, -4304.67188779, -3875.75042639, -3321.80855146,\n",
       "        -3163.35441349, -3934.48843093, -2737.24315666, -3231.83810189,\n",
       "        -2738.4600519 , -4067.54578677, -4418.09915475, -4071.50760606,\n",
       "        -4788.82109689, -2739.37225278, -3033.32836536, -3528.83003808],\n",
       "       [-4092.1024047 , -3286.68167462, -4230.48231689, -3054.20707432,\n",
       "        -4841.24519874, -4323.65328723, -3882.11806462, -3344.23426407,\n",
       "        -3177.81467136, -3952.51704845, -2647.38634356, -3159.28150052,\n",
       "        -2645.27204225, -4024.28323021, -4401.14964294, -4026.94245428,\n",
       "        -4701.23950283, -2625.63610659, -2958.66877992, -3343.0998579 ],\n",
       "       [-4096.16703498, -3315.06157141, -4255.17309495, -3052.12223204,\n",
       "        -4853.24286055, -4365.63214264, -3892.81321876, -3355.64313913,\n",
       "        -3214.40491744, -3947.66524324, -2327.04176108, -3120.80717091,\n",
       "        -2593.15261028, -3858.22789303, -4347.23295063, -3922.05297459,\n",
       "        -4634.40223908, -2634.97989792, -2881.23865124, -3244.17500175],\n",
       "       [-4116.70004401, -3334.75508889, -4286.56977954, -3048.95012522,\n",
       "        -4885.09683621, -4383.76036009, -3918.33016458, -3386.91996134,\n",
       "        -3213.15660067, -3971.63144272, -2289.50214993, -3186.4737115 ,\n",
       "        -2605.76215632, -3885.781413  , -4348.08239652, -3980.62153262,\n",
       "        -4580.6349881 , -2645.65394242, -2858.23888042, -3180.40247983],\n",
       "       [-4154.28220146, -3365.42218657, -4316.66666984, -3080.35293596,\n",
       "        -4894.23599783, -4418.42206481, -3950.1238816 , -3399.55558014,\n",
       "        -3238.90667419, -3993.68394239, -2240.56765135, -3112.62840817,\n",
       "        -2597.60963178, -3757.39247993, -4294.15835866, -4083.29544194,\n",
       "        -4535.6358822 , -2594.68842168, -2807.52248772, -3183.31897976],\n",
       "       [-4165.38227378, -3392.49103498, -4324.07540485, -3095.04266527,\n",
       "        -4940.66349275, -4436.78553497, -3967.59309971, -3434.0065089 ,\n",
       "        -3256.2878087 , -4001.40394976, -2379.10793518, -3101.9972366 ,\n",
       "        -2540.34072947, -3722.91492047, -4284.50737116, -3943.1122696 ,\n",
       "        -4525.6904178 , -2605.11063703, -2816.2275003 , -3162.78481053],\n",
       "       [-4197.09280083, -3398.99247758, -4367.40806206, -3118.11939203,\n",
       "        -4956.34065132, -4452.86725535, -3976.58406033, -3437.8088278 ,\n",
       "        -3268.29713999, -4012.67402709, -2255.63515187, -3063.68981056,\n",
       "        -2541.51181936, -3585.61445194, -4254.83990309, -3912.03423524,\n",
       "        -4507.31607168, -2623.92971151, -2779.67959777, -3102.69575496],\n",
       "       [-4211.01523029, -3428.52013114, -4374.97496889, -3132.63447587,\n",
       "        -4990.52631703, -4472.20626984, -3982.45005915, -3470.42530907,\n",
       "        -3289.28914713, -4035.94562756, -2191.2339532 , -3075.22970292,\n",
       "        -2532.92953241, -3690.80632299, -4264.36705029, -3926.91472407,\n",
       "        -4486.9189344 , -2564.32728138, -2747.25491775, -3039.27473616],\n",
       "       [-4254.89157567, -3441.71007822, -4395.52709235, -3148.81087407,\n",
       "        -5014.03602423, -4489.66005364, -4015.4358214 , -3473.15372983,\n",
       "        -3303.82409096, -4070.09622543, -2142.94000815, -3060.89269039,\n",
       "        -2521.17534144, -3639.27232427, -4251.89149135, -3923.4296014 ,\n",
       "        -4435.87185981, -2565.5468422 , -2788.80982852, -3094.24229564]])"
      ]
     },
     "execution_count": 37,
     "metadata": {},
     "output_type": "execute_result"
    }
   ],
   "source": [
    "loglikelihood"
   ]
  },
  {
   "cell_type": "code",
   "execution_count": 77,
   "metadata": {
    "collapsed": false
   },
   "outputs": [],
   "source": [
    "likelihood = np.empty([len(sigma_ls), len(sigma_ls)])\n",
    "maxloglikelihood = np.max(loglikelihood, axis=0)\n",
    "w = np.exp(loglikelihood - maxloglikelihood)\n",
    "for k in range(len(sigma_ls)):\n",
    "    for l in range(len(sigma_ls)):\n",
    "        likelihood [k,l] = np.sum(np.log(w[k,:]*0.5+w[l,:]*0.5)) + np.sum(maxloglikelihood)"
   ]
  },
  {
   "cell_type": "code",
   "execution_count": 78,
   "metadata": {
    "collapsed": false
   },
   "outputs": [
    {
     "data": {
      "text/plain": [
       "array([[           -inf,            -inf,            -inf, -73328.40765769,\n",
       "        -72731.87840961, -71925.09954928, -72120.88699755, -72032.3328216 ,\n",
       "        -72109.38854543, -71826.99414598, -71921.10763517, -72045.08079258],\n",
       "       [           -inf,            -inf,            -inf, -73255.43929788,\n",
       "        -72582.17579207, -71650.25365392, -71689.78893661, -71392.01115842,\n",
       "        -71274.70749432, -70831.13025149, -70746.71249956, -70685.39312089],\n",
       "       [           -inf,            -inf,            -inf, -73267.44035647,\n",
       "        -72479.56505436, -71509.91587766, -71507.74213084, -71153.42369859,\n",
       "        -71028.39978354, -70573.55246338, -70465.86311097, -70370.67823857],\n",
       "       [-73328.40765769, -73255.43929788, -73267.44035647, -73314.54471408,\n",
       "        -72506.31979221, -71536.67319514, -71534.51569714, -71168.39194627,\n",
       "        -71055.1558747 , -70600.30855454, -70492.61920213, -70397.43432973],\n",
       "       [-72731.87840961, -72582.17579207, -72479.56505436, -72506.31979221,\n",
       "        -72718.015466  , -71745.80754101, -71707.60040571, -71349.38370415,\n",
       "        -71280.71277675, -70825.69865571, -70718.17610419, -70622.99123178],\n",
       "       [-71925.09954928, -71650.25365392, -71509.91587766, -71536.67319514,\n",
       "        -71745.80754101, -71911.23660567, -71741.95054857, -71402.89484249,\n",
       "        -71370.45675778, -70988.73484631, -70876.1760977 , -70784.25897058],\n",
       "       [-72120.88699755, -71689.78893661, -71507.74213084, -71534.51569714,\n",
       "        -71707.60040571, -71741.95054857, -72107.02405394, -71660.90757329,\n",
       "        -71551.92138975, -71186.67985486, -71078.99050245, -70983.80563005],\n",
       "       [-72032.3328216 , -71392.01115842, -71153.42369859, -71168.39194627,\n",
       "        -71349.38370415, -71402.89484249, -71660.90757329, -72018.46987799,\n",
       "        -71749.63999772, -71408.15279574, -71344.77223398, -71249.58736157],\n",
       "       [-72109.38854543, -71274.70749432, -71028.39978354, -71055.1558747 ,\n",
       "        -71280.71277675, -71370.45675778, -71551.92138975, -71749.63999772,\n",
       "        -72095.52560182, -71634.25729441, -71546.85126815, -71451.66700046],\n",
       "       [-71826.99414598, -70831.13025149, -70573.55246338, -70600.30855454,\n",
       "        -70825.69865571, -70988.73484631, -71186.67985486, -71408.15279574,\n",
       "        -71634.25729441, -71813.13120237, -71578.1617751 , -71549.82582605],\n",
       "       [-71921.10763517, -70746.71249956, -70465.86311097, -70492.61920213,\n",
       "        -70718.17610419, -70876.1760977 , -71078.99050245, -71344.77223398,\n",
       "        -71546.85126815, -71578.1617751 , -71907.24469156, -71727.8284613 ],\n",
       "       [-72045.08079258, -70685.39312089, -70370.67823857, -70397.43432973,\n",
       "        -70622.99123178, -70784.25897058, -70983.80563005, -71249.58736157,\n",
       "        -71451.66700046, -71549.82582605, -71727.8284613 , -72031.21784897]])"
      ]
     },
     "execution_count": 78,
     "metadata": {},
     "output_type": "execute_result"
    }
   ],
   "source": [
    "likelihood"
   ]
  },
  {
   "cell_type": "code",
   "execution_count": 54,
   "metadata": {
    "collapsed": false
   },
   "outputs": [
    {
     "data": {
      "text/plain": [
       "(12, 20)"
      ]
     },
     "execution_count": 54,
     "metadata": {},
     "output_type": "execute_result"
    }
   ],
   "source": [
    "loglikelihood.shape"
   ]
  },
  {
   "cell_type": "code",
   "execution_count": 60,
   "metadata": {
    "collapsed": false
   },
   "outputs": [
    {
     "data": {
      "text/plain": [
       "<matplotlib.contour.QuadContourSet at 0x10db8b3d0>"
      ]
     },
     "execution_count": 60,
     "metadata": {},
     "output_type": "execute_result"
    },
    {
     "data": {
      "image/png": "[encoded data removed]",
      "text/plain": [
       "<matplotlib.figure.Figure at 0x10c281b10>"
      ]
     },
     "metadata": {},
     "output_type": "display_data"
    }
   ],
   "source": [
    "plt.contour(sigma_ls,sigma_ls,likelihood)"
   ]
  },
  {
   "cell_type": "code",
   "execution_count": 63,
   "metadata": {
    "collapsed": false
   },
   "outputs": [
    {
     "data": {
      "text/plain": [
       "array([[           -inf,            -inf,            -inf, -73328.40765769,\n",
       "        -72731.87840961, -71925.09954928, -72120.88699755, -72032.3328216 ,\n",
       "        -72109.38854543, -71826.99414598, -71921.10763517, -72045.08079258],\n",
       "       [           -inf,            -inf,            -inf, -73255.43929788,\n",
       "        -72582.17579207, -71650.25365392, -71689.78893661, -71392.01115842,\n",
       "        -71274.70749432, -70831.13025149, -70746.71249956, -70685.39312089],\n",
       "       [           -inf,            -inf,            -inf, -73267.44035647,\n",
       "        -72479.56505436, -71509.91587766, -71507.74213084, -71153.42369859,\n",
       "        -71028.39978354, -70573.55246338, -70465.86311097, -70370.67823857],\n",
       "       [-73328.40765769, -73255.43929788, -73267.44035647, -73314.54471408,\n",
       "        -72506.31979221, -71536.67319514, -71534.51569714, -71168.39194627,\n",
       "        -71055.1558747 , -70600.30855454, -70492.61920213, -70397.43432973],\n",
       "       [-72731.87840961, -72582.17579207, -72479.56505436, -72506.31979221,\n",
       "        -72718.015466  , -71745.80754101, -71707.60040571, -71349.38370415,\n",
       "        -71280.71277675, -70825.69865571, -70718.17610419, -70622.99123178],\n",
       "       [-71925.09954928, -71650.25365392, -71509.91587766, -71536.67319514,\n",
       "        -71745.80754101, -71911.23660567, -71741.95054857, -71402.89484249,\n",
       "        -71370.45675778, -70988.73484631, -70876.1760977 , -70784.25897058],\n",
       "       [-72120.88699755, -71689.78893661, -71507.74213084, -71534.51569714,\n",
       "        -71707.60040571, -71741.95054857, -72107.02405394, -71660.90757329,\n",
       "        -71551.92138975, -71186.67985486, -71078.99050245, -70983.80563005],\n",
       "       [-72032.3328216 , -71392.01115842, -71153.42369859, -71168.39194627,\n",
       "        -71349.38370415, -71402.89484249, -71660.90757329, -72018.46987799,\n",
       "        -71749.63999772, -71408.15279574, -71344.77223398, -71249.58736157],\n",
       "       [-72109.38854543, -71274.70749432, -71028.39978354, -71055.1558747 ,\n",
       "        -71280.71277675, -71370.45675778, -71551.92138975, -71749.63999772,\n",
       "        -72095.52560182, -71634.25729441, -71546.85126815, -71451.66700046],\n",
       "       [-71826.99414598, -70831.13025149, -70573.55246338, -70600.30855454,\n",
       "        -70825.69865571, -70988.73484631, -71186.67985486, -71408.15279574,\n",
       "        -71634.25729441, -71813.13120237, -71578.1617751 , -71549.82582605],\n",
       "       [-71921.10763517, -70746.71249956, -70465.86311097, -70492.61920213,\n",
       "        -70718.17610419, -70876.1760977 , -71078.99050245, -71344.77223398,\n",
       "        -71546.85126815, -71578.1617751 , -71907.24469156, -71727.8284613 ],\n",
       "       [-72045.08079258, -70685.39312089, -70370.67823857, -70397.43432973,\n",
       "        -70622.99123178, -70784.25897058, -70983.80563005, -71249.58736157,\n",
       "        -71451.66700046, -71549.82582605, -71727.8284613 , -72031.21784897]])"
      ]
     },
     "execution_count": 63,
     "metadata": {},
     "output_type": "execute_result"
    }
   ],
   "source": [
    "likelihood"
   ]
  },
  {
   "cell_type": "code",
   "execution_count": null,
   "metadata": {
    "collapsed": true
   },
   "outputs": [],
   "source": []
  }
 ],
 "metadata": {
  "kernelspec": {
   "display_name": "Python 2",
   "language": "python",
   "name": "python2"
  },
  "language_info": {
   "codemirror_mode": {
    "name": "ipython",
    "version": 2
   },
   "file_extension": ".py",
   "mimetype": "text/x-python",
   "name": "python",
   "nbconvert_exporter": "python",
   "pygments_lexer": "ipython2",
   "version": "2.7.11"
  }
 },
 "nbformat": 4,
 "nbformat_minor": 0
}
