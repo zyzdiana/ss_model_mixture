{
 "cells": [
  {
   "cell_type": "code",
   "execution_count": 1,
   "metadata": {
    "collapsed": true
   },
   "outputs": [],
   "source": [
    "%load_ext autoreload\n",
    "%autoreload 2\n",
    "%reload_ext autoreload"
   ]
  },
  {
   "cell_type": "code",
   "execution_count": 2,
   "metadata": {
    "collapsed": true
   },
   "outputs": [],
   "source": [
    "from numpy import *\n",
    "from numpy.random import *\n",
    "%matplotlib inline\n",
    "import os\n",
    "import time\n",
    "import numpy as np\n",
    "import pandas as pd\n",
    "import sys\n",
    "import cPickle as pickle\n",
    "from   random import *\n",
    "import scipy.stats\n",
    "import matplotlib.pyplot as plt\n",
    "import pyparticleest.models.nlg as nlg\n",
    "import pyparticleest.simulator as simulator\n",
    "import pyparticleest.utils.kalman as kalman\n",
    "from scipy.stats import bernoulli\n",
    "import pyparticleest.interfaces as interfaces\n",
    "from scipy.optimize import newton"
   ]
  },
  {
   "cell_type": "code",
   "execution_count": 41,
   "metadata": {
    "collapsed": true
   },
   "outputs": [],
   "source": [
    "def measure(X, Y, trial):\n",
    "    # log-pdf of p(y_t|x_t)\n",
    "    T = X.shape[0]\n",
    "    N = X.shape[1]\n",
    "    coefficient = scipy.special.binom(trial,Y)\n",
    "    return np.reshape(np.repeat(np.log(coefficient), N), [T,N]) + X * np.reshape(np.repeat(Y, N), [T,N]) - trial * np.log(1+np.exp(X))"
   ]
  },
  {
   "cell_type": "code",
   "execution_count": 42,
   "metadata": {
    "collapsed": false
   },
   "outputs": [
    {
     "ename": "AttributeError",
     "evalue": "'int' object has no attribute 'shape'",
     "output_type": "error",
     "traceback": [
      "\u001b[0;31m---------------------------------------------------------------------------\u001b[0m",
      "\u001b[0;31mAttributeError\u001b[0m                            Traceback (most recent call last)",
      "\u001b[0;32m<ipython-input-42-a4a180adb796>\u001b[0m in \u001b[0;36m<module>\u001b[0;34m()\u001b[0m\n\u001b[0;32m----> 1\u001b[0;31m \u001b[0mmeasure\u001b[0m\u001b[0;34m(\u001b[0m\u001b[0;36m1\u001b[0m\u001b[0;34m,\u001b[0m\u001b[0;36m0\u001b[0m\u001b[0;34m,\u001b[0m\u001b[0;36m10\u001b[0m\u001b[0;34m)\u001b[0m\u001b[0;34m\u001b[0m\u001b[0m\n\u001b[0m",
      "\u001b[0;32m<ipython-input-41-9da0faccb29d>\u001b[0m in \u001b[0;36mmeasure\u001b[0;34m(X, Y, trial)\u001b[0m\n\u001b[1;32m      1\u001b[0m \u001b[0;32mdef\u001b[0m \u001b[0mmeasure\u001b[0m\u001b[0;34m(\u001b[0m\u001b[0mX\u001b[0m\u001b[0;34m,\u001b[0m \u001b[0mY\u001b[0m\u001b[0;34m,\u001b[0m \u001b[0mtrial\u001b[0m\u001b[0;34m)\u001b[0m\u001b[0;34m:\u001b[0m\u001b[0;34m\u001b[0m\u001b[0m\n\u001b[1;32m      2\u001b[0m     \u001b[0;31m# log-pdf of p(y_t|x_t)\u001b[0m\u001b[0;34m\u001b[0m\u001b[0;34m\u001b[0m\u001b[0m\n\u001b[0;32m----> 3\u001b[0;31m     \u001b[0mT\u001b[0m \u001b[0;34m=\u001b[0m \u001b[0mX\u001b[0m\u001b[0;34m.\u001b[0m\u001b[0mshape\u001b[0m\u001b[0;34m[\u001b[0m\u001b[0;36m0\u001b[0m\u001b[0;34m]\u001b[0m\u001b[0;34m\u001b[0m\u001b[0m\n\u001b[0m\u001b[1;32m      4\u001b[0m     \u001b[0mN\u001b[0m \u001b[0;34m=\u001b[0m \u001b[0mX\u001b[0m\u001b[0;34m.\u001b[0m\u001b[0mshape\u001b[0m\u001b[0;34m[\u001b[0m\u001b[0;36m1\u001b[0m\u001b[0;34m]\u001b[0m\u001b[0;34m\u001b[0m\u001b[0m\n\u001b[1;32m      5\u001b[0m     \u001b[0mcoefficient\u001b[0m \u001b[0;34m=\u001b[0m \u001b[0mscipy\u001b[0m\u001b[0;34m.\u001b[0m\u001b[0mspecial\u001b[0m\u001b[0;34m.\u001b[0m\u001b[0mbinom\u001b[0m\u001b[0;34m(\u001b[0m\u001b[0mtrial\u001b[0m\u001b[0;34m,\u001b[0m\u001b[0mY\u001b[0m\u001b[0;34m)\u001b[0m\u001b[0;34m\u001b[0m\u001b[0m\n",
      "\u001b[0;31mAttributeError\u001b[0m: 'int' object has no attribute 'shape'"
     ]
    }
   ],
   "source": [
    "measure(1,0,10)"
   ]
  },
  {
   "cell_type": "code",
   "execution_count": 38,
   "metadata": {
    "collapsed": false
   },
   "outputs": [
    {
     "data": {
      "text/plain": [
       "22026.465794806718"
      ]
     },
     "execution_count": 38,
     "metadata": {},
     "output_type": "execute_result"
    }
   ],
   "source": []
  },
  {
   "cell_type": "code",
   "execution_count": 43,
   "metadata": {
    "collapsed": false
   },
   "outputs": [],
   "source": [
    "def gaussian(X, Q):\n",
    "    #log-pdf of p(x_t|x_{t-1})\n",
    "    return -0.5 * (l2pi + np.log(Q) + (X ** 2) / Q)"
   ]
  },
  {
   "cell_type": "code",
   "execution_count": 44,
   "metadata": {
    "collapsed": false
   },
   "outputs": [],
   "source": [
    "def resample(weights):\n",
    "  n = len(weights)\n",
    "  indices = []\n",
    "  C = [0.] + [sum(weights[:i+1]) for i in range(n)]\n",
    "  u0, j = random(), 0\n",
    "  for u in [(u0+i)/n for i in range(n)]:\n",
    "    while u > C[j]:\n",
    "      j+=1\n",
    "    indices.append(j-1)\n",
    "  return indices"
   ]
  },
  {
   "cell_type": "code",
   "execution_count": 45,
   "metadata": {
    "collapsed": true
   },
   "outputs": [],
   "source": [
    "df = pd.read_csv('thaldata.csv',header=None)\n",
    "Y = df.values.reshape(3000)\n",
    "#Y = Y[500:800]\n",
    "T = len(Y)"
   ]
  },
  {
   "cell_type": "code",
   "execution_count": 109,
   "metadata": {
    "collapsed": true
   },
   "outputs": [],
   "source": [
    "# Forward particles\n",
    "N = 1000\n",
    "# Backward trajectories\n",
    "M = 30\n",
    "# \n",
    "P0 = 0.1\n",
    "Q = 0.1\n",
    "#trial\n",
    "trial = 50\n",
    "#\n",
    "l2pi = math.log(2 * math.pi)\n",
    "#\n",
    "square2pi = np.sqrt(2 * math.pi)\n",
    "#\n",
    "Q = 0.1"
   ]
  },
  {
   "cell_type": "markdown",
   "metadata": {},
   "source": [
    "# Filtering"
   ]
  },
  {
   "cell_type": "code",
   "execution_count": 73,
   "metadata": {
    "collapsed": true
   },
   "outputs": [],
   "source": [
    "mode = np.empty(T+1)\n",
    "variance = np.empty(T+1)\n",
    "mode[0] = 0\n",
    "variance[0] = P0"
   ]
  },
  {
   "cell_type": "code",
   "execution_count": 74,
   "metadata": {
    "collapsed": false
   },
   "outputs": [],
   "source": [
    "for tt in range(T):\n",
    "    t = tt+1\n",
    "    variance_tmp = variance[t-1] + Q\n",
    "    mode[t] = mode[t-1] + variance_tmp *(Y[t-1] - trial * np.exp(mode[t-1])/(1.0 + np.exp(mode[t-1])))\n",
    "    variance[t] = 1.0/(1.0/(variance_tmp) + trial * np.exp(mode[t])/(1.0 + np.exp(mode[t])) )"
   ]
  },
  {
   "cell_type": "code",
   "execution_count": 99,
   "metadata": {
    "collapsed": false
   },
   "outputs": [],
   "source": [
    "def filtering(Y, Q, mode, variance):\n",
    "    samples = np.random.normal(0,1,[T+1,N])\n",
    "    X = np.reshape (np.repeat(mode,N),[T+1,N]) + samples * np.reshape (np.repeat(np.sqrt(variance),N),[T+1,N])\n",
    "    w = measure(X[1:], Y, trial) + gaussian(np.diff(X, axis = 0), Q) - gaussian(X[1:]-np.reshape (np.repeat(mode[1:], N) ,[T,N]), np.reshape (np.repeat(variance[1:], N) ,[T,N]))\n",
    "    W = np.exp(w - np.reshape(np.repeat(np.max(w, axis =1), N), [T,N])) \n",
    "    W = W/ np.reshape(np.repeat(np.sum(W, axis =1), N), [T,N])\n",
    "    ancestor = np.empty([T,N])\n",
    "    for t in range(T):\n",
    "        ancestor[t,:]= X[t,resample(W[t,:])]\n",
    "        \n",
    "    return X, w, W, ancestor"
   ]
  },
  {
   "cell_type": "code",
   "execution_count": null,
   "metadata": {
    "collapsed": false
   },
   "outputs": [],
   "source": [
    "#%%prun\n",
    "[X, w, W, ancestor] = filtering(Y, Q, mode, variance)\n",
    "maxlogweight = np.max(w, axis=1)\n",
    "weight = np.exp(w - np.reshape(np.repeat(maxlogweight, N),(T, N)))\n",
    "loglikelihood = np.sum(np.log(np.sum(weight, axis = 1)/N))+np.sum(maxlogweight)"
   ]
  },
  {
   "cell_type": "code",
   "execution_count": 108,
   "metadata": {
    "collapsed": false
   },
   "outputs": [
    {
     "data": {
      "text/plain": [
       "-3235.7422877586496"
      ]
     },
     "execution_count": 108,
     "metadata": {},
     "output_type": "execute_result"
    }
   ],
   "source": [
    "loglikelihood"
   ]
  },
  {
   "cell_type": "code",
   "execution_count": 94,
   "metadata": {
    "collapsed": false
   },
   "outputs": [
    {
     "ename": "ValueError",
     "evalue": "operands could not be broadcast together with shapes (3001,) (3001,1000) ",
     "output_type": "error",
     "traceback": [
      "\u001b[0;31m---------------------------------------------------------------------------\u001b[0m",
      "\u001b[0;31mValueError\u001b[0m                                Traceback (most recent call last)",
      "\u001b[0;32m<ipython-input-94-55c57ce40da7>\u001b[0m in \u001b[0;36m<module>\u001b[0;34m()\u001b[0m\n\u001b[0;32m----> 1\u001b[0;31m \u001b[0mmode\u001b[0m \u001b[0;34m*\u001b[0m \u001b[0mnp\u001b[0m\u001b[0;34m.\u001b[0m\u001b[0mones\u001b[0m\u001b[0;34m(\u001b[0m\u001b[0;34m[\u001b[0m\u001b[0mT\u001b[0m\u001b[0;34m+\u001b[0m\u001b[0;36m1\u001b[0m\u001b[0;34m,\u001b[0m \u001b[0mN\u001b[0m\u001b[0;34m]\u001b[0m\u001b[0;34m)\u001b[0m\u001b[0;34m\u001b[0m\u001b[0m\n\u001b[0m",
      "\u001b[0;31mValueError\u001b[0m: operands could not be broadcast together with shapes (3001,) (3001,1000) "
     ]
    }
   ],
   "source": [
    "mode * np.ones([T+1, N])"
   ]
  },
  {
   "cell_type": "code",
   "execution_count": null,
   "metadata": {
    "collapsed": true
   },
   "outputs": [],
   "source": []
  },
  {
   "cell_type": "code",
   "execution_count": null,
   "metadata": {
    "collapsed": true
   },
   "outputs": [],
   "source": []
  },
  {
   "cell_type": "code",
   "execution_count": null,
   "metadata": {
    "collapsed": true
   },
   "outputs": [],
   "source": []
  },
  {
   "cell_type": "code",
   "execution_count": 148,
   "metadata": {
    "collapsed": false
   },
   "outputs": [],
   "source": [
    "samples = np.random.normal(0,1,[T+1,N])\n",
    "X = np.reshape (np.repeat(mode,N),[T+1,N]) + samples * np.reshape (np.repeat(variance,N),[T+1,N])"
   ]
  },
  {
   "cell_type": "code",
   "execution_count": 150,
   "metadata": {
    "collapsed": false
   },
   "outputs": [],
   "source": [
    "w = measure(X[1,:], Y, trial) + gaussian(np.diff(X, axis = 0), Q) - np.reshape(kalman.lognormpdf_scalar(X[1:]-np.reshape (np.repeat(mode[1:], N) ,[T,N]), np.reshape (np.repeat(variance[1:], N) ,[T,N])), [T,N])"
   ]
  },
  {
   "cell_type": "code",
   "execution_count": 151,
   "metadata": {
    "collapsed": false
   },
   "outputs": [],
   "source": [
    "W = np.exp(w - np.reshape(np.repeat(np.max(w, axis =1), N), [T,N])) "
   ]
  },
  {
   "cell_type": "code",
   "execution_count": 155,
   "metadata": {
    "collapsed": false
   },
   "outputs": [],
   "source": [
    "W = W/ np.reshape(np.repeat(np.sum(W, axis =1), N), [T,N])"
   ]
  },
  {
   "cell_type": "code",
   "execution_count": 21,
   "metadata": {
    "collapsed": false
   },
   "outputs": [
    {
     "data": {
      "text/plain": [
       "array([-0.11777572,  0.26611548, -0.55716306,  3.04779423, -0.44097469,\n",
       "       -0.65906282,  1.331302  ,  0.252996  , -2.29485249, -0.30152181,\n",
       "        0.62564385, -0.5321635 ,  0.75104457,  0.5528528 ,  0.10721967,\n",
       "        0.98938033,  1.39720352, -0.68049614, -2.48371625,  0.07763192,\n",
       "        0.34693195,  0.132269  , -0.86037292,  0.50887272, -0.73716859,\n",
       "        0.0401235 , -0.58319247,  1.37378458,  0.47098094, -1.1087752 ,\n",
       "        0.51117614, -0.10372854,  0.90703959, -0.94827687,  0.91657736,\n",
       "        0.20393373, -0.3318299 , -0.02419014,  1.41730974,  0.2487098 ,\n",
       "        1.46272319, -1.73094847,  0.06997699,  1.92607596,  0.02151763,\n",
       "        1.37189246, -0.96438394,  0.99738205,  1.59799869, -0.92931695,\n",
       "        0.88286393,  0.91514637,  0.31874674,  0.03972024,  1.85307393,\n",
       "       -0.51100908, -0.79746331, -0.02075349, -1.16416283, -0.56298932,\n",
       "       -0.65548663,  1.53623815,  0.28767475, -0.01264145,  0.64866854,\n",
       "        1.35279564,  0.67366266,  0.68476507, -0.13902913, -0.24439295,\n",
       "       -1.63168986,  0.99550946,  0.05024505, -2.09766149, -0.41925537,\n",
       "        0.89722878, -0.52812778, -0.14213261,  0.60794304, -0.71032918,\n",
       "       -0.95490518, -1.79798479,  0.95286157,  0.08503571,  0.2660254 ,\n",
       "        0.16023093,  0.39340392, -0.89903772,  0.30373687,  0.77621951,\n",
       "        0.44390984,  1.25675332, -0.6890084 ,  0.96925015, -0.50017933,\n",
       "       -1.33058085, -2.12662038,  0.04608478, -0.7332037 , -0.64145826])"
      ]
     },
     "execution_count": 21,
     "metadata": {},
     "output_type": "execute_result"
    }
   ],
   "source": [
    "np.random.normal(0,1,N)"
   ]
  },
  {
   "cell_type": "code",
   "execution_count": 14,
   "metadata": {
    "collapsed": false
   },
   "outputs": [
    {
     "data": {
      "text/plain": [
       "2485.8845503902749"
      ]
     },
     "execution_count": 14,
     "metadata": {},
     "output_type": "execute_result"
    }
   ],
   "source": [
    "np.sum(np.log(np.sum(np.exp(w), axis = 1)/N))"
   ]
  },
  {
   "cell_type": "code",
   "execution_count": 24,
   "metadata": {
    "collapsed": false
   },
   "outputs": [
    {
     "data": {
      "text/plain": [
       "-5944.5496526321649"
      ]
     },
     "execution_count": 24,
     "metadata": {},
     "output_type": "execute_result"
    }
   ],
   "source": [
    "loglikelihood"
   ]
  },
  {
   "cell_type": "code",
   "execution_count": 164,
   "metadata": {
    "collapsed": false
   },
   "outputs": [],
   "source": [
    "ancestor = np.empty([T,N])\n",
    "for t in range(T):\n",
    "    ancestor[t,:]= X[t,resample(W[t,:])]"
   ]
  },
  {
   "cell_type": "code",
   "execution_count": 28,
   "metadata": {
    "collapsed": false
   },
   "outputs": [
    {
     "data": {
      "text/plain": [
       "array([-4.07402689, -4.07402689, -4.62161135, -4.62161135, -3.82937921,\n",
       "       -4.64416526, -5.44521653, -4.55326894, -4.55326894, -4.25170025,\n",
       "       -5.1369329 , -4.97154807, -4.97154807, -4.7125548 , -4.7125548 ,\n",
       "       -4.7125548 , -5.4634475 , -5.20377705, -5.20377705, -5.20377705,\n",
       "       -5.20377705, -4.65962812, -4.65962812, -6.2068784 , -6.2068784 ,\n",
       "       -6.2068784 , -6.2068784 , -6.2068784 , -6.2068784 , -6.2068784 ,\n",
       "       -6.2068784 , -6.2068784 , -6.2068784 , -6.2068784 , -6.2068784 ,\n",
       "       -6.2068784 , -6.2068784 , -6.2068784 , -6.2068784 , -6.2068784 ,\n",
       "       -6.2068784 , -6.2068784 , -6.2068784 , -6.2068784 , -6.2068784 ,\n",
       "       -6.2068784 , -6.2068784 , -6.2068784 , -6.2068784 , -4.57977684,\n",
       "       -4.57977684, -4.2348785 , -5.29372226, -4.27076248, -4.66479788,\n",
       "       -5.07013971, -5.07013971, -5.07013971, -5.07013971, -4.1081466 ,\n",
       "       -4.1081466 , -3.91095545, -3.92041899, -4.63103906, -3.98917619,\n",
       "       -3.98917619, -3.98917619, -5.82944266, -4.8872374 , -4.8872374 ,\n",
       "       -4.88214319, -4.15972416, -3.966206  , -3.966206  , -4.06669432,\n",
       "       -4.74653322, -4.43960947, -4.43960947, -3.99729246, -3.98580088,\n",
       "       -5.09467613, -5.09467613, -4.91862576, -4.16162419, -4.5560708 ,\n",
       "       -4.5560708 , -5.14178918, -4.73424459, -4.54464421, -4.54464421,\n",
       "       -4.25824525, -4.25824525, -3.95846729, -3.95846729, -5.296608  ,\n",
       "       -5.296608  , -5.296608  , -5.296608  , -4.33510629, -4.33510629])"
      ]
     },
     "execution_count": 28,
     "metadata": {},
     "output_type": "execute_result"
    }
   ],
   "source": [
    "ancestor[T-1]"
   ]
  },
  {
   "cell_type": "code",
   "execution_count": null,
   "metadata": {
    "collapsed": true
   },
   "outputs": [],
   "source": []
  }
 ],
 "metadata": {
  "kernelspec": {
   "display_name": "Python 2",
   "language": "python",
   "name": "python2"
  },
  "language_info": {
   "codemirror_mode": {
    "name": "ipython",
    "version": 2
   },
   "file_extension": ".py",
   "mimetype": "text/x-python",
   "name": "python",
   "nbconvert_exporter": "python",
   "pygments_lexer": "ipython2",
   "version": "2.7.11"
  }
 },
 "nbformat": 4,
 "nbformat_minor": 0
}
