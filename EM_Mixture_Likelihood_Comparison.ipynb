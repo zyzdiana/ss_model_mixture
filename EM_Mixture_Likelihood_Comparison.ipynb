{
 "cells": [
  {
   "cell_type": "code",
   "execution_count": 2,
   "metadata": {
    "collapsed": false
   },
   "outputs": [],
   "source": [
    "%load_ext autoreload\n",
    "%autoreload 2\n",
    "%reload_ext autoreload"
   ]
  },
  {
   "cell_type": "code",
   "execution_count": 3,
   "metadata": {
    "collapsed": false
   },
   "outputs": [
    {
     "name": "stderr",
     "output_type": "stream",
     "text": [
      "//anaconda/lib/python2.7/site-packages/matplotlib/__init__.py:872: UserWarning: axes.color_cycle is deprecated and replaced with axes.prop_cycle; please use the latter.\n",
      "  warnings.warn(self.msg_depr % (key, alt_key))\n"
     ]
    }
   ],
   "source": [
    "%matplotlib inline\n",
    "import os\n",
    "import time\n",
    "import numpy as np\n",
    "import pandas as pd\n",
    "import sys\n",
    "import cPickle as pickle\n",
    "from   random import *\n",
    "import scipy.stats\n",
    "import matplotlib.pyplot as plt\n",
    "sys.path.insert(1,'./code')\n",
    "from visualize import plot_raw_data, get_population_data, plot_results\n",
    "from EM import TransformToProb, RunEM\n",
    "import pyparticleest.models.nlg as nlg\n",
    "import pyparticleest.simulator as simulator\n",
    "import pyparticleest.utils.kalman as kalman\n",
    "from scipy.stats import bernoulli"
   ]
  },
  {
   "cell_type": "code",
   "execution_count": 4,
   "metadata": {
    "collapsed": true
   },
   "outputs": [],
   "source": [
    "class StdNonLin(nlg.NonlinearGaussianInitialGaussian):\n",
    "    # x_{k+1} = x_k  + v_k = f(x_k) + v_k,\n",
    "    # y_k = 0 + e_k = g(x_k) + e_k,\n",
    "    # x(0) ~ N(0,P0), v_k ~ N(0,Q), e_k ~ Binom(50,\\exp(x_{k})/(1+\\exp(x_{k})))\n",
    "\n",
    "    def __init__(self, P0, Q):\n",
    "    # Set covariances in the constructor since they\n",
    "    # are constant\n",
    "        super(StdNonLin, self).__init__(Px0=P0, Q=Q)\n",
    "\n",
    "    def calc_g(self, particles, t):\n",
    "    # Calculate value of g(\\xi_t,t)\n",
    "         return np.zeros([len(particles),1])\n",
    "    \n",
    "    def calc_f(self, particles, u, t):\n",
    "    # Calculate value of f(xi_t,t)\n",
    "        return particles\n",
    "    \n",
    "    def measure(self, particles, y, t):\n",
    "        \"\"\"\n",
    "        Return the log-pdf value of the measurement\n",
    "        Args:\n",
    "         - particles  (array-like): Model specific representation\n",
    "           of all particles, with first dimension = N (number of particles)\n",
    "         - y (array-like):  measurement\n",
    "         - t (float): time-stamp\n",
    "        Returns:\n",
    "         (array-like) with first dimension = N, logp(y|x^i)\n",
    "        \"\"\"\n",
    "        N = len(particles)\n",
    "        trial = 50\n",
    "        yrep = np.repeat(np.asarray(y), N, 0)\n",
    "        coefficient = scipy.special.binom(trial, yrep)\n",
    "        #lpy = scipy.stats.binom.logpmf(yrep,50,np.exp(particles[:,0])/(1.0 + np.exp(particles[:,0])),loc=0)\n",
    "        lpy = np.log(coefficient) + yrep * particles[:,0] - trial * np.log(1 + np.exp(particles[:,0]))\n",
    "        return lpy"
   ]
  },
  {
   "cell_type": "code",
   "execution_count": 24,
   "metadata": {
    "collapsed": false
   },
   "outputs": [
    {
     "name": "stdout",
     "output_type": "stream",
     "text": [
      "[ 0.01  0.06  0.11  0.16  0.21  0.26  0.31  0.36  0.41  0.46  0.51  0.56\n",
      "  0.61  0.66  0.71  0.76  0.81  0.86  0.91  0.96  1.01  1.06  1.11  1.16\n",
      "  1.21  1.26  1.31  1.36  1.41  1.46]\n"
     ]
    }
   ],
   "source": [
    "# Forward particles\n",
    "N = 2000\n",
    "# Backward trajectories\n",
    "M = 1\n",
    "# trials\n",
    "trial = 50\n",
    "# cluster\n",
    "cluster = 2\n",
    "\n",
    "sigma_ls = np.arange(0.01, 1.51, 0.05)\n",
    "pi_ls = 0.5\n",
    "\n",
    "print sigma_ls"
   ]
  },
  {
   "cell_type": "code",
   "execution_count": 25,
   "metadata": {
    "collapsed": false
   },
   "outputs": [
    {
     "name": "stdout",
     "output_type": "stream",
     "text": [
      "(20, 3000)\n"
     ]
    }
   ],
   "source": [
    "mat = np.loadtxt('train_data.txt')\n",
    "Y = mat[:,1:]\n",
    "T = Y.shape[1]\n",
    "n = Y.shape[0]\n",
    "print Y.shape"
   ]
  },
  {
   "cell_type": "code",
   "execution_count": 26,
   "metadata": {
    "collapsed": true
   },
   "outputs": [],
   "source": [
    "loglikelihood = np.empty([len(sigma_ls),n])"
   ]
  },
  {
   "cell_type": "code",
   "execution_count": 27,
   "metadata": {
    "collapsed": false
   },
   "outputs": [],
   "source": [
    "for i in range(len(sigma_ls)):\n",
    "    for j in range(n):\n",
    "        P0 = sigma_ls[i] * np.eye(1)\n",
    "        Q = sigma_ls[i] * np.eye(1)\n",
    "        model = StdNonLin(P0, Q)\n",
    "        sim = simulator.Simulator(model,u=None,y=Y[j,:])\n",
    "        #sim = unnormalizedSimulator(model, u=None, y=Y)\n",
    "        sim.simulate(N, M, filter='PF', smoother='ancestor', meas_first=False)\n",
    "        (est_filt, w_filt) = sim.get_filtered_estimates()\n",
    "        #weight=np.exp(logweight)\n",
    "        #maxlogweight = np.max(w_unnormalized,axis=1)\n",
    "        #weight = np.exp(w_unnormalized - np.reshape(np.repeat(maxlogweight, N),(T, N)))\n",
    "        www = scipy.stats.binom.logpmf(np.reshape(np.repeat(Y[j,:],N),[T,N]),trial, np.exp(est_filt[1:,:,0])/(1.0 + np.exp(est_filt[1:,:,0])), loc=0)\n",
    "        maxlogweight = np.max(www,axis=1)\n",
    "        weight = np.exp(www - np.reshape(np.repeat(maxlogweight, N),(T, N)))\n",
    "        loglikelihood[i,j]=np.sum(np.log(np.sum(weight, axis = 1)/N)) + np.sum(maxlogweight)\n",
    "        #loglikelihood[i]=np.sum(np.log(np.sum(weight, axis = 1)/N))"
   ]
  },
  {
   "cell_type": "code",
   "execution_count": 147,
   "metadata": {
    "collapsed": false
   },
   "outputs": [
    {
     "name": "stdout",
     "output_type": "stream",
     "text": [
      "[[-4039.59797623 -3253.55112446 -4159.57859417 ..., -2561.19061536\n",
      "  -2722.70752544 -3034.76107701]\n",
      " [-4039.59797623 -3253.55112446 -4159.57859417 ..., -2561.19061536\n",
      "  -2722.70752544 -3034.76107701]\n",
      " [-4039.59797623 -3253.55112446 -4159.57859417 ..., -2561.19061536\n",
      "  -2722.70752544 -3034.76107701]\n",
      " ..., \n",
      " [-4039.59797623 -3253.55112446 -4159.57859417 ..., -2561.19061536\n",
      "  -2722.70752544 -3034.76107701]\n",
      " [-4039.59797623 -3253.55112446 -4159.57859417 ..., -2561.19061536\n",
      "  -2722.70752544 -3034.76107701]\n",
      " [-4039.59797623 -3253.55112446 -4159.57859417 ..., -2561.19061536\n",
      "  -2722.70752544 -3034.76107701]]\n"
     ]
    }
   ],
   "source": [
    "kkk = pickle.load(open('/Users/zyzrdfz/Desktop/gwungwun/mixture_loglikelihood.p','rb'))\n",
    "print kkk"
   ]
  },
  {
   "cell_type": "code",
   "execution_count": 17,
   "metadata": {
    "collapsed": true
   },
   "outputs": [],
   "source": [
    "pickle.dump(loglikelihood, open('/Users/zyzrdfz/Desktop/gwungwun/mixture_loglikelihood_1000.p','wb'))"
   ]
  },
  {
   "cell_type": "code",
   "execution_count": 30,
   "metadata": {
    "collapsed": false
   },
   "outputs": [
    {
     "data": {
      "text/plain": [
       "(30, 20)"
      ]
     },
     "execution_count": 30,
     "metadata": {},
     "output_type": "execute_result"
    }
   ],
   "source": [
    "loglikelihood.shape"
   ]
  },
  {
   "cell_type": "markdown",
   "metadata": {},
   "source": [
    "## Log-Likelihood of Mixture"
   ]
  },
  {
   "cell_type": "code",
   "execution_count": 31,
   "metadata": {
    "collapsed": false
   },
   "outputs": [],
   "source": [
    "likelihood = np.empty([len(sigma_ls), len(sigma_ls)])\n",
    "maxloglikelihood = np.max(loglikelihood, axis=0)\n",
    "w = np.exp(loglikelihood - maxloglikelihood)\n",
    "for k in range(len(sigma_ls)):\n",
    "    for l in range(len(sigma_ls)):\n",
    "        likelihood [k,l] = np.sum(np.log(w[k,:]*0.5+w[l,:]*0.5)) + np.sum(maxloglikelihood)"
   ]
  },
  {
   "cell_type": "code",
   "execution_count": 14,
   "metadata": {
    "collapsed": false
   },
   "outputs": [
    {
     "data": {
      "text/plain": [
       "(30, 20)"
      ]
     },
     "execution_count": 14,
     "metadata": {},
     "output_type": "execute_result"
    }
   ],
   "source": [
    "loglikelihood.shape"
   ]
  },
  {
   "cell_type": "code",
   "execution_count": 85,
   "metadata": {
    "collapsed": false
   },
   "outputs": [],
   "source": [
    "likelihood = np.empty([len(sigma_ls), len(sigma_ls)])\n",
    "#maxloglikelihood = np.max(loglikelihood, axis=0)\n",
    "#w = np.exp(loglikelihood - maxloglikelihood)\n",
    "for k in range(len(sigma_ls)):\n",
    "    for l in range(len(sigma_ls)):\n",
    "        maxloglikelihood = Max(loglikelihood[k,:],loglikelihood[l,:],n)\n",
    "        w1 = np.exp(loglikelihood[k,:] - maxloglikelihood)\n",
    "        w2 = np.exp(loglikelihood[l,:] - maxloglikelihood)\n",
    "        likelihood [k,l] = np.sum(np.log(w1*0.5+w2*0.5)) + np.sum(maxloglikelihood)\n",
    "        #likelihood [k,l] = np.sum(np.log(w[k,:]*0.5+w[l,:]*0.5)) + np.sum(maxloglikelihood)"
   ]
  },
  {
   "cell_type": "code",
   "execution_count": 81,
   "metadata": {
    "collapsed": false
   },
   "outputs": [],
   "source": [
    "def Max(a,b,n):\n",
    "    maxloglikelihood = a\n",
    "    for i in range(n):\n",
    "        if a[i]<b[i]:\n",
    "            maxloglikelihood[i] = b[i]\n",
    "    return maxloglikelihood"
   ]
  },
  {
   "cell_type": "code",
   "execution_count": 102,
   "metadata": {
    "collapsed": false
   },
   "outputs": [
    {
     "data": {
      "text/plain": [
       "-69272.739995843935"
      ]
     },
     "execution_count": 102,
     "metadata": {},
     "output_type": "execute_result"
    }
   ],
   "source": [
    "np.sum(maxloglikelihood)"
   ]
  },
  {
   "cell_type": "code",
   "execution_count": null,
   "metadata": {
    "collapsed": false
   },
   "outputs": [],
   "source": []
  },
  {
   "cell_type": "code",
   "execution_count": 32,
   "metadata": {
    "collapsed": false
   },
   "outputs": [
    {
     "data": {
      "text/plain": [
       "<matplotlib.contour.QuadContourSet at 0x10c0e8050>"
      ]
     },
     "execution_count": 32,
     "metadata": {},
     "output_type": "execute_result"
    },
    {
     "data": {
      "image/png": "[encoded data removed]",
      "text/plain": [
       "<matplotlib.figure.Figure at 0x109cb8350>"
      ]
     },
     "metadata": {},
     "output_type": "display_data"
    }
   ],
   "source": [
    "plt.contour(sigma_ls,sigma_ls,likelihood)"
   ]
  },
  {
   "cell_type": "code",
   "execution_count": 34,
   "metadata": {
    "collapsed": false
   },
   "outputs": [
    {
     "data": {
      "text/plain": [
       "array([-72046.3517674 , -72036.13226805, -72032.48882379, -70666.64539597,\n",
       "       -69833.41015637, -69587.98529295, -69251.90772006, -69134.60809957,\n",
       "       -69028.79662845, -68961.84924146, -68871.2155654 , -68829.29755486,\n",
       "       -68815.96413959, -68771.46644035, -68908.40424963, -68791.65399361,\n",
       "       -68791.58161862, -68879.66928832, -68962.88524331, -68936.22936527,\n",
       "       -69030.82907668, -69097.85027134, -69041.98957687, -69160.17628579,\n",
       "       -69213.50293288, -69296.41128088, -69312.86105893, -69337.10941739,\n",
       "       -69413.26786539, -69492.87582878])"
      ]
     },
     "execution_count": 34,
     "metadata": {},
     "output_type": "execute_result"
    }
   ],
   "source": [
    "likelihood[2,:]"
   ]
  },
  {
   "cell_type": "code",
   "execution_count": 17,
   "metadata": {
    "collapsed": true
   },
   "outputs": [],
   "source": [
    "pickle.dump(likelihood, open('/Users/zyzrdfz/Desktop/gwungwun/mixture_likelihood.p','wb'))"
   ]
  },
  {
   "cell_type": "code",
   "execution_count": null,
   "metadata": {
    "collapsed": true
   },
   "outputs": [],
   "source": []
  }
 ],
 "metadata": {
  "kernelspec": {
   "display_name": "Python 2",
   "language": "python",
   "name": "python2"
  },
  "language_info": {
   "codemirror_mode": {
    "name": "ipython",
    "version": 2
   },
   "file_extension": ".py",
   "mimetype": "text/x-python",
   "name": "python",
   "nbconvert_exporter": "python",
   "pygments_lexer": "ipython2",
   "version": "2.7.11"
  }
 },
 "nbformat": 4,
 "nbformat_minor": 0
}
