{
 "cells": [
  {
   "cell_type": "markdown",
   "metadata": {},
   "source": [
    "# Parameter Estimation\n",
    "## Particle Smoother EM (PSEM)\n",
    "### M-Step: maximize the following Monte Carlo approximation with respect to  $\\theta$\n",
    "\n",
    "$\\hat{Q}_r(\\theta) = \\frac{1}{M_r} \\sum_{j=1}^{M_r} \\log p(\\tilde{x}_{1:T}^j, y_{1:t};\\theta)$\n",
    "\n",
    "where\n",
    "\n",
    "$M_r$: num. of backward trajectories\n",
    "\n",
    "$\\{ \\tilde{x}_{1:T}^j \\}_{j=1}^{M_r}$: $p_{\\theta[r-1]}(x_{1:T}|y_{1:T})$\n",
    "\n"
   ]
  },
  {
   "cell_type": "markdown",
   "metadata": {},
   "source": [
    "## For our 1-dimensional state space model\n",
    "\n",
    "$$\\left\\{\n",
    "\\begin{array}{ll}\n",
    "      x_k = x_{k-1} + \\epsilon_k, \\epsilon_k \\sim N(0,\\sigma^2_{\\epsilon K}) & (a) \\\\\n",
    "      \\lambda_r(k\\Delta)\\Delta = \\frac{e^{x_k}}{1+e^{x_k}} & (b)\\\\\n",
    "      \\Delta N_{k} | x_k \\sim Bernoulli(\\lambda_r(k\\Delta)\\Delta) & (c)\n",
    "\\end{array} \n",
    "\\right. $$"
   ]
  },
  {
   "cell_type": "markdown",
   "metadata": {},
   "source": [
    "## Complete Data Likelihood\n",
    "\\begin{align*}\n",
    "p(N_{0,K}, x; \\theta) &= p(N_{0,K}|\\boldsymbol{x})p(\\boldsymbol{x})\\\\\n",
    "&= \\prod\\limits_{k=1}^{K}\\left\\{p(\\Delta N_{k}|x_k)\\right\\}\\prod\\limits_{k=1}^{K} p(x_k|x_{k-1}; \\sigma_{\\epsilon K}^2)\n",
    "\\end{align*}\n",
    "\n",
    "where \n",
    "\\begin{align*}\n",
    "p(x; \\theta) &= (2\\pi \\sigma_{\\epsilon K}^2)^{\\frac{-K}{2}} \\exp {\\left\\{-\\sum_{k=1}^{K} \\frac{(x_k-x_{k-1})^2}{2\\sigma_{\\epsilon K}^2}\\right\\}}\n",
    "\\end{align*}\n",
    "\n",
    "\\begin{align*}\n",
    "p(N_{0,K}|x) &= \\prod\\limits_{k=1}^{K} (\\lambda_r(k\\Delta)\\Delta )^{\\Delta N_{k}} (1-(\\lambda_r(k\\Delta)\\Delta))^{1-\\Delta N_{k}}\n",
    "\\end{align*}"
   ]
  },
  {
   "cell_type": "markdown",
   "metadata": {},
   "source": [
    "### E-step:\n",
    "\\begin{align*}\n",
    "Q(\\theta|\\theta^{l}) &= E\\left\\{\\log [p(N_{0,K}, x; \\theta)]|| H_K, \\theta^{(l)} \\right\\}\\\\\n",
    "&=\\int \\log p(N_{0,K}, x; \\theta) p(x|H_k,\\theta^{(l-1)}) dx\n",
    "\\end{align*}\n",
    "\n",
    "#### use Sequential Monte Carlo to sample backward smoother \n",
    "\n",
    "%% $E\\{x_k || H_k, \\theta^{(l)}\\}$, $W_k = E\\{x_k^2 || H_k, \\theta^{(l)}\\}$ and $W_{k,k+1}=E\\{x_k x_{k-1} || H_k, \\theta^{(l)}\\}$"
   ]
  },
  {
   "cell_type": "markdown",
   "metadata": {},
   "source": [
    "### M-step:\n",
    "\n",
    "$\\sigma_{\\epsilon K}^{2(l+1)} = K^{-1} [\\sum_{k=1}^K W_k +\\sum_{k=1}^K W_{k-1} -2\\sum_{k=1}^K W_{k,k-1}]$"
   ]
  },
  {
   "cell_type": "code",
   "execution_count": 1,
   "metadata": {
    "collapsed": false
   },
   "outputs": [
    {
     "name": "stderr",
     "output_type": "stream",
     "text": [
      "//anaconda/lib/python2.7/site-packages/matplotlib/font_manager.py:273: UserWarning: Matplotlib is building the font cache using fc-list. This may take a moment.\n",
      "  warnings.warn('Matplotlib is building the font cache using fc-list. This may take a moment.')\n"
     ]
    }
   ],
   "source": [
    "import numpy\n",
    "import math\n",
    "import pyparticleest.utils.kalman as kalman\n",
    "import pyparticleest.interfaces as interfaces\n",
    "import pyparticleest.paramest.paramest as param_est\n",
    "import pyparticleest.paramest.interfaces as pestint\n",
    "import matplotlib.pyplot as plt\n",
    "import scipy.optimize\n",
    "from scipy.stats import bernoulli\n",
    "from IPython.display import Image"
   ]
  },
  {
   "cell_type": "code",
   "execution_count": 2,
   "metadata": {
    "collapsed": true
   },
   "outputs": [],
   "source": [
    "def generate_dataset(steps, P0, Q):\n",
    "    x = numpy.zeros((steps + 1,))\n",
    "    y = numpy.zeros((steps + 1,))\n",
    "    x[0] = numpy.random.multivariate_normal((0.0,), P0)\n",
    "    y[0] = numpy.random.binomial(1,numpy.exp(x[0])/(1.0+numpy.exp(x)[0]))\n",
    "    for k in range(0, steps):\n",
    "        x[k + 1] = x[k] + numpy.random.multivariate_normal((0.0,), Q)\n",
    "        y[k + 1] = bernoulli.rvs(numpy.exp(x[k+1])/(1.0 + numpy.exp(x[k+1])))\n",
    "\n",
    "    return (x, y)"
   ]
  },
  {
   "cell_type": "code",
   "execution_count": 3,
   "metadata": {
    "collapsed": true
   },
   "outputs": [],
   "source": [
    "def wmean(logw, val):\n",
    "    w = numpy.exp(logw)\n",
    "    w = w / sum(w)\n",
    "    return numpy.sum(w * val.ravel())"
   ]
  },
  {
   "cell_type": "code",
   "execution_count": 4,
   "metadata": {
    "collapsed": false
   },
   "outputs": [],
   "source": [
    "class Model(interfaces.ParticleFiltering, interfaces.FFBSiRS, pestint.ParamEstInterface):\n",
    "    \"\"\" x_{k+1} = x_k + v_k, v_k ~ N(0,Q),\n",
    "        y_k = e_k, e_k ~ Bernoulli(\\exp(x_{k})/(1+\\exp(x_{k}))),\n",
    "        x(0) ~ N(0,P0) \"\"\"\n",
    "\n",
    "    def __init__(self, P0, Q):\n",
    "        self.P0 = numpy.copy(P0)\n",
    "        self.Q = numpy.copy(Q)\n",
    "        self.logxn_max = kalman.lognormpdf_scalar(numpy.zeros((1,)), self.Q)\n",
    "\n",
    "    def create_initial_estimate(self, N):\n",
    "        return numpy.random.normal(0.0, numpy.sqrt(self.P0), (N,))\n",
    "\n",
    "    def sample_process_noise(self, particles, u, t):\n",
    "        \"\"\" Return process noise for input u \"\"\"\n",
    "        N = len(particles)\n",
    "        return numpy.random.normal(0.0, numpy.sqrt(self.Q), (N,))\n",
    "\n",
    "    def update(self, particles, u, noise, t):\n",
    "        \"\"\" Update estimate using 'data' as input \"\"\"\n",
    "        particles[:] = particles + noise\n",
    "\n",
    "    def measure(self, particles, y, t):\n",
    "        \"\"\" Return the log-pdf value of the measurement \"\"\"\n",
    "        return bernoulli.logpmf(y,numpy.exp(particles)/(1.0 + numpy.exp(particles)))\n",
    "\n",
    "\n",
    "    def logp_xnext(self, particles, next_part, u, t):\n",
    "        \"\"\" Return the log-pdf value for the possible future state 'next' given input u \"\"\"\n",
    "        pn = particles\n",
    "        return kalman.lognormpdf_scalar(pn.ravel() - next_part.ravel(), self.Q)\n",
    "\n",
    "    def logp_xnext_max(self, particles, u, t):\n",
    "        return self.logxn_max\n",
    "\n",
    "    def sample_smooth(self, part, ptraj, anc, future_trajs, find, ut, yt, tt, cur_ind):\n",
    "        \"\"\" Update ev. Rao-Blackwellized states conditioned on \"next_part\" \"\"\"\n",
    "        return part.reshape((-1, 1))\n",
    "\n",
    "    def set_params(self, params):\n",
    "        \"\"\" New set of parameters for which the integral approximation terms will be evaluated\"\"\"\n",
    "        self.Q = params[0] * numpy.eye(1)\n",
    "\n",
    "    def eval_logp_x0(self, particles, t):\n",
    "        \"\"\" Calculate gradient of a term of the I1 integral approximation\n",
    "            as specified in [1].\n",
    "            The gradient is an array where each element is the derivative with\n",
    "            respect to the corresponding parameter\"\"\"\n",
    "        return kalman.lognormpdf_scalar(particles, self.P0)\n",
    "    \n",
    "    def copy_ind(self, particles, new_ind=None):\n",
    "        if (new_ind is not None):\n",
    "            return numpy.copy(particles[new_ind])\n",
    "        else:\n",
    "            return numpy.copy(particles)\n",
    "\n",
    "    def eval_logp_xnext_fulltraj(self, straj, ut, tt):\n",
    "        M = straj.shape[1]\n",
    "        part = straj\n",
    "        xp = part\n",
    "        diff = part[1:] - xp[:-1]\n",
    "        logp = kalman.lognormpdf_scalar(diff.ravel(), self.Q)\n",
    "        return numpy.sum(logp) / M\n",
    "\n",
    "    def eval_logp_y_fulltraj(self, straj, yt, tt):\n",
    "        M = straj.shape[1]\n",
    "        diff = numpy.repeat(numpy.asarray(yt, dtype=float).reshape((-1, 1, 1)),\n",
    "                                 repeats=M, axis=1)\n",
    "        return numpy.sum(bernoulli.logpmf(diff.ravel(), numpy.exp(straj.ravel())/(1.0 + numpy.exp(straj.ravel())))) / M\n",
    "\n",
    "    def maximize_weighted(self, straj, alltrajs, weights):\n",
    "        return self.maximize_weighted_analytic(straj, alltrajs, weights)\n",
    "        #return self.maximize_weighted_numeric(straj, alltrajs, weights)\n",
    "        \n",
    "    def maximize_weighted_analytic(self, straj, alltrajs, weights):\n",
    "        M = alltrajs.shape[1]\n",
    "\n",
    "        tt = straj.t\n",
    "        yt = straj.y\n",
    "        part = alltrajs\n",
    "\n",
    "        xp = part\n",
    "        diff = part[1:] - xp[:-1]\n",
    "\n",
    "        werr = numpy.empty((len(alltrajs) - 1, M))\n",
    "\n",
    "        for j in xrange(len(weights)):\n",
    "            werr[:, j:j + 1] = weights[j] * diff[:, j] ** 2\n",
    "\n",
    "        Q = numpy.mean(numpy.sum(werr, axis=1))\n",
    "\n",
    "        newparams = numpy.asarray((Q,))\n",
    "        #newparams = numpy.asarray((Q,))\n",
    "        return newparams\n"
   ]
  },
  {
   "cell_type": "code",
   "execution_count": null,
   "metadata": {
    "collapsed": false
   },
   "outputs": [],
   "source": [
    "if __name__ == '__main__':\n",
    "    numpy.random.seed(1)\n",
    "    steps = 500 #1499\n",
    "    max_iter = 2000\n",
    "    forwardnum = 1000\n",
    "    backwardnum = 200\n",
    "    P0 = 2.0 * numpy.eye(1)\n",
    "    Q = 1.0 * numpy.eye(1)\n",
    "\n",
    "    (x, y) = generate_dataset(steps, P0, Q)\n",
    "\n",
    "    t = numpy.arange(steps + 1)\n",
    "    \n",
    "    def callback_sim(estimator):\n",
    "\n",
    "        plt.figure(1)\n",
    "        plt.clf()\n",
    "        sest_mean = estimator.get_smoothed_mean()\n",
    "        for k in range(sest_mean.shape[1]):\n",
    "            plt.plot(range(steps + 1), sest_mean[:, k], 'g-', label= 'Smoother mean')\n",
    "\n",
    "        plt.plot(range(steps + 1), x, 'r-', label= 'true x')\n",
    "        plt.plot(range(steps + 1), y, 'bx', label= 'y')\n",
    "        plt.legend(loc='best')\n",
    "        plt.draw()\n",
    "        plt.show()\n",
    "\n",
    "    params_it = numpy.zeros((max_iter + 1, 2))\n",
    "    Q_it = numpy.zeros((max_iter + 1))\n",
    "\n",
    "    theta_true = numpy.asarray((1.0,))\n",
    "    \n",
    "    def callback(params, Q, cur_iter):\n",
    "        params_it[cur_iter] = params\n",
    "        Q_it[cur_iter] = Q\n",
    "\n",
    "        plt.figure(2)\n",
    "        plt.clf()\n",
    "        for i in xrange(len(theta_true)):\n",
    "            plt.plot((0.0, cur_iter + 1), (theta_true[i], theta_true[i]), 'k--', label= '\\theta_true')\n",
    "\n",
    "        for i in xrange(len(params)):\n",
    "            plt.plot(range(cur_iter + 1), params_it[:cur_iter + 1, i], '-', label= '\\theta_est')\n",
    "        plt.legend(loc='best')\n",
    "        plt.draw()\n",
    "        plt.show()\n",
    "\n",
    "        return (cur_iter >= max_iter)\n",
    "    \n",
    "    theta0 = numpy.asarray((2.0,))\n",
    "    #theta0 = numpy.asarray((2.0,))\n",
    "    model = Model(P0, Q)\n",
    "    estimator = param_est.ParamEstimationPSAEM(model, u=None, y=y)\n",
    "    plt.ion()\n",
    "    callback(theta0, None, 0)\n",
    "    estimator.simulate(forwardnum, backwardnum, filter='pf', smoother='full', meas_first=True)\n",
    "    ctraj = numpy.copy(estimator.straj.traj)\n",
    "    filter_options = {'cond_traj': ctraj}\n",
    "\n",
    "    param = estimator.maximize(theta0, forwardnum, filter='pf',smoother='full',\n",
    "                       meas_first=True, max_iter=max_iter,\n",
    "                       filter_options=filter_options,\n",
    "                       callback=callback,\n",
    "                       callback_sim=callback_sim)[0]\n",
    "    plt.ioff()\n",
    "    callback(param, None, max_iter)"
   ]
  },
  {
   "cell_type": "code",
   "execution_count": null,
   "metadata": {
    "collapsed": false
   },
   "outputs": [],
   "source": [
    "Image(filename='figure_1.png')"
   ]
  },
  {
   "cell_type": "code",
<<<<<<< HEAD
   "execution_count": 12,
   "metadata": {
    "collapsed": false
   },
   "outputs": [
    {
     "data": {
      "image/png": "iVBORw0KGgoAAAANSUhEUgAAAyAAAAJYCAYAAACadoJwAAAABHNCSVQICAgIfAhkiAAAAAlwSFlz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\nQmCC\n",
      "text/plain": [
       "<IPython.core.display.Image object>"
      ]
     },
     "execution_count": 12,
     "metadata": {},
     "output_type": "execute_result"
    }
   ],
=======
   "execution_count": null,
   "metadata": {
    "collapsed": false
   },
   "outputs": [],
>>>>>>> 0f2ed9c749fc2305855c2bfd9f4830401508ff55
   "source": [
    "Image(filename='figure_2.png')"
   ]
  },
  {
   "cell_type": "code",
<<<<<<< HEAD
   "execution_count": 13,
=======
   "execution_count": null,
>>>>>>> 0f2ed9c749fc2305855c2bfd9f4830401508ff55
   "metadata": {
    "collapsed": false
   },
   "outputs": [],
   "source": [
    "def likelihood(param,estimator,cur_iter):\n",
    "    plt.figure(3)\n",
    "    plt.clf()\n",
    "    est_smooth = estimator.get_smoothed_estimates()\n",
    "    diff=numpy.diff(est_smooth[:,:,0]-est_smooth[:,:,0],axis=0)\n",
    "    logpx = kalman.lognormpdf_scalar(diff.ravel(), param)\n",
    "    logpx0 = kalman.lognormpdf_scalar(est_smooth[0,:,0].ravel(), P0)\n",
    "    lpx=numpy.sum(logpx) / backwardnum\n",
    "    lpx0=numpy.sum(logpx0) / backwardnum"
   ]
  },
  {
   "cell_type": "code",
   "execution_count": 14,
   "metadata": {
    "collapsed": false
   },
   "outputs": [
    {
     "data": {
      "text/plain": [
       "array([ 2.57550291])"
      ]
     },
     "execution_count": 14,
     "metadata": {},
     "output_type": "execute_result"
    }
   ],
   "source": [
    "param"
   ]
  },
  {
   "cell_type": "code",
   "execution_count": null,
   "metadata": {
    "collapsed": true
   },
   "outputs": [],
   "source": []
  }
 ],
 "metadata": {
  "kernelspec": {
   "display_name": "Python 2",
   "language": "python",
   "name": "python2"
  },
  "language_info": {
   "codemirror_mode": {
    "name": "ipython",
    "version": 2
   },
   "file_extension": ".py",
   "mimetype": "text/x-python",
   "name": "python",
   "nbconvert_exporter": "python",
   "pygments_lexer": "ipython2",
   "version": "2.7.12"
  }
 },
 "nbformat": 4,
 "nbformat_minor": 0
}
