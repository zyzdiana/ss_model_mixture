{
 "cells": [
  {
   "cell_type": "code",
   "execution_count": 2,
   "metadata": {
    "collapsed": false
   },
   "outputs": [],
   "source": [
    "%load_ext autoreload\n",
    "%autoreload 2\n",
    "%reload_ext autoreload"
   ]
  },
  {
   "cell_type": "code",
   "execution_count": 27,
   "metadata": {
    "collapsed": false
   },
   "outputs": [],
   "source": [
    "%matplotlib inline\n",
    "import os\n",
    "import time\n",
    "import pandas as pd\n",
    "import numpy as np\n",
    "import sys\n",
    "import math\n",
    "import cPickle as pickle\n",
    "import scipy\n",
    "import matplotlib.pyplot as plt\n",
    "from bokeh.plotting import *\n",
    "from bokeh.models import ColumnDataSource\n",
    "from scipy.stats import bernoulli"
   ]
  },
  {
   "cell_type": "code",
   "execution_count": 4,
   "metadata": {
    "collapsed": false
   },
   "outputs": [],
   "source": [
    "import seaborn as sns\n",
    "sns.set_style(\"whitegrid\")\n",
    "sns.set_context(\"poster\")"
   ]
  },
  {
   "cell_type": "markdown",
   "metadata": {},
   "source": [
    "# Heading1\n",
    "\n",
    "## Heading 2\n",
    "\n",
    "### Heading 3\n",
    "\n",
    "#### Heading 4"
   ]
  },
  {
   "cell_type": "markdown",
   "metadata": {},
   "source": [
    "## Python List"
   ]
  },
  {
   "cell_type": "code",
   "execution_count": 5,
   "metadata": {
    "collapsed": false
   },
   "outputs": [
    {
     "name": "stdout",
     "output_type": "stream",
     "text": [
      "[0, 1, 2, 3, 4, 5, 6, 7, 8, 9]\n"
     ]
    }
   ],
   "source": [
    "ls = []\n",
    "for i in xrange(10):\n",
    "    ls.append(i)\n",
    "print ls"
   ]
  },
  {
   "cell_type": "markdown",
   "metadata": {},
   "source": [
    "## Latex\n",
    "\n",
    "this is inline $\\lambda = 1$.\n",
    "\n",
    "This is a separate equation $$\\lambda = 1$$ next line\n",
    "\n",
    "$$\\begin{equation} x = 1 \\end{equation}$$\n"
   ]
  },
  {
   "cell_type": "markdown",
   "metadata": {},
   "source": [
    "## Numpy Array"
   ]
  },
  {
   "cell_type": "code",
   "execution_count": 6,
   "metadata": {
    "collapsed": false
   },
   "outputs": [
    {
     "name": "stdout",
     "output_type": "stream",
     "text": [
      "[0 1 2]\n",
      "[[ 0.  0.  0.]]\n",
      "[[ 0.  0.  0.]]\n",
      "[[ 1.  1.  1.]]\n"
     ]
    }
   ],
   "source": [
    "# define numpy array\n",
    "arr1 = np.array([0,1,2])\n",
    "print arr1\n",
    "# empty\n",
    "arr2 = np.empty([1,3])\n",
    "print arr2\n",
    "#  zeros\n",
    "arr3 = np.zeros([1,3])\n",
    "print arr3\n",
    "#  ones\n",
    "arr4 = np.ones([1,3])\n",
    "print arr4"
   ]
  },
  {
   "cell_type": "code",
   "execution_count": 7,
   "metadata": {
    "collapsed": false
   },
   "outputs": [
    {
     "name": "stdout",
     "output_type": "stream",
     "text": [
      "[[2 3 4]\n",
      " [5 6 7]]\n",
      "(2, 3)\n",
      "[[2 5]\n",
      " [3 6]\n",
      " [4 7]]\n",
      "2\n"
     ]
    }
   ],
   "source": [
    "# Matrix\n",
    "mat1 = np.array([[2,3,4],[5,6,7]])\n",
    "print mat1\n",
    "print mat1.shape\n",
    "print mat1.T\n",
    "print mat1.shape[0]"
   ]
  },
  {
   "cell_type": "code",
   "execution_count": 8,
   "metadata": {
    "collapsed": false
   },
   "outputs": [
    {
     "data": {
      "text/plain": [
       "array([11, 20])"
      ]
     },
     "execution_count": 8,
     "metadata": {},
     "output_type": "execute_result"
    }
   ],
   "source": [
    "mat1.dot(arr1)"
   ]
  },
  {
   "cell_type": "markdown",
   "metadata": {},
   "source": [
    "## Stats\n",
    "\n",
    "numpy & scipy"
   ]
  },
  {
   "cell_type": "code",
   "execution_count": 9,
   "metadata": {
    "collapsed": false
   },
   "outputs": [
    {
     "name": "stdout",
     "output_type": "stream",
     "text": [
      "[[ 0.70405923  0.27085845  0.15281544  0.06956627  0.23176481]\n",
      " [ 0.51707882  0.54307396  0.01348052  0.50498672  0.28809979]\n",
      " [ 0.69937233  0.1033014   0.73276256  0.15613032  0.64000155]\n",
      " [ 0.67148519  0.62645124  0.04567647  0.58802981  0.37843378]\n",
      " [ 0.79779027  0.40199828  0.06855914  0.6670775   0.23329465]\n",
      " [ 0.90572797  0.31468729  0.77753146  0.56678049  0.09702369]\n",
      " [ 0.44642045  0.07003246  0.40515912  0.32918134  0.59096871]\n",
      " [ 0.91924646  0.10345349  0.96337935  0.11455022  0.10271915]\n",
      " [ 0.43378337  0.57874403  0.16137436  0.04951532  0.19577256]\n",
      " [ 0.71233147  0.77958231  0.41461736  0.37520025  0.68430158]]\n",
      "[ 0.70405923  0.27085845  0.15281544  0.06956627  0.23176481  0.51707882\n",
      "  0.54307396  0.01348052  0.50498672  0.28809979  0.69937233  0.1033014\n",
      "  0.73276256  0.15613032  0.64000155  0.67148519  0.62645124  0.04567647\n",
      "  0.58802981  0.37843378  0.79779027  0.40199828  0.06855914  0.6670775\n",
      "  0.23329465  0.90572797  0.31468729  0.77753146  0.56678049  0.09702369\n",
      "  0.44642045  0.07003246  0.40515912  0.32918134  0.59096871  0.91924646\n",
      "  0.10345349  0.96337935  0.11455022  0.10271915  0.43378337  0.57874403\n",
      "  0.16137436  0.04951532  0.19577256  0.71233147  0.77958231  0.41461736\n",
      "  0.37520025  0.68430158]\n"
     ]
    }
   ],
   "source": [
    "# draw random standard normal variable N(0,1)\n",
    "rand1 = np.random.random([10,5])\n",
    "print rand1\n",
    "print rand1.ravel()"
   ]
  },
  {
   "cell_type": "code",
   "execution_count": 10,
   "metadata": {
    "collapsed": false
   },
   "outputs": [
    {
     "name": "stdout",
     "output_type": "stream",
     "text": [
      "CPU times: user 712 ms, sys: 114 ms, total: 825 ms\n",
      "Wall time: 833 ms\n"
     ]
    }
   ],
   "source": [
    "%%time\n",
    "rand2 = np.random.random([10000,5000])"
   ]
  },
  {
   "cell_type": "code",
   "execution_count": 11,
   "metadata": {
    "collapsed": false
   },
   "outputs": [
    {
     "name": "stdout",
     "output_type": "stream",
     "text": [
      "0.270858448987\n",
      "0.270858448987\n"
     ]
    }
   ],
   "source": [
    "print rand1[0,1]\n",
    "print rand1[0][1]"
   ]
  },
  {
   "cell_type": "code",
   "execution_count": 22,
   "metadata": {
    "collapsed": false
   },
   "outputs": [
    {
     "name": "stdout",
     "output_type": "stream",
     "text": [
      "[ 0.70405923  0.51707882  0.69937233  0.67148519  0.79779027  0.90572797\n",
      "  0.44642045  0.91924646  0.43378337  0.71233147]\n",
      "[ 0.70405923  0.27085845  0.15281544  0.06956627  0.23176481]\n",
      "[[-0.43320078 -0.11804301 -0.08324916  0.16219853]\n",
      " [ 0.02599515 -0.52959344  0.4915062  -0.21688693]\n",
      " [-0.59607093  0.62946116 -0.57663224  0.48387123]\n",
      " [-0.04503394 -0.58077477  0.54235333 -0.20959602]\n",
      " [-0.39579199 -0.33343914  0.59851836 -0.43378285]\n",
      " [-0.59104067  0.46284417 -0.21075097 -0.4697568 ]\n",
      " [-0.37638799  0.33512666 -0.07597778  0.26178737]\n",
      " [-0.81579298  0.85992586 -0.84882913 -0.01183107]\n",
      " [ 0.14496066 -0.41736966 -0.11185904  0.14625724]\n",
      " [ 0.06725084 -0.36496495 -0.03941711  0.30910133]]\n"
     ]
    },
    {
     "data": {
      "text/plain": [
       "array([-0.43320078, -0.11804301, -0.08324916,  0.16219853,  0.02599515,\n",
       "       -0.52959344,  0.4915062 , -0.21688693, -0.59607093,  0.62946116,\n",
       "       -0.57663224,  0.48387123, -0.04503394, -0.58077477,  0.54235333,\n",
       "       -0.20959602, -0.39579199, -0.33343914,  0.59851836, -0.43378285,\n",
       "       -0.59104067,  0.46284417, -0.21075097, -0.4697568 , -0.37638799,\n",
       "        0.33512666, -0.07597778,  0.26178737, -0.81579298,  0.85992586,\n",
       "       -0.84882913, -0.01183107,  0.14496066, -0.41736966, -0.11185904,\n",
       "        0.14625724,  0.06725084, -0.36496495, -0.03941711,  0.30910133])"
      ]
     },
     "execution_count": 22,
     "metadata": {},
     "output_type": "execute_result"
    }
   ],
   "source": [
    "print rand1[:,0]\n",
    "print rand1[0,:]\n",
    "diff=np.diff(rand1[:])\n",
    "print diff\n",
    "diff.ravel()"
   ]
  },
  {
   "cell_type": "code",
   "execution_count": null,
   "metadata": {
    "collapsed": false
   },
   "outputs": [],
   "source": [
    "print rand1[:5,0]\n",
    "print rand1[2:5,3:4]"
   ]
  },
  {
   "cell_type": "code",
   "execution_count": null,
   "metadata": {
    "collapsed": false
   },
   "outputs": [],
   "source": [
    "print rand1.shape\n",
    "# this is a vector\n",
    "print rand1[:,0].shape \n",
    "\n",
    "mat1d = rand1[:,0].reshape([10,1])\n",
    "print mat1d.shape"
   ]
  },
  {
   "cell_type": "code",
   "execution_count": 26,
   "metadata": {
    "collapsed": false
   },
   "outputs": [
    {
     "name": "stdout",
     "output_type": "stream",
     "text": [
      "[[ 0.52867471]]\n"
     ]
    }
   ],
   "source": [
    "shape = rand1.shape\n",
    "rand3=np.random.random([1,1])\n",
    "rand3.reshape(-1,1)"
   ]
  },
  {
   "cell_type": "markdown",
   "metadata": {},
   "source": [
    "## Python Function"
   ]
  },
  {
   "cell_type": "code",
   "execution_count": null,
   "metadata": {
    "collapsed": true
   },
   "outputs": [],
   "source": [
    "# define a square function plus 1\n",
    "def function1(input1):\n",
    "    res = input1**2 + 1\n",
    "    return res"
   ]
  },
  {
   "cell_type": "code",
   "execution_count": null,
   "metadata": {
    "collapsed": false
   },
   "outputs": [],
   "source": [
    "function1(5)"
   ]
  },
  {
   "cell_type": "markdown",
   "metadata": {},
   "source": [
    "## Plot"
   ]
  },
  {
   "cell_type": "code",
   "execution_count": null,
   "metadata": {
    "collapsed": false
   },
   "outputs": [],
   "source": [
    "x = np.random.rand(10)\n",
    "y = np.random.rand(10)\n",
    "print (x,y)"
   ]
  },
  {
   "cell_type": "code",
   "execution_count": null,
   "metadata": {
    "collapsed": false
   },
   "outputs": [],
   "source": [
    "plt.plot(x+1,y+1)\n",
    "plt.hlines(1.5,1,2)\n",
    "plt.show()\n",
    "plt.plot(x,y,'r')\n",
    "plt.vlines(0.5,0,1)\n",
    "plt.show()"
   ]
  },
  {
   "cell_type": "code",
   "execution_count": null,
   "metadata": {
    "collapsed": false
   },
   "outputs": [],
   "source": [
    "plt.scatter(x,y)\n",
    "plt.show()"
   ]
  },
  {
   "cell_type": "code",
   "execution_count": null,
   "metadata": {
    "collapsed": false
   },
   "outputs": [],
   "source": [
    "# tap for choices\n",
    "# Shift+tap for function definition\n",
    "np.random.binomial(10,0.5)"
   ]
  },
  {
   "cell_type": "code",
   "execution_count": null,
   "metadata": {
    "collapsed": false
   },
   "outputs": [],
   "source": [
    "whos"
   ]
  },
  {
   "cell_type": "code",
   "execution_count": null,
   "metadata": {
    "collapsed": false
   },
   "outputs": [],
   "source": [
    "def lognormpdf(x, y):\n",
    "    \"\"\"\n",
    "    Calculate Bernoulli probability density of y, when y ~ B(\\frac{\\exp(x)}{1+\\exp(s)})\n",
    "    \"\"\"\n",
    "    return (np.exp(x)/(1+np.exp(x)))**y * (1.0/(1+np.exp(x)))**(1-y)\n"
   ]
  },
  {
   "cell_type": "code",
   "execution_count": null,
   "metadata": {
    "collapsed": true
   },
   "outputs": [],
   "source": [
    "def measure(self, particles, y, t):\n",
    "        \"\"\"\n",
    "        Return the log-pdf value of the measurement\n",
    "        Args:\n",
    "         - particles  (array-like): Model specific representation\n",
    "           of all particles, with first dimension = N (number of particles)\n",
    "         - y (array-like):  measurement\n",
    "         - t (float): time-stamp\n",
    "        Returns:\n",
    "         (array-like) with first dimension = N, logp(y|x^i)\n",
    "        \"\"\"\n",
    "        N = len(particles)\n",
    "        lpy = numpy.empty(N)\n",
    "        g = self.calc_g(particles=particles, t=t)\n",
    "        R = self.calc_R(particles=particles, t=t)\n",
    "\n",
    "        \n",
    "        for i in xrange(N):\n",
    "            lpy[i] = g(particles[i],y[i])\n",
    "\n",
    "        return lpy"
   ]
  },
  {
   "cell_type": "code",
   "execution_count": 36,
   "metadata": {
    "collapsed": false
   },
   "outputs": [
    {
     "name": "stdout",
     "output_type": "stream",
     "text": [
      "[[ 0.11249407  0.82738521]\n",
      " [ 0.27428035  0.80102416]]\n",
      "[[ 1.  1.]\n",
      " [ 1.  1.]]\n"
     ]
    },
    {
     "data": {
      "text/plain": [
       "array([[-2.18485479, -0.18948491],\n",
       "       [-1.29360451, -0.22186417]])"
      ]
     },
     "execution_count": 36,
     "metadata": {},
     "output_type": "execute_result"
    }
   ],
   "source": [
    "rand5=np.random.random([2,2])\n",
    "rand6=np.ones([2,2])\n",
    "print rand5\n",
    "print rand6\n",
    "bernoulli.logpmf(rand6,rand5)"
   ]
  },
  {
   "cell_type": "code",
   "execution_count": 39,
   "metadata": {
    "collapsed": false
   },
   "outputs": [
    {
     "data": {
      "text/plain": [
       "-2.2072749131897207"
      ]
     },
     "execution_count": 39,
     "metadata": {},
     "output_type": "execute_result"
    }
   ],
   "source": []
  },
  {
   "cell_type": "code",
   "execution_count": null,
   "metadata": {
    "collapsed": true
   },
   "outputs": [],
   "source": []
  }
 ],
 "metadata": {
  "kernelspec": {
   "display_name": "Python 2",
   "language": "python",
   "name": "python2"
  },
  "language_info": {
   "codemirror_mode": {
    "name": "ipython",
    "version": 2
   },
   "file_extension": ".py",
   "mimetype": "text/x-python",
   "name": "python",
   "nbconvert_exporter": "python",
   "pygments_lexer": "ipython2",
   "version": "2.7.11"
  }
 },
 "nbformat": 4,
 "nbformat_minor": 0
}
