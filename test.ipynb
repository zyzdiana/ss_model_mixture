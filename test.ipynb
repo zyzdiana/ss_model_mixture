{
 "cells": [
  {
   "cell_type": "code",
   "execution_count": 2,
   "metadata": {
    "collapsed": false
   },
   "outputs": [],
   "source": [
    "%load_ext autoreload\n",
    "%autoreload 2\n",
    "%reload_ext autoreload"
   ]
  },
  {
   "cell_type": "code",
   "execution_count": 2,
   "metadata": {
    "collapsed": false
   },
   "outputs": [],
   "source": [
    "%matplotlib inline\n",
    "import os\n",
    "import time\n",
    "import pandas as pd\n",
    "import numpy as np\n",
    "import sys\n",
    "import math\n",
    "import cPickle as pickle\n",
    "import scipy\n",
    "import matplotlib.pyplot as plt\n",
    "from bokeh.plotting import *\n",
    "from bokeh.models import ColumnDataSource\n",
    "from scipy.stats import bernoulli"
   ]
  },
  {
   "cell_type": "code",
   "execution_count": 4,
   "metadata": {
    "collapsed": false
   },
   "outputs": [],
   "source": [
    "import seaborn as sns\n",
    "sns.set_style(\"whitegrid\")\n",
    "sns.set_context(\"poster\")"
   ]
  },
  {
   "cell_type": "markdown",
   "metadata": {},
   "source": [
    "# Heading1\n",
    "\n",
    "## Heading 2\n",
    "\n",
    "### Heading 3\n",
    "\n",
    "#### Heading 4"
   ]
  },
  {
   "cell_type": "markdown",
   "metadata": {},
   "source": [
    "## Python List"
   ]
  },
  {
   "cell_type": "code",
   "execution_count": 5,
   "metadata": {
    "collapsed": false
   },
   "outputs": [
    {
     "name": "stdout",
     "output_type": "stream",
     "text": [
      "[0, 1, 2, 3, 4, 5, 6, 7, 8, 9]\n"
     ]
    }
   ],
   "source": [
    "ls = []\n",
    "for i in xrange(10):\n",
    "    ls.append(i)\n",
    "print ls"
   ]
  },
  {
   "cell_type": "markdown",
   "metadata": {},
   "source": [
    "## Latex\n",
    "\n",
    "this is inline $\\lambda = 1$.\n",
    "\n",
    "This is a separate equation $$\\lambda = 1$$ next line\n",
    "\n",
    "$$\\begin{equation} x = 1 \\end{equation}$$\n"
   ]
  },
  {
   "cell_type": "markdown",
   "metadata": {},
   "source": [
    "## Numpy Array"
   ]
  },
  {
   "cell_type": "code",
   "execution_count": 6,
   "metadata": {
    "collapsed": false
   },
   "outputs": [
    {
     "name": "stdout",
     "output_type": "stream",
     "text": [
      "[0 1 2]\n",
      "[[ 0.  0.  0.]]\n",
      "[[ 0.  0.  0.]]\n",
      "[[ 1.  1.  1.]]\n"
     ]
    }
   ],
   "source": [
    "# define numpy array\n",
    "arr1 = np.array([0,1,2])\n",
    "print arr1\n",
    "# empty\n",
    "arr2 = np.empty([1,3])\n",
    "print arr2\n",
    "#  zeros\n",
    "arr3 = np.zeros([1,3])\n",
    "print arr3\n",
    "#  ones\n",
    "arr4 = np.ones([1,3])\n",
    "print arr4"
   ]
  },
  {
   "cell_type": "code",
   "execution_count": 7,
   "metadata": {
    "collapsed": false
   },
   "outputs": [
    {
     "name": "stdout",
     "output_type": "stream",
     "text": [
      "[[2 3 4]\n",
      " [5 6 7]]\n",
      "(2, 3)\n",
      "[[2 5]\n",
      " [3 6]\n",
      " [4 7]]\n",
      "2\n"
     ]
    }
   ],
   "source": [
    "# Matrix\n",
    "mat1 = np.array([[2,3,4],[5,6,7]])\n",
    "print mat1\n",
    "print mat1.shape\n",
    "print mat1.T\n",
    "print mat1.shape[0]"
   ]
  },
  {
   "cell_type": "code",
   "execution_count": 8,
   "metadata": {
    "collapsed": false
   },
   "outputs": [
    {
     "data": {
      "text/plain": [
       "array([11, 20])"
      ]
     },
     "execution_count": 8,
     "metadata": {},
     "output_type": "execute_result"
    }
   ],
   "source": [
    "mat1.dot(arr1)"
   ]
  },
  {
   "cell_type": "markdown",
   "metadata": {},
   "source": [
    "## Stats\n",
    "\n",
    "numpy & scipy"
   ]
  },
  {
   "cell_type": "code",
   "execution_count": 3,
   "metadata": {
    "collapsed": false
   },
   "outputs": [
    {
     "name": "stdout",
     "output_type": "stream",
     "text": [
      "[[ 0.717275    0.99029707  0.79454184  0.68283483  0.41942157]\n",
      " [ 0.43232855  0.43038007  0.85283536  0.53615521  0.93610564]\n",
      " [ 0.3553904   0.03788695  0.97064482  0.51642949  0.20686062]\n",
      " [ 0.14507163  0.9150132   0.00686816  0.29911015  0.01140511]\n",
      " [ 0.91121568  0.01940248  0.19476435  0.66412976  0.43596185]\n",
      " [ 0.9156334   0.22735564  0.13132427  0.09089349  0.37771748]\n",
      " [ 0.6624498   0.17550936  0.53648035  0.93561587  0.99486387]\n",
      " [ 0.14394678  0.0316345   0.23365306  0.78036805  0.62117662]\n",
      " [ 0.65226599  0.75373622  0.47237571  0.18065352  0.32039093]\n",
      " [ 0.25004216  0.94144136  0.20847007  0.94252512  0.80070652]]\n",
      "[ 0.717275    0.99029707  0.79454184  0.68283483  0.41942157  0.43232855\n",
      "  0.43038007  0.85283536  0.53615521  0.93610564  0.3553904   0.03788695\n",
      "  0.97064482  0.51642949  0.20686062  0.14507163  0.9150132   0.00686816\n",
      "  0.29911015  0.01140511  0.91121568  0.01940248  0.19476435  0.66412976\n",
      "  0.43596185  0.9156334   0.22735564  0.13132427  0.09089349  0.37771748\n",
      "  0.6624498   0.17550936  0.53648035  0.93561587  0.99486387  0.14394678\n",
      "  0.0316345   0.23365306  0.78036805  0.62117662  0.65226599  0.75373622\n",
      "  0.47237571  0.18065352  0.32039093  0.25004216  0.94144136  0.20847007\n",
      "  0.94252512  0.80070652]\n"
     ]
    }
   ],
   "source": [
    "# draw random standard normal variable N(0,1)\n",
    "rand1 = np.random.random([10,5])\n",
    "print rand1\n",
    "print rand1.ravel()"
   ]
  },
  {
   "cell_type": "code",
   "execution_count": 13,
   "metadata": {
    "collapsed": false
   },
   "outputs": [
    {
     "name": "stdout",
     "output_type": "stream",
     "text": [
      "[  9.38599207e-01   2.28907539e+00   2.07662936e+00   2.63047276e+00\n",
      "   4.21180160e-01   8.87235610e-01   1.47861150e+00   6.69008380e+00\n",
      "   4.41790457e-01   5.50086906e-01   8.73897550e-01   1.62024135e-01\n",
      "   1.61546816e+01   1.71518003e-01   4.38811223e+01   3.77552884e+00\n",
      "   3.79566459e+00   7.14869886e+00   5.11566522e-01   8.32936266e-01\n",
      "   6.64782616e-01   3.86929002e-02   7.56704152e-01   4.06636734e+01\n",
      "   2.51184053e+00   3.01858254e+00   3.70007456e-01   4.33704983e-01\n",
      "   1.77927038e+00   2.21548938e+00   1.10325600e+00   1.53025997e+00\n",
      "   8.72462890e-01   1.40898759e+00   5.18088268e-01   4.25821769e+00\n",
      "   4.38179319e-01   7.75230817e-01   2.39896053e+00   6.58089503e-01\n",
      "   2.17547857e+00   3.00146169e-01   4.45969337e+00   2.66957914e+01\n",
      "   7.92622582e-01   1.54725013e+00   9.51345451e-02   6.82313029e-01\n",
      "   2.22067722e+00   6.86683380e-01]\n",
      "[[  9.38599207e-01   9.38599207e-01]\n",
      " [  2.28907539e+00   2.28907539e+00]\n",
      " [  2.07662936e+00   2.07662936e+00]\n",
      " [  2.63047276e+00   2.63047276e+00]\n",
      " [  4.21180160e-01   4.21180160e-01]\n",
      " [  8.87235610e-01   8.87235610e-01]\n",
      " [  1.47861150e+00   1.47861150e+00]\n",
      " [  6.69008380e+00   6.69008380e+00]\n",
      " [  4.41790457e-01   4.41790457e-01]\n",
      " [  5.50086906e-01   5.50086906e-01]\n",
      " [  8.73897550e-01   8.73897550e-01]\n",
      " [  1.62024135e-01   1.62024135e-01]\n",
      " [  1.61546816e+01   1.61546816e+01]\n",
      " [  1.71518003e-01   1.71518003e-01]\n",
      " [  4.38811223e+01   4.38811223e+01]\n",
      " [  3.77552884e+00   3.77552884e+00]\n",
      " [  3.79566459e+00   3.79566459e+00]\n",
      " [  7.14869886e+00   7.14869886e+00]\n",
      " [  5.11566522e-01   5.11566522e-01]\n",
      " [  8.32936266e-01   8.32936266e-01]\n",
      " [  6.64782616e-01   6.64782616e-01]\n",
      " [  3.86929002e-02   3.86929002e-02]\n",
      " [  7.56704152e-01   7.56704152e-01]\n",
      " [  4.06636734e+01   4.06636734e+01]\n",
      " [  2.51184053e+00   2.51184053e+00]\n",
      " [  3.01858254e+00   3.01858254e+00]\n",
      " [  3.70007456e-01   3.70007456e-01]\n",
      " [  4.33704983e-01   4.33704983e-01]\n",
      " [  1.77927038e+00   1.77927038e+00]\n",
      " [  2.21548938e+00   2.21548938e+00]\n",
      " [  1.10325600e+00   1.10325600e+00]\n",
      " [  1.53025997e+00   1.53025997e+00]\n",
      " [  8.72462890e-01   8.72462890e-01]\n",
      " [  1.40898759e+00   1.40898759e+00]\n",
      " [  5.18088268e-01   5.18088268e-01]\n",
      " [  4.25821769e+00   4.25821769e+00]\n",
      " [  4.38179319e-01   4.38179319e-01]\n",
      " [  7.75230817e-01   7.75230817e-01]\n",
      " [  2.39896053e+00   2.39896053e+00]\n",
      " [  6.58089503e-01   6.58089503e-01]\n",
      " [  2.17547857e+00   2.17547857e+00]\n",
      " [  3.00146169e-01   3.00146169e-01]\n",
      " [  4.45969337e+00   4.45969337e+00]\n",
      " [  2.66957914e+01   2.66957914e+01]\n",
      " [  7.92622582e-01   7.92622582e-01]\n",
      " [  1.54725013e+00   1.54725013e+00]\n",
      " [  9.51345451e-02   9.51345451e-02]\n",
      " [  6.82313029e-01   6.82313029e-01]\n",
      " [  2.22067722e+00   2.22067722e+00]\n",
      " [  6.86683380e-01   6.86683380e-01]]\n"
     ]
    }
   ],
   "source": [
    "kk=(np.random.random([50])/np.reshape(rand1.T,50))\n",
    "print kk\n",
    "hh=np.repeat(kk,2)\n",
    "hh=np.reshape(hh,)\n",
    "print hh"
   ]
  },
  {
   "cell_type": "code",
   "execution_count": 10,
   "metadata": {
    "collapsed": false
   },
   "outputs": [
    {
     "name": "stdout",
     "output_type": "stream",
     "text": [
      "CPU times: user 712 ms, sys: 114 ms, total: 825 ms\n",
      "Wall time: 833 ms\n"
     ]
    }
   ],
   "source": [
    "%%time\n",
    "rand2 = np.random.random([10000,5000])"
   ]
  },
  {
   "cell_type": "code",
   "execution_count": 11,
   "metadata": {
    "collapsed": false
   },
   "outputs": [
    {
     "name": "stdout",
     "output_type": "stream",
     "text": [
      "0.270858448987\n",
      "0.270858448987\n"
     ]
    }
   ],
   "source": [
    "print rand1[0,1]\n",
    "print rand1[0][1]"
   ]
  },
  {
   "cell_type": "code",
   "execution_count": 22,
   "metadata": {
    "collapsed": false
   },
   "outputs": [
    {
     "name": "stdout",
     "output_type": "stream",
     "text": [
      "[ 0.70405923  0.51707882  0.69937233  0.67148519  0.79779027  0.90572797\n",
      "  0.44642045  0.91924646  0.43378337  0.71233147]\n",
      "[ 0.70405923  0.27085845  0.15281544  0.06956627  0.23176481]\n",
      "[[-0.43320078 -0.11804301 -0.08324916  0.16219853]\n",
      " [ 0.02599515 -0.52959344  0.4915062  -0.21688693]\n",
      " [-0.59607093  0.62946116 -0.57663224  0.48387123]\n",
      " [-0.04503394 -0.58077477  0.54235333 -0.20959602]\n",
      " [-0.39579199 -0.33343914  0.59851836 -0.43378285]\n",
      " [-0.59104067  0.46284417 -0.21075097 -0.4697568 ]\n",
      " [-0.37638799  0.33512666 -0.07597778  0.26178737]\n",
      " [-0.81579298  0.85992586 -0.84882913 -0.01183107]\n",
      " [ 0.14496066 -0.41736966 -0.11185904  0.14625724]\n",
      " [ 0.06725084 -0.36496495 -0.03941711  0.30910133]]\n"
     ]
    },
    {
     "data": {
      "text/plain": [
       "array([-0.43320078, -0.11804301, -0.08324916,  0.16219853,  0.02599515,\n",
       "       -0.52959344,  0.4915062 , -0.21688693, -0.59607093,  0.62946116,\n",
       "       -0.57663224,  0.48387123, -0.04503394, -0.58077477,  0.54235333,\n",
       "       -0.20959602, -0.39579199, -0.33343914,  0.59851836, -0.43378285,\n",
       "       -0.59104067,  0.46284417, -0.21075097, -0.4697568 , -0.37638799,\n",
       "        0.33512666, -0.07597778,  0.26178737, -0.81579298,  0.85992586,\n",
       "       -0.84882913, -0.01183107,  0.14496066, -0.41736966, -0.11185904,\n",
       "        0.14625724,  0.06725084, -0.36496495, -0.03941711,  0.30910133])"
      ]
     },
     "execution_count": 22,
     "metadata": {},
     "output_type": "execute_result"
    }
   ],
   "source": [
    "print rand1[:,0]\n",
    "print rand1[0,:]\n",
    "diff=np.diff(rand1[:])\n",
    "print diff\n",
    "diff.ravel()"
   ]
  },
  {
   "cell_type": "code",
   "execution_count": null,
   "metadata": {
    "collapsed": false
   },
   "outputs": [],
   "source": [
    "print rand1[:5,0]\n",
    "print rand1[2:5,3:4]"
   ]
  },
  {
   "cell_type": "code",
   "execution_count": null,
   "metadata": {
    "collapsed": false
   },
   "outputs": [],
   "source": [
    "print rand1.shape\n",
    "# this is a vector\n",
    "print rand1[:,0].shape \n",
    "\n",
    "mat1d = rand1[:,0].reshape([10,1])\n",
    "print mat1d.shape"
   ]
  },
  {
   "cell_type": "code",
   "execution_count": 26,
   "metadata": {
    "collapsed": false
   },
   "outputs": [
    {
     "name": "stdout",
     "output_type": "stream",
     "text": [
      "[[ 0.52867471]]\n"
     ]
    }
   ],
   "source": [
    "shape = rand1.shape\n",
    "rand3=np.random.random([1,1])\n",
    "rand3.reshape(-1,1)"
   ]
  },
  {
   "cell_type": "markdown",
   "metadata": {},
   "source": [
    "## Python Function"
   ]
  },
  {
   "cell_type": "code",
   "execution_count": null,
   "metadata": {
    "collapsed": true
   },
   "outputs": [],
   "source": [
    "# define a square function plus 1\n",
    "def function1(input1):\n",
    "    res = input1**2 + 1\n",
    "    return res"
   ]
  },
  {
   "cell_type": "code",
   "execution_count": null,
   "metadata": {
    "collapsed": false
   },
   "outputs": [],
   "source": [
    "function1(5)"
   ]
  },
  {
   "cell_type": "markdown",
   "metadata": {},
   "source": [
    "## Plot"
   ]
  },
  {
   "cell_type": "code",
   "execution_count": null,
   "metadata": {
    "collapsed": false
   },
   "outputs": [],
   "source": [
    "x = np.random.rand(10)\n",
    "y = np.random.rand(10)\n",
    "print (x,y)"
   ]
  },
  {
   "cell_type": "code",
   "execution_count": null,
   "metadata": {
    "collapsed": false
   },
   "outputs": [],
   "source": [
    "plt.plot(x+1,y+1)\n",
    "plt.hlines(1.5,1,2)\n",
    "plt.show()\n",
    "plt.plot(x,y,'r')\n",
    "plt.vlines(0.5,0,1)\n",
    "plt.show()"
   ]
  },
  {
   "cell_type": "code",
   "execution_count": null,
   "metadata": {
    "collapsed": false
   },
   "outputs": [],
   "source": [
    "plt.scatter(x,y)\n",
    "plt.show()"
   ]
  },
  {
   "cell_type": "code",
   "execution_count": null,
   "metadata": {
    "collapsed": false
   },
   "outputs": [],
   "source": [
    "# tap for choices\n",
    "# Shift+tap for function definition\n",
    "np.random.binomial(10,0.5)"
   ]
  },
  {
   "cell_type": "code",
   "execution_count": null,
   "metadata": {
    "collapsed": false
   },
   "outputs": [],
   "source": [
    "whos"
   ]
  },
  {
   "cell_type": "code",
   "execution_count": null,
   "metadata": {
    "collapsed": false
   },
   "outputs": [],
   "source": [
    "def lognormpdf(x, y):\n",
    "    \"\"\"\n",
    "    Calculate Bernoulli probability density of y, when y ~ B(\\frac{\\exp(x)}{1+\\exp(s)})\n",
    "    \"\"\"\n",
    "    return (np.exp(x)/(1+np.exp(x)))**y * (1.0/(1+np.exp(x)))**(1-y)\n"
   ]
  },
  {
   "cell_type": "code",
   "execution_count": null,
   "metadata": {
    "collapsed": true
   },
   "outputs": [],
   "source": [
    "def measure(self, particles, y, t):\n",
    "        \"\"\"\n",
    "        Return the log-pdf value of the measurement\n",
    "        Args:\n",
    "         - particles  (array-like): Model specific representation\n",
    "           of all particles, with first dimension = N (number of particles)\n",
    "         - y (array-like):  measurement\n",
    "         - t (float): time-stamp\n",
    "        Returns:\n",
    "         (array-like) with first dimension = N, logp(y|x^i)\n",
    "        \"\"\"\n",
    "        N = len(particles)\n",
    "        lpy = numpy.empty(N)\n",
    "        g = self.calc_g(particles=particles, t=t)\n",
    "        R = self.calc_R(particles=particles, t=t)\n",
    "\n",
    "        \n",
    "        for i in xrange(N):\n",
    "            lpy[i] = g(particles[i],y[i])\n",
    "\n",
    "        return lpy"
   ]
  },
  {
   "cell_type": "code",
   "execution_count": 36,
   "metadata": {
    "collapsed": false
   },
   "outputs": [
    {
     "name": "stdout",
     "output_type": "stream",
     "text": [
      "[[ 0.11249407  0.82738521]\n",
      " [ 0.27428035  0.80102416]]\n",
      "[[ 1.  1.]\n",
      " [ 1.  1.]]\n"
     ]
    },
    {
     "data": {
      "text/plain": [
       "array([[-2.18485479, -0.18948491],\n",
       "       [-1.29360451, -0.22186417]])"
      ]
     },
     "execution_count": 36,
     "metadata": {},
     "output_type": "execute_result"
    }
   ],
   "source": [
    "rand5=np.random.random([2,2])\n",
    "rand6=np.ones([2,2])\n",
    "print rand5\n",
    "print rand6\n",
    "bernoulli.logpmf(rand6,rand5)"
   ]
  },
  {
   "cell_type": "code",
   "execution_count": 47,
   "metadata": {
    "collapsed": false
   },
   "outputs": [
    {
     "data": {
      "text/plain": [
       "[<matplotlib.lines.Line2D at 0x10cd12890>]"
      ]
     },
     "execution_count": 47,
     "metadata": {},
     "output_type": "execute_result"
    },
    {
     "data": {
      "image/png": "[encoded data removed]",
      "text/plain": [
       "<matplotlib.figure.Figure at 0x10cadf7d0>"
      ]
     },
     "metadata": {},
     "output_type": "display_data"
    }
   ],
   "source": [
    "import numpy as np\n",
    "import scipy as sp\n",
    "import scipy.special\n",
    "%matplotlib inline\n",
    "import matplotlib.pyplot as plt\n",
    "\n",
    "xx = np.arange(-8., 4., .01)\n",
    "n = 20\n",
    "y = 0\n",
    "x0 = -3.\n",
    "\n",
    "f = lambda x: sp.special.binom(n, y) * np.exp(x)**y / (1 + np.exp(x))**n\n",
    "lf1 = lambda x: y - n * (1. / (1. + np.exp(-x)))\n",
    "#lf2 = lambda x: -n / (np.exp(x) + 2. + np.exp(-x))\n",
    "lf2 = lambda x: -n * np.exp(x) / (1. + np.exp(x))**2\n",
    "plt.plot(xx, f(xx))\n",
    "plt.plot(xx, f(x0) * np.exp(lf1(x0)*(xx-x0) + .5 * lf2(x0) * (xx - x0)**2))\n",
    "plt.plot(x0, f(x0), 'ro')"
   ]
  },
  {
   "cell_type": "code",
   "execution_count": 16,
   "metadata": {
    "collapsed": false
   },
   "outputs": [
    {
     "data": {
      "text/plain": [
       "1.0"
      ]
     },
     "execution_count": 16,
     "metadata": {},
     "output_type": "execute_result"
    }
   ],
   "source": [
    "sp.special.binom(2,0)"
   ]
  },
  {
   "cell_type": "code",
   "execution_count": 4,
   "metadata": {
    "collapsed": false
   },
   "outputs": [],
   "source": [
    "a=np.random.random([2,20])\n",
    "b=np.random.random([2,20])"
   ]
  },
  {
   "cell_type": "code",
   "execution_count": 15,
   "metadata": {
    "collapsed": false
   },
   "outputs": [
    {
     "data": {
      "text/plain": [
       "array([3, 8])"
      ]
     },
     "execution_count": 15,
     "metadata": {},
     "output_type": "execute_result"
    }
   ],
   "source": [
    "np.array([1,2])*np.array([3,4])"
   ]
  },
  {
   "cell_type": "code",
   "execution_count": 3,
   "metadata": {
    "collapsed": false
   },
   "outputs": [
    {
     "name": "stdout",
     "output_type": "stream",
     "text": [
      "[[-5814.93556707 -3575.95193295 -4648.95416248 ..., -3616.21906977\n",
      "  -5414.31377268 -7114.75194342]\n",
      " [-4906.37270557 -3446.08607738 -4389.6151032  ..., -3294.09167506\n",
      "  -4649.43499791 -5744.03584849]\n",
      " [-4464.73675147 -3348.12466591 -4292.10270053 ..., -3144.9267939\n",
      "  -4054.44509623 -5219.8063905 ]\n",
      " ..., \n",
      " [-4560.57758168 -3691.59050095 -4684.09296262 ..., -2681.32854476\n",
      "  -2776.96022099 -3097.21900497]\n",
      " [-4552.15253101 -3686.50402616 -4703.59417575 ..., -2671.8855736\n",
      "  -2782.23196108 -3118.86401349]\n",
      " [-4562.08463762 -3692.86721894 -4689.38371965 ..., -2687.50443651\n",
      "  -2809.02785389 -3117.99374997]]\n"
     ]
    }
   ],
   "source": [
    "kkk = pickle.load(open('/Users/zyzrdfz/Desktop/gwungwun/mixture_loglikelihood.p','rb'))\n",
    "print kkk"
   ]
  },
  {
   "cell_type": "code",
   "execution_count": 6,
   "metadata": {
    "collapsed": false
   },
   "outputs": [],
   "source": [
    "pi = [0.1,0.9]"
   ]
  },
  {
   "cell_type": "code",
   "execution_count": 7,
   "metadata": {
    "collapsed": false
   },
   "outputs": [
    {
     "data": {
      "text/plain": [
       "array([[ 0.1,  0.1,  0.1,  0.1,  0.1,  0.1,  0.1,  0.1,  0.1,  0.1,  0.1,\n",
       "         0.1,  0.1,  0.1,  0.1,  0.1,  0.1,  0.1,  0.1,  0.1],\n",
       "       [ 0.9,  0.9,  0.9,  0.9,  0.9,  0.9,  0.9,  0.9,  0.9,  0.9,  0.9,\n",
       "         0.9,  0.9,  0.9,  0.9,  0.9,  0.9,  0.9,  0.9,  0.9]])"
      ]
     },
     "execution_count": 7,
     "metadata": {},
     "output_type": "execute_result"
    }
   ],
   "source": [
    "np.reshape(np.repeat(pi,20),(2,20))"
   ]
  },
  {
   "cell_type": "code",
   "execution_count": 8,
   "metadata": {
    "collapsed": false
   },
   "outputs": [
    {
     "data": {
      "text/plain": [
       "array([-7114.75194342, -5744.03584849, -5219.8063905 , -4721.75136089,\n",
       "       -4527.70021318, -4265.32034464, -4054.9613086 , -3975.42026645,\n",
       "       -3900.01491456, -3699.62308079, -3695.04911341, -3598.46591649,\n",
       "       -3648.73094939, -3592.29109878, -3447.81462481, -3404.36463016,\n",
       "       -3422.72094168, -3357.85200299, -3345.37962745, -3347.76122872,\n",
       "       -3328.91000174, -3339.97655624, -3278.35199958, -3262.24106778,\n",
       "       -3210.30199168, -3258.33008383, -3226.1151158 , -3213.62797562,\n",
       "       -3243.97048165, -3192.24136604, -3177.52154765, -3166.02652767,\n",
       "       -3169.01711347, -3209.07926942, -3179.0330205 , -3184.98924572,\n",
       "       -3209.5699903 , -3127.89208707, -3161.53249329, -3107.50949707,\n",
       "       -3098.59048892, -3143.08177831, -3116.52021134, -3132.44442747,\n",
       "       -3101.39302011, -3106.36936967, -3130.42713423, -3103.2795556 ,\n",
       "       -3102.1562097 , -3080.84037133, -3136.83198106, -3082.34012192,\n",
       "       -3083.03912351, -3066.37494495, -3076.06963279, -3063.54862782,\n",
       "       -3088.55774899, -3067.45803594, -3073.5810536 , -3075.82099385,\n",
       "       -3093.01046759, -3101.74637213, -3086.41552226, -3088.98701582,\n",
       "       -3070.57857143, -3089.09970372, -3058.99660749, -3073.97409745,\n",
       "       -3066.39625762, -3079.39981009, -3077.44667112, -3086.44872022,\n",
       "       -3049.77992507, -3065.56951037, -3081.23110585, -3051.58317871,\n",
       "       -3061.75612444, -3064.79304871, -3087.48585176, -3042.53173475,\n",
       "       -3066.33195891, -3056.57408737, -3069.36557292, -3071.15190733,\n",
       "       -3093.94682071, -3051.90723931, -3087.59413996, -3083.4790973 ,\n",
       "       -3063.50187913, -3083.41117085, -3088.08294864, -3073.80957045,\n",
       "       -3089.21126251, -3047.20952344, -3044.77430039, -3072.1136987 ,\n",
       "       -3039.6461829 , -3089.12028957, -3073.43013418, -3076.54792502,\n",
       "       -3070.88902046, -3062.26289406, -3078.67946153, -3073.7110004 ,\n",
       "       -3061.81121158, -3054.36162751, -3077.40649991, -3070.52124402,\n",
       "       -3066.17289463, -3074.05322809, -3092.31662652, -3067.30976205,\n",
       "       -3087.41055217, -3076.39462973, -3065.39492232, -3081.65872137,\n",
       "       -3095.69308494, -3100.99328423, -3072.87357394, -3069.43789789,\n",
       "       -3099.09518494, -3104.64875621, -3089.81115567, -3069.62827625,\n",
       "       -3092.53463701, -3093.56253343, -3082.10587583, -3089.44334417,\n",
       "       -3089.50677437, -3107.98516511, -3093.9419784 , -3120.91652482,\n",
       "       -3107.21873516, -3078.98003774, -3092.51082644, -3095.46037638,\n",
       "       -3091.74355621, -3116.86845355, -3094.34775687, -3103.23562903,\n",
       "       -3096.6165608 , -3124.55381985, -3110.63891819, -3106.61643095,\n",
       "       -3110.84319495, -3114.50863594, -3109.2826913 , -3097.21900497,\n",
       "       -3118.86401349, -3117.99374997])"
      ]
     },
     "execution_count": 8,
     "metadata": {},
     "output_type": "execute_result"
    }
   ],
   "source": [
    "kkk[:,19]"
   ]
  },
  {
   "cell_type": "code",
   "execution_count": 9,
   "metadata": {
    "collapsed": false
   },
   "outputs": [
    {
     "data": {
      "text/plain": [
       "[<matplotlib.lines.Line2D at 0x109396510>]"
      ]
     },
     "execution_count": 9,
     "metadata": {},
     "output_type": "execute_result"
    },
    {
     "data": {
      "image/png": "[encoded data removed]",
      "text/plain": [
       "<matplotlib.figure.Figure at 0x108f44790>"
      ]
     },
     "metadata": {},
     "output_type": "display_data"
    }
   ],
   "source": [
    "plt.plot(kkk[:,19])"
   ]
  },
  {
   "cell_type": "code",
   "execution_count": null,
   "metadata": {
    "collapsed": true
   },
   "outputs": [],
   "source": []
  }
 ],
 "metadata": {
  "kernelspec": {
   "display_name": "Python 2",
   "language": "python",
   "name": "python2"
  },
  "language_info": {
   "codemirror_mode": {
    "name": "ipython",
    "version": 2
   },
   "file_extension": ".py",
   "mimetype": "text/x-python",
   "name": "python",
   "nbconvert_exporter": "python",
   "pygments_lexer": "ipython2",
   "version": "2.7.11"
  }
 },
 "nbformat": 4,
 "nbformat_minor": 0
}
