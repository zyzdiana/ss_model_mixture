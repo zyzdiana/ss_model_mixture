{
 "cells": [
  {
   "cell_type": "code",
   "execution_count": 2,
   "metadata": {
    "collapsed": false
   },
   "outputs": [],
   "source": [
    "%load_ext autoreload\n",
    "%autoreload 2\n",
    "%reload_ext autoreload"
   ]
  },
  {
   "cell_type": "code",
   "execution_count": 2,
   "metadata": {
    "collapsed": false
   },
   "outputs": [],
   "source": [
    "%matplotlib inline\n",
    "import os\n",
    "import time\n",
    "import pandas as pd\n",
    "import numpy as np\n",
    "import sys\n",
    "import math\n",
    "import cPickle as pickle\n",
    "import scipy\n",
    "import matplotlib.pyplot as plt\n",
    "from bokeh.plotting import *\n",
    "from bokeh.models import ColumnDataSource\n",
    "from scipy.stats import bernoulli"
   ]
  },
  {
   "cell_type": "code",
   "execution_count": 4,
   "metadata": {
    "collapsed": false
   },
   "outputs": [],
   "source": [
    "import seaborn as sns\n",
    "sns.set_style(\"whitegrid\")\n",
    "sns.set_context(\"poster\")"
   ]
  },
  {
   "cell_type": "markdown",
   "metadata": {},
   "source": [
    "# Heading1\n",
    "\n",
    "## Heading 2\n",
    "\n",
    "### Heading 3\n",
    "\n",
    "#### Heading 4"
   ]
  },
  {
   "cell_type": "markdown",
   "metadata": {},
   "source": [
    "## Python List"
   ]
  },
  {
   "cell_type": "code",
   "execution_count": 5,
   "metadata": {
    "collapsed": false
   },
   "outputs": [
    {
     "name": "stdout",
     "output_type": "stream",
     "text": [
      "[0, 1, 2, 3, 4, 5, 6, 7, 8, 9]\n"
     ]
    }
   ],
   "source": [
    "ls = []\n",
    "for i in xrange(10):\n",
    "    ls.append(i)\n",
    "print ls"
   ]
  },
  {
   "cell_type": "markdown",
   "metadata": {},
   "source": [
    "## Latex\n",
    "\n",
    "this is inline $\\lambda = 1$.\n",
    "\n",
    "This is a separate equation $$\\lambda = 1$$ next line\n",
    "\n",
    "$$\\begin{equation} x = 1 \\end{equation}$$\n"
   ]
  },
  {
   "cell_type": "markdown",
   "metadata": {},
   "source": [
    "## Numpy Array"
   ]
  },
  {
   "cell_type": "code",
   "execution_count": 6,
   "metadata": {
    "collapsed": false
   },
   "outputs": [
    {
     "name": "stdout",
     "output_type": "stream",
     "text": [
      "[0 1 2]\n",
      "[[ 0.  0.  0.]]\n",
      "[[ 0.  0.  0.]]\n",
      "[[ 1.  1.  1.]]\n"
     ]
    }
   ],
   "source": [
    "# define numpy array\n",
    "arr1 = np.array([0,1,2])\n",
    "print arr1\n",
    "# empty\n",
    "arr2 = np.empty([1,3])\n",
    "print arr2\n",
    "#  zeros\n",
    "arr3 = np.zeros([1,3])\n",
    "print arr3\n",
    "#  ones\n",
    "arr4 = np.ones([1,3])\n",
    "print arr4"
   ]
  },
  {
   "cell_type": "code",
   "execution_count": 7,
   "metadata": {
    "collapsed": false
   },
   "outputs": [
    {
     "name": "stdout",
     "output_type": "stream",
     "text": [
      "[[2 3 4]\n",
      " [5 6 7]]\n",
      "(2, 3)\n",
      "[[2 5]\n",
      " [3 6]\n",
      " [4 7]]\n",
      "2\n"
     ]
    }
   ],
   "source": [
    "# Matrix\n",
    "mat1 = np.array([[2,3,4],[5,6,7]])\n",
    "print mat1\n",
    "print mat1.shape\n",
    "print mat1.T\n",
    "print mat1.shape[0]"
   ]
  },
  {
   "cell_type": "code",
   "execution_count": 8,
   "metadata": {
    "collapsed": false
   },
   "outputs": [
    {
     "data": {
      "text/plain": [
       "array([11, 20])"
      ]
     },
     "execution_count": 8,
     "metadata": {},
     "output_type": "execute_result"
    }
   ],
   "source": [
    "mat1.dot(arr1)"
   ]
  },
  {
   "cell_type": "markdown",
   "metadata": {},
   "source": [
    "## Stats\n",
    "\n",
    "numpy & scipy"
   ]
  },
  {
   "cell_type": "code",
   "execution_count": 3,
   "metadata": {
    "collapsed": false
   },
   "outputs": [
    {
     "name": "stdout",
     "output_type": "stream",
     "text": [
      "[[ 0.717275    0.99029707  0.79454184  0.68283483  0.41942157]\n",
      " [ 0.43232855  0.43038007  0.85283536  0.53615521  0.93610564]\n",
      " [ 0.3553904   0.03788695  0.97064482  0.51642949  0.20686062]\n",
      " [ 0.14507163  0.9150132   0.00686816  0.29911015  0.01140511]\n",
      " [ 0.91121568  0.01940248  0.19476435  0.66412976  0.43596185]\n",
      " [ 0.9156334   0.22735564  0.13132427  0.09089349  0.37771748]\n",
      " [ 0.6624498   0.17550936  0.53648035  0.93561587  0.99486387]\n",
      " [ 0.14394678  0.0316345   0.23365306  0.78036805  0.62117662]\n",
      " [ 0.65226599  0.75373622  0.47237571  0.18065352  0.32039093]\n",
      " [ 0.25004216  0.94144136  0.20847007  0.94252512  0.80070652]]\n",
      "[ 0.717275    0.99029707  0.79454184  0.68283483  0.41942157  0.43232855\n",
      "  0.43038007  0.85283536  0.53615521  0.93610564  0.3553904   0.03788695\n",
      "  0.97064482  0.51642949  0.20686062  0.14507163  0.9150132   0.00686816\n",
      "  0.29911015  0.01140511  0.91121568  0.01940248  0.19476435  0.66412976\n",
      "  0.43596185  0.9156334   0.22735564  0.13132427  0.09089349  0.37771748\n",
      "  0.6624498   0.17550936  0.53648035  0.93561587  0.99486387  0.14394678\n",
      "  0.0316345   0.23365306  0.78036805  0.62117662  0.65226599  0.75373622\n",
      "  0.47237571  0.18065352  0.32039093  0.25004216  0.94144136  0.20847007\n",
      "  0.94252512  0.80070652]\n"
     ]
    }
   ],
   "source": [
    "# draw random standard normal variable N(0,1)\n",
    "rand1 = np.random.random([10,5])\n",
    "print rand1\n",
    "print rand1.ravel()"
   ]
  },
  {
   "cell_type": "code",
   "execution_count": 13,
   "metadata": {
    "collapsed": false
   },
   "outputs": [
    {
     "name": "stdout",
     "output_type": "stream",
     "text": [
      "[  9.38599207e-01   2.28907539e+00   2.07662936e+00   2.63047276e+00\n",
      "   4.21180160e-01   8.87235610e-01   1.47861150e+00   6.69008380e+00\n",
      "   4.41790457e-01   5.50086906e-01   8.73897550e-01   1.62024135e-01\n",
      "   1.61546816e+01   1.71518003e-01   4.38811223e+01   3.77552884e+00\n",
      "   3.79566459e+00   7.14869886e+00   5.11566522e-01   8.32936266e-01\n",
      "   6.64782616e-01   3.86929002e-02   7.56704152e-01   4.06636734e+01\n",
      "   2.51184053e+00   3.01858254e+00   3.70007456e-01   4.33704983e-01\n",
      "   1.77927038e+00   2.21548938e+00   1.10325600e+00   1.53025997e+00\n",
      "   8.72462890e-01   1.40898759e+00   5.18088268e-01   4.25821769e+00\n",
      "   4.38179319e-01   7.75230817e-01   2.39896053e+00   6.58089503e-01\n",
      "   2.17547857e+00   3.00146169e-01   4.45969337e+00   2.66957914e+01\n",
      "   7.92622582e-01   1.54725013e+00   9.51345451e-02   6.82313029e-01\n",
      "   2.22067722e+00   6.86683380e-01]\n",
      "[[  9.38599207e-01   9.38599207e-01]\n",
      " [  2.28907539e+00   2.28907539e+00]\n",
      " [  2.07662936e+00   2.07662936e+00]\n",
      " [  2.63047276e+00   2.63047276e+00]\n",
      " [  4.21180160e-01   4.21180160e-01]\n",
      " [  8.87235610e-01   8.87235610e-01]\n",
      " [  1.47861150e+00   1.47861150e+00]\n",
      " [  6.69008380e+00   6.69008380e+00]\n",
      " [  4.41790457e-01   4.41790457e-01]\n",
      " [  5.50086906e-01   5.50086906e-01]\n",
      " [  8.73897550e-01   8.73897550e-01]\n",
      " [  1.62024135e-01   1.62024135e-01]\n",
      " [  1.61546816e+01   1.61546816e+01]\n",
      " [  1.71518003e-01   1.71518003e-01]\n",
      " [  4.38811223e+01   4.38811223e+01]\n",
      " [  3.77552884e+00   3.77552884e+00]\n",
      " [  3.79566459e+00   3.79566459e+00]\n",
      " [  7.14869886e+00   7.14869886e+00]\n",
      " [  5.11566522e-01   5.11566522e-01]\n",
      " [  8.32936266e-01   8.32936266e-01]\n",
      " [  6.64782616e-01   6.64782616e-01]\n",
      " [  3.86929002e-02   3.86929002e-02]\n",
      " [  7.56704152e-01   7.56704152e-01]\n",
      " [  4.06636734e+01   4.06636734e+01]\n",
      " [  2.51184053e+00   2.51184053e+00]\n",
      " [  3.01858254e+00   3.01858254e+00]\n",
      " [  3.70007456e-01   3.70007456e-01]\n",
      " [  4.33704983e-01   4.33704983e-01]\n",
      " [  1.77927038e+00   1.77927038e+00]\n",
      " [  2.21548938e+00   2.21548938e+00]\n",
      " [  1.10325600e+00   1.10325600e+00]\n",
      " [  1.53025997e+00   1.53025997e+00]\n",
      " [  8.72462890e-01   8.72462890e-01]\n",
      " [  1.40898759e+00   1.40898759e+00]\n",
      " [  5.18088268e-01   5.18088268e-01]\n",
      " [  4.25821769e+00   4.25821769e+00]\n",
      " [  4.38179319e-01   4.38179319e-01]\n",
      " [  7.75230817e-01   7.75230817e-01]\n",
      " [  2.39896053e+00   2.39896053e+00]\n",
      " [  6.58089503e-01   6.58089503e-01]\n",
      " [  2.17547857e+00   2.17547857e+00]\n",
      " [  3.00146169e-01   3.00146169e-01]\n",
      " [  4.45969337e+00   4.45969337e+00]\n",
      " [  2.66957914e+01   2.66957914e+01]\n",
      " [  7.92622582e-01   7.92622582e-01]\n",
      " [  1.54725013e+00   1.54725013e+00]\n",
      " [  9.51345451e-02   9.51345451e-02]\n",
      " [  6.82313029e-01   6.82313029e-01]\n",
      " [  2.22067722e+00   2.22067722e+00]\n",
      " [  6.86683380e-01   6.86683380e-01]]\n"
     ]
    }
   ],
   "source": [
    "kk=(np.random.random([50])/np.reshape(rand1.T,50))\n",
    "print kk\n",
    "hh=np.repeat(kk,2)\n",
    "hh=np.reshape(hh,)\n",
    "print hh"
   ]
  },
  {
   "cell_type": "code",
   "execution_count": 10,
   "metadata": {
    "collapsed": false
   },
   "outputs": [
    {
     "name": "stdout",
     "output_type": "stream",
     "text": [
      "CPU times: user 712 ms, sys: 114 ms, total: 825 ms\n",
      "Wall time: 833 ms\n"
     ]
    }
   ],
   "source": [
    "%%time\n",
    "rand2 = np.random.random([10000,5000])"
   ]
  },
  {
   "cell_type": "code",
   "execution_count": 11,
   "metadata": {
    "collapsed": false
   },
   "outputs": [
    {
     "name": "stdout",
     "output_type": "stream",
     "text": [
      "0.270858448987\n",
      "0.270858448987\n"
     ]
    }
   ],
   "source": [
    "print rand1[0,1]\n",
    "print rand1[0][1]"
   ]
  },
  {
   "cell_type": "code",
   "execution_count": 22,
   "metadata": {
    "collapsed": false
   },
   "outputs": [
    {
     "name": "stdout",
     "output_type": "stream",
     "text": [
      "[ 0.70405923  0.51707882  0.69937233  0.67148519  0.79779027  0.90572797\n",
      "  0.44642045  0.91924646  0.43378337  0.71233147]\n",
      "[ 0.70405923  0.27085845  0.15281544  0.06956627  0.23176481]\n",
      "[[-0.43320078 -0.11804301 -0.08324916  0.16219853]\n",
      " [ 0.02599515 -0.52959344  0.4915062  -0.21688693]\n",
      " [-0.59607093  0.62946116 -0.57663224  0.48387123]\n",
      " [-0.04503394 -0.58077477  0.54235333 -0.20959602]\n",
      " [-0.39579199 -0.33343914  0.59851836 -0.43378285]\n",
      " [-0.59104067  0.46284417 -0.21075097 -0.4697568 ]\n",
      " [-0.37638799  0.33512666 -0.07597778  0.26178737]\n",
      " [-0.81579298  0.85992586 -0.84882913 -0.01183107]\n",
      " [ 0.14496066 -0.41736966 -0.11185904  0.14625724]\n",
      " [ 0.06725084 -0.36496495 -0.03941711  0.30910133]]\n"
     ]
    },
    {
     "data": {
      "text/plain": [
       "array([-0.43320078, -0.11804301, -0.08324916,  0.16219853,  0.02599515,\n",
       "       -0.52959344,  0.4915062 , -0.21688693, -0.59607093,  0.62946116,\n",
       "       -0.57663224,  0.48387123, -0.04503394, -0.58077477,  0.54235333,\n",
       "       -0.20959602, -0.39579199, -0.33343914,  0.59851836, -0.43378285,\n",
       "       -0.59104067,  0.46284417, -0.21075097, -0.4697568 , -0.37638799,\n",
       "        0.33512666, -0.07597778,  0.26178737, -0.81579298,  0.85992586,\n",
       "       -0.84882913, -0.01183107,  0.14496066, -0.41736966, -0.11185904,\n",
       "        0.14625724,  0.06725084, -0.36496495, -0.03941711,  0.30910133])"
      ]
     },
     "execution_count": 22,
     "metadata": {},
     "output_type": "execute_result"
    }
   ],
   "source": [
    "print rand1[:,0]\n",
    "print rand1[0,:]\n",
    "diff=np.diff(rand1[:])\n",
    "print diff\n",
    "diff.ravel()"
   ]
  },
  {
   "cell_type": "code",
   "execution_count": null,
   "metadata": {
    "collapsed": false
   },
   "outputs": [],
   "source": [
    "print rand1[:5,0]\n",
    "print rand1[2:5,3:4]"
   ]
  },
  {
   "cell_type": "code",
   "execution_count": null,
   "metadata": {
    "collapsed": false
   },
   "outputs": [],
   "source": [
    "print rand1.shape\n",
    "# this is a vector\n",
    "print rand1[:,0].shape \n",
    "\n",
    "mat1d = rand1[:,0].reshape([10,1])\n",
    "print mat1d.shape"
   ]
  },
  {
   "cell_type": "code",
   "execution_count": 26,
   "metadata": {
    "collapsed": false
   },
   "outputs": [
    {
     "name": "stdout",
     "output_type": "stream",
     "text": [
      "[[ 0.52867471]]\n"
     ]
    }
   ],
   "source": [
    "shape = rand1.shape\n",
    "rand3=np.random.random([1,1])\n",
    "rand3.reshape(-1,1)"
   ]
  },
  {
   "cell_type": "markdown",
   "metadata": {},
   "source": [
    "## Python Function"
   ]
  },
  {
   "cell_type": "code",
   "execution_count": null,
   "metadata": {
    "collapsed": true
   },
   "outputs": [],
   "source": [
    "# define a square function plus 1\n",
    "def function1(input1):\n",
    "    res = input1**2 + 1\n",
    "    return res"
   ]
  },
  {
   "cell_type": "code",
   "execution_count": null,
   "metadata": {
    "collapsed": false
   },
   "outputs": [],
   "source": [
    "function1(5)"
   ]
  },
  {
   "cell_type": "markdown",
   "metadata": {},
   "source": [
    "## Plot"
   ]
  },
  {
   "cell_type": "code",
   "execution_count": null,
   "metadata": {
    "collapsed": false
   },
   "outputs": [],
   "source": [
    "x = np.random.rand(10)\n",
    "y = np.random.rand(10)\n",
    "print (x,y)"
   ]
  },
  {
   "cell_type": "code",
   "execution_count": null,
   "metadata": {
    "collapsed": false
   },
   "outputs": [],
   "source": [
    "plt.plot(x+1,y+1)\n",
    "plt.hlines(1.5,1,2)\n",
    "plt.show()\n",
    "plt.plot(x,y,'r')\n",
    "plt.vlines(0.5,0,1)\n",
    "plt.show()"
   ]
  },
  {
   "cell_type": "code",
   "execution_count": null,
   "metadata": {
    "collapsed": false
   },
   "outputs": [],
   "source": [
    "plt.scatter(x,y)\n",
    "plt.show()"
   ]
  },
  {
   "cell_type": "code",
   "execution_count": null,
   "metadata": {
    "collapsed": false
   },
   "outputs": [],
   "source": [
    "# tap for choices\n",
    "# Shift+tap for function definition\n",
    "np.random.binomial(10,0.5)"
   ]
  },
  {
   "cell_type": "code",
   "execution_count": null,
   "metadata": {
    "collapsed": false
   },
   "outputs": [],
   "source": [
    "whos"
   ]
  },
  {
   "cell_type": "code",
   "execution_count": null,
   "metadata": {
    "collapsed": false
   },
   "outputs": [],
   "source": [
    "def lognormpdf(x, y):\n",
    "    \"\"\"\n",
    "    Calculate Bernoulli probability density of y, when y ~ B(\\frac{\\exp(x)}{1+\\exp(s)})\n",
    "    \"\"\"\n",
    "    return (np.exp(x)/(1+np.exp(x)))**y * (1.0/(1+np.exp(x)))**(1-y)\n"
   ]
  },
  {
   "cell_type": "code",
   "execution_count": null,
   "metadata": {
    "collapsed": true
   },
   "outputs": [],
   "source": [
    "def measure(self, particles, y, t):\n",
    "        \"\"\"\n",
    "        Return the log-pdf value of the measurement\n",
    "        Args:\n",
    "         - particles  (array-like): Model specific representation\n",
    "           of all particles, with first dimension = N (number of particles)\n",
    "         - y (array-like):  measurement\n",
    "         - t (float): time-stamp\n",
    "        Returns:\n",
    "         (array-like) with first dimension = N, logp(y|x^i)\n",
    "        \"\"\"\n",
    "        N = len(particles)\n",
    "        lpy = numpy.empty(N)\n",
    "        g = self.calc_g(particles=particles, t=t)\n",
    "        R = self.calc_R(particles=particles, t=t)\n",
    "\n",
    "        \n",
    "        for i in xrange(N):\n",
    "            lpy[i] = g(particles[i],y[i])\n",
    "\n",
    "        return lpy"
   ]
  },
  {
   "cell_type": "code",
   "execution_count": 36,
   "metadata": {
    "collapsed": false
   },
   "outputs": [
    {
     "name": "stdout",
     "output_type": "stream",
     "text": [
      "[[ 0.11249407  0.82738521]\n",
      " [ 0.27428035  0.80102416]]\n",
      "[[ 1.  1.]\n",
      " [ 1.  1.]]\n"
     ]
    },
    {
     "data": {
      "text/plain": [
       "array([[-2.18485479, -0.18948491],\n",
       "       [-1.29360451, -0.22186417]])"
      ]
     },
     "execution_count": 36,
     "metadata": {},
     "output_type": "execute_result"
    }
   ],
   "source": [
    "rand5=np.random.random([2,2])\n",
    "rand6=np.ones([2,2])\n",
    "print rand5\n",
    "print rand6\n",
    "bernoulli.logpmf(rand6,rand5)"
   ]
  },
  {
   "cell_type": "code",
   "execution_count": 39,
   "metadata": {
    "collapsed": false
   },
   "outputs": [
    {
     "data": {
      "text/plain": [
       "-2.2072749131897207"
      ]
     },
     "execution_count": 39,
     "metadata": {},
     "output_type": "execute_result"
    }
   ],
   "source": []
  },
  {
   "cell_type": "code",
   "execution_count": null,
   "metadata": {
    "collapsed": true
   },
   "outputs": [],
   "source": []
  }
 ],
 "metadata": {
  "kernelspec": {
   "display_name": "Python 2",
   "language": "python",
   "name": "python2"
  },
  "language_info": {
   "codemirror_mode": {
    "name": "ipython",
    "version": 2
   },
   "file_extension": ".py",
   "mimetype": "text/x-python",
   "name": "python",
   "nbconvert_exporter": "python",
   "pygments_lexer": "ipython2",
   "version": "2.7.11"
  }
 },
 "nbformat": 4,
 "nbformat_minor": 0
}
