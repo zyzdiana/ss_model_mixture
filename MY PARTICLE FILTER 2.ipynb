{
 "cells": [
  {
   "cell_type": "code",
   "execution_count": 1,
   "metadata": {
    "collapsed": true
   },
   "outputs": [],
   "source": [
    "%load_ext autoreload\n",
    "%autoreload 2\n",
    "%reload_ext autoreload"
   ]
  },
  {
   "cell_type": "code",
   "execution_count": 101,
   "metadata": {
    "collapsed": true
   },
   "outputs": [],
   "source": [
    "from numpy import *\n",
    "from numpy.random import *\n",
    "%matplotlib inline\n",
    "import os\n",
    "import time\n",
    "import numpy as np\n",
    "import pandas as pd\n",
    "import sys\n",
    "import cPickle as pickle\n",
    "from   random import *\n",
    "import scipy.stats\n",
    "import matplotlib.pyplot as plt\n",
    "import pyparticleest.models.nlg as nlg\n",
    "import pyparticleest.simulator as simulator\n",
    "import pyparticleest.utils.kalman as kalman\n",
    "from scipy.stats import bernoulli\n",
    "import pyparticleest.interfaces as interfaces\n",
    "from scipy.optimize import newton\n",
    "\n",
    "import numpy as np\n",
    "import scipy as sp\n",
    "import scipy.special\n",
    "import scipy.linalg"
   ]
  },
  {
   "cell_type": "code",
   "execution_count": 3,
   "metadata": {
    "collapsed": true
   },
   "outputs": [],
   "source": [
    "def measure(X, Y, trial):\n",
    "    # log-pdf of p(y_t|x_t)\n",
    "    T = X.shape[0]\n",
    "    N = X.shape[1]\n",
    "    coefficient = scipy.special.binom(trial,Y)\n",
    "    return np.reshape(np.repeat(np.log(coefficient), N), [T,N]) + X * np.reshape(np.repeat(Y, N), [T,N]) - trial * np.log(1+np.exp(X))"
   ]
  },
  {
   "cell_type": "code",
   "execution_count": 4,
   "metadata": {
    "collapsed": false
   },
   "outputs": [],
   "source": [
    "def gaussian(X, Q):\n",
    "    #log-pdf of p(x_t|x_{t-1})\n",
    "    return -0.5 * (l2pi + np.log(Q) + (X ** 2) / Q)"
   ]
  },
  {
   "cell_type": "code",
   "execution_count": 121,
   "metadata": {
    "collapsed": false
   },
   "outputs": [],
   "source": [
    "def resample(weights):\n",
    "  n = len(weights)\n",
    "  indices = []\n",
    "  C = [0.] + [sum(weights[:i+1]) for i in range(n)]\n",
    "  u0, j = random(), 0\n",
    "  for u in [(u0+i)/n for i in range(n)]:\n",
    "    while u > C[j]:\n",
    "      j+=1\n",
    "    indices.append(j-1)\n",
    "  return indices"
   ]
  },
  {
   "cell_type": "code",
   "execution_count": 130,
   "metadata": {
    "collapsed": true
   },
   "outputs": [],
   "source": [
    "#df = pd.read_csv('thaldata.csv',header=None)\n",
    "#Y = df.values.reshape(3000)\n",
    "#Y = Y[500:800]\n",
    "#T = len(Y)\n",
    "mat = np.loadtxt('train_data.txt')\n",
    "Y = mat[:,1:]\n",
    "T = Y.shape[1]\n",
    "n = Y.shape[0]"
   ]
  },
  {
   "cell_type": "code",
   "execution_count": 131,
   "metadata": {
    "collapsed": true
   },
   "outputs": [],
   "source": [
    "# Forward particles\n",
    "N = 1000\n",
    "# Backward trajectories\n",
    "M = 30\n",
    "# \n",
    "P0 = 0.01\n",
    "#trial\n",
    "\n",
    "trial = 50\n",
    "#\n",
    "l2pi = math.log(2 * math.pi)\n",
    "#\n",
    "square2pi = np.sqrt(2 * math.pi)\n",
    "#\n",
    "j = 19"
   ]
  },
  {
   "cell_type": "code",
   "execution_count": 132,
   "metadata": {
    "collapsed": true
   },
   "outputs": [],
   "source": [
    "sigma = np.arange(0.01, 1.51, 0.01)"
   ]
  },
  {
   "cell_type": "markdown",
   "metadata": {},
   "source": [
    "# Filtering"
   ]
  },
  {
   "cell_type": "code",
   "execution_count": 133,
   "metadata": {
    "collapsed": true
   },
   "outputs": [],
   "source": [
    "mode = np.empty(T+1)\n",
    "variance = np.empty(T+1)\n",
    "mode[0] = -2\n",
    "variance[0] = P0"
   ]
  },
  {
   "cell_type": "code",
   "execution_count": 134,
   "metadata": {
    "collapsed": false
   },
   "outputs": [],
   "source": [
    "loglikelihood = np.empty(len(sigma))"
   ]
  },
  {
   "cell_type": "code",
   "execution_count": 135,
   "metadata": {
    "collapsed": false
   },
   "outputs": [],
   "source": [
    "def filtering(Y, Q, mode, variance):\n",
    "    samples = np.random.normal(0,1,[T+1,N])\n",
    "    X = np.reshape (np.repeat(mode,N),[T+1,N]) + samples * np.reshape (np.repeat(np.sqrt(variance),N),[T+1,N])\n",
    "    w = measure(X[1:], Y, trial) + gaussian(np.diff(X, axis = 0), Q) - gaussian(X[1:]-np.reshape (np.repeat(mode[1:], N) ,[T,N]), np.reshape (np.repeat(variance[1:], N) ,[T,N]))\n",
    "    W = np.exp(w - np.reshape(np.repeat(np.max(w, axis =1), N), [T,N])) \n",
    "    W = W/ np.reshape(np.repeat(np.sum(W, axis =1), N), [T,N])\n",
    "    #ancestor = np.empty([T,N])\n",
    "    #for t in range(T):\n",
    "    #    ancestor[t,:]= X[t,resample(W[t,:])]\n",
    "        \n",
    "    #return X, w, W, ancestor\n",
    "    return X, w, W"
   ]
  },
  {
   "cell_type": "code",
   "execution_count": 136,
   "metadata": {
    "collapsed": false
   },
   "outputs": [],
   "source": [
    "#%%time\n",
    "for i in range(len(sigma)):\n",
    "    Q = sigma[i]\n",
    "    for tt in range(T):\n",
    "        t = tt+1\n",
    "        variance_tmp = variance[t-1] + Q\n",
    "        mode[t] = mode[t-1] + variance_tmp *(Y[j,t-1] - trial * np.exp(mode[t-1])/(1.0 + np.exp(mode[t-1])))\n",
    "        variance[t] = 1.0/(1.0/(variance_tmp) + trial * np.exp(mode[t])/(1.0 + np.exp(mode[t]))**2 )\n",
    "\n",
    "    [X, w, W] = filtering(Y[j,:], Q, mode, variance)\n",
    "    maxlogweight = np.max(w, axis=1)\n",
    "    weight = np.exp(w - np.reshape(np.repeat(maxlogweight, N),(T, N)))\n",
    "    loglikelihood[i] = np.sum(np.log(np.sum(weight, axis = 1)/N))+np.sum(maxlogweight)"
   ]
  },
  {
   "cell_type": "code",
   "execution_count": 138,
   "metadata": {
    "collapsed": false
   },
   "outputs": [
    {
     "data": {
      "text/plain": [
       "<matplotlib.legend.Legend at 0x10decf290>"
      ]
     },
     "execution_count": 138,
     "metadata": {},
     "output_type": "execute_result"
    },
    {
     "data": {
      "image/png": "[encoded data removed]",
      "text/plain": [
       "<matplotlib.figure.Figure at 0x131490a10>"
      ]
     },
     "metadata": {},
     "output_type": "display_data"
    }
   ],
   "source": [
    "Y_19= pd.read_csv('row_19_ll.csv',header=0)\n",
    "y19 = Y_19.values.reshape(1500,2)\n",
    "y_19 = np.empty(150)\n",
    "for i in range(150):\n",
    "    y_19[i]= np.sum(y19[10*i:10*(i+1),1])/10.0\n",
    "\n",
    "plt.plot(loglikelihood[:20], '.',linewidth=2.0, label='MY PARTICLE FILTER')\n",
    "plt.plot(y_19[:20], 'r.',linewidth=2.0, label='R log-likelihood')\n",
    "plt.ylabel('loglikelihood')\n",
    "plt.legend(loc='best')"
   ]
  },
  {
   "cell_type": "code",
   "execution_count": 120,
   "metadata": {
    "collapsed": false
   },
   "outputs": [
    {
     "data": {
      "text/plain": [
       "(array([ 708.,   21.,   21.,   14.,   12.,    8.,   10.,    7.,    7.,\n",
       "           6.,   10.,    8.,    6.,    4.,    6.,    5.,    6.,    6.,\n",
       "           4.,    8.,    8.,    4.,   14.,    9.,    4.,   12.,   15.,\n",
       "           4.,    7.,    1.,    4.,    4.,    5.,    3.,    1.,    3.,\n",
       "           3.,    2.,    2.,    0.,    0.,    3.,    0.,    3.,    1.,\n",
       "           0.,    2.,    1.,    0.,    1.,    1.,    0.,    1.,    0.,\n",
       "           0.,    0.,    0.,    1.,    0.,    0.,    1.,    0.,    0.,\n",
       "           0.,    1.,    0.,    0.,    0.,    0.,    0.,    0.,    0.,\n",
       "           0.,    0.,    0.,    0.,    0.,    0.,    0.,    0.,    0.,\n",
       "           0.,    0.,    0.,    0.,    0.,    0.,    0.,    0.,    0.,\n",
       "           0.,    0.,    0.,    0.,    0.,    0.,    0.,    1.,    0.,    1.]),\n",
       " array([  4.06914196e-112,   1.91805830e-004,   3.83611660e-004,\n",
       "          5.75417490e-004,   7.67223320e-004,   9.59029150e-004,\n",
       "          1.15083498e-003,   1.34264081e-003,   1.53444664e-003,\n",
       "          1.72625247e-003,   1.91805830e-003,   2.10986413e-003,\n",
       "          2.30166996e-003,   2.49347579e-003,   2.68528162e-003,\n",
       "          2.87708745e-003,   3.06889328e-003,   3.26069911e-003,\n",
       "          3.45250494e-003,   3.64431077e-003,   3.83611660e-003,\n",
       "          4.02792243e-003,   4.21972826e-003,   4.41153409e-003,\n",
       "          4.60333992e-003,   4.79514575e-003,   4.98695158e-003,\n",
       "          5.17875741e-003,   5.37056324e-003,   5.56236907e-003,\n",
       "          5.75417490e-003,   5.94598073e-003,   6.13778656e-003,\n",
       "          6.32959239e-003,   6.52139822e-003,   6.71320405e-003,\n",
       "          6.90500988e-003,   7.09681571e-003,   7.28862154e-003,\n",
       "          7.48042737e-003,   7.67223320e-003,   7.86403903e-003,\n",
       "          8.05584486e-003,   8.24765069e-003,   8.43945652e-003,\n",
       "          8.63126235e-003,   8.82306818e-003,   9.01487401e-003,\n",
       "          9.20667984e-003,   9.39848567e-003,   9.59029150e-003,\n",
       "          9.78209733e-003,   9.97390316e-003,   1.01657090e-002,\n",
       "          1.03575148e-002,   1.05493206e-002,   1.07411265e-002,\n",
       "          1.09329323e-002,   1.11247381e-002,   1.13165440e-002,\n",
       "          1.15083498e-002,   1.17001556e-002,   1.18919615e-002,\n",
       "          1.20837673e-002,   1.22755731e-002,   1.24673789e-002,\n",
       "          1.26591848e-002,   1.28509906e-002,   1.30427964e-002,\n",
       "          1.32346023e-002,   1.34264081e-002,   1.36182139e-002,\n",
       "          1.38100198e-002,   1.40018256e-002,   1.41936314e-002,\n",
       "          1.43854372e-002,   1.45772431e-002,   1.47690489e-002,\n",
       "          1.49608547e-002,   1.51526606e-002,   1.53444664e-002,\n",
       "          1.55362722e-002,   1.57280781e-002,   1.59198839e-002,\n",
       "          1.61116897e-002,   1.63034955e-002,   1.64953014e-002,\n",
       "          1.66871072e-002,   1.68789130e-002,   1.70707189e-002,\n",
       "          1.72625247e-002,   1.74543305e-002,   1.76461364e-002,\n",
       "          1.78379422e-002,   1.80297480e-002,   1.82215538e-002,\n",
       "          1.84133597e-002,   1.86051655e-002,   1.87969713e-002,\n",
       "          1.89887772e-002,   1.91805830e-002]),\n",
       " <a list of 100 Patch objects>)"
      ]
     },
     "execution_count": 120,
     "metadata": {},
     "output_type": "execute_result"
    },
    {
     "data": {
      "image/png": "[encoded data removed]",
      "text/plain": [
       "<matplotlib.figure.Figure at 0x130d7ff50>"
      ]
     },
     "metadata": {},
     "output_type": "display_data"
    }
   ],
   "source": [
    "plt.hist(W[1000,:],100)"
   ]
  },
  {
   "cell_type": "code",
   "execution_count": 100,
   "metadata": {
    "collapsed": false
   },
   "outputs": [
    {
     "data": {
      "text/plain": [
       "<matplotlib.legend.Legend at 0x10d8b8b50>"
      ]
     },
     "execution_count": 100,
     "metadata": {},
     "output_type": "execute_result"
    },
    {
     "data": {
      "image/png": "[encoded data removed]",
      "text/plain": [
       "<matplotlib.figure.Figure at 0x10d5cc5d0>"
      ]
     },
     "metadata": {},
     "output_type": "display_data"
    }
   ],
   "source": [
    "ll_from_R = np.loadtxt('ll_from_R.txt')\n",
    "plt.plot(loglikelihood[0:20], '.',linewidth=2.0, label='MY PARTICLE FILTER')\n",
    "plt.plot(ll_from_R[0:20], 'r.',linewidth=2.0, label='R log-likelihood')\n",
    "plt.ylabel('loglikelihood')\n",
    "plt.legend(loc='best')"
   ]
  },
  {
   "cell_type": "code",
   "execution_count": 94,
   "metadata": {
    "collapsed": false
   },
   "outputs": [
    {
     "ename": "ValueError",
     "evalue": "operands could not be broadcast together with shapes (3001,) (3001,1000) ",
     "output_type": "error",
     "traceback": [
      "\u001b[0;31m---------------------------------------------------------------------------\u001b[0m",
      "\u001b[0;31mValueError\u001b[0m                                Traceback (most recent call last)",
      "\u001b[0;32m<ipython-input-94-55c57ce40da7>\u001b[0m in \u001b[0;36m<module>\u001b[0;34m()\u001b[0m\n\u001b[0;32m----> 1\u001b[0;31m \u001b[0mmode\u001b[0m \u001b[0;34m*\u001b[0m \u001b[0mnp\u001b[0m\u001b[0;34m.\u001b[0m\u001b[0mones\u001b[0m\u001b[0;34m(\u001b[0m\u001b[0;34m[\u001b[0m\u001b[0mT\u001b[0m\u001b[0;34m+\u001b[0m\u001b[0;36m1\u001b[0m\u001b[0;34m,\u001b[0m \u001b[0mN\u001b[0m\u001b[0;34m]\u001b[0m\u001b[0;34m)\u001b[0m\u001b[0;34m\u001b[0m\u001b[0m\n\u001b[0m",
      "\u001b[0;31mValueError\u001b[0m: operands could not be broadcast together with shapes (3001,) (3001,1000) "
     ]
    }
   ],
   "source": [
    "ll_from_R = np.loadtxt('ll_from_R.txt')\n",
    "plt.plot(sigma, loglikelihood, '.',linewidth=2.0, label='MY PARTICLE FILTER')\n",
    "plt.plot(sigma, ll_from_R, 'r.',linewidth=2.0, label='R log-likelihood')\n",
    "\n",
    "#plt.ylim([-4000,-3500])\n",
    "plt.ylabel('loglikelihood')\n",
    "plt.xlabel(r'$\\sigma^2$')\n",
    "plt.legend(loc='best')"
   ]
  },
  {
   "cell_type": "code",
   "execution_count": null,
   "metadata": {
    "collapsed": false
   },
   "outputs": [],
   "source": [
    "X[1,resample(W[1,:])]"
   ]
  },
  {
   "cell_type": "code",
   "execution_count": null,
   "metadata": {
    "collapsed": true
   },
   "outputs": [],
   "source": []
  },
  {
   "cell_type": "code",
   "execution_count": null,
   "metadata": {
    "collapsed": true
   },
   "outputs": [],
   "source": []
  },
  {
   "cell_type": "code",
   "execution_count": 148,
   "metadata": {
    "collapsed": false
   },
   "outputs": [],
   "source": [
    "samples = np.random.normal(0,1,[T+1,N])\n",
    "X = np.reshape (np.repeat(mode,N),[T+1,N]) + samples * np.reshape (np.repeat(variance,N),[T+1,N])"
   ]
  },
  {
   "cell_type": "code",
   "execution_count": 150,
   "metadata": {
    "collapsed": false
   },
   "outputs": [],
   "source": [
    "w = measure(X[1,:], Y, trial) + gaussian(np.diff(X, axis = 0), Q) - np.reshape(kalman.lognormpdf_scalar(X[1:]-np.reshape (np.repeat(mode[1:], N) ,[T,N]), np.reshape (np.repeat(variance[1:], N) ,[T,N])), [T,N])"
   ]
  },
  {
   "cell_type": "code",
   "execution_count": 151,
   "metadata": {
    "collapsed": false
   },
   "outputs": [],
   "source": [
    "W = np.exp(w - np.reshape(np.repeat(np.max(w, axis =1), N), [T,N])) "
   ]
  },
  {
   "cell_type": "code",
   "execution_count": 155,
   "metadata": {
    "collapsed": false
   },
   "outputs": [],
   "source": [
    "W = W/ np.reshape(np.repeat(np.sum(W, axis =1), N), [T,N])"
   ]
  },
  {
   "cell_type": "code",
   "execution_count": null,
   "metadata": {
    "collapsed": false
   },
   "outputs": [],
   "source": [
    "np.random.normal(0,1,N)"
   ]
  },
  {
   "cell_type": "code",
   "execution_count": 14,
   "metadata": {
    "collapsed": false
   },
   "outputs": [
    {
     "data": {
      "text/plain": [
       "2485.8845503902749"
      ]
     },
     "execution_count": 14,
     "metadata": {},
     "output_type": "execute_result"
    }
   ],
   "source": [
    "np.sum(np.log(np.sum(np.exp(w), axis = 1)/N))"
   ]
  },
  {
   "cell_type": "code",
   "execution_count": 24,
   "metadata": {
    "collapsed": false
   },
   "outputs": [
    {
     "data": {
      "text/plain": [
       "-5944.5496526321649"
      ]
     },
     "execution_count": 24,
     "metadata": {},
     "output_type": "execute_result"
    }
   ],
   "source": [
    "loglikelihood"
   ]
  },
  {
   "cell_type": "code",
   "execution_count": 164,
   "metadata": {
    "collapsed": false
   },
   "outputs": [],
   "source": [
    "ancestor = np.empty([T,N])\n",
    "for t in range(T):\n",
    "    ancestor[t,:]= X[t,resample(W[t,:])]"
   ]
  },
  {
   "cell_type": "code",
   "execution_count": 28,
   "metadata": {
    "collapsed": false
   },
   "outputs": [
    {
     "data": {
      "text/plain": [
       "array([-4.07402689, -4.07402689, -4.62161135, -4.62161135, -3.82937921,\n",
       "       -4.64416526, -5.44521653, -4.55326894, -4.55326894, -4.25170025,\n",
       "       -5.1369329 , -4.97154807, -4.97154807, -4.7125548 , -4.7125548 ,\n",
       "       -4.7125548 , -5.4634475 , -5.20377705, -5.20377705, -5.20377705,\n",
       "       -5.20377705, -4.65962812, -4.65962812, -6.2068784 , -6.2068784 ,\n",
       "       -6.2068784 , -6.2068784 , -6.2068784 , -6.2068784 , -6.2068784 ,\n",
       "       -6.2068784 , -6.2068784 , -6.2068784 , -6.2068784 , -6.2068784 ,\n",
       "       -6.2068784 , -6.2068784 , -6.2068784 , -6.2068784 , -6.2068784 ,\n",
       "       -6.2068784 , -6.2068784 , -6.2068784 , -6.2068784 , -6.2068784 ,\n",
       "       -6.2068784 , -6.2068784 , -6.2068784 , -6.2068784 , -4.57977684,\n",
       "       -4.57977684, -4.2348785 , -5.29372226, -4.27076248, -4.66479788,\n",
       "       -5.07013971, -5.07013971, -5.07013971, -5.07013971, -4.1081466 ,\n",
       "       -4.1081466 , -3.91095545, -3.92041899, -4.63103906, -3.98917619,\n",
       "       -3.98917619, -3.98917619, -5.82944266, -4.8872374 , -4.8872374 ,\n",
       "       -4.88214319, -4.15972416, -3.966206  , -3.966206  , -4.06669432,\n",
       "       -4.74653322, -4.43960947, -4.43960947, -3.99729246, -3.98580088,\n",
       "       -5.09467613, -5.09467613, -4.91862576, -4.16162419, -4.5560708 ,\n",
       "       -4.5560708 , -5.14178918, -4.73424459, -4.54464421, -4.54464421,\n",
       "       -4.25824525, -4.25824525, -3.95846729, -3.95846729, -5.296608  ,\n",
       "       -5.296608  , -5.296608  , -5.296608  , -4.33510629, -4.33510629])"
      ]
     },
     "execution_count": 28,
     "metadata": {},
     "output_type": "execute_result"
    }
   ],
   "source": [
    "ancestor[T-1]"
   ]
  },
  {
   "cell_type": "code",
   "execution_count": null,
   "metadata": {
    "collapsed": true
   },
   "outputs": [],
   "source": []
  }
 ],
 "metadata": {
  "kernelspec": {
   "display_name": "Python 2",
   "language": "python",
   "name": "python2"
  },
  "language_info": {
   "codemirror_mode": {
    "name": "ipython",
    "version": 2
   },
   "file_extension": ".py",
   "mimetype": "text/x-python",
   "name": "python",
   "nbconvert_exporter": "python",
   "pygments_lexer": "ipython2",
   "version": "2.7.11"
  }
 },
 "nbformat": 4,
 "nbformat_minor": 0
}
