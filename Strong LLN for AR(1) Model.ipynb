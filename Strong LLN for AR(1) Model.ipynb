{
 "cells": [
  {
   "cell_type": "markdown",
   "metadata": {},
   "source": [
    "## Proof of Strong Law of Large Number for AR(1) model"
   ]
  },
  {
   "cell_type": "markdown",
   "metadata": {},
   "source": [
    "$$\\left\\{\n",
    "\\begin{array}{ll}\n",
    "x_t = \\rho x_{t-1} + \\epsilon_t, \\epsilon_t \\sim N(0,\\sigma^2_{\\epsilon}) \\\\\n",
    "y_t = \\mu + x_t\\\\\n",
    "\\end{array} \n",
    "\\right. $$"
   ]
  },
  {
   "cell_type": "markdown",
   "metadata": {},
   "source": [
    "### Theorem: If  $|\\rho|<1$, then $\\lim _{T \\rightarrow \\infty} \\frac{1}{T} \\sum_{t=0}^{T-1} y_t = \\mu$ a.s."
   ]
  },
  {
   "cell_type": "markdown",
   "metadata": {},
   "source": [
    "Proof. It is equivalent to show $\\lim _{T \\rightarrow \\infty} \\frac{1}{T} \\sum_{t=0}^{T-1} x_t = 0$ a.s.\n",
    "\n",
    "Denote  $z_n= \\frac{\\sum_{t=1}^{n} x_t}{n}$"
   ]
  },
  {
   "cell_type": "markdown",
   "metadata": {},
   "source": [
    "#### NTS: By definition of almost surely convergence, given any $\\epsilon > 0$, $P(\\lim \\inf \\{|z_n| \\le \\epsilon \\}) =1$. That means, $P(\\lim \\inf \\{|z_n| > \\epsilon \\}) =0$. Then by Borel Cantelli's Lemma, we just need to show $\\sum_{n=1}^{\\infty}P(\\{|z_n|>\\epsilon \\}) < \\infty$.\n"
   ]
  },
  {
   "cell_type": "markdown",
   "metadata": {},
   "source": []
  },
  {
   "cell_type": "markdown",
   "metadata": {},
   "source": []
  },
  {
   "cell_type": "markdown",
   "metadata": {},
   "source": [
    "By Markov Inequality\n",
    "\n",
    "\\begin{align*}\n",
    "P(\\{|z_t|>\\epsilon\\}) &\\leq \\frac{E[z_t^4]}{\\epsilon^4}\n",
    "\\end{align*}\n",
    "\n",
    "Notice that \n",
    "$\\frac{E[z_t^4]}{\\epsilon^4}$ has only two kinds of nonvanished terms $E(\\epsilon_t^4)$ and $E(\\epsilon_t^2)E(\\epsilon_s^2)$.\n",
    "\n",
    "WLOG, we assume $\\sigma_\\epsilon^2 = 1$, then\n",
    "\\begin{align*}\n",
    "P(\\{|z_t|>\\epsilon\\}) &\\leq \\frac{3+3(1+\\rho)^4+... +3(1+\\rho...+\\rho^{t-1})^4 + \\binom{t}{2}(1+\\rho...+\\rho^{t-1})^2}{t^4\\epsilon^4}\\\\\n",
    "&= O(\\frac{1}{t^2})\n",
    "\\end{align*}\n",
    "\n",
    "Therefore, $\\sum_t \\frac{1}{t^2} < \\infty$"
   ]
  },
  {
   "cell_type": "markdown",
   "metadata": {},
   "source": []
  },
  {
   "cell_type": "markdown",
   "metadata": {},
   "source": []
  },
  {
   "cell_type": "code",
   "execution_count": null,
   "metadata": {
    "collapsed": true
   },
   "outputs": [],
   "source": []
  }
 ],
 "metadata": {
  "kernelspec": {
   "display_name": "Python 2",
   "language": "python",
   "name": "python2"
  },
  "language_info": {
   "codemirror_mode": {
    "name": "ipython",
    "version": 2
   },
   "file_extension": ".py",
   "mimetype": "text/x-python",
   "name": "python",
   "nbconvert_exporter": "python",
   "pygments_lexer": "ipython2",
   "version": "2.7.11"
  }
 },
 "nbformat": 4,
 "nbformat_minor": 0
}
