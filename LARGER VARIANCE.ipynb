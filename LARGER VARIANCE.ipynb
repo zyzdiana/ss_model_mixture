{
 "cells": [
  {
   "cell_type": "code",
   "execution_count": 1,
   "metadata": {
    "collapsed": true
   },
   "outputs": [],
   "source": [
    "from numpy import *\n",
    "from numpy.random import *\n",
    "%matplotlib inline\n",
    "import os\n",
    "import time\n",
    "import numpy as np\n",
    "import pandas as pd\n",
    "import sys\n",
    "import cPickle as pickle\n",
    "from   random import *\n",
    "import scipy.stats\n",
    "import matplotlib.pyplot as plt\n",
    "import pyparticleest.models.nlg as nlg\n",
    "import pyparticleest.simulator as simulator\n",
    "\n",
    "import pyparticleest.utils.kalman as kalman\n",
    "from scipy.stats import bernoulli\n",
    "import pyparticleest.interfaces as interfaces\n",
    "from scipy.optimize import newton\n",
    "\n",
    "import numpy as np\n",
    "import scipy as sp\n",
    "import scipy.special\n",
    "import scipy.linalg"
   ]
  },
  {
   "cell_type": "code",
   "execution_count": 2,
   "metadata": {
    "collapsed": true
   },
   "outputs": [],
   "source": [
    "def resample(weights):\n",
    "  n = len(weights)\n",
    "  indices = []\n",
    "  C = [0.] + [sum(weights[:i+1]) for i in range(n)]\n",
    "  u0, j = random(), 0\n",
    "  for u in [(u0+i)/n for i in range(n)]:\n",
    "    while u > C[j]:\n",
    "      j+=1\n",
    "    indices.append(j-1)\n",
    "  return indices"
   ]
  },
  {
   "cell_type": "code",
   "execution_count": 3,
   "metadata": {
    "collapsed": true
   },
   "outputs": [],
   "source": [
    "def measure(X, Y, trial):\n",
    "    # log-pdf of p(y_t|x_t)\n",
    "    T = X.shape[0]\n",
    "    N = X.shape[1]\n",
    "    coefficient = scipy.special.binom(trial,Y)\n",
    "    return np.reshape(np.repeat(np.log(coefficient), N), [T,N]) + X * np.reshape(np.repeat(Y, N), [T,N]) - trial * np.log(1+np.exp(X))"
   ]
  },
  {
   "cell_type": "code",
   "execution_count": 4,
   "metadata": {
    "collapsed": true
   },
   "outputs": [],
   "source": [
    "def gaussian(X, Q):\n",
    "    #log-pdf of p(x_t|x_{t-1})\n",
    "    return -0.5 * (l2pi + np.log(Q) + (X ** 2) / Q)"
   ]
  },
  {
   "cell_type": "code",
   "execution_count": 5,
   "metadata": {
    "collapsed": true
   },
   "outputs": [],
   "source": [
    "def Do_Kalman_Likelihood_Bernoulli_LaplaceMAP(dN, sigma2e, tol=1e-8, trials=1.):\n",
    "    \"\"\"MAP solution, inverse covariance matrix, and marginal loglikelihood of state-space model\n",
    "    computed using Laplace approximation around MAP state.\n",
    "\n",
    "    :param dN: Observations (K,)\n",
    "    :param sigma2e: Variance of process noise\n",
    "    :param tol: Convergence criterion on the gradient of the log-likelihood\n",
    "    :param trials: Number of trials for binomial observations (1 for Bernoulli)\n",
    "    :return: x_map, U, marginal_loglikelihood, joint_loglikelihood\n",
    "    \"\"\"\n",
    "    x = np.zeros(dN.shape)\n",
    "    dN = dN.astype(float)\n",
    "    while True:\n",
    "        # Build gradient of joint\n",
    "        d2x = np.convolve(x, [-1, 2, -1])[1:-1]\n",
    "        d2x[-1] -= x[-1]\n",
    "        G = -dN + trials * (1. / (1. + np.exp(-x))) + d2x / sigma2e\n",
    "        # Build Hessian of joint\n",
    "        D = trials / (np.exp(x) + 2. + np.exp(-x)) + 2. / sigma2e\n",
    "        D[-1] -= 1. / sigma2e\n",
    "        B = -np.ones(len(D)) / sigma2e\n",
    "        B[0] = 0.\n",
    "        U = sp.linalg.cholesky_banded((B, D), lower=False)\n",
    "        # Check convergence\n",
    "        if np.dot(G, G) < tol:\n",
    "            x_map = x\n",
    "            break\n",
    "        # Update estimate of map\n",
    "        x -= sp.linalg.cho_solve_banded([U, False], G)\n",
    "\n",
    "    # Compute joint and marginal probabilities\n",
    "    joint_loglikelihood = (np.sum(np.log(sp.special.binom(trials, dN)) + dN * x_map - trials * np.log(1 + np.exp(x_map))) -\n",
    "                           .5 * ((np.sum(np.diff(x_map)**2) + x_map[0]**2) / sigma2e + len(dN) * np.log(2*np.pi*sigma2e)))\n",
    "    marginal_loglikelihood = len(dN)/2. * np.log(2*np.pi) + joint_loglikelihood - np.sum(np.log(U[-1]))\n",
    "    return x_map, U, marginal_loglikelihood, joint_loglikelihood"
   ]
  },
  {
   "cell_type": "code",
   "execution_count": 6,
   "metadata": {
    "collapsed": true
   },
   "outputs": [],
   "source": [
    "# Forward particles\n",
    "N = 1000\n",
    "# Backward trajectories\n",
    "M = 30\n",
    "# \n",
    "P0 = 0.01\n",
    "#trial\n",
    "trial = 50\n",
    "#\n",
    "l2pi = math.log(2 * math.pi)\n",
    "#\n",
    "square2pi = np.sqrt(2 * math.pi)\n",
    "#\n",
    "j = 15"
   ]
  },
  {
   "cell_type": "code",
   "execution_count": 7,
   "metadata": {
    "collapsed": false
   },
   "outputs": [
    {
     "name": "stdout",
     "output_type": "stream",
     "text": [
      "(20, 3000)\n"
     ]
    }
   ],
   "source": [
    "#df = pd.read_csv('thaldata.csv',header=None)\n",
    "#Y = df.values.reshape(3000)\n",
    "#Y = Y[500:800]\n",
    "#T = len(Y)\n",
    "mat = np.loadtxt('train_data.txt')\n",
    "Y = mat[:,1:]\n",
    "T = Y.shape[1]\n",
    "n = Y.shape[0]\n",
    "print Y.shape"
   ]
  },
  {
   "cell_type": "code",
   "execution_count": 8,
   "metadata": {
    "collapsed": false
   },
   "outputs": [
    {
     "name": "stdout",
     "output_type": "stream",
     "text": [
      "[ 0.51]\n"
     ]
    }
   ],
   "source": [
    "sigma = np.arange(0.51, 1.51, 2)\n",
    "print sigma"
   ]
  },
  {
   "cell_type": "code",
   "execution_count": 9,
   "metadata": {
    "collapsed": true
   },
   "outputs": [],
   "source": [
    "loglikelihood = np.empty(len(sigma))"
   ]
  },
  {
   "cell_type": "code",
   "execution_count": 18,
   "metadata": {
    "collapsed": true
   },
   "outputs": [],
   "source": [
    "def filtering(Y, Q, mode, variance):\n",
    "    samples = np.random.normal(0,1,[T+1,N])\n",
    "    X = np.reshape (np.repeat(mode,N),[T+1,N]) + samples * np.reshape (np.repeat(np.sqrt(variance),N),[T+1,N])\n",
    "    w = measure(X[1:], Y, trial) + gaussian(np.diff(X, axis = 0), Q) - gaussian(X[1:]-np.reshape (np.repeat(mode[1:], N) ,[T,N]), np.reshape (np.repeat(variance[1:], N) ,[T,N]))\n",
    "    W = np.exp(w - np.reshape(np.repeat(np.max(w, axis =1), N), [T,N])) \n",
    "    W = W/ np.reshape(np.repeat(np.sum(W, axis =1), N), [T,N])\n",
    "#     ancestor = np.empty([T,N])\n",
    "#     for t in range(T):\n",
    "#         ancestor[t,:]= X[t,resample(W[t,:])]\n",
    "        \n",
    "#     return X, w, W, ancestor\n",
    "    return X, w, W"
   ]
  },
  {
   "cell_type": "code",
   "execution_count": 11,
   "metadata": {
    "collapsed": true
   },
   "outputs": [],
   "source": [
    "def smoothing(T, N, Q, M, X, W):\n",
    "    w_back = np.empty(N)\n",
    "    W_BACK = np.empty([T,N])\n",
    "    smoother = np.empty([T,M])\n",
    "    multinomialsamples = np.random.multinomial(M, W[T-1,:])\n",
    "    X_nonzero = X[T, multinomialsamples>0]\n",
    "    smoother[T-1,:] = np.repeat(X_nonzero, multinomialsamples[multinomialsamples>0])\n",
    "\n",
    "\n",
    "    #for j in range(M):\n",
    "    #    myList = np.random.multinomial(1, W[T-1,:])\n",
    "    #   smoother[T-1,j] = X[T, next((i for i, x in enumerate(myList) if x), None)]\n",
    "    for tt in range(T-1):\n",
    "        t = T-2 - tt\n",
    "        for j in range(M):\n",
    "            w_back = W[t,:] * np.exp(gaussian(smoother[t+1,j]-X[t+1,:], Q))\n",
    "            #w_back = W[t,:] * np.exp(-(smoother[t+1,j]-X[t,:])**2/(2.0*Q))/square2pi/np.sqrt(Q)\n",
    "            W_BACK[t,:] = w_back/np.sum(w_back)\n",
    "            #myList = np.random.multinomial(1, W_BACK[t,:])\n",
    "            #smoother[t,j] = X[t+1, next((i for i, x in enumerate(myList) if x), None)]\n",
    "            multinomialsamples = np.random.multinomial(1, W_BACK[t,:])\n",
    "            smoother[t,j] = X[t+1, multinomialsamples>0]\n",
    "\n",
    "\n",
    "    return smoother"
   ]
  },
  {
   "cell_type": "code",
   "execution_count": 19,
   "metadata": {
    "collapsed": false
   },
   "outputs": [
    {
     "name": "stdout",
     "output_type": "stream",
     "text": [
      "CPU times: user 905 ms, sys: 296 ms, total: 1.2 s\n",
      "Wall time: 1.4 s\n"
     ]
    }
   ],
   "source": [
    "%%time\n",
    "for i in range(len(sigma)):\n",
    "    Q = sigma[i]\n",
    "    [x_map, U, marginal_loglikelihood, joint_loglikelihood] = Do_Kalman_Likelihood_Bernoulli_LaplaceMAP(Y[j,:], Q, 1e-8, trial) \n",
    "    mode = np.empty(T+1)\n",
    "    variance = np.empty(T+1)\n",
    "    mode = np.concatenate(([0],x_map))\n",
    "    variance = np.concatenate(([P0],U[1]))\n",
    "        \n",
    "    [X, w, W] = filtering(Y[j,:], Q, mode, variance)\n",
    "    maxlogweight = np.max(w, axis=1)\n",
    "    weight = np.exp(w - np.reshape(np.repeat(maxlogweight, N),(T, N)))\n",
    "    loglikelihood[i] = np.sum(np.log(np.sum(weight, axis = 1)/N))+np.sum(maxlogweight)"
   ]
  },
  {
   "cell_type": "code",
   "execution_count": 13,
   "metadata": {
    "collapsed": false
   },
   "outputs": [
    {
     "name": "stdout",
     "output_type": "stream",
     "text": [
      "CPU times: user 12.4 s, sys: 108 ms, total: 12.5 s\n",
      "Wall time: 12.8 s\n"
     ]
    }
   ],
   "source": [
    "%%time\n",
    "est_smooth = smoothing(T, N, Q, M, X, W)"
   ]
  },
  {
   "cell_type": "code",
   "execution_count": 14,
   "metadata": {
    "collapsed": false
   },
   "outputs": [
    {
     "data": {
      "text/plain": [
       "array([[-2.59034478, -2.54929576, -2.67274841, ..., -3.25902875,\n",
       "        -2.21957024, -2.00873947],\n",
       "       [-3.16188593, -3.07025288, -2.85621678, ..., -4.22069415,\n",
       "        -2.45822667, -2.90739903],\n",
       "       [-3.04795869, -2.0371577 , -2.9712746 , ..., -3.97159849,\n",
       "        -3.80436888, -2.87159523],\n",
       "       ..., \n",
       "       [-3.38586584, -5.38313738, -6.0418136 , ..., -3.81719525,\n",
       "        -4.69756859, -5.30983243],\n",
       "       [-4.30704742, -4.41582727, -5.76146037, ..., -4.39499889,\n",
       "        -3.99767147, -4.85601737],\n",
       "       [-5.57339298, -5.04640756, -6.24227779, ..., -5.56609731,\n",
       "        -2.98151694, -5.79323778]])"
      ]
     },
     "execution_count": 14,
     "metadata": {},
     "output_type": "execute_result"
    }
   ],
   "source": [
    "est_smooth"
   ]
  },
  {
   "cell_type": "code",
   "execution_count": 25,
   "metadata": {
    "collapsed": false
   },
   "outputs": [],
   "source": [
    "pickle.dump(X, open('/Users/zyzrdfz/Desktop/gwungwun/cythontest_X.p','wb'))\n",
    "pickle.dump(W, open('/Users/zyzrdfz/Desktop/gwungwun/cythontest_W.p','wb'))"
   ]
  },
  {
   "cell_type": "code",
   "execution_count": null,
   "metadata": {
    "collapsed": false
   },
   "outputs": [],
   "source": [
    "X[100,:]"
   ]
  },
  {
   "cell_type": "code",
   "execution_count": 17,
   "metadata": {
    "collapsed": false
   },
   "outputs": [
    {
     "data": {
      "text/plain": [
       "(3001,)"
      ]
     },
     "execution_count": 17,
     "metadata": {},
     "output_type": "execute_result"
    }
   ],
   "source": [
    "np.concatenate(([P0],U[1])).shape"
   ]
  },
  {
   "cell_type": "code",
   "execution_count": 38,
   "metadata": {
    "collapsed": false
   },
   "outputs": [
    {
     "data": {
      "text/plain": [
       "<matplotlib.legend.Legend at 0x1199ac750>"
      ]
     },
     "execution_count": 38,
     "metadata": {},
     "output_type": "execute_result"
    },
    {
     "data": {
      "image/png": "[encoded data removed]",
      "text/plain": [
       "<matplotlib.figure.Figure at 0x119830250>"
      ]
     },
     "metadata": {},
     "output_type": "display_data"
    }
   ],
   "source": [
    "ll_from_R = np.loadtxt('ll_from_R.txt')\n",
    "plt.plot(loglikelihood, '.',linewidth=2.0, label='MY PARTICLE FILTER')\n",
    "plt.plot(ll_from_R, 'r.',linewidth=2.0, label='R log-likelihood')\n",
    "plt.ylabel('loglikelihood')\n",
    "plt.legend(loc='best')"
   ]
  },
  {
   "cell_type": "code",
   "execution_count": 13,
   "metadata": {
    "collapsed": false
   },
   "outputs": [
    {
     "data": {
      "text/plain": [
       "array([ 0.01      ,  2.84280297,  2.44767593, ...,  1.76906303,\n",
       "        1.82095347,  1.21730545])"
      ]
     },
     "execution_count": 13,
     "metadata": {},
     "output_type": "execute_result"
    }
   ],
   "source": [
    "variance"
   ]
  },
  {
   "cell_type": "code",
   "execution_count": 48,
   "metadata": {
    "collapsed": false
   },
   "outputs": [
    {
     "data": {
      "text/plain": [
       "(array([ 116.,   31.,   25.,   21.,   12.,   12.,   12.,   11.,   12.,\n",
       "          12.,   11.,   12.,   11.,   14.,   11.,   13.,   18.,   18.,\n",
       "          10.,    8.,   10.,   14.,    6.,    7.,    8.,   11.,    7.,\n",
       "           7.,    7.,   12.,   11.,    9.,    6.,   15.,   12.,   17.,\n",
       "          12.,    7.,   12.,    7.,    8.,   10.,   12.,    7.,   12.,\n",
       "          10.,    7.,   10.,   12.,   11.,    9.,    7.,    8.,    5.,\n",
       "          11.,    7.,    8.,    6.,    6.,    4.,   10.,    5.,    5.,\n",
       "           7.,    7.,    6.,    6.,    3.,   11.,    4.,    6.,   10.,\n",
       "           6.,    7.,    7.,    6.,    1.,   10.,    6.,    8.,    8.,\n",
       "           6.,    4.,    2.,    6.,    6.,    2.,    9.,    8.,    6.,\n",
       "           5.,    8.,    7.,    7.,    6.,    5.,    3.,    6.,    4.,    4.]),\n",
       " array([  7.08011974e-17,   2.76614611e-05,   5.53229222e-05,\n",
       "          8.29843832e-05,   1.10645844e-04,   1.38307305e-04,\n",
       "          1.65968766e-04,   1.93630228e-04,   2.21291689e-04,\n",
       "          2.48953150e-04,   2.76614611e-04,   3.04276072e-04,\n",
       "          3.31937533e-04,   3.59598994e-04,   3.87260455e-04,\n",
       "          4.14921916e-04,   4.42583377e-04,   4.70244838e-04,\n",
       "          4.97906299e-04,   5.25567761e-04,   5.53229222e-04,\n",
       "          5.80890683e-04,   6.08552144e-04,   6.36213605e-04,\n",
       "          6.63875066e-04,   6.91536527e-04,   7.19197988e-04,\n",
       "          7.46859449e-04,   7.74520910e-04,   8.02182371e-04,\n",
       "          8.29843832e-04,   8.57505294e-04,   8.85166755e-04,\n",
       "          9.12828216e-04,   9.40489677e-04,   9.68151138e-04,\n",
       "          9.95812599e-04,   1.02347406e-03,   1.05113552e-03,\n",
       "          1.07879698e-03,   1.10645844e-03,   1.13411990e-03,\n",
       "          1.16178137e-03,   1.18944283e-03,   1.21710429e-03,\n",
       "          1.24476575e-03,   1.27242721e-03,   1.30008867e-03,\n",
       "          1.32775013e-03,   1.35541159e-03,   1.38307305e-03,\n",
       "          1.41073452e-03,   1.43839598e-03,   1.46605744e-03,\n",
       "          1.49371890e-03,   1.52138036e-03,   1.54904182e-03,\n",
       "          1.57670328e-03,   1.60436474e-03,   1.63202620e-03,\n",
       "          1.65968766e-03,   1.68734913e-03,   1.71501059e-03,\n",
       "          1.74267205e-03,   1.77033351e-03,   1.79799497e-03,\n",
       "          1.82565643e-03,   1.85331789e-03,   1.88097935e-03,\n",
       "          1.90864081e-03,   1.93630228e-03,   1.96396374e-03,\n",
       "          1.99162520e-03,   2.01928666e-03,   2.04694812e-03,\n",
       "          2.07460958e-03,   2.10227104e-03,   2.12993250e-03,\n",
       "          2.15759396e-03,   2.18525543e-03,   2.21291689e-03,\n",
       "          2.24057835e-03,   2.26823981e-03,   2.29590127e-03,\n",
       "          2.32356273e-03,   2.35122419e-03,   2.37888565e-03,\n",
       "          2.40654711e-03,   2.43420858e-03,   2.46187004e-03,\n",
       "          2.48953150e-03,   2.51719296e-03,   2.54485442e-03,\n",
       "          2.57251588e-03,   2.60017734e-03,   2.62783880e-03,\n",
       "          2.65550026e-03,   2.68316173e-03,   2.71082319e-03,\n",
       "          2.73848465e-03,   2.76614611e-03]),\n",
       " <a list of 100 Patch objects>)"
      ]
     },
     "execution_count": 48,
     "metadata": {},
     "output_type": "execute_result"
    },
    {
     "data": {
      "image/png": "[encoded data removed]",
      "text/plain": [
       "<matplotlib.figure.Figure at 0x11aa95dd0>"
      ]
     },
     "metadata": {},
     "output_type": "display_data"
    }
   ],
   "source": [
    "plt.hist(W[1000,:], 100)"
   ]
  },
  {
   "cell_type": "code",
   "execution_count": 47,
   "metadata": {
    "collapsed": false
   },
   "outputs": [
    {
     "data": {
      "text/plain": [
       "<matplotlib.legend.Legend at 0x11b22ff10>"
      ]
     },
     "execution_count": 47,
     "metadata": {},
     "output_type": "execute_result"
    },
    {
     "data": {
      "image/png": "[encoded data removed]",
      "text/plain": [
       "<matplotlib.figure.Figure at 0x11afa81d0>"
      ]
     },
     "metadata": {},
     "output_type": "display_data"
    }
   ],
   "source": [
    "Y_15= pd.read_csv('row_15_ll.csv',header=0)\n",
    "y15 = Y_15.values.reshape(1500,2)\n",
    "y_15 = np.empty(150)\n",
    "for i in range(150):\n",
    "    y_15[i]= np.sum(y15[10*i:10*(i+1),1])/10.0\n",
    "\n",
    "plt.plot(loglikelihood, '.',linewidth=2.0, label='MY PARTICLE FILTER')\n",
    "plt.plot(y_15, 'r.',linewidth=2.0, label='R log-likelihood')\n",
    "plt.ylabel('loglikelihood')\n",
    "plt.legend(loc='best')"
   ]
  },
  {
   "cell_type": "code",
   "execution_count": null,
   "metadata": {
    "collapsed": true
   },
   "outputs": [],
   "source": []
  }
 ],
 "metadata": {
  "kernelspec": {
   "display_name": "Python 2",
   "language": "python",
   "name": "python2"
  },
  "language_info": {
   "codemirror_mode": {
    "name": "ipython",
    "version": 2
   },
   "file_extension": ".py",
   "mimetype": "text/x-python",
   "name": "python",
   "nbconvert_exporter": "python",
   "pygments_lexer": "ipython2",
   "version": "2.7.11"
  }
 },
 "nbformat": 4,
 "nbformat_minor": 0
}
