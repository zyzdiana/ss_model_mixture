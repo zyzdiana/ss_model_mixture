{
 "cells": [
  {
   "cell_type": "markdown",
   "metadata": {},
   "source": [
    "# Gaussian Model"
   ]
  },
  {
   "cell_type": "code",
   "execution_count": 25,
   "metadata": {
    "collapsed": true
   },
   "outputs": [],
   "source": [
    "%matplotlib inline\n",
    "import numpy\n",
    "import pyparticleest.utils.kalman as kalman\n",
    "import pyparticleest.interfaces as interfaces\n",
    "import matplotlib.pyplot as plt\n",
    "import pyparticleest.simulator as simulator\n"
   ]
  },
  {
   "cell_type": "code",
   "execution_count": 26,
   "metadata": {
    "collapsed": true
   },
   "outputs": [],
   "source": [
    "def generate_dataset(steps, P0, Q, R):\n",
    "    x = numpy.zeros((steps + 1,))\n",
    "    y = numpy.zeros((steps,))\n",
    "    x[0] = 2.0 + 0.0 * numpy.random.normal(0.0, P0)\n",
    "    for k in range(1, steps + 1):\n",
    "        x[k] = x[k - 1] + numpy.random.normal(0.0, Q)\n",
    "        y[k - 1] = x[k] + numpy.random.normal(0.0, R)\n",
    "\n",
    "    return (x, y)"
   ]
  },
  {
   "cell_type": "code",
   "execution_count": 27,
   "metadata": {
    "collapsed": true
   },
   "outputs": [],
   "source": [
    "class Model(interfaces.ParticleFiltering):\n",
    "    \"\"\" x_{k+1} = x_k + v_k, v_k ~ N(0,Q)\n",
    "        y_k = x_k + e_k, e_k ~ N(0,R),\n",
    "        x(0) ~ N(0,P0) \"\"\"\n",
    "\n",
    "    def __init__(self, P0, Q, R):\n",
    "        self.P0 = numpy.copy(P0)\n",
    "        self.Q = numpy.copy(Q)\n",
    "        self.R = numpy.copy(R)\n",
    "\n",
    "    def create_initial_estimate(self, N):\n",
    "        return numpy.random.normal(0.0, self.P0, (N,)).reshape((-1, 1))\n",
    "\n",
    "    def sample_process_noise(self, particles, u, t):\n",
    "        \"\"\" Return process noise for input u \"\"\"\n",
    "        N = len(particles)\n",
    "        return numpy.random.normal(0.0, self.Q, (N,)).reshape((-1, 1))\n",
    "\n",
    "    def update(self, particles, u, t, noise):\n",
    "        \"\"\" Update estimate using 'data' as input \"\"\"\n",
    "        particles += noise\n",
    "\n",
    "    def measure(self, particles, y, t):\n",
    "        \"\"\" Return the log-pdf value of the measurement \"\"\"\n",
    "        logyprob = numpy.empty(len(particles), dtype=float)\n",
    "        for k in range(len(particles)):\n",
    "            logyprob[k] = kalman.lognormpdf(particles[k].reshape(-1, 1) - y, self.R)\n",
    "        return logyprob\n",
    "\n",
    "    def logp_xnext_full(self, part, past_trajs, pind,\n",
    "                        future_trajs, find, ut, yt, tt, cur_ind):\n",
    "\n",
    "        diff = future_trajs[0].pa.part[find] - part\n",
    "\n",
    "        logpxnext = numpy.empty(len(diff), dtype=float)\n",
    "        for k in range(len(logpxnext)):\n",
    "            logpxnext[k] = kalman.lognormpdf(diff[k].reshape(-1, 1), numpy.asarray(self.Q).reshape(1, 1))\n",
    "        return logpxnext"
   ]
  },
  {
   "cell_type": "code",
   "execution_count": 28,
   "metadata": {
    "collapsed": true
   },
   "outputs": [],
   "source": [
    "steps = 50\n",
    "N=200\n",
    "M=50\n",
    "P0 = 1.0\n",
    "Q = 1.0\n",
    "R = numpy.asarray(((1.0,),))"
   ]
  },
  {
   "cell_type": "code",
   "execution_count": 29,
   "metadata": {
    "collapsed": false
   },
   "outputs": [
    {
     "name": "stdout",
     "output_type": "stream",
     "text": [
      "CPU times: user 438 µs, sys: 195 µs, total: 633 µs\n",
      "Wall time: 638 µs\n"
     ]
    }
   ],
   "source": [
    "%%time\n",
    "numpy.random.seed(1)\n",
    "(x, y) = generate_dataset(steps, P0, Q, R)\n"
   ]
  },
  {
   "cell_type": "code",
   "execution_count": 30,
   "metadata": {
    "collapsed": false
   },
   "outputs": [
    {
     "name": "stdout",
     "output_type": "stream",
     "text": [
      "CPU times: user 199 µs, sys: 3 µs, total: 202 µs\n",
      "Wall time: 206 µs\n"
     ]
    }
   ],
   "source": [
    "%%time\n",
    "model = Model(P0, Q, R)\n",
    "sim = simulator.Simulator(model, u=None, y=y)"
   ]
  },
  {
   "cell_type": "code",
   "execution_count": 31,
   "metadata": {
    "collapsed": false
   },
   "outputs": [
    {
     "name": "stdout",
     "output_type": "stream",
     "text": [
      "CPU times: user 17.5 s, sys: 125 ms, total: 17.6 s\n",
      "Wall time: 18.2 s\n"
     ]
    },
    {
     "data": {
      "text/plain": [
       "33"
      ]
     },
     "execution_count": 31,
     "metadata": {},
     "output_type": "execute_result"
    }
   ],
   "source": [
    "%%time\n",
    "sim.simulate(N, M, smoother='full') #we could see the difference between full & ancestor"
   ]
  },
  {
   "cell_type": "code",
   "execution_count": 32,
   "metadata": {
    "collapsed": true
   },
   "outputs": [],
   "source": [
    "(vals, _) = sim.get_filtered_estimates()\n",
    "svals = sim.get_smoothed_estimates()"
   ]
  },
  {
   "cell_type": "code",
   "execution_count": 33,
   "metadata": {
    "collapsed": false
   },
   "outputs": [
    {
     "data": {
      "text/plain": [
       "(51, 50, 1)"
      ]
     },
     "execution_count": 33,
     "metadata": {},
     "output_type": "execute_result"
    }
   ],
   "source": [
    "svals.shape"
   ]
  },
  {
   "cell_type": "code",
   "execution_count": 34,
   "metadata": {
    "collapsed": false
   },
   "outputs": [
    {
     "data": {
      "text/plain": [
       "(51, 200, 1)"
      ]
     },
     "execution_count": 34,
     "metadata": {},
     "output_type": "execute_result"
    }
   ],
   "source": [
    "vals.shape"
   ]
  },
  {
   "cell_type": "code",
   "execution_count": 35,
   "metadata": {
    "collapsed": false
   },
   "outputs": [
    {
     "data": {
      "text/plain": [
       "<matplotlib.text.Text at 0x10f6b0750>"
      ]
     },
     "execution_count": 35,
     "metadata": {},
     "output_type": "execute_result"
    },
    {
     "data": {
      "image/png": "[encoded data removed]",
      "text/plain": [
       "<matplotlib.figure.Figure at 0x10f2e28d0>"
      ]
     },
     "metadata": {},
     "output_type": "display_data"
    }
   ],
   "source": [
    "plt.plot(range(steps + 1), x, 'r-')\n",
    "plt.plot(range(1, steps + 1), y, 'bx')\n",
    "plt.plot(range(steps + 1), vals[:, :, 0], 'k.', markersize=0.8)\n",
    "#plt.plot(range(steps + 1), svals[:, :, 0], 'b--')\n",
    "plt.plot(range(steps + 1), x, 'r-')\n",
    "plt.xlabel('t')\n",
    "plt.ylabel('x')"
   ]
  },
  {
   "cell_type": "code",
   "execution_count": 36,
   "metadata": {
    "collapsed": false
   },
   "outputs": [
    {
     "data": {
      "text/plain": [
       "(51,)"
      ]
     },
     "execution_count": 36,
     "metadata": {},
     "output_type": "execute_result"
    }
   ],
   "source": [
    "x.shape"
   ]
  },
  {
   "cell_type": "code",
   "execution_count": null,
   "metadata": {
    "collapsed": true
   },
   "outputs": [],
   "source": []
  }
 ],
 "metadata": {
  "kernelspec": {
   "display_name": "Python 2",
   "language": "python",
   "name": "python2"
  },
  "language_info": {
   "codemirror_mode": {
    "name": "ipython",
    "version": 2
   },
   "file_extension": ".py",
   "mimetype": "text/x-python",
   "name": "python",
   "nbconvert_exporter": "python",
   "pygments_lexer": "ipython2",
   "version": "2.7.11"
  }
 },
 "nbformat": 4,
 "nbformat_minor": 0
}
