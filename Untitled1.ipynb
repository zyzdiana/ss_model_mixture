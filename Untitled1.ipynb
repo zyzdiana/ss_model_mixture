{
 "cells": [
  {
   "cell_type": "code",
   "execution_count": 1,
   "metadata": {
    "collapsed": false
   },
   "outputs": [],
   "source": [
    "%load_ext autoreload\n",
    "%autoreload \n",
    "%reload_ext autoreload"
   ]
  },
  {
   "cell_type": "code",
   "execution_count": 2,
   "metadata": {
    "collapsed": false
   },
   "outputs": [],
   "source": [
    "import os\n",
    "os.getcwd()\n",
    "import sys\n",
    "import numpy as np\n",
    "sys.path.insert(1,'/Users/zyzrdfz/Documents/ss_model_mixture/Cython_Code')\n",
    "import cPickle as pickle"
   ]
  },
  {
   "cell_type": "code",
   "execution_count": 3,
   "metadata": {
    "collapsed": true
   },
   "outputs": [],
   "source": [
    "from numpy import *\n",
    "from numpy.random import *\n",
    "%matplotlib inline\n",
    "import os\n",
    "import time\n",
    "import numpy as np\n",
    "import pandas as pd\n",
    "import sys\n",
    "import cPickle as pickle\n",
    "from   random import *\n",
    "import scipy.stats\n",
    "import matplotlib.pyplot as plt\n",
    "import pyparticleest.utils.kalman as kalman\n",
    "\n",
    "import numpy as np\n",
    "import scipy as sp\n",
    "import scipy.special\n",
    "import scipy.linalg"
   ]
  },
  {
   "cell_type": "code",
   "execution_count": 4,
   "metadata": {
    "collapsed": false
   },
   "outputs": [],
   "source": [
    "#from fastloop import rbf_network\n",
    "from fastloop import smoothing\n",
    "from fastloop import resample"
   ]
  },
  {
   "cell_type": "code",
   "execution_count": 22,
   "metadata": {
    "collapsed": false
   },
   "outputs": [],
   "source": [
    "T = int(3000)\n",
    "N = 1000\n",
    "M = 30\n",
    "Q = 0.5"
   ]
  },
  {
   "cell_type": "code",
   "execution_count": 17,
   "metadata": {
    "collapsed": false
   },
   "outputs": [],
   "source": [
    "X = pickle.load(open('/Users/zyzrdfz/Desktop/gwungwun/cythontest_X.p','rb'))\n",
    "W = pickle.load(open('/Users/zyzrdfz/Desktop/gwungwun/cythontest_W.p','rb'))"
   ]
  },
  {
   "cell_type": "code",
   "execution_count": 6,
   "metadata": {
    "collapsed": false
   },
   "outputs": [
    {
     "data": {
      "text/plain": [
       "(3000, 1000)"
      ]
     },
     "execution_count": 6,
     "metadata": {},
     "output_type": "execute_result"
    }
   ],
   "source": [
    "W.shape"
   ]
  },
  {
   "cell_type": "code",
   "execution_count": 7,
   "metadata": {
    "collapsed": false
   },
   "outputs": [
    {
     "name": "stdout",
     "output_type": "stream",
     "text": [
      "CPU times: user 15.4 s, sys: 160 ms, total: 15.5 s\n",
      "Wall time: 16.1 s\n"
     ]
    }
   ],
   "source": [
    "%%time\n",
    "est_smooth = smoothing(T, N, Q, M, X, W)"
   ]
  },
  {
   "cell_type": "code",
   "execution_count": 9,
   "metadata": {
    "collapsed": false
   },
   "outputs": [
    {
     "data": {
      "text/plain": [
       "array([[-2.7674504 , -3.285055  , -2.91657443, ..., -2.53434035,\n",
       "        -3.04496882, -2.77653866],\n",
       "       [-3.51488754, -5.16863189, -4.51701407, ..., -3.35713287,\n",
       "        -3.2556692 , -2.81855726],\n",
       "       [-3.42026676, -3.731982  , -4.26574268, ..., -3.41069978,\n",
       "        -3.1876251 , -3.33200804],\n",
       "       ..., \n",
       "       [-4.42995075, -3.97003271, -5.09376443, ..., -5.05850679,\n",
       "        -4.58685431, -4.10197147],\n",
       "       [-3.72232674, -3.4942797 , -5.18782123, ..., -4.2135175 ,\n",
       "        -4.30836981, -3.52692435],\n",
       "       [-4.21791424, -4.28286872, -4.22269466, ..., -4.0396963 ,\n",
       "        -4.24663816, -3.88786443]])"
      ]
     },
     "execution_count": 9,
     "metadata": {},
     "output_type": "execute_result"
    }
   ],
   "source": [
    "np.array(est_smooth)"
   ]
  },
  {
   "cell_type": "code",
   "execution_count": 11,
   "metadata": {
    "collapsed": false
   },
   "outputs": [],
   "source": [
    "smoother = np.empty([T,M])"
   ]
  },
  {
   "cell_type": "code",
   "execution_count": 25,
   "metadata": {
    "collapsed": true
   },
   "outputs": [],
   "source": [
    "l=0\n",
    "j=0"
   ]
  },
  {
   "cell_type": "code",
   "execution_count": 26,
   "metadata": {
    "collapsed": false
   },
   "outputs": [],
   "source": [
    "multinomialsamples = np.random.multinomial(M, W[T-1,:])"
   ]
  },
  {
   "cell_type": "code",
   "execution_count": 29,
   "metadata": {
    "collapsed": false
   },
   "outputs": [
    {
     "data": {
      "text/plain": [
       "(array([ 16,  27,  29,  64,  66, 167, 206, 258, 290, 291, 309, 394, 415,\n",
       "        440, 472, 501, 518, 525, 564, 569, 617, 628, 638, 669, 680, 723,\n",
       "        744, 983, 985]),)"
      ]
     },
     "execution_count": 29,
     "metadata": {},
     "output_type": "execute_result"
    }
   ],
   "source": [
    "np.nonzero(multinomialsamples)"
   ]
  },
  {
   "cell_type": "code",
   "execution_count": 9,
   "metadata": {
    "collapsed": false
   },
   "outputs": [
    {
     "data": {
      "text/plain": [
       "(array([ 83, 105, 120, 130, 167, 196, 209, 263, 274, 291, 359, 372, 395,\n",
       "        414, 502, 508, 518, 723, 779, 801, 840, 868, 886, 896, 926, 939,\n",
       "        986, 987, 998]),)"
      ]
     },
     "execution_count": 9,
     "metadata": {},
     "output_type": "execute_result"
    }
   ],
   "source": [
    "while j<= M:\n",
    "    while multinomialsamples[l] == 0:\n",
    "        l +=1\n",
    "    smoother[T-1,j] = multinomialsamples[l]\n",
    "    j +=1"
   ]
  },
  {
   "cell_type": "code",
   "execution_count": 27,
   "metadata": {
    "collapsed": false
   },
   "outputs": [
    {
     "name": "stdout",
     "output_type": "stream",
     "text": [
      "17\n",
      "28\n",
      "30\n",
      "65\n",
      "67\n",
      "168\n",
      "207\n",
      "259\n",
      "291\n",
      "292\n",
      "310\n",
      "395\n",
      "416\n",
      "441\n",
      "473\n",
      "502\n",
      "519\n",
      "526\n",
      "565\n",
      "570\n",
      "618\n",
      "629\n",
      "639\n",
      "670\n",
      "681\n",
      "724\n",
      "745\n",
      "984\n",
      "986\n"
     ]
    },
    {
     "ename": "IndexError",
     "evalue": "index 1000 is out of bounds for axis 0 with size 1000",
     "output_type": "error",
     "traceback": [
      "\u001b[0;31m---------------------------------------------------------------------------\u001b[0m",
      "\u001b[0;31mIndexError\u001b[0m                                Traceback (most recent call last)",
      "\u001b[0;32m<ipython-input-27-b2ac5b693abb>\u001b[0m in \u001b[0;36m<module>\u001b[0;34m()\u001b[0m\n\u001b[1;32m      1\u001b[0m \u001b[0;32mwhile\u001b[0m \u001b[0mj\u001b[0m\u001b[0;34m<\u001b[0m \u001b[0mM\u001b[0m\u001b[0;34m:\u001b[0m\u001b[0;34m\u001b[0m\u001b[0m\n\u001b[0;32m----> 2\u001b[0;31m     \u001b[0;32mwhile\u001b[0m \u001b[0mmultinomialsamples\u001b[0m\u001b[0;34m[\u001b[0m\u001b[0ml\u001b[0m\u001b[0;34m]\u001b[0m \u001b[0;34m==\u001b[0m \u001b[0;36m0\u001b[0m\u001b[0;34m:\u001b[0m\u001b[0;34m\u001b[0m\u001b[0m\n\u001b[0m\u001b[1;32m      3\u001b[0m         \u001b[0ml\u001b[0m \u001b[0;34m+=\u001b[0m\u001b[0;36m1\u001b[0m\u001b[0;34m\u001b[0m\u001b[0m\n\u001b[1;32m      4\u001b[0m     \u001b[0ml\u001b[0m \u001b[0;34m+=\u001b[0m\u001b[0;36m1\u001b[0m\u001b[0;34m\u001b[0m\u001b[0m\n\u001b[1;32m      5\u001b[0m     \u001b[0;32mprint\u001b[0m \u001b[0ml\u001b[0m\u001b[0;34m\u001b[0m\u001b[0m\n",
      "\u001b[0;31mIndexError\u001b[0m: index 1000 is out of bounds for axis 0 with size 1000"
     ]
    }
   ],
   "source": [
    "while j< M:\n",
    "    while multinomialsamples[l] == 0:\n",
    "        l +=1\n",
    "    l +=1\n",
    "    print l\n",
    "    smoother[T-1,j] = X[T,l]\n",
    "    j +=1"
   ]
  },
  {
   "cell_type": "code",
   "execution_count": 23,
   "metadata": {
    "collapsed": false
   },
   "outputs": [
    {
     "data": {
      "text/plain": [
       "array([-5.18788613, -5.18788613, -5.18788613, -5.18788613, -5.18788613,\n",
       "       -5.18788613, -5.18788613, -5.18788613, -5.18788613, -5.18788613,\n",
       "       -5.18788613, -5.18788613, -5.18788613, -5.18788613, -5.18788613,\n",
       "       -5.18788613, -5.18788613, -5.18788613, -5.18788613, -5.18788613,\n",
       "       -5.18788613, -5.18788613, -5.18788613, -5.18788613, -5.18788613,\n",
       "       -5.18788613, -5.18788613, -5.18788613, -5.18788613, -5.18788613])"
      ]
     },
     "execution_count": 23,
     "metadata": {},
     "output_type": "execute_result"
    }
   ],
   "source": [
    "smoother[T-1]"
   ]
  },
  {
   "cell_type": "code",
   "execution_count": 98,
   "metadata": {
    "collapsed": false
   },
   "outputs": [
    {
     "data": {
      "text/plain": [
       "(1000,)"
      ]
     },
     "execution_count": 98,
     "metadata": {},
     "output_type": "execute_result"
    }
   ],
   "source": [
    "np.random.multinomial(1, W[T-1]).shape"
   ]
  },
  {
   "cell_type": "code",
   "execution_count": 72,
   "metadata": {
    "collapsed": false
   },
   "outputs": [],
   "source": [
    "l = np.zeros(1)"
   ]
  },
  {
   "cell_type": "code",
   "execution_count": 76,
   "metadata": {
    "collapsed": false
   },
   "outputs": [
    {
     "data": {
      "text/plain": [
       "0"
      ]
     },
     "execution_count": 76,
     "metadata": {},
     "output_type": "execute_result"
    }
   ],
   "source": [
    "l"
   ]
  },
  {
   "cell_type": "code",
   "execution_count": 5,
   "metadata": {
    "collapsed": false
   },
   "outputs": [],
   "source": [
    "df = pd.read_csv('thaldata.csv',header=None)\n",
    "Y = df.values.reshape(3000)\n",
    "Y = Y[500:800]\n",
    "T = len(Y)"
   ]
  },
  {
   "cell_type": "code",
   "execution_count": 6,
   "metadata": {
    "collapsed": false
   },
   "outputs": [
    {
     "name": "stdout",
     "output_type": "stream",
     "text": [
      "[ 0.05]\n"
     ]
    }
   ],
   "source": [
    "sigma2v = 5.0\n",
    "sigma2e = np.arange(0.05, 0.51, 1)\n",
    "print sigma2e"
   ]
  },
  {
   "cell_type": "code",
   "execution_count": 7,
   "metadata": {
    "collapsed": true
   },
   "outputs": [],
   "source": [
    "def gaussian(X, Q):\n",
    "    #log-pdf of p(x_t|x_{t-1})\n",
    "    return -0.5 * (l2pi + np.log(Q) + (X ** 2) / Q)"
   ]
  },
  {
   "cell_type": "code",
   "execution_count": 8,
   "metadata": {
    "collapsed": true
   },
   "outputs": [],
   "source": [
    "def Do_Kalman_Likelihood(y, sigma2obs, sigma2e):\n",
    "    \"\"\"MAP solution, inverse covariance matrix, and marginal loglikelihood of state-space model\n",
    "\n",
    "    :param y: Observations (K,)\n",
    "    :param sigma2obs: Variance of observation noise (can be scalar or vector)\n",
    "    :param sigma2e: Variance of process noise\n",
    "    :return: x_map, L, marginal_loglikelihood, joint_loglikelihood\n",
    "    \"\"\"\n",
    "    # Build diagonals of information matrix\n",
    "    sigma2obs *= np.ones(len(y))\n",
    "    D = 1. / sigma2obs + 2. / sigma2e\n",
    "    D[-1] = 1. / sigma2obs[-1] + 1. / sigma2e\n",
    "    B = -np.ones(len(D)) / sigma2e\n",
    "    B[0] = 0.\n",
    "    \n",
    "    # Solve, assuming x_init=0 for simplicity\n",
    "    #L = sp.linalg.cholesky_banded((D, B), lower=True)\n",
    "    U = sp.linalg.cholesky_banded((B, D), lower=False)\n",
    "\n",
    "    x_map = sp.linalg.cho_solve_banded([U, False], y / sigma2obs)\n",
    "\n",
    "    # Compute joint and marginal probabilities\n",
    "    joint_loglikelihood = -.5 * ((np.sum(np.diff(x_map)**2) + x_map[0]**2) / sigma2e +\n",
    "                                 np.sum((y - x_map)**2 / sigma2obs) +\n",
    "                                 (len(y) * np.log(2*np.pi*sigma2e * 2*np.pi) + np.sum(np.log(sigma2obs))))\n",
    "    marginal_loglikelihood = len(y)/2. * np.log(2*np.pi) + joint_loglikelihood - np.sum(np.log(U[-1]))\n",
    "    return x_map, U, marginal_loglikelihood, joint_loglikelihood"
   ]
  },
  {
   "cell_type": "code",
   "execution_count": 9,
   "metadata": {
    "collapsed": true
   },
   "outputs": [],
   "source": [
    "# Forward particles\n",
    "N = 5000\n",
    "#\n",
    "l2pi = math.log(2 * math.pi)\n",
    "\n"
   ]
  },
  {
   "cell_type": "code",
   "execution_count": 10,
   "metadata": {
    "collapsed": true
   },
   "outputs": [],
   "source": [
    "def filtering(Y, Q, mode, variance):\n",
    "    samples = np.random.normal(0,1,[T+1,N])\n",
    "    w = np.empty([T,N])\n",
    "    W = np.empty([T,N])\n",
    "    X = np.reshape (np.repeat(mode,N),[T+1,N]) + samples * np.reshape (np.repeat(np.sqrt(variance),N),[T+1,N])\n",
    "    ancestor = np.empty([T+1,N])\n",
    "    ancestor[0,:] = X[0,:]\n",
    "    for t in range(T):\n",
    "        w[t,:] = gaussian(Y[t]-X[t+1,:], sigma2v) + gaussian(X[t+1,:]-ancestor[t,:], Q) - gaussian(X[t+1,:]-mode[t+1], variance[t+1])\n",
    "        W[t,:] = np.exp(w[t,:] - np.max(w[t,:])) \n",
    "        W[t,:] = W[t,:]/ np.sum(W[t,:])\n",
    "        ancestor[t+1,:]= X[t+1,resample(W[t,:])]\n",
    "        \n",
    "    return X, w, W, ancestor"
   ]
  },
  {
   "cell_type": "code",
   "execution_count": 12,
   "metadata": {
    "collapsed": false
   },
   "outputs": [
    {
     "name": "stdout",
     "output_type": "stream",
     "text": [
      "CPU times: user 1.61 s, sys: 58.6 ms, total: 1.66 s\n",
      "Wall time: 1.71 s\n"
     ]
    }
   ],
   "source": [
    "%%time\n",
    "loglikelihood_withresampling= np.empty(len(sigma2e))\n",
    "for i in range(len(sigma2e)):\n",
    "    Q = sigma2e[i]\n",
    "    [x_map, U, marginal_loglikelihood, joint_loglikelihood] = Do_Kalman_Likelihood(Y, sigma2v, Q) \n",
    "    #[xpost, s2post, llhdKal] = KalFilt(Y, sigma2v, Q, 0.0, 0.0)\n",
    "    mode = np.empty(T+1)\n",
    "    variance = np.empty(T+1)\n",
    "    mode[0] = 0\n",
    "    variance[0] = Q\n",
    "    for t in range(T):\n",
    "        mode[t+1] = x_map[t]\n",
    "        variance[t+1] = U[1][t]\n",
    "        \n",
    "    [X, w, W, ancestor] = filtering(Y, Q, mode, variance)\n",
    "    maxlogweight = np.max(w, axis=1)\n",
    "    weight = np.exp(w - np.reshape(np.repeat(maxlogweight, N),(T, N)))\n",
    "    loglikelihood_withresampling[i] = np.sum(np.log(np.sum(weight, axis = 1)/N))+np.sum(maxlogweight)"
   ]
  },
  {
   "cell_type": "code",
   "execution_count": 16,
   "metadata": {
    "collapsed": false
   },
   "outputs": [],
   "source": [
    "weights = [0.1, 0.1, 0.2, 0.2, 0.4]\n",
    "n = len(weights)\n",
    "C = np.empty(n)\n",
    "C[0] = weights[0]\n",
    "for ii in range(n-1):\n",
    "    i = ii + 1\n",
    "    C[i] = C[i-1] + weights[i]"
   ]
  },
  {
   "cell_type": "code",
   "execution_count": 19,
   "metadata": {
    "collapsed": false
   },
   "outputs": [
    {
     "data": {
      "text/plain": [
       "(3000, 1000)"
      ]
     },
     "execution_count": 19,
     "metadata": {},
     "output_type": "execute_result"
    }
   ],
   "source": [
    "W.shape"
   ]
  },
  {
   "cell_type": "code",
   "execution_count": null,
   "metadata": {
    "collapsed": false
   },
   "outputs": [],
   "source": [
    "const = 1/sqrt(2 * np.pi * Q)\n",
    "smoother = np.empty([T,M])\n",
    "w_back = np.empty(N)\n",
    "W_BACK = np.empty(N)\n",
    "\n",
    "samples = np.floor(np.random.rand(M) * M)\n",
    "for j in range(M):\n",
    "    smoother[T-1, j] = X[T, samples[j]]\n",
    "    \n",
    "for tt in range(T-1):\n",
    "    t = T-2 -tt\n",
    "    for j in range(M):\n",
    "        w_back_sum = 0\n",
    "        for k in range(N):\n",
    "            w_back[k] = const * exp( -(smoother[t+1,j]-X[t+1,k]) ** 2 / (2 * Q))\n",
    "            w_back_sum += w_back[k]\n",
    "        for k in range(N):\n",
    "            W_BACK[k] = w_back[k]/w_back_sum\n",
    "        l=0\n",
    "        u = np.random.rand()\n",
    "        while u > W_BACK[j]:\n",
    "            l+=1\n",
    "        smoother[t,j] = X[t+1, l]"
   ]
  },
  {
   "cell_type": "code",
   "execution_count": null,
   "metadata": {
    "collapsed": true
   },
   "outputs": [],
   "source": [
    "smoother"
   ]
  },
  {
   "cell_type": "code",
   "execution_count": null,
   "metadata": {
    "collapsed": true
   },
   "outputs": [],
   "source": []
  }
 ],
 "metadata": {
  "kernelspec": {
   "display_name": "Python 2",
   "language": "python",
   "name": "python2"
  },
  "language_info": {
   "codemirror_mode": {
    "name": "ipython",
    "version": 2
   },
   "file_extension": ".py",
   "mimetype": "text/x-python",
   "name": "python",
   "nbconvert_exporter": "python",
   "pygments_lexer": "ipython2",
   "version": "2.7.11"
  }
 },
 "nbformat": 4,
 "nbformat_minor": 0
}
