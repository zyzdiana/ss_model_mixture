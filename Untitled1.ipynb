{
 "cells": [
  {
   "cell_type": "code",
   "execution_count": 1,
   "metadata": {
    "collapsed": false
   },
   "outputs": [],
   "source": [
    "%load_ext autoreload\n",
    "%autoreload \n",
    "%reload_ext autoreload"
   ]
  },
  {
   "cell_type": "code",
   "execution_count": 2,
   "metadata": {
    "collapsed": false
   },
   "outputs": [],
   "source": [
    "import os\n",
    "os.getcwd()\n",
    "import sys\n",
    "import numpy as np\n",
    "sys.path.insert(1,'/Users/zyzrdfz/Documents/ss_model_mixture/Cython_Code')\n",
    "import cPickle as pickle"
   ]
  },
  {
   "cell_type": "code",
   "execution_count": 3,
   "metadata": {
    "collapsed": false
   },
   "outputs": [],
   "source": [
    "#from fastloop import rbf_network\n",
    "from fastloop import smoothing"
   ]
  },
  {
   "cell_type": "code",
   "execution_count": 4,
   "metadata": {
    "collapsed": false
   },
   "outputs": [],
   "source": [
    "T = int(3000)\n",
    "N = 1000\n",
    "M = 30\n",
    "Q = 0.5"
   ]
  },
  {
   "cell_type": "code",
   "execution_count": 5,
   "metadata": {
    "collapsed": false
   },
   "outputs": [],
   "source": [
    "X = pickle.load(open('/Users/zyzrdfz/Desktop/gwungwun/cythontest_X.p','rb'))\n",
    "W = pickle.load(open('/Users/zyzrdfz/Desktop/gwungwun/cythontest_W.p','rb'))"
   ]
  },
  {
   "cell_type": "code",
   "execution_count": 6,
   "metadata": {
    "collapsed": false
   },
   "outputs": [
    {
     "data": {
      "text/plain": [
       "(3000, 1000)"
      ]
     },
     "execution_count": 6,
     "metadata": {},
     "output_type": "execute_result"
    }
   ],
   "source": [
    "W.shape"
   ]
  },
  {
   "cell_type": "code",
   "execution_count": 7,
   "metadata": {
    "collapsed": false
   },
   "outputs": [
    {
     "name": "stdout",
     "output_type": "stream",
     "text": [
      "CPU times: user 15.1 s, sys: 182 ms, total: 15.3 s\n",
      "Wall time: 15.7 s\n"
     ]
    }
   ],
   "source": [
    "%%time\n",
    "est_smooth = smoothing(T, N, Q, M, X, W)"
   ]
  },
  {
   "cell_type": "code",
   "execution_count": 9,
   "metadata": {
    "collapsed": false
   },
   "outputs": [
    {
     "data": {
      "text/plain": [
       "array([[-2.7674504 , -3.285055  , -2.91657443, ..., -2.53434035,\n",
       "        -3.04496882, -2.77653866],\n",
       "       [-3.51488754, -5.16863189, -4.51701407, ..., -3.35713287,\n",
       "        -3.2556692 , -2.81855726],\n",
       "       [-3.42026676, -3.731982  , -4.26574268, ..., -3.41069978,\n",
       "        -3.1876251 , -3.33200804],\n",
       "       ..., \n",
       "       [-4.42995075, -3.97003271, -5.09376443, ..., -5.05850679,\n",
       "        -4.58685431, -4.10197147],\n",
       "       [-3.72232674, -3.4942797 , -5.18782123, ..., -4.2135175 ,\n",
       "        -4.30836981, -3.52692435],\n",
       "       [-4.21791424, -4.28286872, -4.22269466, ..., -4.0396963 ,\n",
       "        -4.24663816, -3.88786443]])"
      ]
     },
     "execution_count": 9,
     "metadata": {},
     "output_type": "execute_result"
    }
   ],
   "source": [
    "np.array(est_smooth)"
   ]
  },
  {
   "cell_type": "code",
   "execution_count": 11,
   "metadata": {
    "collapsed": false
   },
   "outputs": [],
   "source": [
    "smoother = np.empty([T,M])"
   ]
  },
  {
   "cell_type": "code",
   "execution_count": 25,
   "metadata": {
    "collapsed": true
   },
   "outputs": [],
   "source": [
    "l=0\n",
    "j=0"
   ]
  },
  {
   "cell_type": "code",
   "execution_count": 26,
   "metadata": {
    "collapsed": false
   },
   "outputs": [],
   "source": [
    "multinomialsamples = np.random.multinomial(M, W[T-1,:])"
   ]
  },
  {
   "cell_type": "code",
   "execution_count": 29,
   "metadata": {
    "collapsed": false
   },
   "outputs": [
    {
     "data": {
      "text/plain": [
       "(array([ 16,  27,  29,  64,  66, 167, 206, 258, 290, 291, 309, 394, 415,\n",
       "        440, 472, 501, 518, 525, 564, 569, 617, 628, 638, 669, 680, 723,\n",
       "        744, 983, 985]),)"
      ]
     },
     "execution_count": 29,
     "metadata": {},
     "output_type": "execute_result"
    }
   ],
   "source": [
    "np.nonzero(multinomialsamples)"
   ]
  },
  {
   "cell_type": "code",
   "execution_count": 9,
   "metadata": {
    "collapsed": false
   },
   "outputs": [
    {
     "data": {
      "text/plain": [
       "(array([ 83, 105, 120, 130, 167, 196, 209, 263, 274, 291, 359, 372, 395,\n",
       "        414, 502, 508, 518, 723, 779, 801, 840, 868, 886, 896, 926, 939,\n",
       "        986, 987, 998]),)"
      ]
     },
     "execution_count": 9,
     "metadata": {},
     "output_type": "execute_result"
    }
   ],
   "source": [
    "while j<= M:\n",
    "    while multinomialsamples[l] == 0:\n",
    "        l +=1\n",
    "    smoother[T-1,j] = multinomialsamples[l]\n",
    "    j +=1"
   ]
  },
  {
   "cell_type": "code",
   "execution_count": 27,
   "metadata": {
    "collapsed": false
   },
   "outputs": [
    {
     "name": "stdout",
     "output_type": "stream",
     "text": [
      "17\n",
      "28\n",
      "30\n",
      "65\n",
      "67\n",
      "168\n",
      "207\n",
      "259\n",
      "291\n",
      "292\n",
      "310\n",
      "395\n",
      "416\n",
      "441\n",
      "473\n",
      "502\n",
      "519\n",
      "526\n",
      "565\n",
      "570\n",
      "618\n",
      "629\n",
      "639\n",
      "670\n",
      "681\n",
      "724\n",
      "745\n",
      "984\n",
      "986\n"
     ]
    },
    {
     "ename": "IndexError",
     "evalue": "index 1000 is out of bounds for axis 0 with size 1000",
     "output_type": "error",
     "traceback": [
      "\u001b[0;31m---------------------------------------------------------------------------\u001b[0m",
      "\u001b[0;31mIndexError\u001b[0m                                Traceback (most recent call last)",
      "\u001b[0;32m<ipython-input-27-b2ac5b693abb>\u001b[0m in \u001b[0;36m<module>\u001b[0;34m()\u001b[0m\n\u001b[1;32m      1\u001b[0m \u001b[0;32mwhile\u001b[0m \u001b[0mj\u001b[0m\u001b[0;34m<\u001b[0m \u001b[0mM\u001b[0m\u001b[0;34m:\u001b[0m\u001b[0;34m\u001b[0m\u001b[0m\n\u001b[0;32m----> 2\u001b[0;31m     \u001b[0;32mwhile\u001b[0m \u001b[0mmultinomialsamples\u001b[0m\u001b[0;34m[\u001b[0m\u001b[0ml\u001b[0m\u001b[0;34m]\u001b[0m \u001b[0;34m==\u001b[0m \u001b[0;36m0\u001b[0m\u001b[0;34m:\u001b[0m\u001b[0;34m\u001b[0m\u001b[0m\n\u001b[0m\u001b[1;32m      3\u001b[0m         \u001b[0ml\u001b[0m \u001b[0;34m+=\u001b[0m\u001b[0;36m1\u001b[0m\u001b[0;34m\u001b[0m\u001b[0m\n\u001b[1;32m      4\u001b[0m     \u001b[0ml\u001b[0m \u001b[0;34m+=\u001b[0m\u001b[0;36m1\u001b[0m\u001b[0;34m\u001b[0m\u001b[0m\n\u001b[1;32m      5\u001b[0m     \u001b[0;32mprint\u001b[0m \u001b[0ml\u001b[0m\u001b[0;34m\u001b[0m\u001b[0m\n",
      "\u001b[0;31mIndexError\u001b[0m: index 1000 is out of bounds for axis 0 with size 1000"
     ]
    }
   ],
   "source": [
    "while j< M:\n",
    "    while multinomialsamples[l] == 0:\n",
    "        l +=1\n",
    "    l +=1\n",
    "    print l\n",
    "    smoother[T-1,j] = X[T,l]\n",
    "    j +=1"
   ]
  },
  {
   "cell_type": "code",
   "execution_count": 23,
   "metadata": {
    "collapsed": false
   },
   "outputs": [
    {
     "data": {
      "text/plain": [
       "array([-5.18788613, -5.18788613, -5.18788613, -5.18788613, -5.18788613,\n",
       "       -5.18788613, -5.18788613, -5.18788613, -5.18788613, -5.18788613,\n",
       "       -5.18788613, -5.18788613, -5.18788613, -5.18788613, -5.18788613,\n",
       "       -5.18788613, -5.18788613, -5.18788613, -5.18788613, -5.18788613,\n",
       "       -5.18788613, -5.18788613, -5.18788613, -5.18788613, -5.18788613,\n",
       "       -5.18788613, -5.18788613, -5.18788613, -5.18788613, -5.18788613])"
      ]
     },
     "execution_count": 23,
     "metadata": {},
     "output_type": "execute_result"
    }
   ],
   "source": [
    "smoother[T-1]"
   ]
  },
  {
   "cell_type": "code",
   "execution_count": 98,
   "metadata": {
    "collapsed": false
   },
   "outputs": [
    {
     "data": {
      "text/plain": [
       "(1000,)"
      ]
     },
     "execution_count": 98,
     "metadata": {},
     "output_type": "execute_result"
    }
   ],
   "source": [
    "np.random.multinomial(1, W[T-1]).shape"
   ]
  },
  {
   "cell_type": "code",
   "execution_count": 72,
   "metadata": {
    "collapsed": false
   },
   "outputs": [],
   "source": [
    "l = np.zeros(1)"
   ]
  },
  {
   "cell_type": "code",
   "execution_count": 76,
   "metadata": {
    "collapsed": false
   },
   "outputs": [
    {
     "data": {
      "text/plain": [
       "0"
      ]
     },
     "execution_count": 76,
     "metadata": {},
     "output_type": "execute_result"
    }
   ],
   "source": [
    "l"
   ]
  },
  {
   "cell_type": "code",
   "execution_count": null,
   "metadata": {
    "collapsed": true
   },
   "outputs": [],
   "source": []
  }
 ],
 "metadata": {
  "kernelspec": {
   "display_name": "Python 2",
   "language": "python",
   "name": "python2"
  },
  "language_info": {
   "codemirror_mode": {
    "name": "ipython",
    "version": 2
   },
   "file_extension": ".py",
   "mimetype": "text/x-python",
   "name": "python",
   "nbconvert_exporter": "python",
   "pygments_lexer": "ipython2",
   "version": "2.7.11"
  }
 },
 "nbformat": 4,
 "nbformat_minor": 0
}
