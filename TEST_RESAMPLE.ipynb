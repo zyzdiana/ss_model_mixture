{
 "cells": [
  {
   "cell_type": "code",
   "execution_count": 2,
   "metadata": {
    "collapsed": false
   },
   "outputs": [
    {
     "name": "stdout",
     "output_type": "stream",
     "text": [
      "The autoreload extension is already loaded. To reload it, use:\n",
      "  %reload_ext autoreload\n"
     ]
    }
   ],
   "source": [
    "%load_ext autoreload\n",
    "%autoreload 2\n",
    "%reload_ext autoreload"
   ]
  },
  {
   "cell_type": "code",
   "execution_count": 3,
   "metadata": {
    "collapsed": true
   },
   "outputs": [],
   "source": [
    "#!python\n",
    "from numpy import *\n",
    "from numpy.random import *\n",
    "%matplotlib inline\n",
    "import os\n",
    "import time\n",
    "import numpy as np\n",
    "import pandas as pd\n",
    "import sys\n",
    "import cPickle as pickle\n",
    "from   random import *\n",
    "import scipy.stats\n",
    "import matplotlib.pyplot as plt\n",
    "import pyparticleest.utils.kalman as kalman\n",
    "\n",
    "import numpy as np\n",
    "import scipy as sp\n",
    "import scipy.special\n",
    "import scipy.linalg\n",
    "\n",
    "import os\n",
    "os.getcwd()\n",
    "import sys\n",
    "\n",
    "sys.path.insert(1,'/Users/zyzrdfz/Documents/ss_model_mixture/Cython_Code')\n",
    "from fastloop import resample"
   ]
  },
  {
   "cell_type": "markdown",
   "metadata": {},
   "source": [
    "# Exact Result by Kalman Filter"
   ]
  },
  {
   "cell_type": "code",
   "execution_count": 72,
   "metadata": {
    "collapsed": true
   },
   "outputs": [],
   "source": [
    "def KalFilt(y,sigma2v,sigma2e,xbar0,sigma20):\n",
    "    \n",
    "    # signal length\n",
    "    K = y.shape[0]\n",
    "    \n",
    "    #filter data structures\n",
    "    xprior = zeros(K,dtype=float) # one-step prediction: xprior[k] = x_{k|k-1}\n",
    "    s2prior = zeros(K,dtype=float) # \\sigma^2_{k|k-1}\n",
    "    \n",
    "    xpost = zeros(K,dtype=float) # posterior at time k: xpost[k] = x_{k|k}\n",
    "    s2post = zeros(K,dtype=float) # \\sigma^2_{k|k}\n",
    "\n",
    "    for k in range(K):\n",
    "        \n",
    "        if k == 1:\n",
    "            xprior[k] = xbar0\n",
    "            s2prior[k] = sigma20 + sigma2e\n",
    "        else:\n",
    "            xprior[k] = xpost[k-1]\n",
    "            s2prior[k] = s2post[k-1] + sigma2e\n",
    "        \n",
    "        ck = s2prior[k]/(sigma2v + s2prior[k])\n",
    "        \n",
    "        xpost[k] = xprior[k] + ck*(y[k]-xprior[k])\n",
    "        \n",
    "        s2post[k] = 1.0/(1.0/sigma2v + 1.0/s2prior[k])\n",
    "        \n",
    "    v = (sigma2v + s2prior)\n",
    "    #llhd = sum(log(normpdf(y,xprior, v**0.5 )))\n",
    "    llhd = -K/2. * np.log(2*np.pi) - .5*np.sum(np.log(v)) - .5 * np.sum((y - xprior)**2 / v)\n",
    "\n",
    "    return (xpost,s2post,llhd,)\n",
    "    return (xpost,s2post)\n",
    "    return llhd"
   ]
  },
  {
   "cell_type": "code",
   "execution_count": 73,
   "metadata": {
    "collapsed": true
   },
   "outputs": [],
   "source": [
    "[x_map, U, marginal_loglikelihood, joint_loglikelihood] = Do_Kalman_Likelihood(Y, sigma2v, Q)"
   ]
  },
  {
   "cell_type": "code",
   "execution_count": 78,
   "metadata": {
    "collapsed": false
   },
   "outputs": [
    {
     "data": {
      "text/plain": [
       "array([  9.90099010e-03,   9.90099010e-03,   9.70779536e-03,\n",
       "         9.42950549e-03,   9.07847150e-03,   8.66905634e-03,\n",
       "         8.21635671e-03,   6.63106687e-02,   1.26229964e-01,\n",
       "         1.17513433e-01,   1.08904248e-01,   1.77395366e-01,\n",
       "         2.43137698e-01,   5.53083467e-01,   5.90923544e-01,\n",
       "         7.12783346e-01,   1.09002564e+00,   1.26048483e+00,\n",
       "         1.59811153e+00,   1.63474189e+00,   2.21942181e+00,\n",
       "         2.47645695e+00,   2.89678778e+00,   3.09305220e+00,\n",
       "         3.55254746e+00,   4.34583831e+00,   4.12502892e+00,\n",
       "         5.05631787e+00,   5.42882052e+00,   5.57741718e+00,\n",
       "         5.80677680e+00,   6.01459987e+00,   6.20286245e+00,\n",
       "         6.46824940e+00,   6.23395641e+00,   6.40165875e+00,\n",
       "         6.45849478e+00,   6.31991753e+00,   6.00441251e+00,\n",
       "         5.62379124e+00,   5.46942723e+00,   5.51987144e+00,\n",
       "         5.37535592e+00,   5.33966278e+00,   5.02206916e+00,\n",
       "         4.54445793e+00,   4.20735678e+00,   3.99741536e+00,\n",
       "         3.71232339e+00,   3.54945603e+00,   3.40207695e+00,\n",
       "         3.07847765e+00,   2.78565476e+00,   2.61580258e+00,\n",
       "         2.55722670e+00,   2.31397848e+00,   2.18898965e+00,\n",
       "         1.98076664e+00,   1.98259618e+00,   1.98425170e+00,\n",
       "         1.79550213e+00,   1.81495479e+00,   1.64230871e+00,\n",
       "         1.67633385e+00,   1.51687357e+00,   1.46770622e+00,\n",
       "         1.42321586e+00,   1.47808225e+00,   1.62285421e+00,\n",
       "         1.56360537e+00,   1.41486777e+00,   1.28027876e+00,\n",
       "         1.25361729e+00,   1.13436715e+00,   1.02646064e+00,\n",
       "         9.28818708e-01,   8.40464943e-01,   7.60515812e-01,\n",
       "         6.88171828e-01,   6.22709554e-01,   5.63474369e-01,\n",
       "         5.09873923e-01,   4.61372213e-01,   4.17484223e-01,\n",
       "         3.77771072e-01,   3.41835631e-01,   3.09318546e-01,\n",
       "         2.79894645e-01,   2.53269690e-01,   2.29177431e-01,\n",
       "         2.07376946e-01,   1.87650231e-01,   1.69800018e-01,\n",
       "         1.53647805e-01,   1.39032069e-01,   1.25806655e-01,\n",
       "         1.13839307e-01,   1.03010352e-01,   9.32115000e-02,\n",
       "         8.43447634e-02,   7.63214744e-02,   6.90614001e-02,\n",
       "         6.24919398e-02,   5.65473989e-02,   5.11683320e-02,\n",
       "         4.63009485e-02,   4.18965743e-02,   3.79111660e-02,\n",
       "         3.43048693e-02,   3.10416213e-02,   2.80887895e-02,\n",
       "         2.54168456e-02,   2.29990701e-02,   2.08112854e-02,\n",
       "         1.88316135e-02,   1.70402577e-02,   1.54193045e-02,\n",
       "         1.39525444e-02,   1.26253097e-02,   1.14243281e-02,\n",
       "         1.03375898e-02,   9.35422735e-03,   8.46440720e-03,\n",
       "         7.65923113e-03,   1.02055569e-01,   9.23475413e-02,\n",
       "         8.35629886e-02,   7.56140658e-02,   6.84212837e-02,\n",
       "         6.19127144e-02,   5.60232723e-02,   5.06940629e-02,\n",
       "         4.58717941e-02,   4.15082433e-02,   3.75597749e-02,\n",
       "         3.39869042e-02,   3.07539026e-02,   2.78284400e-02,\n",
       "         2.51812618e-02,   2.27858963e-02,   1.15743312e-01,\n",
       "         1.04733238e-01,   1.89895419e-01,   1.71831632e-01,\n",
       "         1.55486162e-01,   1.40695553e-01,   3.17561743e-01,\n",
       "         3.82478629e-01,   4.41220301e-01,   6.84624020e-01,\n",
       "         7.14624136e-01,   9.32020337e-01,   1.22386166e+00,\n",
       "         1.39281668e+00,   1.73594971e+00,   1.95131732e+00,\n",
       "         2.52669779e+00,   3.04734524e+00,   3.32821629e+00,\n",
       "         3.58236951e+00,   4.19284611e+00,   4.36475148e+00,\n",
       "         4.13980468e+00,   4.31675561e+00,   4.28662426e+00,\n",
       "         3.87885946e+00,   4.17575771e+00,   4.44441354e+00,\n",
       "         4.49726366e+00,   4.83046118e+00,   4.75146362e+00,\n",
       "         4.58485578e+00,   4.43409650e+00,   4.39280311e+00,\n",
       "         4.07006297e+00,   3.87314840e+00,   3.69496530e+00,\n",
       "         3.62885678e+00,   3.37878698e+00,   3.15250506e+00,\n",
       "         3.13799803e+00,   3.02974605e+00,   3.02691646e+00,\n",
       "         2.73898127e+00,   2.47843589e+00,   2.81342440e+00,\n",
       "         2.64092255e+00,   2.48482992e+00,   2.53383543e+00,\n",
       "         2.48305438e+00,   2.34197895e+00,   2.30944823e+00,\n",
       "         2.08976214e+00,   2.08122353e+00,   1.97837222e+00,\n",
       "         1.79017972e+00,   1.61988901e+00,   1.56092212e+00,\n",
       "         1.50756445e+00,   1.36415750e+00,   1.23439212e+00,\n",
       "         1.11697067e+00,   1.01071892e+00,   9.14574361e-01,\n",
       "         8.27575546e-01,   7.48852487e-01,   6.77617952e-01,\n",
       "         6.13159598e-01,   5.54832839e-01,   5.02054408e-01,\n",
       "         5.49421444e-01,   4.97157772e-01,   4.49865678e-01,\n",
       "         4.07072240e-01,   3.68349525e-01,   3.33310305e-01,\n",
       "         3.01604188e-01,   2.72914114e-01,   2.46953180e-01,\n",
       "         2.23461778e-01,   2.02204994e-01,   1.82970259e-01,\n",
       "         1.65565228e-01,   1.49815848e-01,   1.35564627e-01,\n",
       "         1.22669053e-01,   1.11000169e-01,   1.00441286e-01,\n",
       "         1.86011739e-01,   1.68317387e-01,   1.52306208e-01,\n",
       "         1.37818092e-01,   1.24708157e-01,   2.07970225e-01,\n",
       "         1.88187074e-01,   1.70285793e-01,   1.54087370e-01,\n",
       "         1.39429821e-01,   1.26166570e-01,   1.14164985e-01,\n",
       "         1.03305050e-01,   9.34781651e-02,   8.45860619e-02,\n",
       "         7.65398194e-02,   6.92589750e-02,   6.26707204e-02,\n",
       "         5.67091730e-02,   5.13147174e-02,   4.64334089e-02,\n",
       "         4.20164345e-02,   3.80196244e-02,   3.44030106e-02,\n",
       "         3.11304269e-02,   2.81691475e-02,   2.54895595e-02,\n",
       "         2.30648672e-02,   2.08708235e-02,   1.88854880e-02,\n",
       "         1.70890075e-02,   1.54634170e-02,   1.39924606e-02,\n",
       "         1.26614289e-02,   1.14570115e-02,   1.03671641e-02,\n",
       "         9.38098846e-03,   8.48862267e-03,   7.68114310e-03,\n",
       "         6.95047496e-03,   6.28931157e-03,   1.00815963e-01,\n",
       "         1.86350775e-01,   2.63749094e-01,   4.28909826e-01,\n",
       "         6.73484578e-01,   1.27529386e+00,   1.34423148e+00,\n",
       "         1.78711110e+00,   1.90248706e+00,   2.00688789e+00,\n",
       "         2.00623268e+00,   2.38613949e+00,   2.53965784e+00,\n",
       "         2.58344785e+00,   3.00357203e+00,   3.28860701e+00,\n",
       "         3.73677790e+00,   4.14231657e+00,   4.50927840e+00,\n",
       "         4.74620810e+00,   4.58010019e+00,   4.42979328e+00,\n",
       "         4.48403415e+00,   4.34286552e+00,   4.02487570e+00,\n",
       "         4.02250940e+00,   4.02036820e+00,   4.11355559e+00,\n",
       "         4.19787855e+00,   4.08393045e+00,   3.98082165e+00])"
      ]
     },
     "execution_count": 78,
     "metadata": {},
     "output_type": "execute_result"
    }
   ],
   "source": [
    "xpost"
   ]
  },
  {
   "cell_type": "code",
   "execution_count": null,
   "metadata": {
    "collapsed": true
   },
   "outputs": [],
   "source": []
  },
  {
   "cell_type": "code",
   "execution_count": 4,
   "metadata": {
    "collapsed": true
   },
   "outputs": [],
   "source": [
    "mat = np.loadtxt('train_data.txt')\n",
    "Y = mat[19,1:]\n",
    "T = len(Y)"
   ]
  },
  {
   "cell_type": "code",
   "execution_count": 15,
   "metadata": {
    "collapsed": true
   },
   "outputs": [],
   "source": [
    "sigma2v = 5.0"
   ]
  },
  {
   "cell_type": "code",
   "execution_count": 16,
   "metadata": {
    "collapsed": false,
    "scrolled": true
   },
   "outputs": [
    {
     "name": "stdout",
     "output_type": "stream",
     "text": [
      "[ 0.01  0.02  0.03  0.04  0.05  0.06  0.07  0.08  0.09  0.1   0.11  0.12\n",
      "  0.13  0.14  0.15  0.16  0.17  0.18  0.19  0.2   0.21  0.22  0.23  0.24\n",
      "  0.25  0.26  0.27  0.28  0.29  0.3   0.31  0.32  0.33  0.34  0.35  0.36\n",
      "  0.37  0.38  0.39  0.4   0.41  0.42  0.43  0.44  0.45  0.46  0.47  0.48\n",
      "  0.49  0.5 ]\n"
     ]
    }
   ],
   "source": [
    "sigma2e = np.arange(0.01, 0.51, 0.01)\n",
    "print sigma2e"
   ]
  },
  {
   "cell_type": "code",
   "execution_count": 43,
   "metadata": {
    "collapsed": false
   },
   "outputs": [],
   "source": [
    "loglikelihood = np.empty(len(sigma2e))\n",
    "for i in range(len(sigma2e)): \n",
    "    sigma = sigma2e[i]\n",
    "    [xpost, s2post, llhdKal] = KalFilt(Y, sigma2v, sigma, 0.0, 0)\n",
    "    loglikelihood[i] = llhdKal"
   ]
  },
  {
   "cell_type": "code",
   "execution_count": 92,
   "metadata": {
    "collapsed": false
   },
   "outputs": [
    {
     "data": {
      "text/plain": [
       "<matplotlib.legend.Legend at 0x108e3da50>"
      ]
     },
     "execution_count": 92,
     "metadata": {},
     "output_type": "execute_result"
    },
    {
     "data": {
      "image/png": "[encoded data removed]",
      "text/plain": [
       "<matplotlib.figure.Figure at 0x10be86790>"
      ]
     },
     "metadata": {},
     "output_type": "display_data"
    }
   ],
   "source": [
    "plt.plot(loglikelihood,'g-',linewidth=2.0, label='Kalman')\n",
    "plt.plot(loglikelihood_withresampling,'b-',linewidth=2.0, label='Resampling')\n",
    "plt.plot(loglikelihood_withoutresampling,'r-',linewidth=2.0, label='Without-Resampling')\n",
    "plt.plot(loglikelihood_oldpf,'y-',linewidth=2.0, label='Old-PF')\n",
    "plt.legend(loc='best')"
   ]
  },
  {
   "cell_type": "code",
   "execution_count": null,
   "metadata": {
    "collapsed": true
   },
   "outputs": [],
   "source": []
  },
  {
   "cell_type": "markdown",
   "metadata": {},
   "source": [
    "# PF with Resampling"
   ]
  },
  {
   "cell_type": "code",
   "execution_count": 12,
   "metadata": {
    "collapsed": false
   },
   "outputs": [],
   "source": [
    "# def resample(weights):\n",
    "#     n = len(weights)\n",
    "#     indices = []\n",
    "#     C = [0.] + [sum(weights[:i+1]) for i in range(n)]\n",
    "#     u0, j = random(), 0\n",
    "#     for u in [(u0+i)/n for i in range(n)]:\n",
    "#         while u > C[j]:\n",
    "#             j+=1\n",
    "#         indices.append(j-1)\n",
    "#     return indices"
   ]
  },
  {
   "cell_type": "code",
   "execution_count": null,
   "metadata": {
    "collapsed": false
   },
   "outputs": [],
   "source": []
  },
  {
   "cell_type": "code",
   "execution_count": 6,
   "metadata": {
    "collapsed": true
   },
   "outputs": [],
   "source": [
    "def gaussian(X, Q):\n",
    "    #log-pdf of p(x_t|x_{t-1})\n",
    "    return -0.5 * (l2pi + np.log(Q) + (X ** 2) / Q)"
   ]
  },
  {
   "cell_type": "code",
   "execution_count": 7,
   "metadata": {
    "collapsed": true
   },
   "outputs": [],
   "source": [
    "def Do_Kalman_Likelihood(y, sigma2obs, sigma2e):\n",
    "    \"\"\"MAP solution, inverse covariance matrix, and marginal loglikelihood of state-space model\n",
    "\n",
    "    :param y: Observations (K,)\n",
    "    :param sigma2obs: Variance of observation noise (can be scalar or vector)\n",
    "    :param sigma2e: Variance of process noise\n",
    "    :return: x_map, L, marginal_loglikelihood, joint_loglikelihood\n",
    "    \"\"\"\n",
    "    # Build diagonals of information matrix\n",
    "    sigma2obs *= np.ones(len(y))\n",
    "    D = 1. / sigma2obs + 2. / sigma2e\n",
    "    D[-1] = 1. / sigma2obs[-1] + 1. / sigma2e\n",
    "    B = -np.ones(len(D)) / sigma2e\n",
    "    B[0] = 0.\n",
    "    \n",
    "    # Solve, assuming x_init=0 for simplicity\n",
    "    #L = sp.linalg.cholesky_banded((D, B), lower=True)\n",
    "    U = sp.linalg.cholesky_banded((B, D), lower=False)\n",
    "\n",
    "    x_map = sp.linalg.cho_solve_banded([U, False], y / sigma2obs)\n",
    "\n",
    "    # Compute joint and marginal probabilities\n",
    "    joint_loglikelihood = -.5 * ((np.sum(np.diff(x_map)**2) + x_map[0]**2) / sigma2e +\n",
    "                                 np.sum((y - x_map)**2 / sigma2obs) +\n",
    "                                 (len(y) * np.log(2*np.pi*sigma2e * 2*np.pi) + np.sum(np.log(sigma2obs))))\n",
    "    marginal_loglikelihood = len(y)/2. * np.log(2*np.pi) + joint_loglikelihood - np.sum(np.log(U[-1]))\n",
    "    return x_map, U, marginal_loglikelihood, joint_loglikelihood"
   ]
  },
  {
   "cell_type": "code",
   "execution_count": 64,
   "metadata": {
    "collapsed": true
   },
   "outputs": [],
   "source": [
    "# Forward particles\n",
    "N = 5000\n",
    "#\n",
    "l2pi = math.log(2 * math.pi)\n"
   ]
  },
  {
   "cell_type": "code",
   "execution_count": 65,
   "metadata": {
    "collapsed": false
   },
   "outputs": [],
   "source": [
    "loglikelihood_withresampling = np.empty(len(sigma2e))"
   ]
  },
  {
   "cell_type": "code",
   "execution_count": 66,
   "metadata": {
    "collapsed": false
   },
   "outputs": [],
   "source": [
    "def filtering_auxiliary(Y, Q, mode, variance, sigma2v):\n",
    "    samples = np.random.normal(0,1,[T+1,N])\n",
    "    w = np.empty([T,N])\n",
    "    z = np.empty([T,N])\n",
    "    W = np.empty([T,N])\n",
    "    X = np.reshape (np.repeat(mode,N),[T+1,N]) + samples * np.reshape (np.repeat(np.sqrt(variance),N),[T+1,N])\n",
    "    ancestor = np.empty([T+1,N])\n",
    "    ancestor[0,:] = X[0,:]\n",
    "    \n",
    "    t = 0\n",
    "    w[t,:] = gaussian(Y[t]-X[t+1,:], sigma2v) + gaussian(X[t+1,:], Q) - gaussian(X[t+1,:]-mode[t+1], variance[t+1])\n",
    "    z[t,:] = w[t,:] + gaussian(Y[t+1]-X[t+1,:], sigma2v)\n",
    "    W[t,:] = np.exp(z[t,:] - np.max(z[t,:])) \n",
    "    W[t,:] = W[t,:]/ np.sum(W[t,:])\n",
    "    ancestor[:t+1,:]= X[:t+1,resample(W[t,:])]\n",
    "        \n",
    "    for tt in range(T-2):\n",
    "        t = tt+1\n",
    "        X[:t,:] = ancestor[:t,:]\n",
    "        w[t,:] = gaussian(Y[t]-X[t+1,:], sigma2v) + gaussian(X[t+1,:]-ancestor[t,:], Q) - gaussian(X[t+1,:]-mode[t+1], variance[t+1])\n",
    "        z[t,:] = w[t,:] + gaussian(Y[t+1]-X[t+1,:], sigma2v) - gaussian(Y[t]-ancestor[t,:], sigma2v)\n",
    "        W[t,:] = np.exp(z[t,:] - np.max(z[t,:])) \n",
    "        W[t,:] = W[t,:]/ np.sum(W[t,:])\n",
    "        ancestor[:t+1,:]= X[:t+1,resample(W[t,:])]\n",
    "    \n",
    "    t = T-1\n",
    "    X[:t,:] = ancestor[:t,:]\n",
    "    w[t,:] = gaussian(Y[t]-X[t+1,:], sigma2v) + gaussian(X[t+1,:]-ancestor[t,:], Q) - gaussian(X[t+1,:]-mode[t+1], variance[t+1])\n",
    "    W[t,:] = np.exp(w[t,:] - np.max(w[t,:])) \n",
    "    W[t,:] = W[t,:]/ np.sum(W[t,:])\n",
    "    ancestor[:t+1,:]= X[:t+1,resample(W[t,:])]\n",
    "    \n",
    "    return X, w, W, ancestor, z"
   ]
  },
  {
   "cell_type": "code",
   "execution_count": 67,
   "metadata": {
    "collapsed": false
   },
   "outputs": [],
   "source": [
    "def filtering(Y, Q, mode, variance, sigma2v):\n",
    "    samples = np.random.normal(0,1,[T+1,N])\n",
    "    w = np.empty([T,N])\n",
    "    W = np.empty([T,N])\n",
    "    X = np.reshape (np.repeat(mode,N),[T+1,N]) + samples * np.reshape (np.repeat(np.sqrt(variance),N),[T+1,N])\n",
    "    ancestor = np.empty([T+1,N])\n",
    "    ancestor[0,:] = X[0,:]\n",
    "    for t in range(T):\n",
    "        w[t,:] = gaussian(Y[t]-X[t+1,:], sigma2v) + gaussian(X[t+1,:]-ancestor[t,:], Q) - gaussian(X[t+1,:]-mode[t+1], variance[t+1])\n",
    "        W[t,:] = np.exp(w[t,:] - np.max(w[t,:])) \n",
    "        W[t,:] = W[t,:]/ np.sum(W[t,:])\n",
    "        ancestor[t+1,:]= X[t+1,resample(W[t,:])]\n",
    "        \n",
    "    return X, w, W, ancestor"
   ]
  },
  {
   "cell_type": "code",
   "execution_count": 70,
   "metadata": {
    "collapsed": false
   },
   "outputs": [],
   "source": [
    "for i in range(len(sigma2e)):\n",
    "    Q = sigma2e[i]\n",
    "    #[x_map, U, marginal_loglikelihood, joint_loglikelihood] = Do_Kalman_Likelihood(Y, sigma2v, Q) \n",
    "    [xpost, s2post, llhdKal] = KalFilt(Y, sigma2v, Q, 0.0, 0.0)\n",
    "    mode = np.empty(T+1)\n",
    "    variance = np.empty(T+1)\n",
    "    mode[0] = 0\n",
    "    variance[0] = 0\n",
    "    for t in range(T):\n",
    "        mode[t+1] = xpost[t]\n",
    "        variance[t+1] = s2post[t]\n",
    "        \n",
    "    [X, w, W, ancestor] = filtering(Y, Q, mode, variance, sigma2v)    \n",
    "    maxlogweight = np.max(w, axis=1)\n",
    "    weight = np.exp(w - np.reshape(np.repeat(maxlogweight, N),(T, N)))\n",
    "    loglikelihood_withresampling[i] = np.sum(np.log(np.sum(weight, axis = 1)/N))+np.sum(maxlogweight)"
   ]
  },
  {
   "cell_type": "code",
   "execution_count": 71,
   "metadata": {
    "collapsed": false
   },
   "outputs": [
    {
     "data": {
      "text/plain": [
       "array([-633.45680978])"
      ]
     },
     "execution_count": 71,
     "metadata": {},
     "output_type": "execute_result"
    }
   ],
   "source": [
    "loglikelihood_withresampling"
   ]
  },
  {
   "cell_type": "code",
   "execution_count": null,
   "metadata": {
    "collapsed": true
   },
   "outputs": [],
   "source": []
  },
  {
   "cell_type": "code",
   "execution_count": null,
   "metadata": {
    "collapsed": false
   },
   "outputs": [],
   "source": []
  },
  {
   "cell_type": "code",
   "execution_count": 216,
   "metadata": {
    "collapsed": false
   },
   "outputs": [
    {
     "name": "stdout",
     "output_type": "stream",
     "text": [
      "-1.89012298295\n"
     ]
    }
   ],
   "source": [
    "maxlogweight = np.max(w[T-1,:])\n",
    "weight = np.exp(w[T-1,:] - maxlogweight)\n",
    "print np.sum(np.log(np.sum(weight)/N))+np.sum(maxlogweight)"
   ]
  },
  {
   "cell_type": "code",
   "execution_count": 49,
   "metadata": {
    "collapsed": false
   },
   "outputs": [
    {
     "ename": "NameError",
     "evalue": "name 'xpost' is not defined",
     "output_type": "error",
     "traceback": [
      "\u001b[0;31m---------------------------------------------------------------------------\u001b[0m",
      "\u001b[0;31mNameError\u001b[0m                                 Traceback (most recent call last)",
      "\u001b[0;32m<ipython-input-49-8cc37f763e49>\u001b[0m in \u001b[0;36m<module>\u001b[0;34m()\u001b[0m\n\u001b[1;32m      2\u001b[0m \u001b[0mvariance\u001b[0m\u001b[0;34m[\u001b[0m\u001b[0;36m0\u001b[0m\u001b[0;34m]\u001b[0m \u001b[0;34m=\u001b[0m \u001b[0msigma2e\u001b[0m\u001b[0;34m\u001b[0m\u001b[0m\n\u001b[1;32m      3\u001b[0m \u001b[0;32mfor\u001b[0m \u001b[0mt\u001b[0m \u001b[0;32min\u001b[0m \u001b[0mrange\u001b[0m\u001b[0;34m(\u001b[0m\u001b[0mT\u001b[0m\u001b[0;34m)\u001b[0m\u001b[0;34m:\u001b[0m\u001b[0;34m\u001b[0m\u001b[0m\n\u001b[0;32m----> 4\u001b[0;31m     \u001b[0mmode\u001b[0m\u001b[0;34m[\u001b[0m\u001b[0mt\u001b[0m\u001b[0;34m+\u001b[0m\u001b[0;36m1\u001b[0m\u001b[0;34m]\u001b[0m \u001b[0;34m=\u001b[0m \u001b[0mxpost\u001b[0m\u001b[0;34m[\u001b[0m\u001b[0mt\u001b[0m\u001b[0;34m]\u001b[0m\u001b[0;34m\u001b[0m\u001b[0m\n\u001b[0m\u001b[1;32m      5\u001b[0m     \u001b[0mvariance\u001b[0m\u001b[0;34m[\u001b[0m\u001b[0mt\u001b[0m\u001b[0;34m+\u001b[0m\u001b[0;36m1\u001b[0m\u001b[0;34m]\u001b[0m \u001b[0;34m=\u001b[0m \u001b[0ms2post\u001b[0m\u001b[0;34m[\u001b[0m\u001b[0mt\u001b[0m\u001b[0;34m]\u001b[0m\u001b[0;34m\u001b[0m\u001b[0m\n\u001b[1;32m      6\u001b[0m \u001b[0;34m[\u001b[0m\u001b[0mX\u001b[0m\u001b[0;34m,\u001b[0m \u001b[0mw\u001b[0m\u001b[0;34m,\u001b[0m \u001b[0mW\u001b[0m\u001b[0;34m,\u001b[0m \u001b[0mancestor\u001b[0m\u001b[0;34m]\u001b[0m \u001b[0;34m=\u001b[0m \u001b[0mfiltering\u001b[0m\u001b[0;34m(\u001b[0m\u001b[0mY\u001b[0m\u001b[0;34m,\u001b[0m \u001b[0mQ\u001b[0m\u001b[0;34m,\u001b[0m \u001b[0mmode\u001b[0m\u001b[0;34m,\u001b[0m \u001b[0mvariance\u001b[0m\u001b[0;34m)\u001b[0m\u001b[0;34m\u001b[0m\u001b[0m\n",
      "\u001b[0;31mNameError\u001b[0m: name 'xpost' is not defined"
     ]
    }
   ],
   "source": [
    "mode[0] = 0\n",
    "variance[0] = sigma2e\n",
    "for t in range(T):\n",
    "    mode[t+1] = xpost[t]\n",
    "    variance[t+1] = s2post[t]\n",
    "[X, w, W, ancestor] = filtering(Y, Q, mode, variance)\n",
    "maxlogweight = np.max(w, axis=1)\n",
    "weight = np.exp(w - np.reshape(np.repeat(maxlogweight, N),(T, N)))\n",
    "loglikelihood_withresampling[i] = np.sum(np.log(np.sum(weight, axis = 1)/N))+np.sum(maxlogweight)"
   ]
  },
  {
   "cell_type": "code",
   "execution_count": 113,
   "metadata": {
    "collapsed": false
   },
   "outputs": [
    {
     "data": {
      "text/plain": [
       "array([-633.43191644])"
      ]
     },
     "execution_count": 113,
     "metadata": {},
     "output_type": "execute_result"
    }
   ],
   "source": [
    "loglikelihood_withresampling"
   ]
  },
  {
   "cell_type": "code",
   "execution_count": 43,
   "metadata": {
    "collapsed": false
   },
   "outputs": [
    {
     "name": "stdout",
     "output_type": "stream",
     "text": [
      "6.4910063733e-09\n",
      "0.00025\n"
     ]
    }
   ],
   "source": [
    "print 1.0/np.sum(w[200,:]**2)\n",
    "print 1.0/(4*1000)"
   ]
  },
  {
   "cell_type": "code",
   "execution_count": 41,
   "metadata": {
    "collapsed": false
   },
   "outputs": [
    {
     "data": {
      "text/plain": [
       "<matplotlib.legend.Legend at 0x1127f5e10>"
      ]
     },
     "execution_count": 41,
     "metadata": {},
     "output_type": "execute_result"
    },
    {
     "data": {
      "image/png": "[encoded data removed]",
      "text/plain": [
       "<matplotlib.figure.Figure at 0x11273fd50>"
      ]
     },
     "metadata": {},
     "output_type": "display_data"
    }
   ],
   "source": [
    "plt.hist(w[200,:],10000,label='New PF')\n",
    "plt.xlim([-10,0])\n",
    "plt.legend(loc='best')"
   ]
  },
  {
   "cell_type": "code",
   "execution_count": 39,
   "metadata": {
    "collapsed": false
   },
   "outputs": [
    {
     "data": {
      "text/plain": [
       "<matplotlib.legend.Legend at 0x108950790>"
      ]
     },
     "execution_count": 39,
     "metadata": {},
     "output_type": "execute_result"
    },
    {
     "data": {
      "image/png": "[encoded data removed]",
      "text/plain": [
       "<matplotlib.figure.Figure at 0x10bbf19d0>"
      ]
     },
     "metadata": {},
     "output_type": "display_data"
    }
   ],
   "source": [
    "plt.hist(w[200,:],100,label='old PF')\n",
    "#plt.xlim([-700,0])\n",
    "plt.legend(loc='best')"
   ]
  },
  {
   "cell_type": "markdown",
   "metadata": {},
   "source": [
    "# PF without Resampling"
   ]
  },
  {
   "cell_type": "code",
   "execution_count": 56,
   "metadata": {
    "collapsed": false
   },
   "outputs": [],
   "source": [
    "def filtering_withoutresampling(Y, Q, mode, variance):\n",
    "    samples = np.random.normal(0,1,[T+1,N])\n",
    "    X = np.reshape (np.repeat(mode,N),[T+1,N]) + samples * np.reshape (np.repeat(np.sqrt(variance),N),[T+1,N])\n",
    "    #X = np.reshape (np.repeat(mode,N),[T+1,N]) + samples * np.reshape (np.repeat(np.sqrt(variance + Q),N),[T+1,N])\n",
    "    w = gaussian(np.reshape(np.repeat(Y,N),[T,N])-X[1:], sigma2v) + gaussian(np.diff(X, axis = 0), Q) - gaussian(X[1:]-np.reshape (np.repeat(mode[1:], N) ,[T,N]), np.reshape (np.repeat(variance[1:], N) ,[T,N]))\n",
    "    W = np.exp(w - np.reshape(np.repeat(np.max(w, axis =1), N), [T,N])) \n",
    "    W = W/ np.reshape(np.repeat(np.sum(W, axis =1), N), [T,N])\n",
    "    return X, w, W"
   ]
  },
  {
   "cell_type": "code",
   "execution_count": 86,
   "metadata": {
    "collapsed": false
   },
   "outputs": [],
   "source": [
    "loglikelihood_withoutresampling = np.empty(len(sigma2e))\n",
    "for i in range(len(sigma2e)):\n",
    "    Q = sigma2e[i]\n",
    "    [x_map, U, marginal_loglikelihood, joint_loglikelihood] = Do_Kalman_Likelihood(Y, sigma2v, Q) \n",
    "    mode = np.empty(T+1)\n",
    "    variance = np.empty(T+1)\n",
    "    mode[0] = 0\n",
    "    variance[0] = P0\n",
    "    for t in range(T):\n",
    "        mode[t+1] = x_map[t]\n",
    "        variance[t+1] = U[1][t]\n",
    "        \n",
    "    [X, w, W] = filtering_withoutresampling(Y, Q, mode, variance)\n",
    "    maxlogweight = np.max(w, axis=1)\n",
    "    weight = np.exp(w - np.reshape(np.repeat(maxlogweight, N),(T, N)))\n",
    "    loglikelihood_withoutresampling[i] = np.sum(np.log(np.sum(weight, axis = 1)/N))+np.sum(maxlogweight)"
   ]
  },
  {
   "cell_type": "code",
   "execution_count": null,
   "metadata": {
    "collapsed": true
   },
   "outputs": [],
   "source": []
  },
  {
   "cell_type": "markdown",
   "metadata": {},
   "source": [
    "# Old - PF"
   ]
  },
  {
   "cell_type": "code",
   "execution_count": 23,
   "metadata": {
    "collapsed": true
   },
   "outputs": [],
   "source": [
    "def filtering_old(Y, Q):\n",
    "    samples = np.random.normal(0,1,[T+1,N])\n",
    "    X[0,:] = samples[0,:] * np.sqrt(Q)\n",
    "    w = np.empty([T,N])\n",
    "    W = np.empty([T,N])\n",
    "    ancestor = np.empty([T+1,N])\n",
    "    ancestor[0,:] = X[0,:]\n",
    "    for t in range(T):\n",
    "        X[t+1,:] = ancestor[t,:] + np.sqrt(Q) * samples[t+1,:]\n",
    "        w[t,:] = gaussian(Y[t]-X[t+1,:], sigma2v)\n",
    "        W[t,:] = np.exp(w[t,:] - np.max(w[t,:])) \n",
    "        W[t,:] = W[t,:]/ np.sum(W[t,:])\n",
    "        ancestor[t+1,:]= X[t+1,resample(W[t,:])]\n",
    "        \n",
    "    return X, w, W, ancestor"
   ]
  },
  {
   "cell_type": "code",
   "execution_count": 36,
   "metadata": {
    "collapsed": false
   },
   "outputs": [],
   "source": [
    "loglikelihood_oldpf = np.empty(len(sigma2e))\n",
    "for i in range(len(sigma2e)):\n",
    "    Q = sigma2e[i]\n",
    "        \n",
    "    [X, w, W, ancestor] = filtering_old(Y, Q)\n",
    "    maxlogweight = np.max(w, axis=1)\n",
    "    weight = np.exp(w - np.reshape(np.repeat(maxlogweight, N),(T, N)))\n",
    "    loglikelihood_oldpf[i] = np.sum(np.log(np.sum(weight, axis = 1)/N))+np.sum(maxlogweight)"
   ]
  },
  {
   "cell_type": "code",
   "execution_count": null,
   "metadata": {
    "collapsed": true
   },
   "outputs": [],
   "source": []
  },
  {
   "cell_type": "code",
   "execution_count": null,
   "metadata": {
    "collapsed": false
   },
   "outputs": [],
   "source": [
    "marginal_loglikelihood"
   ]
  },
  {
   "cell_type": "markdown",
   "metadata": {},
   "source": [
    "The log-likelihood is \\begin{align*} \\log p(y{0,K}, x; \\theta) &= \\log p(y{0,K}|x; \\theta) + \\log p(x; \\theta) \\ &= \\sum\\limits{k=1}^{K} \\log p(y{k}|xk; \\sigma_v^2) + \\sum\\limits{k=1}^{K} \\log p(xk|x{k-1}; \\sigma_{\\epsilon}^2) \\ &= -\\frac{K}{2} \\log(2\\pi\\sigma{v}^2) - \\frac{1}{2\\sigma{v}^2} \\sum\\limits{k=1}^{K} (y_k - x{k-1})^2 + \\pi(x; \\theta) \\end{align*} where"
   ]
  },
  {
   "cell_type": "code",
   "execution_count": 4,
   "metadata": {
    "collapsed": true
   },
   "outputs": [],
   "source": [
    "df = pd.read_csv('thaldata.csv',header=None)\n",
    "Y = df.values.reshape(3000)\n",
    "Y = Y[500:800]\n",
    "T = len(Y)"
   ]
  },
  {
   "cell_type": "code",
   "execution_count": 5,
   "metadata": {
    "collapsed": false
   },
   "outputs": [
    {
     "name": "stdout",
     "output_type": "stream",
     "text": [
      "[ 0.05]\n"
     ]
    }
   ],
   "source": [
    "sigma2v = 5.0\n",
    "sigma2e = np.arange(0.05, 0.51, 1)\n",
    "print sigma2e"
   ]
  },
  {
   "cell_type": "code",
   "execution_count": 20,
   "metadata": {
    "collapsed": false
   },
   "outputs": [],
   "source": [
    "likelihoodxxx = np.empty(len(sigma2e))\n",
    "for i in range(len(sigma2e)):\n",
    "    Q = sigma2e[i]\n",
    "    [x_map, U, marginal_loglikelihood, joint_loglikelihood] = Do_Kalman_Likelihood(Y, sigma2v, Q)\n",
    "    likelihoodxxx[i] = marginal_loglikelihood"
   ]
  },
  {
   "cell_type": "code",
   "execution_count": 21,
   "metadata": {
    "collapsed": false
   },
   "outputs": [
    {
     "data": {
      "text/plain": [
       "[<matplotlib.lines.Line2D at 0x1084a8f90>]"
      ]
     },
     "execution_count": 21,
     "metadata": {},
     "output_type": "execute_result"
    },
    {
     "data": {
      "image/png": "[encoded data removed]",
      "text/plain": [
       "<matplotlib.figure.Figure at 0x10844bf90>"
      ]
     },
     "metadata": {},
     "output_type": "display_data"
    }
   ],
   "source": [
    "plt.plot(loglikelihood_withresampling)\n",
    "plt.ylim([-740,-600])\n",
    "plt.plot(likelihoodxxx)"
   ]
  },
  {
   "cell_type": "code",
   "execution_count": 25,
   "metadata": {
    "collapsed": false
   },
   "outputs": [
    {
     "data": {
      "text/plain": [
       "[<matplotlib.lines.Line2D at 0x10a73c3d0>]"
      ]
     },
     "execution_count": 25,
     "metadata": {},
     "output_type": "execute_result"
    },
    {
     "data": {
      "image/png": "[encoded data removed]",
      "text/plain": [
       "<matplotlib.figure.Figure at 0x10a43ffd0>"
      ]
     },
     "metadata": {},
     "output_type": "display_data"
    }
   ],
   "source": [
    "plt.plot(likelihoodxxx)\n",
    "plt.plot(loglikelihood_withresampling)\n",
    "plt.plot(loglikelihood_oldpf)"
   ]
  },
  {
   "cell_type": "code",
   "execution_count": 188,
   "metadata": {
    "collapsed": false
   },
   "outputs": [
    {
     "data": {
      "text/plain": [
       "[<matplotlib.lines.Line2D at 0x1087cced0>]"
      ]
     },
     "execution_count": 188,
     "metadata": {},
     "output_type": "execute_result"
    },
    {
     "data": {
      "image/png": "[encoded data removed]",
      "text/plain": [
       "<matplotlib.figure.Figure at 0x108a88ad0>"
      ]
     },
     "metadata": {},
     "output_type": "display_data"
    }
   ],
   "source": [
    "plt.plot(loglikelihood_withresampling)\n",
    "plt.ylim([-740,-600])\n",
    "plt.plot(likelihoodxxx)"
   ]
  },
  {
   "cell_type": "code",
   "execution_count": null,
   "metadata": {
    "collapsed": true
   },
   "outputs": [],
   "source": []
  },
  {
   "cell_type": "code",
   "execution_count": null,
   "metadata": {
    "collapsed": true
   },
   "outputs": [],
   "source": []
  },
  {
   "cell_type": "code",
   "execution_count": 34,
   "metadata": {
    "collapsed": true
   },
   "outputs": [],
   "source": [
    "import pyparticleest.models.nlg as nlg\n",
    "import pyparticleest.simulator as simulator\n",
    "import pyparticleest.utils.kalman as kalman"
   ]
  },
  {
   "cell_type": "code",
   "execution_count": 35,
   "metadata": {
    "collapsed": true
   },
   "outputs": [],
   "source": [
    "class StdNonLin(nlg.NonlinearGaussianInitialGaussian):\n",
    "    # x_{k+1} = x_k  + v_k = f(x_k) + v_k,\n",
    "    # y_k = 0 + e_k = g(x_k) + e_k,\n",
    "    # x(0) ~ N(0,P0), v_k ~ N(0,Q), e_k ~ Binom(50,\\exp(x_{k})/(1+\\exp(x_{k})))\n",
    "\n",
    "    def __init__(self, P0, Q, R):\n",
    "    # Set covariances in the constructor since they\n",
    "    # are constant\n",
    "        super(StdNonLin, self).__init__(Px0=P0, Q=Q, R=R)\n",
    "\n",
    "    def calc_g(self, particles, t):\n",
    "    # Calculate value of g(\\xi_t,t)\n",
    "         return particles\n",
    "    \n",
    "    def calc_f(self, particles, u, t):\n",
    "    # Calculate value of f(xi_t,t)\n",
    "        return particles"
   ]
  },
  {
   "cell_type": "code",
   "execution_count": 40,
   "metadata": {
    "collapsed": false
   },
   "outputs": [
    {
     "data": {
      "text/plain": [
       "70"
      ]
     },
     "execution_count": 40,
     "metadata": {},
     "output_type": "execute_result"
    }
   ],
   "source": [
    "Q = sigma2e * np.eye(1)\n",
    "R = sigma2v * np.eye(1)\n",
    "model = StdNonLin(Q, Q, R)\n",
    "sim = simulator.Simulator(model,u=None,y=Y)\n",
    "sim.simulate(N, 1, filter='APF', smoother='ancestor', meas_first=False)"
   ]
  },
  {
   "cell_type": "code",
   "execution_count": 41,
   "metadata": {
    "collapsed": true
   },
   "outputs": [],
   "source": [
    "(est_filt, w_filt) = sim.get_filtered_estimates()"
   ]
  },
  {
   "cell_type": "code",
   "execution_count": null,
   "metadata": {
    "collapsed": true
   },
   "outputs": [],
   "source": [
    "w = gaussian(Y - est_filt[1:], sigma2v) + gaussian(np.diff(est_filt, axis =1), Q) - gaussian(X[t+1,:]-mode[t+1], variance[t+1])\n",
    "W[t,:] = np.exp(w[t,:] - np.max(w[t,:])) \n",
    "        W[t,:] = W[t,:]/ np.sum(W[t,:])\n",
    "        ancestor[t+1,:]= X[t+1,resample(W[t,:])]"
   ]
  }
 ],
 "metadata": {
  "kernelspec": {
   "display_name": "Python 2",
   "language": "python",
   "name": "python2"
  },
  "language_info": {
   "codemirror_mode": {
    "name": "ipython",
    "version": 2
   },
   "file_extension": ".py",
   "mimetype": "text/x-python",
   "name": "python",
   "nbconvert_exporter": "python",
   "pygments_lexer": "ipython2",
   "version": "2.7.11"
  }
 },
 "nbformat": 4,
 "nbformat_minor": 0
}
