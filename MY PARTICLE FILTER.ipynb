{
 "cells": [
  {
   "cell_type": "code",
   "execution_count": 1,
   "metadata": {
    "collapsed": false
   },
   "outputs": [],
   "source": [
    "%load_ext autoreload\n",
    "%autoreload 2\n",
    "%reload_ext autoreload"
   ]
  },
  {
   "cell_type": "code",
   "execution_count": 2,
   "metadata": {
    "collapsed": false
   },
   "outputs": [
    {
     "name": "stderr",
     "output_type": "stream",
     "text": [
      "//anaconda/lib/python2.7/site-packages/matplotlib/__init__.py:872: UserWarning: axes.color_cycle is deprecated and replaced with axes.prop_cycle; please use the latter.\n",
      "  warnings.warn(self.msg_depr % (key, alt_key))\n"
     ]
    }
   ],
   "source": [
    "#!python\n",
    "from numpy import *\n",
    "from numpy.random import *\n",
    "%matplotlib inline\n",
    "import os\n",
    "import time\n",
    "import numpy as np\n",
    "import pandas as pd\n",
    "import sys\n",
    "import cPickle as pickle\n",
    "from   random import *\n",
    "import scipy.stats\n",
    "import matplotlib.pyplot as plt\n",
    "sys.path.insert(1,'./code')\n",
    "from visualize import plot_raw_data, get_population_data, plot_results\n",
    "from EM import TransformToProb, RunEM\n",
    "import pyparticleest.models.nlg as nlg\n",
    "import pyparticleest.simulator as simulator\n",
    "import pyparticleest.utils.kalman as kalman\n",
    "from scipy.stats import bernoulli\n",
    "import pyparticleest.interfaces as interfaces\n",
    "from scipy.optimize import newton"
   ]
  },
  {
   "cell_type": "code",
   "execution_count": 3,
   "metadata": {
    "collapsed": true
   },
   "outputs": [],
   "source": [
    "mat = np.loadtxt('train_data.txt')\n",
    "Y = mat[0,1:]\n",
    "T = len(Y)"
   ]
  },
  {
   "cell_type": "code",
   "execution_count": 30,
   "metadata": {
    "collapsed": true
   },
   "outputs": [],
   "source": [
    "# Forward particles\n",
    "N = 100\n",
    "# Backward trajectories\n",
    "M = 10\n",
    "# \n",
    "P0 = 0.1\n",
    "Q = 0.1\n",
    "#trial\n",
    "trial = 50\n",
    "#\n",
    "coefficient = scipy.special.binom(trial,Y)\n",
    "#\n",
    "l2pi = math.log(2 * math.pi)"
   ]
  },
  {
   "cell_type": "code",
   "execution_count": 5,
   "metadata": {
    "collapsed": false
   },
   "outputs": [
    {
     "name": "stdout",
     "output_type": "stream",
     "text": [
      "(3000,)\n"
     ]
    }
   ],
   "source": [
    "print coefficient.shape"
   ]
  },
  {
   "cell_type": "code",
   "execution_count": 6,
   "metadata": {
    "collapsed": false
   },
   "outputs": [],
   "source": [
    "def resample(weights):\n",
    "  n = len(weights)\n",
    "  indices = []\n",
    "  C = [0.] + [sum(weights[:i+1]) for i in range(n)]\n",
    "  u0, j = random(), 0\n",
    "  for u in [(u0+i)/n for i in range(n)]:\n",
    "    while u > C[j]:\n",
    "      j+=1\n",
    "    indices.append(j-1)\n",
    "  return indices"
   ]
  },
  {
   "cell_type": "code",
   "execution_count": 7,
   "metadata": {
    "collapsed": false
   },
   "outputs": [],
   "source": [
    "def measure(X, Y, trial, t, coefficient):\n",
    "    # log-pdf of p(y_t|x_t)\n",
    "    return np.log(coefficient[t]) + X[t,:] * Y[t] - trial * np.log(1+np.exp(X[t,:]))"
   ]
  },
  {
   "cell_type": "code",
   "execution_count": 8,
   "metadata": {
    "collapsed": true
   },
   "outputs": [],
   "source": [
    "def forward(X, a, S, t):\n",
    "    #log-pdf of p(x_t|x_{t-1})\n",
    "    return -0.5 * (l2pi + np.log(S) + ((X[t,:]-a).ravel() ** 2) / S)"
   ]
  },
  {
   "cell_type": "code",
   "execution_count": 9,
   "metadata": {
    "collapsed": true
   },
   "outputs": [],
   "source": [
    "def lognormpdf_scalar(err, S):\n",
    "    \"\"\"\n",
    "    Calculate gaussian probability density of all elements in err, when\n",
    "    err[i] ~ N(0,S) and each element in err is a scalar\n",
    "    \"\"\"\n",
    "    return -0.5 * (l2pi + np.log(S) + (err.ravel() ** 2) / S)"
   ]
  },
  {
   "cell_type": "code",
   "execution_count": 54,
   "metadata": {
    "collapsed": false
   },
   "outputs": [],
   "source": [
    "##Initialization\n",
    "t = 0\n",
    "X = np.empty([T,N])\n",
    "ancestor = np.empty([T,N])\n",
    "w = np.empty([T,N])\n",
    "W = np.empty([T,N])\n",
    "X[t,:] = np.random.normal(0, P0, N)\n",
    "w[t,:] = measure(X, Y, trial, t, coefficient)\n",
    "W[t,:] = np.exp(w[t,:] - np.max(w[t,:]))\n",
    "W[t,:] /= np.sum(W[t,:])\n",
    "ancestor[t,:]= X[t,resample(W[t,:])]"
   ]
  },
  {
   "cell_type": "code",
   "execution_count": 76,
   "metadata": {
    "collapsed": false
   },
   "outputs": [
    {
     "data": {
      "text/plain": [
       "array([ 0.16269176,  0.22435861,  0.22393753,  0.22758019,  0.19707331,\n",
       "        0.18852767,  0.17538783,  0.07321101,  0.23015788,  0.15046212,\n",
       "        0.05448229,  0.22486604,  0.22123211,  0.13398932,  0.09044584,\n",
       "        0.22916716,  0.2275387 ,  0.21618851,  0.2322066 ,  0.22595921,\n",
       "        0.21963117,  0.21706957,  0.23014866,  0.2228169 ,  0.19508001,\n",
       "        0.23043161,  0.23232251,  0.19279387,  0.21936762,  0.19842946,\n",
       "        0.22201859,  0.22207478,  0.15469775,  0.2302647 ,  0.16164756,\n",
       "        0.16806459,  0.23225038,  0.21920073,  0.23223438,  0.20352528,\n",
       "        0.20368849,  0.15655562,  0.20804928,  0.05916656,  0.12277894,\n",
       "        0.1094633 ,  0.22919828,  0.22923248,  0.13005533,  0.21640808,\n",
       "        0.18300311,  0.23199618,  0.20281916,  0.21786122,  0.17344899,\n",
       "        0.2249256 ,  0.16652367,  0.22864463,  0.23208424,  0.22888333,\n",
       "        0.20216581,  0.19977203,  0.21896996,  0.23090709,  0.13153648,\n",
       "        0.19133426,  0.11616311,  0.10365266,  0.21968608,  0.16178899,\n",
       "        0.2148286 ,  0.14699935,  0.22027918,  0.21516204,  0.23207147,\n",
       "        0.23183206, -0.02286948,  0.18056858,  0.01681601,  0.18366225,\n",
       "        0.23201534,  0.16815558,  0.14851101,  0.13814972,  0.16164308,\n",
       "        0.19057584,  0.13179677,  0.09826495,  0.14246461,  0.15749916,\n",
       "        0.04875193,  0.21323006,  0.23231556,  0.20333326,  0.2199666 ,\n",
       "        0.18811507,  0.22663038,  0.10332072, -0.01386199,  0.22365066])"
      ]
     },
     "execution_count": 76,
     "metadata": {},
     "output_type": "execute_result"
    }
   ],
   "source": [
    "-0.5 * (l2pi + np.log(0.1) + ((X[0,:]-0).ravel() ** 2) / 0.1)"
   ]
  },
  {
   "cell_type": "code",
   "execution_count": 56,
   "metadata": {
    "collapsed": false
   },
   "outputs": [
    {
     "data": {
      "text/plain": [
       "array([-0.03089925, -0.08400084, -0.10673911, -0.10673911, -0.14026026,\n",
       "       -0.14026026, -0.14026026, -0.14026026, -0.1684685 , -0.1684685 ,\n",
       "       -0.1684685 , -0.1684685 , -0.1684685 , -0.1684685 , -0.1684685 ,\n",
       "       -0.1684685 , -0.05686036, -0.05528914, -0.05096351, -0.12462444,\n",
       "       -0.12462444, -0.12462444, -0.11339262, -0.11339262, -0.05128993,\n",
       "       -0.07593251, -0.07571726, -0.06972049, -0.1861115 , -0.1861115 ,\n",
       "       -0.1861115 , -0.1861115 , -0.1861115 , -0.1861115 , -0.1861115 ,\n",
       "       -0.1861115 , -0.1861115 , -0.1861115 , -0.1861115 , -0.15677418,\n",
       "       -0.15677418, -0.15677418, -0.15677418, -0.15677418, -0.15677418,\n",
       "       -0.14303754, -0.14303754, -0.14303754, -0.14303754, -0.05647289,\n",
       "       -0.09934879, -0.09934879, -0.10854033, -0.10854033, -0.02634648,\n",
       "       -0.05033474, -0.11879817, -0.11879817, -0.05920374, -0.05863783,\n",
       "       -0.09868309, -0.09868309, -0.11331234, -0.11331234, -0.12949363,\n",
       "       -0.12949363, -0.12949363, -0.13726201, -0.13726201, -0.13726201,\n",
       "       -0.13726201, -0.09140916, -0.13408162, -0.13408162, -0.13408162,\n",
       "       -0.13408162, -0.12235592, -0.12235592, -0.12235592, -0.19162572,\n",
       "       -0.19162572, -0.19162572, -0.19162572, -0.19162572, -0.19162572,\n",
       "       -0.19162572, -0.19162572, -0.19162572, -0.19162572, -0.19162572,\n",
       "       -0.19162572, -0.00277326, -0.09406268, -0.16064451, -0.16064451,\n",
       "       -0.16064451, -0.16064451, -0.16064451, -0.16064451, -0.16064451])"
      ]
     },
     "execution_count": 56,
     "metadata": {},
     "output_type": "execute_result"
    }
   ],
   "source": [
    "ancestor[0,:]"
   ]
  },
  {
   "cell_type": "code",
   "execution_count": 64,
   "metadata": {
    "collapsed": false
   },
   "outputs": [
    {
     "name": "stdout",
     "output_type": "stream",
     "text": [
      "CPU times: user 991 ms, sys: 16.2 ms, total: 1.01 s\n",
      "Wall time: 1.02 s\n"
     ]
    }
   ],
   "source": [
    "%%time\n",
    "for tt in range(1000):\n",
    "    t=tt+1\n",
    "    a = ancestor[tt,:]\n",
    "    mode = a + t*Q*(Y[t] - np.exp(a)/(1 + np.exp(a)) * trial)\n",
    "    variance = 1.0 / (1.0/((t)*Q) + trial * np.exp(a)/(1+np.exp(a))**2)\n",
    "    X[t,:] = np.random.normal(mode,variance, N)\n",
    "    w[t,:] = measure(X, Y, trial, t, coefficient) + forward(X, a, Q, t) - lognormpdf_scalar(X[t,:]-mode, variance)\n",
    "    W[t,:] = np.exp(w[t,:] - np.max(w[t,:]))\n",
    "    W[t,:] /= np.sum(W[t,:])\n",
    "    ancestor[t,:]= X[t,resample(W[t,:])]"
   ]
  },
  {
   "cell_type": "code",
   "execution_count": 82,
   "metadata": {
    "collapsed": false
   },
   "outputs": [
    {
     "data": {
      "text/plain": [
       "array([-3.44942478, -2.5171643 , -3.39666129, -2.96038258, -2.96038258,\n",
       "       -3.47221574, -3.37864358, -3.37864358, -3.02561331, -3.02561331,\n",
       "       -2.80749651, -2.80749651, -3.37057782, -3.29978459, -3.29978459,\n",
       "       -2.9614373 , -2.9614373 , -3.25385534, -3.25385534, -3.30925635,\n",
       "       -3.30925635, -3.38920533, -3.38920533, -3.08486092, -3.08486092,\n",
       "       -3.61444115, -2.66615197, -3.2620356 , -3.2620356 , -2.96469005,\n",
       "       -2.96469005, -3.41489542, -3.41489542, -3.30941898, -3.30941898,\n",
       "       -2.86839805, -2.86839805, -2.78304381, -3.65216944, -3.24101293,\n",
       "       -3.24101293, -3.2960859 , -3.2960859 , -3.55660892, -3.63817019,\n",
       "       -3.32111902, -3.32111902, -3.18529648, -3.18529648, -3.44054698,\n",
       "       -3.10418007, -3.10418007, -3.10418007, -3.37051981, -3.37051981,\n",
       "       -3.3513808 , -3.3513808 , -3.06201039, -3.06201039, -3.44746712,\n",
       "       -3.04607166, -3.04607166, -3.0727793 , -3.0727793 , -3.11474498,\n",
       "       -3.11474498, -3.11474498, -2.65184987, -2.96753583, -2.96753583,\n",
       "       -3.33922343, -3.24147391, -3.52450093, -2.93489104, -2.93489104,\n",
       "       -2.93489104, -3.3373139 , -3.42994124, -3.4694306 , -3.19809415,\n",
       "       -3.19809415, -3.21678011, -3.09761324, -3.09761324, -3.09761324,\n",
       "       -3.42073484, -3.37979762, -3.36989057, -3.50294608, -3.3833724 ,\n",
       "       -2.82026523, -2.82026523, -3.15816538, -3.15816538, -3.15816538,\n",
       "       -2.89358508, -2.8262637 , -3.88083746, -2.88704297, -3.01359065])"
      ]
     },
     "execution_count": 82,
     "metadata": {},
     "output_type": "execute_result"
    }
   ],
   "source": [
    "ancestor[10,:]"
   ]
  },
  {
   "cell_type": "code",
   "execution_count": null,
   "metadata": {
    "collapsed": false
   },
   "outputs": [],
   "source": [
    "## for t > 0\n",
    "for tt in range(1):\n",
    "    t=tt+1\n",
    "    a = ancestor[t,:]\n",
    "    mode = a + t*Q*(Y[t] - np.exp(a)/(1 + np.exp(a)) * (Y[t] - trial * (1+np.exp(a))))\n",
    "    variance = 1.0 / (t*Q + Y[t]*np.exp(a)/(1+np.exp(a))**2 + trial * np.exp(a)*(1-np.exp(a))/(1+np.exp(a))**3)\n",
    "    X[t,:] = np.random.normal(mode,variance)\n",
    "    w[t,:] = measure(X, Y, trial, t, coefficient) + forward(X, a, Q, t) - lognormpdf_scalar(X[t,:]-mode, variance)\n",
    "    W[t,:] = np.exp(w[t,:] - np.max(w[t,:]))\n",
    "    W[t,:] /= np.sum(W[t,:])\n",
    "    ancestor[t+1,:]= X[t,resample(W[t,:])]"
   ]
  },
  {
   "cell_type": "code",
   "execution_count": null,
   "metadata": {
    "collapsed": false
   },
   "outputs": [],
   "source": [
    "1.0 / (t*Q + Y[t]*np.exp(a)/(1+np.exp(a))**2 + trial * np.exp(a)*(1-np.exp(a))/(1+np.exp(a))**3)"
   ]
  },
  {
   "cell_type": "code",
   "execution_count": null,
   "metadata": {
    "collapsed": false
   },
   "outputs": [],
   "source": [
    "np.exp(a)*(1-np.exp(a))/(1+np.exp(a))**3"
   ]
  },
  {
   "cell_type": "code",
   "execution_count": null,
   "metadata": {
    "collapsed": false
   },
   "outputs": [],
   "source": [
    "ancestor[1,:]"
   ]
  },
  {
   "cell_type": "code",
   "execution_count": null,
   "metadata": {
    "collapsed": false
   },
   "outputs": [],
   "source": []
  },
  {
   "cell_type": "code",
   "execution_count": null,
   "metadata": {
    "collapsed": false
   },
   "outputs": [],
   "source": []
  },
  {
   "cell_type": "code",
   "execution_count": null,
   "metadata": {
    "collapsed": false
   },
   "outputs": [],
   "source": [
    "def h(x):\n",
    "    return x - ancestor + t*Q *(y[t] - np.exp(x)/(1+np.exp(x)))/(1+np.exp(x))\n",
    "\n",
    "def dh(x):\n",
    "    return 1 - t * Q"
   ]
  },
  {
   "cell_type": "code",
   "execution_count": null,
   "metadata": {
    "collapsed": false
   },
   "outputs": [],
   "source": [
    "def k(x):\n",
    "    return x**3 -1"
   ]
  },
  {
   "cell_type": "code",
   "execution_count": null,
   "metadata": {
    "collapsed": true
   },
   "outputs": [],
   "source": [
    "def dk(x):\n",
    "    return 3*x**2"
   ]
  },
  {
   "cell_type": "code",
   "execution_count": null,
   "metadata": {
    "collapsed": false
   },
   "outputs": [],
   "source": [
    "x0=0.4\n",
    "print newton(k, x0, dk)"
   ]
  },
  {
   "cell_type": "code",
   "execution_count": null,
   "metadata": {
    "collapsed": false
   },
   "outputs": [],
   "source": []
  },
  {
   "cell_type": "code",
   "execution_count": null,
   "metadata": {
    "collapsed": true
   },
   "outputs": [],
   "source": []
  }
 ],
 "metadata": {
  "kernelspec": {
   "display_name": "Python 2",
   "language": "python",
   "name": "python2"
  },
  "language_info": {
   "codemirror_mode": {
    "name": "ipython",
    "version": 2
   },
   "file_extension": ".py",
   "mimetype": "text/x-python",
   "name": "python",
   "nbconvert_exporter": "python",
   "pygments_lexer": "ipython2",
   "version": "2.7.11"
  }
 },
 "nbformat": 4,
 "nbformat_minor": 0
}
