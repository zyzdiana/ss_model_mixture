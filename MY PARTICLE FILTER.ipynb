{
 "cells": [
  {
   "cell_type": "code",
   "execution_count": 5,
   "metadata": {
    "collapsed": false
   },
   "outputs": [
    {
     "name": "stdout",
     "output_type": "stream",
     "text": [
      "The autoreload extension is already loaded. To reload it, use:\n",
      "  %reload_ext autoreload\n"
     ]
    }
   ],
   "source": [
    "%load_ext autoreload\n",
    "%autoreload 2\n",
    "%reload_ext autoreload"
   ]
  },
  {
   "cell_type": "code",
   "execution_count": 1,
   "metadata": {
    "collapsed": false
   },
   "outputs": [],
   "source": [
    "#!python\n",
    "from numpy import *\n",
    "from numpy.random import *\n",
    "%matplotlib inline\n",
    "import os\n",
    "import time\n",
    "import numpy as np\n",
    "import pandas as pd\n",
    "import sys\n",
    "import cPickle as pickle\n",
    "from   random import *\n",
    "import scipy.stats\n",
    "import matplotlib.pyplot as plt\n",
    "import pyparticleest.models.nlg as nlg\n",
    "import pyparticleest.simulator as simulator\n",
    "import pyparticleest.utils.kalman as kalman\n",
    "from scipy.stats import bernoulli\n",
    "import pyparticleest.interfaces as interfaces\n",
    "from scipy.optimize import newton"
   ]
  },
  {
   "cell_type": "code",
   "execution_count": 31,
   "metadata": {
    "collapsed": true
   },
   "outputs": [],
   "source": [
    "#df = pd.read_csv('thaldata.csv',header=None)\n",
    "#Y = df.values.reshape(3000)\n",
    "#Y = Y[500:800]\n",
    "#T = len(Y)\n",
    "mat = np.loadtxt('train_data.txt')\n",
    "Y = mat[:,1:]\n",
    "T = Y.shape[1]\n",
    "n = Y.shape[0]"
   ]
  },
  {
   "cell_type": "code",
   "execution_count": 44,
   "metadata": {
    "collapsed": true
   },
   "outputs": [],
   "source": [
    "# Forward particles\n",
    "N = 1000\n",
    "# Backward trajectories\n",
    "M = 30\n",
    "# \n",
    "P0 = 0.01\n",
    "#trial\n",
    "trial = 50\n",
    "#\n",
    "coefficient = scipy.special.binom(trial,Y[j,:])\n",
    "#\n",
    "l2pi = math.log(2 * math.pi)\n",
    "#\n",
    "square2pi = np.sqrt(2 * math.pi)\n",
    "#\n",
    "sigma = 0.5\n",
    "#\n",
    "j = 15"
   ]
  },
  {
   "cell_type": "code",
   "execution_count": 37,
   "metadata": {
    "collapsed": false
   },
   "outputs": [],
   "source": [
    "def resample(weights):\n",
    "  n = len(weights)\n",
    "  indices = []\n",
    "  C = [0.] + [sum(weights[:i+1]) for i in range(n)]\n",
    "  u0, j = random(), 0\n",
    "  for u in [(u0+i)/n for i in range(n)]:\n",
    "    while u > C[j]:\n",
    "      j+=1\n",
    "    indices.append(j-1)\n",
    "  return indices"
   ]
  },
  {
   "cell_type": "code",
   "execution_count": 38,
   "metadata": {
    "collapsed": false
   },
   "outputs": [],
   "source": [
    "def measure(X, Y, trial, t, coefficient):\n",
    "    # log-pdf of p(y_t|x_t)\n",
    "    return np.log(coefficient[t]) + X[t,:] * Y[t] - trial * np.log(1+np.exp(X[t,:]))"
   ]
  },
  {
   "cell_type": "code",
   "execution_count": 39,
   "metadata": {
    "collapsed": true
   },
   "outputs": [],
   "source": [
    "def forward(X, a, S, t):\n",
    "    #log-pdf of p(x_t|x_{t-1})\n",
    "    return -0.5 * (l2pi + np.log(S) + ((X[t,:]-a).ravel() ** 2) / S)"
   ]
  },
  {
   "cell_type": "code",
   "execution_count": 40,
   "metadata": {
    "collapsed": true
   },
   "outputs": [],
   "source": [
    "def lognormpdf_scalar(err, S):\n",
    "    \"\"\"\n",
    "    Calculate gaussian probability density of all elements in err, when\n",
    "    err[i] ~ N(0,S) and each element in err is a scalar\n",
    "    \"\"\"\n",
    "    return -0.5 * (l2pi + np.log(S) + (err.ravel() ** 2) / S)"
   ]
  },
  {
   "cell_type": "code",
   "execution_count": 41,
   "metadata": {
    "collapsed": false
   },
   "outputs": [],
   "source": [
    "def filtering(T, N, Q, trial, coefficient, Y):\n",
    "    ##Initialization\n",
    "    t = 0\n",
    "    X = np.empty([T,N])\n",
    "    ancestor = np.empty([T,N])\n",
    "    w = np.empty([T,N])\n",
    "    W = np.empty([T,N])\n",
    "    X[t,:] = np.random.normal(0, np.sqrt(Q), N)\n",
    "    w[t,:] = measure(X, Y, trial, t, coefficient)\n",
    "    W[t,:] = np.exp(w[t,:] - np.max(w[t,:]))\n",
    "    W[t,:] /= np.sum(W[t,:])\n",
    "    ancestor[t,:]= X[t,resample(W[t,:])]\n",
    "    samples = np.random.normal(0, 1, [T,N])\n",
    "    for tt in range(T-1):\n",
    "        t=tt+1\n",
    "        a = ancestor[tt,:]\n",
    "        X[t,:] = a + np.sqrt(Q) * samples[t,:] ##f(x_t|x_{t-1}) standard deviation\n",
    "        w[t,:] = measure(X, Y, trial, t, coefficient) ##g(y_t|x_t)\n",
    "        W[t,:] = np.exp(w[t,:] - np.max(w[t,:]))\n",
    "        W[t,:] /= np.sum(W[t,:])\n",
    "        ancestor[t,:]= X[t,resample(W[t,:])]\n",
    "    \n",
    "    return X, w, W, ancestor"
   ]
  },
  {
   "cell_type": "code",
   "execution_count": 45,
   "metadata": {
    "collapsed": false
   },
   "outputs": [],
   "source": [
    "Q = sigma \n",
    "[X, w, W, ancestor] = filtering(T, N, Q, trial, coefficient, Y[j,:])"
   ]
  },
  {
   "cell_type": "code",
   "execution_count": 49,
   "metadata": {
    "collapsed": false
   },
   "outputs": [
    {
     "data": {
      "text/plain": [
       "<matplotlib.legend.Legend at 0x121e7f1d0>"
      ]
     },
     "execution_count": 49,
     "metadata": {},
     "output_type": "execute_result"
    },
    {
     "data": {
      "image/png": "[encoded data removed]",
      "text/plain": [
       "<matplotlib.figure.Figure at 0x121e7f090>"
      ]
     },
     "metadata": {},
     "output_type": "display_data"
    }
   ],
   "source": [
    "plt.hist(w[1000,:],100, label='Old PF')\n",
    "plt.legend(loc='best')"
   ]
  },
  {
   "cell_type": "code",
   "execution_count": null,
   "metadata": {
    "collapsed": true
   },
   "outputs": [],
   "source": []
  },
  {
   "cell_type": "code",
   "execution_count": null,
   "metadata": {
    "collapsed": true
   },
   "outputs": [],
   "source": []
  },
  {
   "cell_type": "code",
   "execution_count": 12,
   "metadata": {
    "collapsed": true
   },
   "outputs": [],
   "source": [
    "def smoothing(T, N, Q, trial, M, X, W):\n",
    "    w_back = np.empty([T,N])\n",
    "    W_BACK = np.empty([T,N])\n",
    "    smoother = np.empty([T,M])\n",
    "    for j in range(M):\n",
    "        myList = np.random.multinomial(1, W[T-1,:])\n",
    "        smoother[T-1,j] = X[T-1, next((i for i, x in enumerate(myList) if x), None)]\n",
    "    for tt in range(T-1):\n",
    "        t = T-2 - tt\n",
    "        for j in range(M):\n",
    "            w_back = W[t,:] * np.exp(kalman.lognormpdf_scalar(smoother[t+1,j]-X[t,:], Q))\n",
    "            #w_back = W[t,:] * np.exp(-(smoother[t+1,j]-X[t,:])**2/(2.0*Q))/square2pi/np.sqrt(Q)\n",
    "            W_BACK[t,:] = w_back/np.sum(w_back)\n",
    "            myList = np.random.multinomial(1, W_BACK[t,:])\n",
    "            smoother[t,j] = X[t, next((i for i, x in enumerate(myList) if x), None)]\n",
    "            \n",
    "    return smoother"
   ]
  },
  {
   "cell_type": "code",
   "execution_count": 13,
   "metadata": {
    "collapsed": false
   },
   "outputs": [
    {
     "name": "stdout",
     "output_type": "stream",
     "text": [
      " "
     ]
    }
   ],
   "source": [
    "%%prun\n",
    "#iterations\n",
    "iteration=10\n",
    "#initial_sigma\n",
    "sigma_ls = np.empty(iteration+1)\n",
    "sigma_ls[0]=0.01\n",
    "for i in range(iteration):\n",
    "    P0 = sigma_ls[i] * np.eye(1)    \n",
    "    Q = sigma_ls[i] * np.eye(1)\n",
    "    [X, w, W, ancestor] = filtering(T, N, Q, trial, coefficient,Y)\n",
    "    est_smooth = smoothing(T, N, Q, trial, M, X, W)\n",
    "    posteriorcovariance=np.array(np.diff(est_smooth,axis=0))**2\n",
    "    sigma_ls[i+1] = np.sum(posteriorcovariance/(M*T)) * np.eye(1)"
   ]
  },
  {
   "cell_type": "code",
   "execution_count": 53,
   "metadata": {
    "collapsed": false
   },
   "outputs": [
    {
     "data": {
      "text/plain": [
       "(array([2]),)"
      ]
     },
     "execution_count": 53,
     "metadata": {},
     "output_type": "execute_result"
    }
   ],
   "source": [
    "a = [0,0,1,0,0]\n",
    "np.nonzero(a)"
   ]
  },
  {
   "cell_type": "code",
   "execution_count": null,
   "metadata": {
    "collapsed": false
   },
   "outputs": [],
   "source": [
    "sigma_ls"
   ]
  },
  {
   "cell_type": "code",
   "execution_count": 14,
   "metadata": {
    "collapsed": false
   },
   "outputs": [
    {
     "data": {
      "text/plain": [
       "<matplotlib.legend.Legend at 0x10a532e10>"
      ]
     },
     "execution_count": 14,
     "metadata": {},
     "output_type": "execute_result"
    },
    {
     "data": {
      "image/png": "[encoded data removed]",
      "text/plain": [
       "<matplotlib.figure.Figure at 0x109c52650>"
      ]
     },
     "metadata": {},
     "output_type": "display_data"
    }
   ],
   "source": [
    "plt.plot(sigma_ls, '-',linewidth=2.0, label=r'$\\sigma^2$')\n",
    "plt.ylim([0,0.5])\n",
    "plt.ylabel('$\\sigma^2$')\n",
    "plt.xlabel('iterations')\n",
    "plt.legend(loc='best')"
   ]
  },
  {
   "cell_type": "code",
   "execution_count": 16,
   "metadata": {
    "collapsed": false
   },
   "outputs": [],
   "source": [
    "##Initialization\n",
    "t = 0\n",
    "v = np.zeros(N)\n",
    "X = np.empty([T,N])\n",
    "ancestor = np.empty([T,N])\n",
    "w = np.empty([T,N])\n",
    "W = np.empty([T,N])\n",
    "X[t,:] = np.random.normal(0, np.sqrt(P0), N)\n",
    "w[t,:] = measure(X, Y, trial, t, coefficient)\n",
    "W[t,:] = np.exp(w[t,:] - np.max(w[t,:]))\n",
    "W[t,:] /= np.sum(W[t,:])\n",
    "ancestor[t,:]= X[t,resample(W[t,:])]"
   ]
  },
  {
   "cell_type": "code",
   "execution_count": 48,
   "metadata": {
    "collapsed": false
   },
   "outputs": [],
   "source": [
    "noise = np.random.normal(0, np.sqrt(P0), ([T,N]))"
   ]
  },
  {
   "cell_type": "code",
   "execution_count": 11,
   "metadata": {
    "collapsed": false
   },
   "outputs": [],
   "source": [
    "mode = np.empty(T)\n",
    "variance = np.empty(T)"
   ]
  },
  {
   "cell_type": "code",
   "execution_count": 17,
   "metadata": {
    "collapsed": false
   },
   "outputs": [],
   "source": [
    "#%%prun\n",
    "for tt in range(T-1):\n",
    "    t=tt+1\n",
    "    #samplemean = nanmean(ancestor[tt,:])\n",
    "    #samplevariance = nanvar(ancestor[tt,:]) + Q\n",
    "    #mode = samplemean + (samplevariance)*(Y[t] - np.exp(samplemean)/(1 + np.exp(samplemean)) * trial)\n",
    "    #variance = 1.0 / (1.0/((samplevariance) + trial * np.exp(samplemean)/(1+np.exp(samplemean))**2))\n",
    "    #X[t,:] = np.random.normal(mode[tt],np.sqrt(variance[tt]), N)\n",
    "    #X[t,:] = mode + variance * noise[t,:]\n",
    "    a = ancestor[tt,:]\n",
    "    X[t,:] = a + np.random.normal(0, np.sqrt(Q), N) ##f(x_t|x_{t-1}) standard deviation\n",
    "    #w = measure(X, Y, trial, t, coefficient) + forward(X, ancestor[tt,:], Q, t) - lognormpdf_scalar(X[t,:]-mode, variance)   \n",
    "    w[t,:] = measure(X, Y, trial, t, coefficient) ##g(y_t|x_t)\n",
    "    W[t,:] = np.exp(w[t,:] - np.max(w[t,:]))\n",
    "    W[t,:] /= np.sum(W[t,:])\n",
    "    ancestor[t,:]= X[t,resample(W[t,:])]"
   ]
  },
  {
   "cell_type": "code",
   "execution_count": 18,
   "metadata": {
    "collapsed": false
   },
   "outputs": [
    {
     "data": {
      "text/plain": [
       "-378.13438015708539"
      ]
     },
     "execution_count": 18,
     "metadata": {},
     "output_type": "execute_result"
    }
   ],
   "source": [
    "maxlogweight = np.max(w,axis=1)\n",
    "weight = np.exp(w - np.reshape(np.repeat(maxlogweight, N),(T, N)))\n",
    "np.sum(np.log(np.sum(weight, axis = 1)/N))+np.sum(maxlogweight)"
   ]
  },
  {
   "cell_type": "code",
   "execution_count": 68,
   "metadata": {
    "collapsed": false
   },
   "outputs": [],
   "source": [
    "#%%prun\n",
    "w_back = np.empty([T,N])\n",
    "W_BACK = np.empty([T,N])\n",
    "smoother = np.empty([T,M])\n",
    "multinomialsamples = np.random.multinomial(M, W[t,:])\n",
    "ancestor_nonzero = ancestor[T-1, multinomialsamples>0]\n",
    "smoother[T-1,:] = np.repeat(ancestor_nonzero, multinomialsamples[multinomialsamples>0])\n",
    "for tt in range(T-1):\n",
    "    t = T-2 - tt\n",
    "    w_back = W[t,:] * np.exp(kalman.lognormpdf_scalar(smoother[t+1,0]-ancestor[t,:], Q))\n",
    "    #w_back = W[t,:] * np.exp(-(smoother[t+1,:]-X[t,:])**2/(2.0*Q))/square2pi/sqrt(Q)\n",
    "    W_BACK[t,:] = w_back/np.sum(w_back)\n",
    "    multinomialsamples = np.random.multinomial(M, W_BACK[t,:])\n",
    "    ancestor_nonzero = ancestor[T-1, nonzero(multinomialsamples)]\n",
    "    smoother[t,:] = np.repeat(ancestor_nonzero, multinomialsamples[nonzero(multinomialsamples)])"
   ]
  },
  {
   "cell_type": "code",
   "execution_count": 71,
   "metadata": {
    "collapsed": false
   },
   "outputs": [
    {
     "data": {
      "text/plain": [
       "(300, 100)"
      ]
     },
     "execution_count": 71,
     "metadata": {},
     "output_type": "execute_result"
    }
   ],
   "source": [
    "#np.random.multinomial(M,W_BACK)\n",
    "W_BACK.shape"
   ]
  },
  {
   "cell_type": "code",
   "execution_count": 57,
   "metadata": {
    "collapsed": false
   },
   "outputs": [
    {
     "name": "stdout",
     "output_type": "stream",
     "text": [
      "[0 2 0 0 1 0 1 1 1 0 0 0 1 0 0 0 0 0 0 0 0 0 0 0 0 0 0 0 0 0 0 0 0 0 0 0 0\n",
      " 0 1 0 2 0 1 0 0 0 0 1 0 0 0 0 0 0 0 0 0 0 0 0 1 2 1 0 0 1 0 0 1 0 1 0 0 1\n",
      " 0 1 1 0 1 0 1 0 0 0 1 0 0 1 1 0 1 0 0 0 0 0 0 2 0 0]\n",
      "[False  True False False  True False  True  True  True False False False\n",
      "  True False False False False False False False False False False False\n",
      " False False False False False False False False False False False False\n",
      " False False  True False  True False  True False False False False  True\n",
      " False False False False False False False False False False False False\n",
      "  True  True  True False False  True False False  True False  True False\n",
      " False  True False  True  True False  True False  True False False False\n",
      "  True False False  True  True False  True False False False False False\n",
      " False  True False False]\n",
      "[-2.48737147 -2.05411401 -2.53965744 -3.42937358 -2.69443567 -2.9580565\n",
      " -2.65281937 -2.8362524  -2.85367161 -2.14283395 -3.21175261 -2.91235891\n",
      " -2.35947524 -3.01065741 -2.30394957 -2.89316966 -2.50598698 -2.13838482\n",
      " -2.5610746  -2.42255763 -2.34984171 -3.07919787 -2.32061057 -2.29222516\n",
      " -2.87544627 -2.73971744]\n"
     ]
    }
   ],
   "source": [
    "a = np.random.multinomial(M, W[T-1,:])\n",
    "print a\n",
    "print a>0\n",
    "print ancestor[T-1, a>0]"
   ]
  },
  {
   "cell_type": "code",
   "execution_count": 60,
   "metadata": {
    "collapsed": false
   },
   "outputs": [
    {
     "data": {
      "text/plain": [
       "array([-2.48737147, -2.48737147, -2.05411401, -2.53965744, -3.42937358,\n",
       "       -2.69443567, -2.9580565 , -2.65281937, -2.8362524 , -2.8362524 ,\n",
       "       -2.85367161, -2.14283395, -3.21175261, -2.91235891, -2.91235891,\n",
       "       -2.35947524, -3.01065741, -2.30394957, -2.89316966, -2.50598698,\n",
       "       -2.13838482, -2.5610746 , -2.42255763, -2.34984171, -3.07919787,\n",
       "       -2.32061057, -2.29222516, -2.87544627, -2.73971744, -2.73971744])"
      ]
     },
     "execution_count": 60,
     "metadata": {},
     "output_type": "execute_result"
    }
   ],
   "source": [
    "np.repeat(ancestor_nonzero,a[a>0])"
   ]
  },
  {
   "cell_type": "code",
   "execution_count": 59,
   "metadata": {
    "collapsed": false
   },
   "outputs": [
    {
     "data": {
      "text/plain": [
       "array([[-2.48737147],\n",
       "       [-2.05411401],\n",
       "       [-2.53965744],\n",
       "       [-3.42937358],\n",
       "       [-2.69443567],\n",
       "       [-2.9580565 ],\n",
       "       [-2.65281937],\n",
       "       [-2.8362524 ],\n",
       "       [-2.85367161],\n",
       "       [-2.14283395],\n",
       "       [-3.21175261],\n",
       "       [-2.91235891],\n",
       "       [-2.35947524],\n",
       "       [-3.01065741],\n",
       "       [-2.30394957],\n",
       "       [-2.89316966],\n",
       "       [-2.50598698],\n",
       "       [-2.13838482],\n",
       "       [-2.5610746 ],\n",
       "       [-2.42255763],\n",
       "       [-2.34984171],\n",
       "       [-3.07919787],\n",
       "       [-2.32061057],\n",
       "       [-2.29222516],\n",
       "       [-2.87544627],\n",
       "       [-2.73971744]])"
      ]
     },
     "execution_count": 59,
     "metadata": {},
     "output_type": "execute_result"
    }
   ],
   "source": [
    "ancestor_nonzero = ancestor[T-1, a>0]\n",
    "ancestor_nonzero.reshape([-1,1])"
   ]
  },
  {
   "cell_type": "code",
   "execution_count": 34,
   "metadata": {
    "collapsed": false
   },
   "outputs": [
    {
     "data": {
      "text/plain": [
       "array([[[  4,   7,   8,  18,  12,  14,  18,  22,  31,  47,  48,  51,  56,\n",
       "         116, 134,  69, 140,  71,  83,  86,  89, 182, 184,  96]]])"
      ]
     },
     "execution_count": 34,
     "metadata": {},
     "output_type": "execute_result"
    }
   ],
   "source": [
    "[nonzero(a)] * a[nonzero(a)]"
   ]
  },
  {
   "cell_type": "code",
   "execution_count": 159,
   "metadata": {
    "collapsed": false
   },
   "outputs": [],
   "source": [
    "df = pd.read_csv('thaldata.csv',header=None)\n",
    "Y = df.values.reshape(3000)\n",
    "#mat = np.loadtxt('train_data.txt')\n",
    "#Y = mat[19,1:]\n",
    "T = len(Y)"
   ]
  },
  {
   "cell_type": "code",
   "execution_count": 142,
   "metadata": {
    "collapsed": false
   },
   "outputs": [],
   "source": [
    "#iterations\n",
    "iteration=50\n",
    "#initial_sigma\n",
    "sigma_ls = np.empty(iteration+1)\n",
    "sigma_ls[0]=0.1"
   ]
  },
  {
   "cell_type": "code",
   "execution_count": null,
   "metadata": {
    "collapsed": false
   },
   "outputs": [],
   "source": [
    "#iterations\n",
    "iteration=50\n",
    "#initial_sigma\n",
    "sigma_ls = np.empty(iteration+1)\n",
    "sigma_ls[0]=0.1\n",
    "for i in range(iteration):\n",
    "    P0 = sigma_ls[i] * np.eye(1)    \n",
    "    Q = sigma_ls[i] * np.eye(1)\n",
    "    model = StdNonLin(P0, Q)\n",
    "    sim = simulator.Simulator(model,u=None,y=Y)\n",
    "    sim.simulate(N, M, filter='PF', smoother='full', meas_first=False)\n",
    "    est_smooth = sim.get_smoothed_estimates()\n",
    "    posteriorcovariance=np.array(np.diff(est_smooth[:,:,0],axis=0))**2\n",
    "    sigma_ls[i+1] = np.sum(posteriorcovariance/(M*T)) * np.eye(1)"
   ]
  },
  {
   "cell_type": "code",
   "execution_count": null,
   "metadata": {
    "collapsed": false
   },
   "outputs": [],
   "source": [
    "print measure(X, Y, trial, 1000, coefficient)\n",
    "print coefficient[1000]\n",
    "print forward(X, ancestor[999,:], Q, 1000)\n",
    "print lognormpdf_scalar(X[1000,:]-mode, variance)"
   ]
  },
  {
   "cell_type": "code",
   "execution_count": null,
   "metadata": {
    "collapsed": false
   },
   "outputs": [],
   "source": [
    "## for t > 0\n",
    "for tt in range(1):\n",
    "    t=tt+1\n",
    "    a = ancestor[t,:]\n",
    "    mode = a + t*Q*(Y[t] - np.exp(a)/(1 + np.exp(a)) * (Y[t] - trial * (1+np.exp(a))))\n",
    "    variance = 1.0 / (t*Q + Y[t]*np.exp(a)/(1+np.exp(a))**2 + trial * np.exp(a)*(1-np.exp(a))/(1+np.exp(a))**3)\n",
    "    X[t,:] = np.random.normal(mode,variance)\n",
    "    w[t,:] = measure(X, Y, trial, t, coefficient) + forward(X, a, Q, t) - lognormpdf_scalar(X[t,:]-mode, variance)\n",
    "    W[t,:] = np.exp(w[t,:] - np.max(w[t,:]))\n",
    "    W[t,:] /= np.sum(W[t,:])\n",
    "    ancestor[t+1,:]= X[t,resample(W[t,:])]"
   ]
  },
  {
   "cell_type": "code",
   "execution_count": null,
   "metadata": {
    "collapsed": false
   },
   "outputs": [],
   "source": [
    "1.0 / (t*Q + Y[t]*np.exp(a)/(1+np.exp(a))**2 + trial * np.exp(a)*(1-np.exp(a))/(1+np.exp(a))**3)"
   ]
  },
  {
   "cell_type": "code",
   "execution_count": null,
   "metadata": {
    "collapsed": false
   },
   "outputs": [],
   "source": [
    "np.exp(a)*(1-np.exp(a))/(1+np.exp(a))**3"
   ]
  },
  {
   "cell_type": "code",
   "execution_count": null,
   "metadata": {
    "collapsed": false
   },
   "outputs": [],
   "source": [
    "ancestor[1,:]"
   ]
  },
  {
   "cell_type": "code",
   "execution_count": null,
   "metadata": {
    "collapsed": false
   },
   "outputs": [],
   "source": []
  },
  {
   "cell_type": "code",
   "execution_count": null,
   "metadata": {
    "collapsed": false
   },
   "outputs": [],
   "source": [
    "signal.resample()"
   ]
  },
  {
   "cell_type": "code",
   "execution_count": null,
   "metadata": {
    "collapsed": false
   },
   "outputs": [],
   "source": [
    "def h(x):\n",
    "    return x - ancestor + t*Q *(y[t] - np.exp(x)/(1+np.exp(x)))/(1+np.exp(x))\n",
    "\n",
    "def dh(x):\n",
    "    return 1 - t * Q"
   ]
  },
  {
   "cell_type": "code",
   "execution_count": null,
   "metadata": {
    "collapsed": false
   },
   "outputs": [],
   "source": [
    "def k(x):\n",
    "    return x**3 -1"
   ]
  },
  {
   "cell_type": "code",
   "execution_count": null,
   "metadata": {
    "collapsed": true
   },
   "outputs": [],
   "source": [
    "def dk(x):\n",
    "    return 3*x**2"
   ]
  },
  {
   "cell_type": "code",
   "execution_count": null,
   "metadata": {
    "collapsed": false
   },
   "outputs": [],
   "source": [
    "x0=0.4\n",
    "print newton(k, x0, dk)"
   ]
  },
  {
   "cell_type": "code",
   "execution_count": 23,
   "metadata": {
    "collapsed": false
   },
   "outputs": [
    {
     "name": "stdout",
     "output_type": "stream",
     "text": [
      "0.352065326764\n",
      "0.398942280401\n"
     ]
    }
   ],
   "source": [
    "print scipy.stats.norm.pdf(0.5,1)\n",
    "print np.exp(-0**2/2)/(np.sqrt(2*np.pi))"
   ]
  },
  {
   "cell_type": "code",
   "execution_count": null,
   "metadata": {
    "collapsed": true
   },
   "outputs": [],
   "source": [
    "X = np.empty([T,N])\n",
    "ancestor = np.empty([T,N])\n",
    "w = np.empty([T,N])\n",
    "W = np.empty([T,N])\n",
    "X[t,:] = np.random.normal(0, np.sqrt(P0), N)\n",
    "w[t,:] = measure(X, Y, trial, t, coefficient)\n",
    "W[t,:] = np.exp(w[t,:] - np.max(w[t,:]))\n",
    "W[t,:] /= np.sum(W[t,:])\n",
    "ancestor[t,:]= X[t,resample(W[t,:])]"
   ]
  }
 ],
 "metadata": {
  "kernelspec": {
   "display_name": "Python 2",
   "language": "python",
   "name": "python2"
  },
  "language_info": {
   "codemirror_mode": {
    "name": "ipython",
    "version": 2
   },
   "file_extension": ".py",
   "mimetype": "text/x-python",
   "name": "python",
   "nbconvert_exporter": "python",
   "pygments_lexer": "ipython2",
   "version": "2.7.11"
  }
 },
 "nbformat": 4,
 "nbformat_minor": 0
}
